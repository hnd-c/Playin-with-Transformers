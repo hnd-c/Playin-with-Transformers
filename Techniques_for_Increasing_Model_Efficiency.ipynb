{
  "cells": [
    {
      "cell_type": "markdown",
      "metadata": {
        "id": "TTB7X3vomw1B"
      },
      "source": [
        "Author: Hem N Chaudhary\n",
        "\n",
        "Date: Jan, 2024\n",
        "\n",
        "Description: Making Transformers Efficient in Production. Covered knowledge distillation, quantization, conversion to Onnx"
      ]
    },
    {
      "cell_type": "code",
      "source": [
        "# !pip uninstall accelerate\n",
        "# !pip uninstall transformers\n",
        "!pip install git+https://github.com/huggingface/accelerate\n",
        "!pip install --upgrade transformers"
      ],
      "metadata": {
        "colab": {
          "base_uri": "https://localhost:8080/"
        },
        "id": "Dt0YV-DgB695",
        "outputId": "6243b2c2-6e74-4dce-ab39-5cd8ed255f00"
      },
      "execution_count": null,
      "outputs": [
        {
          "output_type": "stream",
          "name": "stdout",
          "text": [
            "Collecting git+https://github.com/huggingface/accelerate\n",
            "  Cloning https://github.com/huggingface/accelerate to /tmp/pip-req-build-dwzcvw7o\n",
            "  Running command git clone --filter=blob:none --quiet https://github.com/huggingface/accelerate /tmp/pip-req-build-dwzcvw7o\n",
            "  Resolved https://github.com/huggingface/accelerate to commit 162a82164e9bdcc01a173cbee43b686437aaead8\n",
            "  Installing build dependencies ... \u001b[?25l\u001b[?25hdone\n",
            "  Getting requirements to build wheel ... \u001b[?25l\u001b[?25hdone\n",
            "  Preparing metadata (pyproject.toml) ... \u001b[?25l\u001b[?25hdone\n",
            "Requirement already satisfied: numpy>=1.17 in /usr/local/lib/python3.10/dist-packages (from accelerate==0.27.0.dev0) (1.23.5)\n",
            "Requirement already satisfied: packaging>=20.0 in /usr/local/lib/python3.10/dist-packages (from accelerate==0.27.0.dev0) (23.2)\n",
            "Requirement already satisfied: psutil in /usr/local/lib/python3.10/dist-packages (from accelerate==0.27.0.dev0) (5.9.5)\n",
            "Requirement already satisfied: pyyaml in /usr/local/lib/python3.10/dist-packages (from accelerate==0.27.0.dev0) (6.0.1)\n",
            "Requirement already satisfied: torch>=1.10.0 in /usr/local/lib/python3.10/dist-packages (from accelerate==0.27.0.dev0) (2.1.0+cu121)\n",
            "Requirement already satisfied: huggingface-hub in /usr/local/lib/python3.10/dist-packages (from accelerate==0.27.0.dev0) (0.20.2)\n",
            "Requirement already satisfied: safetensors>=0.3.1 in /usr/local/lib/python3.10/dist-packages (from accelerate==0.27.0.dev0) (0.4.1)\n",
            "Requirement already satisfied: filelock in /usr/local/lib/python3.10/dist-packages (from torch>=1.10.0->accelerate==0.27.0.dev0) (3.13.1)\n",
            "Requirement already satisfied: typing-extensions in /usr/local/lib/python3.10/dist-packages (from torch>=1.10.0->accelerate==0.27.0.dev0) (4.5.0)\n",
            "Requirement already satisfied: sympy in /usr/local/lib/python3.10/dist-packages (from torch>=1.10.0->accelerate==0.27.0.dev0) (1.12)\n",
            "Requirement already satisfied: networkx in /usr/local/lib/python3.10/dist-packages (from torch>=1.10.0->accelerate==0.27.0.dev0) (3.2.1)\n",
            "Requirement already satisfied: jinja2 in /usr/local/lib/python3.10/dist-packages (from torch>=1.10.0->accelerate==0.27.0.dev0) (3.1.3)\n",
            "Requirement already satisfied: fsspec in /usr/local/lib/python3.10/dist-packages (from torch>=1.10.0->accelerate==0.27.0.dev0) (2023.6.0)\n",
            "Requirement already satisfied: triton==2.1.0 in /usr/local/lib/python3.10/dist-packages (from torch>=1.10.0->accelerate==0.27.0.dev0) (2.1.0)\n",
            "Requirement already satisfied: requests in /usr/local/lib/python3.10/dist-packages (from huggingface-hub->accelerate==0.27.0.dev0) (2.31.0)\n",
            "Requirement already satisfied: tqdm>=4.42.1 in /usr/local/lib/python3.10/dist-packages (from huggingface-hub->accelerate==0.27.0.dev0) (4.66.1)\n",
            "Requirement already satisfied: MarkupSafe>=2.0 in /usr/local/lib/python3.10/dist-packages (from jinja2->torch>=1.10.0->accelerate==0.27.0.dev0) (2.1.3)\n",
            "Requirement already satisfied: charset-normalizer<4,>=2 in /usr/local/lib/python3.10/dist-packages (from requests->huggingface-hub->accelerate==0.27.0.dev0) (3.3.2)\n",
            "Requirement already satisfied: idna<4,>=2.5 in /usr/local/lib/python3.10/dist-packages (from requests->huggingface-hub->accelerate==0.27.0.dev0) (3.6)\n",
            "Requirement already satisfied: urllib3<3,>=1.21.1 in /usr/local/lib/python3.10/dist-packages (from requests->huggingface-hub->accelerate==0.27.0.dev0) (2.0.7)\n",
            "Requirement already satisfied: certifi>=2017.4.17 in /usr/local/lib/python3.10/dist-packages (from requests->huggingface-hub->accelerate==0.27.0.dev0) (2023.11.17)\n",
            "Requirement already satisfied: mpmath>=0.19 in /usr/local/lib/python3.10/dist-packages (from sympy->torch>=1.10.0->accelerate==0.27.0.dev0) (1.3.0)\n",
            "Requirement already satisfied: transformers in /usr/local/lib/python3.10/dist-packages (4.37.0)\n",
            "Requirement already satisfied: filelock in /usr/local/lib/python3.10/dist-packages (from transformers) (3.13.1)\n",
            "Requirement already satisfied: huggingface-hub<1.0,>=0.19.3 in /usr/local/lib/python3.10/dist-packages (from transformers) (0.20.2)\n",
            "Requirement already satisfied: numpy>=1.17 in /usr/local/lib/python3.10/dist-packages (from transformers) (1.23.5)\n",
            "Requirement already satisfied: packaging>=20.0 in /usr/local/lib/python3.10/dist-packages (from transformers) (23.2)\n",
            "Requirement already satisfied: pyyaml>=5.1 in /usr/local/lib/python3.10/dist-packages (from transformers) (6.0.1)\n",
            "Requirement already satisfied: regex!=2019.12.17 in /usr/local/lib/python3.10/dist-packages (from transformers) (2023.6.3)\n",
            "Requirement already satisfied: requests in /usr/local/lib/python3.10/dist-packages (from transformers) (2.31.0)\n",
            "Requirement already satisfied: tokenizers<0.19,>=0.14 in /usr/local/lib/python3.10/dist-packages (from transformers) (0.15.0)\n",
            "Requirement already satisfied: safetensors>=0.3.1 in /usr/local/lib/python3.10/dist-packages (from transformers) (0.4.1)\n",
            "Requirement already satisfied: tqdm>=4.27 in /usr/local/lib/python3.10/dist-packages (from transformers) (4.66.1)\n",
            "Requirement already satisfied: fsspec>=2023.5.0 in /usr/local/lib/python3.10/dist-packages (from huggingface-hub<1.0,>=0.19.3->transformers) (2023.6.0)\n",
            "Requirement already satisfied: typing-extensions>=3.7.4.3 in /usr/local/lib/python3.10/dist-packages (from huggingface-hub<1.0,>=0.19.3->transformers) (4.5.0)\n",
            "Requirement already satisfied: charset-normalizer<4,>=2 in /usr/local/lib/python3.10/dist-packages (from requests->transformers) (3.3.2)\n",
            "Requirement already satisfied: idna<4,>=2.5 in /usr/local/lib/python3.10/dist-packages (from requests->transformers) (3.6)\n",
            "Requirement already satisfied: urllib3<3,>=1.21.1 in /usr/local/lib/python3.10/dist-packages (from requests->transformers) (2.0.7)\n",
            "Requirement already satisfied: certifi>=2017.4.17 in /usr/local/lib/python3.10/dist-packages (from requests->transformers) (2023.11.17)\n"
          ]
        }
      ]
    },
    {
      "cell_type": "code",
      "execution_count": null,
      "metadata": {
        "id": "53XQF9dZm9Sv",
        "colab": {
          "base_uri": "https://localhost:8080/"
        },
        "outputId": "a4e3ef38-fffb-4223-cf46-2af4667ba166"
      },
      "outputs": [
        {
          "output_type": "stream",
          "name": "stderr",
          "text": [
            "/usr/local/lib/python3.10/dist-packages/huggingface_hub/utils/_token.py:88: UserWarning: \n",
            "The secret `HF_TOKEN` does not exist in your Colab secrets.\n",
            "To authenticate with the Hugging Face Hub, create a token in your settings tab (https://huggingface.co/settings/tokens), set it as secret in your Google Colab and restart your session.\n",
            "You will be able to reuse this secret in all of your notebooks.\n",
            "Please note that authentication is recommended but still optional to access public models or datasets.\n",
            "  warnings.warn(\n",
            "/usr/local/lib/python3.10/dist-packages/torch/_utils.py:831: UserWarning: TypedStorage is deprecated. It will be removed in the future and UntypedStorage will be the only storage class. This should only matter to you if you are using storages directly.  To access UntypedStorage directly, use tensor.untyped_storage() instead of tensor.storage()\n",
            "  return self.fget.__get__(instance, owner)()\n"
          ]
        }
      ],
      "source": [
        "#Intent Detection as a Case Study\n",
        "#using BERT finetuned on CLINC150 for baseline\n",
        "\n",
        "from transformers import pipeline\n",
        "\n",
        "bert_ckpt = \"transformersbook/bert-base-uncased-finetuned-clinc\"\n",
        "pipe = pipeline(\"text-classification\", model=bert_ckpt)\n"
      ]
    },
    {
      "cell_type": "code",
      "execution_count": null,
      "metadata": {
        "colab": {
          "base_uri": "https://localhost:8080/"
        },
        "id": "SWixtJDdpGD7",
        "outputId": "1930e411-66b9-4416-e7b7-72a37bb112b3"
      },
      "outputs": [
        {
          "output_type": "execute_result",
          "data": {
            "text/plain": [
              "[{'label': 'car_rental', 'score': 0.5530847311019897}]"
            ]
          },
          "metadata": {},
          "execution_count": 3
        }
      ],
      "source": [
        "#passing a query to get the predicted intent and confidence score from the model\n",
        "\n",
        "query = \"Hey I'd like to rent a vehicle from Nov 1st to Nov 15th in Paris and I need a 15 passenger van\"\n",
        "\n",
        "pipe(query)"
      ]
    },
    {
      "cell_type": "code",
      "execution_count": null,
      "metadata": {
        "id": "efg_QCH4zT-o"
      },
      "outputs": [],
      "source": [
        "#benchmark measuring Model performance, Latency, and Memory for a given pipeline and test set\n",
        "\n",
        "class PerformanceBenchmark:\n",
        "  def __init__(self, pipeline, dataset, optim_type=\"BERT baseline\"):\n",
        "    self.pipeline = pipeline\n",
        "    self.dataset = dataset\n",
        "    self.optim_type = optim_type\n",
        "\n",
        "  def compute_accuracy(self):\n",
        "    #\n",
        "    pass\n",
        "\n",
        "  def compute_size(self):\n",
        "    #\n",
        "    pass\n",
        "\n",
        "  def time_pipeline(self):\n",
        "    #\n",
        "    pass\n",
        "\n",
        "  def run_benchmark(self):\n",
        "    metrics = {}\n",
        "    metrics[self.optim_type] = self.compute_size()\n",
        "    metrics[self.optim_type].update(self.compute_accuracy())\n",
        "    metrics[self.optim_type].update(self.time_pipeline())\n",
        "    return metrics"
      ]
    },
    {
      "cell_type": "code",
      "execution_count": null,
      "metadata": {
        "colab": {
          "base_uri": "https://localhost:8080/"
        },
        "id": "3zKP2mMDszL_",
        "outputId": "465dcf82-592d-41ef-9a75-a23012037a1e"
      },
      "outputs": [
        {
          "output_type": "stream",
          "name": "stdout",
          "text": [
            "Requirement already satisfied: datasets in /usr/local/lib/python3.10/dist-packages (2.16.1)\n",
            "Requirement already satisfied: filelock in /usr/local/lib/python3.10/dist-packages (from datasets) (3.13.1)\n",
            "Requirement already satisfied: numpy>=1.17 in /usr/local/lib/python3.10/dist-packages (from datasets) (1.23.5)\n",
            "Requirement already satisfied: pyarrow>=8.0.0 in /usr/local/lib/python3.10/dist-packages (from datasets) (10.0.1)\n",
            "Requirement already satisfied: pyarrow-hotfix in /usr/local/lib/python3.10/dist-packages (from datasets) (0.6)\n",
            "Requirement already satisfied: dill<0.3.8,>=0.3.0 in /usr/local/lib/python3.10/dist-packages (from datasets) (0.3.7)\n",
            "Requirement already satisfied: pandas in /usr/local/lib/python3.10/dist-packages (from datasets) (1.5.3)\n",
            "Requirement already satisfied: requests>=2.19.0 in /usr/local/lib/python3.10/dist-packages (from datasets) (2.31.0)\n",
            "Requirement already satisfied: tqdm>=4.62.1 in /usr/local/lib/python3.10/dist-packages (from datasets) (4.66.1)\n",
            "Requirement already satisfied: xxhash in /usr/local/lib/python3.10/dist-packages (from datasets) (3.4.1)\n",
            "Requirement already satisfied: multiprocess in /usr/local/lib/python3.10/dist-packages (from datasets) (0.70.15)\n",
            "Requirement already satisfied: fsspec[http]<=2023.10.0,>=2023.1.0 in /usr/local/lib/python3.10/dist-packages (from datasets) (2023.6.0)\n",
            "Requirement already satisfied: aiohttp in /usr/local/lib/python3.10/dist-packages (from datasets) (3.9.1)\n",
            "Requirement already satisfied: huggingface-hub>=0.19.4 in /usr/local/lib/python3.10/dist-packages (from datasets) (0.20.2)\n",
            "Requirement already satisfied: packaging in /usr/local/lib/python3.10/dist-packages (from datasets) (23.2)\n",
            "Requirement already satisfied: pyyaml>=5.1 in /usr/local/lib/python3.10/dist-packages (from datasets) (6.0.1)\n",
            "Requirement already satisfied: attrs>=17.3.0 in /usr/local/lib/python3.10/dist-packages (from aiohttp->datasets) (23.2.0)\n",
            "Requirement already satisfied: multidict<7.0,>=4.5 in /usr/local/lib/python3.10/dist-packages (from aiohttp->datasets) (6.0.4)\n",
            "Requirement already satisfied: yarl<2.0,>=1.0 in /usr/local/lib/python3.10/dist-packages (from aiohttp->datasets) (1.9.4)\n",
            "Requirement already satisfied: frozenlist>=1.1.1 in /usr/local/lib/python3.10/dist-packages (from aiohttp->datasets) (1.4.1)\n",
            "Requirement already satisfied: aiosignal>=1.1.2 in /usr/local/lib/python3.10/dist-packages (from aiohttp->datasets) (1.3.1)\n",
            "Requirement already satisfied: async-timeout<5.0,>=4.0 in /usr/local/lib/python3.10/dist-packages (from aiohttp->datasets) (4.0.3)\n",
            "Requirement already satisfied: typing-extensions>=3.7.4.3 in /usr/local/lib/python3.10/dist-packages (from huggingface-hub>=0.19.4->datasets) (4.5.0)\n",
            "Requirement already satisfied: charset-normalizer<4,>=2 in /usr/local/lib/python3.10/dist-packages (from requests>=2.19.0->datasets) (3.3.2)\n",
            "Requirement already satisfied: idna<4,>=2.5 in /usr/local/lib/python3.10/dist-packages (from requests>=2.19.0->datasets) (3.6)\n",
            "Requirement already satisfied: urllib3<3,>=1.21.1 in /usr/local/lib/python3.10/dist-packages (from requests>=2.19.0->datasets) (2.0.7)\n",
            "Requirement already satisfied: certifi>=2017.4.17 in /usr/local/lib/python3.10/dist-packages (from requests>=2.19.0->datasets) (2023.11.17)\n",
            "Requirement already satisfied: python-dateutil>=2.8.1 in /usr/local/lib/python3.10/dist-packages (from pandas->datasets) (2.8.2)\n",
            "Requirement already satisfied: pytz>=2020.1 in /usr/local/lib/python3.10/dist-packages (from pandas->datasets) (2023.3.post1)\n",
            "Requirement already satisfied: six>=1.5 in /usr/local/lib/python3.10/dist-packages (from python-dateutil>=2.8.1->pandas->datasets) (1.16.0)\n"
          ]
        }
      ],
      "source": [
        "!pip install datasets"
      ]
    },
    {
      "cell_type": "code",
      "execution_count": null,
      "metadata": {
        "id": "j5va9ybOsVrv"
      },
      "outputs": [],
      "source": [
        "#Computing model accuracy on the test set, CLINC150\n",
        "from datasets import load_dataset\n",
        "\n",
        "clinc = load_dataset(\"clinc_oos\", \"plus\")"
      ]
    },
    {
      "cell_type": "code",
      "execution_count": null,
      "metadata": {
        "colab": {
          "base_uri": "https://localhost:8080/"
        },
        "id": "iQRbUYZgtDgQ",
        "outputId": "f601525a-2392-440d-f3c2-e3ebb79ffd26"
      },
      "outputs": [
        {
          "output_type": "execute_result",
          "data": {
            "text/plain": [
              "{'text': 'transfer $100 from my checking to saving account', 'intent': 133}"
            ]
          },
          "metadata": {},
          "execution_count": 7
        }
      ],
      "source": [
        "#peeking at clinc\n",
        "\n",
        "sample = clinc[\"test\"][42]\n",
        "sample"
      ]
    },
    {
      "cell_type": "code",
      "execution_count": null,
      "metadata": {
        "colab": {
          "base_uri": "https://localhost:8080/",
          "height": 35
        },
        "id": "geP0iHHRtV4B",
        "outputId": "48b26cc7-c4b2-4b92-bdd2-fc1a37e42957"
      },
      "outputs": [
        {
          "output_type": "execute_result",
          "data": {
            "text/plain": [
              "'transfer'"
            ],
            "application/vnd.google.colaboratory.intrinsic+json": {
              "type": "string"
            }
          },
          "metadata": {},
          "execution_count": 8
        }
      ],
      "source": [
        "#Intent ID to strings\n",
        "\n",
        "intents = clinc[\"test\"].features[\"intent\"]\n",
        "intents.int2str(sample[\"intent\"])\n",
        "#print(intents.names[133])"
      ]
    },
    {
      "cell_type": "code",
      "execution_count": null,
      "metadata": {
        "colab": {
          "base_uri": "https://localhost:8080/"
        },
        "id": "QXIKxNjNuq_0",
        "outputId": "886d03a9-056b-4db8-82f4-8c3f185a147f"
      },
      "outputs": [
        {
          "output_type": "stream",
          "name": "stderr",
          "text": [
            "<ipython-input-9-38ae67564cc0>:5: FutureWarning: load_metric is deprecated and will be removed in the next major version of datasets. Use 'evaluate.load' instead, from the new library 🤗 Evaluate: https://huggingface.co/docs/evaluate\n",
            "  accuracy_score = load_metric(\"accuracy\")\n",
            "/usr/local/lib/python3.10/dist-packages/datasets/load.py:752: FutureWarning: The repository for accuracy contains custom code which must be executed to correctly load the metric. You can inspect the repository content at https://raw.githubusercontent.com/huggingface/datasets/2.16.1/metrics/accuracy/accuracy.py\n",
            "You can avoid this message in future by passing the argument `trust_remote_code=True`.\n",
            "Passing `trust_remote_code=True` will be mandatory to load this metric from the next major release of `datasets`.\n",
            "  warnings.warn(\n"
          ]
        }
      ],
      "source": [
        "#loading accuracy metric\n",
        "\n",
        "from datasets import load_metric\n",
        "\n",
        "accuracy_score = load_metric(\"accuracy\")"
      ]
    },
    {
      "cell_type": "code",
      "execution_count": null,
      "metadata": {
        "id": "8CmlB09csCKa"
      },
      "outputs": [],
      "source": [
        "def compute_accuracy(self):\n",
        "    #Accuracy metric in previous cell expects preds and ref to be int\n",
        "    #Collecting all the preds and labels in lists before returning accuracy on dataset\n",
        "    \"\"\" This overrides the PerformanceBenchmark.compute() method\"\"\"\n",
        "    preds, labels = [],[]\n",
        "    for example in self.dataset:\n",
        "      pred = self.pipeline(example[\"text\"])[0][\"label\"]\n",
        "      label = example[\"intent\"]\n",
        "      preds.append(intents.str2int(pred))\n",
        "      labels.append(label)\n",
        "    accuracy = accuracy_score.compute(predictions=preds, references=labels)\n",
        "    print(f\"Accuracy on test set - {accuracy['accuracy']:.3f}\")\n",
        "    return accuracy\n",
        "\n",
        "PerformanceBenchmark.compute_accuracy = compute_accuracy"
      ]
    },
    {
      "cell_type": "code",
      "execution_count": null,
      "metadata": {
        "colab": {
          "base_uri": "https://localhost:8080/"
        },
        "id": "YPp0NuNJx4ie",
        "outputId": "8434a099-620f-4bdc-9c33-4d7839d9a90d"
      },
      "outputs": [
        {
          "output_type": "stream",
          "name": "stdout",
          "text": [
            "201\n"
          ]
        },
        {
          "output_type": "execute_result",
          "data": {
            "text/plain": [
              "('bert.encoder.layer.2.attention.self.value.bias',\n",
              " tensor([-2.7834e-02,  4.9434e-02,  8.3551e-02,  4.1092e-02,  6.0157e-01,\n",
              "          1.1774e-01, -5.2112e-02, -6.5143e-02, -2.9358e-02, -4.2250e-02,\n",
              "          7.9177e-02,  8.0409e-02,  2.9921e-03,  1.7816e-01, -5.0480e-02,\n",
              "         -1.5634e-01, -2.1707e-02,  1.4381e-02,  2.5132e-02, -2.4110e-02,\n",
              "         -1.9183e-01, -7.8657e-02,  5.0709e-02,  3.3632e-02, -3.1946e-02,\n",
              "          1.1616e-01,  9.2720e-02, -1.1787e-01,  2.3233e-01, -1.2678e-02,\n",
              "         -1.3138e-01, -4.0024e-02,  7.4823e-02, -5.4148e-02, -1.5184e-01,\n",
              "         -7.4407e-02,  1.1559e-01,  8.2729e-02, -1.3787e-01,  8.3528e-02,\n",
              "          1.2154e-01,  1.6880e-02, -5.6629e-02, -3.9295e-02,  5.3725e-02,\n",
              "          6.8602e-02, -1.1294e-01,  4.4001e-02, -2.5884e-01,  1.6767e-01,\n",
              "          1.8316e-01,  5.6272e-02, -3.6874e-02, -2.7938e-02, -9.3204e-02,\n",
              "         -7.5239e-03,  4.1141e-02, -1.1542e-02, -9.9749e-02, -3.0910e-02,\n",
              "          4.1398e-02, -4.4389e-02, -2.6279e-02,  7.2100e-02,  7.5179e-03,\n",
              "         -7.4382e-03,  2.9311e-02, -1.3391e-02,  6.9966e-03, -9.3249e-03,\n",
              "          9.4272e-03, -1.1783e-02,  1.3849e-02,  1.8157e-03, -1.1522e-02,\n",
              "          1.3364e-02, -2.6307e-02,  2.3725e-03, -4.8451e-03,  6.2261e-03,\n",
              "          1.2653e-02,  1.7601e-02, -1.7971e-02, -2.9247e-03, -3.3447e-03,\n",
              "          1.4263e-02, -3.5629e-03, -9.2794e-03, -2.1326e-02,  1.9390e-02,\n",
              "          1.3287e-02, -8.7034e-03,  1.2936e-02, -2.0574e-02,  3.2204e-03,\n",
              "          5.9970e-03, -5.6524e-02,  3.0851e-02, -2.3233e-02,  4.6271e-02,\n",
              "         -1.4485e-03,  4.4248e-04, -3.1102e-02,  1.9762e-02,  2.0866e-02,\n",
              "          1.7914e-02, -2.0622e-02, -1.6030e-02,  6.2167e-03,  1.6809e-02,\n",
              "          4.6357e-03,  4.7169e-02, -2.1151e-02, -1.8898e-02,  3.5921e-02,\n",
              "          4.8621e-03, -5.9841e-02, -1.3029e-02,  5.6702e-03,  1.6820e-02,\n",
              "          2.1735e-02, -2.8285e-03, -1.5519e-02,  7.1974e-03,  3.5492e-02,\n",
              "         -2.3190e-02, -9.7930e-03,  2.3223e-02,  2.0529e-02,  2.7412e-02,\n",
              "          1.3887e-02,  1.7976e-03, -3.8905e-02,  1.8540e-02,  8.0013e-03,\n",
              "         -8.3682e-03, -8.6805e-03,  2.6464e-02,  1.8968e-03, -1.8028e-03,\n",
              "         -2.4427e-02, -3.5514e-02, -1.8748e-02, -3.0541e-02, -7.9520e-03,\n",
              "         -1.5989e-02,  9.3060e-03,  2.9318e-02,  1.6679e-02, -2.4060e-03,\n",
              "         -7.2656e-03, -2.7699e-03,  1.4280e-02, -6.7352e-02, -1.2329e-02,\n",
              "         -1.1516e-02, -8.0379e-03,  2.5604e-02, -2.9178e-02,  2.6076e-02,\n",
              "         -1.1561e-02, -4.0904e-03, -1.7735e-02, -2.8245e-03,  2.3919e-02,\n",
              "         -3.6326e-03, -1.6407e-03,  9.5295e-03,  2.4161e-02, -5.8965e-02,\n",
              "          4.7633e-02,  1.4403e-03, -4.4763e-02, -3.5462e-03,  3.0613e-02,\n",
              "          2.5047e-02,  1.3757e-02, -2.2238e-02,  8.0453e-03, -2.6188e-03,\n",
              "         -2.2013e-03, -6.0179e-03, -8.5149e-03, -2.8150e-02,  1.9282e-02,\n",
              "         -7.5657e-02,  6.1354e-03,  5.2562e-03, -2.2223e-03,  1.0437e-02,\n",
              "         -1.8630e-02, -7.7628e-02,  1.4377e-02,  1.4977e-02,  1.6090e-02,\n",
              "          2.9399e-02, -2.8604e-02, -3.2916e-02,  2.7902e-03,  1.4113e-02,\n",
              "          8.3836e-03, -6.5914e-03, -4.9576e-03, -1.5955e-02,  4.2381e-03,\n",
              "          3.0032e-02,  8.8986e-03, -1.5336e-02,  4.6771e-03, -1.2364e-02,\n",
              "         -3.7724e-02, -3.9060e-03,  1.4607e-02, -2.1286e-02,  9.7086e-03,\n",
              "         -1.5826e-02, -1.4847e-02,  1.0796e-03, -9.5035e-03, -1.8624e-02,\n",
              "         -3.1673e-02,  8.8388e-03, -1.4921e-02, -1.7855e-03,  3.8781e-02,\n",
              "          2.4269e-02, -1.6465e-03, -7.9774e-03, -1.3907e-02,  1.9653e-03,\n",
              "         -2.6717e-03,  3.0146e-02, -4.3986e-03,  6.0588e-03,  2.1959e-02,\n",
              "          2.0354e-02,  9.3631e-03, -8.4828e-03, -2.3994e-02,  1.8316e-02,\n",
              "         -2.2401e-02, -2.6273e-03,  3.2069e-03, -3.2386e-03,  1.1388e-02,\n",
              "          3.0835e-02,  2.6043e-02, -7.2103e-03, -5.0038e-04, -1.4860e-02,\n",
              "          2.3886e-02,  1.1530e-02, -1.0549e-03,  3.5677e-02,  6.0299e-03,\n",
              "          1.5875e-02,  5.3877e-02,  6.6331e-02,  1.5165e-02, -6.0870e-03,\n",
              "          1.6159e-03, -1.1137e-02,  1.3665e-02,  1.7698e-02,  4.5647e-03,\n",
              "         -4.5349e-02,  2.6634e-02,  4.7289e-03, -1.1664e-02,  8.7302e-03,\n",
              "          1.2051e-02,  2.3455e-02, -2.7151e-03, -1.3474e-02, -4.5949e-02,\n",
              "         -1.3496e-02,  8.1680e-02, -2.9737e-02, -2.8525e-02, -1.4888e-02,\n",
              "          5.4320e-03,  3.9142e-02,  1.4227e-02,  1.1140e-02, -1.0980e-02,\n",
              "          2.1982e-02, -1.1148e-02, -1.0226e-02, -5.8499e-03, -1.9739e-02,\n",
              "         -3.4634e-03, -1.0565e-02,  1.0449e-02,  8.2791e-03,  2.3053e-03,\n",
              "          9.7032e-03, -9.0916e-03,  5.4747e-04, -4.1901e-02,  9.6154e-03,\n",
              "          2.9424e-02,  1.1897e-03,  1.1825e-02,  2.7524e-02,  1.0225e-02,\n",
              "          2.1439e-02,  2.3448e-03, -3.7239e-02,  5.8888e-02, -3.1999e-02,\n",
              "         -7.9128e-03,  3.5337e-02,  2.7251e-02,  1.3948e-02,  1.0896e-02,\n",
              "          1.4326e-05, -2.6835e-03,  4.0720e-03,  1.6469e-02,  3.5876e-02,\n",
              "         -1.6803e-02,  2.8083e-02,  2.2789e-03,  3.1635e-02,  5.7104e-03,\n",
              "          3.0284e-03,  1.2528e-02, -1.7956e-02, -1.4686e-02,  4.4091e-03,\n",
              "         -1.4846e-02, -4.1044e-02, -3.4005e-02, -6.5876e-02,  3.0926e-02,\n",
              "          5.9820e-02, -1.0069e-04, -6.6089e-03,  2.1271e-03,  3.6137e-03,\n",
              "          9.0073e-03,  9.6992e-03,  2.1992e-02,  6.2104e-02,  1.4786e-02,\n",
              "         -2.6120e-02, -1.4990e-02,  1.5148e-02,  3.0313e-02,  2.0834e-02,\n",
              "          1.7836e-02, -5.4321e-03, -5.9164e-03,  1.7840e-02, -4.3020e-03,\n",
              "          8.7374e-03, -2.4993e-02,  3.4310e-02,  2.2652e-02, -5.3760e-03,\n",
              "          1.7668e-02, -8.9518e-04,  1.3691e-03, -2.1373e-02, -6.1878e-03,\n",
              "         -1.2396e-02, -1.7816e-02, -1.8014e-02,  9.5274e-03,  1.1643e-02,\n",
              "         -2.0683e-02, -2.8707e-03,  1.1669e-02,  1.5618e-02,  3.5348e-02,\n",
              "         -1.1234e-02, -4.5453e-03, -3.4890e-02, -3.0010e-02,  1.6433e-02,\n",
              "         -1.2068e-02,  8.2583e-03,  1.4090e-02,  1.8771e-02, -4.9337e-02,\n",
              "         -1.7775e-03,  5.6333e-02,  6.8979e-02,  2.3123e-02, -1.0754e-02,\n",
              "         -4.9530e-02,  4.2980e-02,  2.8846e-02, -3.9176e-02,  8.1903e-02,\n",
              "         -2.9344e-02,  3.0343e-02,  8.4269e-02, -2.4376e-02, -8.4680e-02,\n",
              "          6.7452e-03,  1.2407e-01,  1.5680e-02, -1.6643e-02,  9.0987e-03,\n",
              "         -2.7984e-03,  7.5874e-02, -1.4630e-02,  2.9823e-02, -1.0423e-02,\n",
              "         -6.0341e-02, -3.6580e-02, -5.4615e-02, -1.3628e-01, -5.8373e-02,\n",
              "          4.3453e-02,  3.0439e-02,  1.7298e-02, -1.1724e-01,  1.0805e-01,\n",
              "         -4.6345e-02, -1.1533e-01,  7.4684e-02, -5.9752e-03,  4.3189e-02,\n",
              "          4.4795e-02, -3.7566e-03, -7.5097e-02,  3.5959e-02,  1.3906e-01,\n",
              "          4.6041e-02,  1.1786e-02,  1.1243e-01,  8.4072e-02, -7.7309e-02,\n",
              "          1.3586e-02,  9.5244e-02, -1.2002e-01,  7.0882e-02,  1.0043e-01,\n",
              "          2.5874e-02,  2.3354e-02, -3.5469e-02,  3.0738e-02,  1.0479e-01,\n",
              "         -9.2843e-02,  5.9718e-02, -1.9409e-02, -3.4414e-02, -8.4060e-03,\n",
              "         -9.3654e-03, -2.8030e-02,  7.2026e-03, -5.9461e-03, -1.2284e-02,\n",
              "         -1.7473e-02, -4.9678e-02,  1.0224e-02, -1.4688e-02, -1.7345e-02,\n",
              "          2.6771e-02, -2.6582e-02, -2.9768e-02,  6.2005e-03, -3.3405e-04,\n",
              "          9.1245e-03, -3.7149e-02, -6.7714e-03, -1.8193e-02,  3.4191e-02,\n",
              "         -5.5732e-03, -2.6161e-02, -1.4078e-02,  1.0288e-02, -2.2850e-02,\n",
              "         -2.2642e-02,  1.0270e-02,  6.9930e-03,  1.3614e-03, -2.9319e-04,\n",
              "          9.9593e-03, -6.0532e-03,  1.8669e-03, -5.3395e-03, -2.2013e-02,\n",
              "          8.4485e-03, -1.9142e-02,  1.0449e-02, -1.6700e-02,  1.3038e-02,\n",
              "          7.7479e-03, -1.3329e-02,  1.3052e-02, -2.5305e-03,  1.6191e-02,\n",
              "          1.3152e-02,  2.9897e-02,  8.5553e-03, -6.4898e-04,  1.2359e-02,\n",
              "         -4.2144e-03,  2.1785e-02,  2.1401e-02, -1.3295e-02,  7.4764e-03,\n",
              "          6.3580e-03, -6.2467e-03,  1.8235e-02,  3.0643e-02, -4.9091e-03,\n",
              "         -1.3889e-02,  2.6181e-03,  4.9702e-03, -6.1664e-03, -2.8528e-03,\n",
              "         -4.0556e-04,  5.4844e-03,  9.7783e-03,  1.2326e-02, -1.6844e-02,\n",
              "         -1.6294e-02,  4.9879e-03,  3.7789e-03,  8.0305e-04,  2.0482e-02,\n",
              "         -1.6369e-02,  1.6436e-03, -9.0401e-03, -3.2635e-02, -2.3990e-03,\n",
              "          5.7569e-03, -2.0392e-02,  6.6946e-03, -1.8541e-02,  9.3559e-03,\n",
              "          2.7165e-02,  1.2492e-02,  1.2748e-03, -1.3846e-03,  4.0312e-03,\n",
              "         -8.5552e-03,  3.1621e-03, -3.9514e-02, -3.7938e-03, -1.3551e-02,\n",
              "          2.2692e-02, -1.0217e-02, -1.2839e-02, -4.8771e-03, -4.2620e-03,\n",
              "         -3.0481e-02,  4.6085e-02, -2.8627e-03,  6.6756e-03, -2.6765e-03,\n",
              "         -4.1443e-02,  1.3336e-02, -1.0526e-02, -3.8494e-02,  1.2780e-02,\n",
              "         -3.5214e-02, -2.4758e-02,  7.5220e-03,  1.7225e-02, -1.6440e-02,\n",
              "         -3.6639e-03, -4.7462e-02,  5.3796e-04, -2.8419e-03,  4.5923e-03,\n",
              "         -3.0517e-02, -3.6832e-03,  1.8710e-02, -3.0486e-02, -2.4076e-02,\n",
              "         -2.7601e-02,  1.1921e-01,  1.2020e-01,  5.9805e-02, -6.9238e-03,\n",
              "         -1.3529e-01,  1.1234e-01,  8.3534e-02,  1.9974e-01,  5.3834e-02,\n",
              "         -6.6691e-02,  1.2676e-01,  2.4947e-01,  4.9879e-01, -1.6342e-01,\n",
              "          6.1663e-02, -4.8022e-02, -5.4069e-02,  4.7277e-02, -1.4724e-01,\n",
              "          8.4666e-02,  9.8618e-02,  7.9988e-02, -5.7652e-02,  6.3551e-03,\n",
              "          2.6916e-03,  9.2017e-02,  1.2511e-01,  2.5168e-01, -8.6152e-02,\n",
              "         -2.7570e-02, -6.1548e-02,  9.1371e-02,  8.0129e-02, -1.1662e-01,\n",
              "          1.5206e-01, -1.0687e-01, -1.0758e-01,  9.4138e-02,  1.0322e-01,\n",
              "         -1.5152e-01,  2.5472e-01,  7.0699e-02, -4.1571e-02,  2.7933e-02,\n",
              "         -1.9523e-01, -2.8319e-01,  5.9689e-02, -1.4707e-01, -3.5683e-02,\n",
              "         -5.4465e-02,  1.2570e-01, -1.2280e-01,  2.0263e-01, -1.0653e-02,\n",
              "          1.1058e-01, -9.1731e-04,  8.6605e-02, -1.7707e-02,  1.2616e-02,\n",
              "          1.8871e-01, -1.0594e-01, -3.7989e-03, -6.6359e-02, -5.9799e-02,\n",
              "          4.3201e-03, -2.3140e-02,  4.8008e-03,  1.4294e-02, -9.5453e-03,\n",
              "          5.8454e-03,  8.6512e-03,  2.1151e-02,  1.7098e-02, -1.4637e-03,\n",
              "          1.3778e-02, -1.2843e-02,  2.3742e-02, -1.3895e-02,  1.1327e-03,\n",
              "         -7.0846e-03, -7.6255e-03, -8.2264e-03, -1.5513e-02,  4.2724e-03,\n",
              "         -1.7624e-02, -3.0984e-03, -1.4400e-02,  2.3883e-02,  1.1556e-01,\n",
              "          4.4036e-02,  3.2821e-02,  8.6612e-04,  1.2383e-02, -6.6263e-03,\n",
              "         -2.7201e-03,  4.8125e-03, -2.8362e-03,  3.9830e-02,  5.2414e-02,\n",
              "         -4.6269e-03, -1.5858e-02,  2.1845e-02, -1.3767e-02, -1.0629e-02,\n",
              "          1.0347e-02, -3.4209e-02,  1.6939e-02,  1.8120e-02,  3.0650e-03,\n",
              "         -2.5109e-03,  1.3500e-02, -3.6440e-02, -9.2135e-03,  9.2194e-03,\n",
              "         -3.6276e-02, -1.1555e-02, -1.9569e-02, -1.5417e-02, -2.0485e-02,\n",
              "          2.9770e-03, -6.8246e-03, -6.5039e-03, -1.2597e-02, -1.1409e-02,\n",
              "          1.7139e-02,  4.6424e-03, -5.1774e-02, -1.1679e-02,  5.2761e-03,\n",
              "         -1.3664e-02, -1.4001e-02,  2.0379e-03,  1.2753e-02, -8.1607e-03,\n",
              "         -1.0849e-02, -1.0683e-03, -2.4489e-03,  2.0192e-02,  1.5756e-02,\n",
              "         -6.4964e-03, -4.5603e-02, -2.5999e-02, -1.4307e-02, -7.4639e-03,\n",
              "          9.9480e-03,  1.6763e-02,  2.1737e-02,  4.8181e-02,  1.7739e-02,\n",
              "          1.1469e-02, -4.2359e-03, -1.6419e-02, -1.7318e-02,  1.1498e-03,\n",
              "          2.4485e-02, -3.0614e-03,  1.9017e-02, -1.6453e-02, -1.3444e-02,\n",
              "          2.6748e-02, -6.4994e-03,  5.1485e-03,  1.4132e-02, -1.1573e-02,\n",
              "          1.2583e-02, -1.1401e-02, -2.0003e-02, -3.8115e-03,  7.3728e-03,\n",
              "          1.5500e-02,  2.0623e-02,  3.1582e-03, -1.2794e-02,  4.5499e-03,\n",
              "         -3.3994e-04, -2.3003e-02,  1.2225e-02, -2.7949e-02, -9.6121e-03,\n",
              "         -3.5844e-02, -4.2373e-03,  5.3473e-03,  1.4432e-02, -1.2745e-02,\n",
              "          7.1483e-03,  2.9170e-03,  6.2454e-03,  6.8991e-03,  1.5852e-02,\n",
              "          2.1877e-02, -1.7211e-02, -2.6093e-02]))"
            ]
          },
          "metadata": {},
          "execution_count": 11
        }
      ],
      "source": [
        "#computing the size of our model using torch.save()\n",
        "\n",
        "#looking at what is stored in the state_dict of our baseline model\n",
        "\n",
        "print(len(list(pipe.model.state_dict().items())))\n",
        "\n",
        "list(pipe.model.state_dict().items())[42]"
      ]
    },
    {
      "cell_type": "code",
      "execution_count": null,
      "metadata": {
        "colab": {
          "base_uri": "https://localhost:8080/"
        },
        "id": "Knu9-gxIZ7wn",
        "outputId": "7fd898b9-0760-4e33-c939-52e653109717"
      },
      "outputs": [
        {
          "output_type": "stream",
          "name": "stdout",
          "text": [
            "Requirement already satisfied: torch in /usr/local/lib/python3.10/dist-packages (2.1.0+cu121)\n",
            "Requirement already satisfied: filelock in /usr/local/lib/python3.10/dist-packages (from torch) (3.13.1)\n",
            "Requirement already satisfied: typing-extensions in /usr/local/lib/python3.10/dist-packages (from torch) (4.5.0)\n",
            "Requirement already satisfied: sympy in /usr/local/lib/python3.10/dist-packages (from torch) (1.12)\n",
            "Requirement already satisfied: networkx in /usr/local/lib/python3.10/dist-packages (from torch) (3.2.1)\n",
            "Requirement already satisfied: jinja2 in /usr/local/lib/python3.10/dist-packages (from torch) (3.1.3)\n",
            "Requirement already satisfied: fsspec in /usr/local/lib/python3.10/dist-packages (from torch) (2023.6.0)\n",
            "Requirement already satisfied: triton==2.1.0 in /usr/local/lib/python3.10/dist-packages (from torch) (2.1.0)\n",
            "Requirement already satisfied: MarkupSafe>=2.0 in /usr/local/lib/python3.10/dist-packages (from jinja2->torch) (2.1.3)\n",
            "Requirement already satisfied: mpmath>=0.19 in /usr/local/lib/python3.10/dist-packages (from sympy->torch) (1.3.0)\n"
          ]
        }
      ],
      "source": [
        "!pip install torch"
      ]
    },
    {
      "cell_type": "code",
      "execution_count": null,
      "metadata": {
        "id": "mG6KFrGR0lKB"
      },
      "outputs": [],
      "source": [
        "#saving the model with:\n",
        "import torch as torch\n",
        "torch.save(pipe.model.state_dict(), \"model.pt\")"
      ]
    },
    {
      "cell_type": "code",
      "execution_count": null,
      "metadata": {
        "id": "W7wDUnK0aBw6"
      },
      "outputs": [],
      "source": [
        "#then using path.stat() to get info about the underlying files. Putting together\n",
        "\n",
        "from pathlib import Path\n",
        "\n",
        "def compute_size(self):\n",
        "  \"\"\"This overrides the PerformanceBenchmark.compute_size() method\"\"\"\n",
        "  state_dict = self.pipeline.model.state_dict()\n",
        "  tmp_path = Path(\"model.pt\")\n",
        "  torch.save(state_dict, tmp_path)\n",
        "  #Calculate size in megabytes\n",
        "  size_mb = Path(tmp_path).stat().st_size/(1024*1024)\n",
        "  #Delete temporary file\n",
        "  tmp_path.unlink()\n",
        "  print(f\"Model size (MB) - {size_mb:.2f}\")\n",
        "  return {\"size_mb\": size_mb}\n",
        "\n",
        "PerformanceBenchmark.compute_size = compute_size"
      ]
    },
    {
      "cell_type": "code",
      "execution_count": null,
      "metadata": {
        "colab": {
          "base_uri": "https://localhost:8080/"
        },
        "id": "tdFc0dJPbd87",
        "outputId": "2f2f9ac3-34b1-4984-d32a-09f666051e34"
      },
      "outputs": [
        {
          "output_type": "stream",
          "name": "stdout",
          "text": [
            "Latancy(ms) - 88.061\n",
            "Latancy(ms) - 95.253\n",
            "Latancy(ms) - 96.843\n"
          ]
        }
      ],
      "source": [
        "#using perf_counter() to calculate inference time of models\n",
        "\n",
        "from time import perf_counter\n",
        "\n",
        "for _ in range(3):\n",
        "  start_time = perf_counter()\n",
        "  _ = pipe(query)\n",
        "  latency = perf_counter() - start_time\n",
        "  print(f\"Latancy(ms) - {1000*latency:.3f}\")"
      ]
    },
    {
      "cell_type": "code",
      "execution_count": null,
      "metadata": {
        "id": "-WWfGNgQdc98"
      },
      "outputs": [],
      "source": [
        "#collecting latencies over many runs and then use the distribution for mean and std\n",
        "\n",
        "import numpy as np\n",
        "\n",
        "def time_pipeline(self, query=\"What is the pin number for my account?\"):\n",
        "  \"\"\"This overrides the PerformanceBenchmark.time_pipeline() method\"\"\"\n",
        "  latencies = []\n",
        "  #warmup\n",
        "  for _ in range(10):\n",
        "    _ = self.pipeline(query)\n",
        "  #Timed run\n",
        "  for _ in range(100):\n",
        "    start_time = perf_counter()\n",
        "    _ = self.pipeline(query)\n",
        "    latency = perf_counter() - start_time\n",
        "    latencies.append(latency)\n",
        "  #compute run statistics\n",
        "  time_avg_ms = 1000*np.mean(latencies)\n",
        "  time_std_ms = 1000*np.std(latencies)\n",
        "  print(f\"Average latency(ms) - {time_avg_ms:.2f} +\\- {time_std_ms:.2f}\")\n",
        "  return {\"time_avg_ms\": time_avg_ms, \"time_std_ms\": time_std_ms}\n",
        "\n",
        "PerformanceBenchmark.time_pipeline = time_pipeline"
      ]
    },
    {
      "cell_type": "code",
      "execution_count": null,
      "metadata": {
        "colab": {
          "base_uri": "https://localhost:8080/"
        },
        "id": "Dn2IDbRnfY8d",
        "outputId": "7a1fa04e-e683-465d-f4f3-df1c6a3db80e"
      },
      "outputs": [
        {
          "output_type": "stream",
          "name": "stdout",
          "text": [
            "Model size (MB) - 418.15\n",
            "Accuracy on test set - 0.867\n",
            "Average latency(ms) - 39.16 +\\- 2.68\n"
          ]
        }
      ],
      "source": [
        "#testing PerformanceBenchmark on BERT baseline\n",
        "\n",
        "pb = PerformanceBenchmark(pipe, clinc[\"test\"])\n",
        "perf_metrics = pb.run_benchmark()"
      ]
    },
    {
      "cell_type": "markdown",
      "source": [
        "**Knowledge Distillation**"
      ],
      "metadata": {
        "id": "kgq8NvyGq5op"
      }
    },
    {
      "cell_type": "code",
      "execution_count": null,
      "metadata": {
        "id": "MM_AT0tbf-Uk"
      },
      "outputs": [],
      "source": [
        "#using fine-tuned BERT-base model as teacher to fine-tune smaller, faster model\n",
        "\n",
        "#augmenting cross-entrpy loss with an L_KD term in custom trainer\n",
        "\n",
        "#adding new hyperparameters by subclassing TrainingArguments\n",
        "\n",
        "from transformers import TrainingArguments\n",
        "\n",
        "class DistillationTrainingArguments(TrainingArguments):\n",
        "  def __init__(self, *args, alpha=0.5, temperature=2.0, **kwargs):\n",
        "    super().__init__(*args, **kwargs)\n",
        "    self.alpha = alpha\n",
        "    self.temperature = temperature\n"
      ]
    },
    {
      "cell_type": "code",
      "source": [
        "#adding new loss function by subclassing Trainer and overriding the compute_loss()\n",
        "\n",
        "import torch.nn as nn\n",
        "import torch.nn.functional as F\n",
        "from transformers import Trainer\n",
        "\n",
        "class DistillationTrainer(Trainer):\n",
        "  def __init__(self, *args, teacher_model=None, **kwargs):\n",
        "    super().__init__(*args, **kwargs)\n",
        "    self.teacher_model = teacher_model\n",
        "\n",
        "  def compute_loss(self, model, inputs, return_outputs=False):\n",
        "    outputs_stu = model(**inputs)\n",
        "    #Extract cross-entrpy loss and logits from student\n",
        "    loss_ce = outputs_stu.loss\n",
        "    logits_stu = outputs_stu.logits\n",
        "    #Extract logits from teacher\n",
        "    with torch.no_grad():\n",
        "      outputs_tea = self.teacher_model(**inputs)\n",
        "      logits_tea = outputs_tea.logits\n",
        "    #Soften probabilities and compute distillation loss\n",
        "    loss_fct = nn.KLDivLoss(reduction=\"batchmean\")\n",
        "    loss_kd = self.args.temperature**2 * loss_fct(\n",
        "        F.log_softmax(logits_stu / self.args.temperature, dim=-1),\n",
        "        F.softmax(logits_tea / self.args.temperature, dim=-1))\n",
        "    #Return weighted student loss\n",
        "    loss = self.args.alpha * loss_ce + (1. -self.args.alpha) * loss_kd\n",
        "    return (loss, outputs_stu) if return_outputs else loss\n"
      ],
      "metadata": {
        "id": "VKqB2tITyKY9"
      },
      "execution_count": null,
      "outputs": []
    },
    {
      "cell_type": "code",
      "source": [
        "print(clinc)"
      ],
      "metadata": {
        "colab": {
          "base_uri": "https://localhost:8080/"
        },
        "id": "C4uC1E-c9mFG",
        "outputId": "1f588471-c955-436a-9b0e-9037d73e4258"
      },
      "execution_count": null,
      "outputs": [
        {
          "output_type": "stream",
          "name": "stdout",
          "text": [
            "DatasetDict({\n",
            "    train: Dataset({\n",
            "        features: ['text', 'intent'],\n",
            "        num_rows: 15250\n",
            "    })\n",
            "    validation: Dataset({\n",
            "        features: ['text', 'intent'],\n",
            "        num_rows: 3100\n",
            "    })\n",
            "    test: Dataset({\n",
            "        features: ['text', 'intent'],\n",
            "        num_rows: 5500\n",
            "    })\n",
            "})\n"
          ]
        }
      ]
    },
    {
      "cell_type": "markdown",
      "source": [
        "**Choosing a Good Student Initialization**"
      ],
      "metadata": {
        "id": "GWZMsC7v4foa"
      }
    },
    {
      "cell_type": "code",
      "source": [
        "#using DistilBERT as student with its 40% fewer parameters\n",
        "\n",
        "#tokenizing and encoding queries\n",
        "\n",
        "from transformers import AutoTokenizer\n",
        "\n",
        "student_ckpt = \"distilbert-base-uncased\"\n",
        "student_tokenizer = AutoTokenizer.from_pretrained(student_ckpt)\n",
        "\n",
        "def tokenize_text(batch):\n",
        "  return student_tokenizer(batch[\"text\"], truncation=True)\n",
        "\n",
        "clinc_enc = clinc.map(tokenize_text, batched=True, remove_columns=[\"text\"])\n",
        "#clinc_enc_txt = clinc.map(tokenize_text, batched=True)\n",
        "clinc_enc = clinc_enc.rename_column(\"intent\", \"labels\")\n",
        "\n"
      ],
      "metadata": {
        "id": "86CdEfAE218i"
      },
      "execution_count": null,
      "outputs": []
    },
    {
      "cell_type": "code",
      "source": [
        "#login detail\n",
        "from google.colab import userdata\n",
        "key=userdata.get('huggingface')\n",
        "\n",
        "from huggingface_hub import login\n",
        "login(token=key, write_permission=True )"
      ],
      "metadata": {
        "colab": {
          "base_uri": "https://localhost:8080/"
        },
        "id": "G3qhniDa9TF7",
        "outputId": "7f35f4f5-129d-4d5f-9e0a-af90bea62bc4"
      },
      "execution_count": null,
      "outputs": [
        {
          "output_type": "stream",
          "name": "stdout",
          "text": [
            "Token will not been saved to git credential helper. Pass `add_to_git_credential=True` if you want to set the git credential as well.\n",
            "Token is valid (permission: write).\n",
            "Your token has been saved to /root/.cache/huggingface/token\n",
            "Login successful\n"
          ]
        }
      ]
    },
    {
      "cell_type": "code",
      "source": [
        "#defining metrics to trak during training; using accuracy as the main metric\n",
        "\n",
        "def compute_metrics(preds):\n",
        "  predictions, labels = preds\n",
        "  predictions = np.argmax(predictions, axis=1)\n",
        "  return accuracy_score.compute(predictions=predictions, references=labels)"
      ],
      "metadata": {
        "id": "H0ujGmAh-TUu"
      },
      "execution_count": null,
      "outputs": []
    },
    {
      "cell_type": "code",
      "source": [
        "#defining training arguments; To warmup, set alpha=1 to see how well DistilBERT performs without any signla from teacher\n",
        "#pushing the fine-tuned model to a new repo distilbert-base-uncased-finetuned-clinic\n",
        "\n",
        "batch_size = 48\n",
        "\n",
        "finetuned_ckpt = \"distilbert-base-uncased-finetuned-clinic\"\n",
        "student_training_args = DistillationTrainingArguments(\n",
        "    output_dir=finetuned_ckpt, evaluation_strategy=\"epoch\",\n",
        "    num_train_epochs=5, learning_rate=2e-5, per_device_train_batch_size=batch_size,\n",
        "    per_device_eval_batch_size=batch_size, alpha=1, weight_decay=0.01, push_to_hub=True)"
      ],
      "metadata": {
        "id": "ooaBrE08_ycU"
      },
      "execution_count": null,
      "outputs": []
    },
    {
      "cell_type": "code",
      "source": [
        "#creating student_init() function to initialize the models with each new run\n",
        "\n",
        "#But before need to provide student model with the mapings between intent and label\n",
        "\n",
        "id2label = pipe.model.config.id2label\n",
        "label2id = pipe.model.config.label2id\n",
        "\n"
      ],
      "metadata": {
        "id": "NN3HK8-wBR6w"
      },
      "execution_count": null,
      "outputs": []
    },
    {
      "cell_type": "code",
      "source": [
        "#creating custom model configuration for student\n",
        "\n",
        "from transformers import AutoConfig\n",
        "\n",
        "num_labels = intents.num_classes\n",
        "student_config = (AutoConfig.from_pretrained(student_ckpt, num_labels=num_labels,\n",
        "                                            id2label=id2label, label2id=label2id))"
      ],
      "metadata": {
        "id": "PiMoAiCQC2OE"
      },
      "execution_count": null,
      "outputs": []
    },
    {
      "cell_type": "code",
      "source": [
        "#providing the configuration to the from_pretrained() fn of AutoModelFOrSequenceClassification\n",
        "\n",
        "import torch\n",
        "from transformers import AutoModelForSequenceClassification\n",
        "\n",
        "device = torch.device(\"cuda\" if torch.cuda.is_available() else \"cpu\")\n",
        "\n",
        "def student_init():\n",
        "  return (AutoModelForSequenceClassification.from_pretrained(student_ckpt, config=student_config).to(device))"
      ],
      "metadata": {
        "id": "eP1sc_awDdJV"
      },
      "execution_count": null,
      "outputs": []
    },
    {
      "cell_type": "code",
      "source": [
        "#all the ingredients in place, downloading teacher and fine-tune\n",
        "\n",
        "teacher_ckpt = \"transformersbook/bert-base-uncased-finetuned-clinc\"\n",
        "teacher_model = AutoModelForSequenceClassification.from_pretrained(teacher_ckpt, num_labels=num_labels).to(device)\n",
        "\n",
        "distilbert_trainer = DistillationTrainer(model_init=student_init, teacher_model=teacher_model,\n",
        "                                         args=student_training_args,\n",
        "                                         train_dataset=clinc_enc['train'],\n",
        "                                         eval_dataset=clinc_enc['validation'],\n",
        "                                         compute_metrics=compute_metrics, tokenizer=student_tokenizer)\n",
        "\n",
        "distilbert_trainer.train()"
      ],
      "metadata": {
        "colab": {
          "base_uri": "https://localhost:8080/",
          "height": 377
        },
        "id": "IEDwzR0tEOrY",
        "outputId": "b381c97c-c548-4718-9f07-b3072d8794c9"
      },
      "execution_count": null,
      "outputs": [
        {
          "output_type": "stream",
          "name": "stderr",
          "text": [
            "Some weights of DistilBertForSequenceClassification were not initialized from the model checkpoint at distilbert-base-uncased and are newly initialized: ['classifier.bias', 'classifier.weight', 'pre_classifier.bias', 'pre_classifier.weight']\n",
            "You should probably TRAIN this model on a down-stream task to be able to use it for predictions and inference.\n",
            "Some weights of DistilBertForSequenceClassification were not initialized from the model checkpoint at distilbert-base-uncased and are newly initialized: ['classifier.bias', 'classifier.weight', 'pre_classifier.bias', 'pre_classifier.weight']\n",
            "You should probably TRAIN this model on a down-stream task to be able to use it for predictions and inference.\n"
          ]
        },
        {
          "output_type": "display_data",
          "data": {
            "text/plain": [
              "<IPython.core.display.HTML object>"
            ],
            "text/html": [
              "\n",
              "    <div>\n",
              "      \n",
              "      <progress value='1590' max='1590' style='width:300px; height:20px; vertical-align: middle;'></progress>\n",
              "      [1590/1590 05:05, Epoch 5/5]\n",
              "    </div>\n",
              "    <table border=\"1\" class=\"dataframe\">\n",
              "  <thead>\n",
              " <tr style=\"text-align: left;\">\n",
              "      <th>Epoch</th>\n",
              "      <th>Training Loss</th>\n",
              "      <th>Validation Loss</th>\n",
              "      <th>Accuracy</th>\n",
              "    </tr>\n",
              "  </thead>\n",
              "  <tbody>\n",
              "    <tr>\n",
              "      <td>1</td>\n",
              "      <td>No log</td>\n",
              "      <td>3.303337</td>\n",
              "      <td>0.746452</td>\n",
              "    </tr>\n",
              "    <tr>\n",
              "      <td>2</td>\n",
              "      <td>3.807300</td>\n",
              "      <td>1.899217</td>\n",
              "      <td>0.864839</td>\n",
              "    </tr>\n",
              "    <tr>\n",
              "      <td>3</td>\n",
              "      <td>3.807300</td>\n",
              "      <td>1.178517</td>\n",
              "      <td>0.894194</td>\n",
              "    </tr>\n",
              "    <tr>\n",
              "      <td>4</td>\n",
              "      <td>1.720000</td>\n",
              "      <td>0.875852</td>\n",
              "      <td>0.909355</td>\n",
              "    </tr>\n",
              "    <tr>\n",
              "      <td>5</td>\n",
              "      <td>0.920800</td>\n",
              "      <td>0.792727</td>\n",
              "      <td>0.915161</td>\n",
              "    </tr>\n",
              "  </tbody>\n",
              "</table><p>"
            ]
          },
          "metadata": {}
        },
        {
          "output_type": "execute_result",
          "data": {
            "text/plain": [
              "TrainOutput(global_step=1590, training_loss=2.072857392509029, metrics={'train_runtime': 305.2199, 'train_samples_per_second': 249.82, 'train_steps_per_second': 5.209, 'total_flos': 413455351535688.0, 'train_loss': 2.072857392509029, 'epoch': 5.0})"
            ]
          },
          "metadata": {},
          "execution_count": 31
        }
      ]
    },
    {
      "cell_type": "code",
      "source": [
        "#Pushing to the hub\n",
        "distilbert_trainer.push_to_hub(\"Training completed!\")"
      ],
      "metadata": {
        "colab": {
          "base_uri": "https://localhost:8080/",
          "height": 212,
          "referenced_widgets": [
            "8e089ff776e74a7e828f130b1af15366",
            "38f9e896b1cf4629a1ec818db40a0290",
            "7e79f57ca80d4071a612665ffa80e3cb",
            "66634be940cc4b2ebfc63e079b419da6",
            "3d0059b0bc5c4a8e9bbc570dc9745be3",
            "7d1e141194cb43b58d4165d932863e94",
            "887bab6522794f578206e9f16e3666b0",
            "b8d0061b403641f5956d5aab84bfca98",
            "4e653e86732e4dd19c3eaa81861eea5b",
            "e17b41123e834b3cb4f05d18ced08bf5",
            "487f68b082674022ab46e9b6db758751",
            "411cb30f5f354c7eac5cdf571a73bf0c",
            "3d7e3a1ade6d423d84616dc185fd8b75",
            "e36bf48ea0f04b1e935270e26d486e8e",
            "66cc2696fb424107ac5ef7c1ecf8ece7",
            "64f4a1afa00344018000de9efa16a6d3",
            "d52e3191f9c140cda07e87a7ddf9840b",
            "a1c2cfd1de734c0396816330682ba24b",
            "79927b25a2c84667a0beaa8328e9eda4",
            "95bca06810ab47938b705a5dba700be9",
            "828c6ea81459422391834ea3bd25fc93",
            "8b2b678a164949b6857e8c9bec0fdf3c",
            "284ecc72b82343a098f444cca0403526",
            "9584f4aac8164116bada9c9d92ee6092",
            "c5c0372bf2454bff8c6b72d279f0473e",
            "cfd3f0994ef44bafb34e3b6fb6e4ec65",
            "659b76c0bf3d4537af98bfda8f22471f",
            "d4419065887c42839e06354760cb03bf",
            "2e0cac232fb44097baf453fff94094a3",
            "9f9eb3202c8f41569f1c1ecfb9b9e37b",
            "6151a71e623845019127746f4a9d4e92",
            "08ec43ccd13a4449a7338a9c8f7a9f60",
            "202f6a3c00f64dfea50a3f28741f3a82"
          ]
        },
        "id": "6pl2EcYnFuPO",
        "outputId": "d13f69e0-abe4-4620-964e-10cd51f49e60"
      },
      "execution_count": null,
      "outputs": [
        {
          "output_type": "display_data",
          "data": {
            "text/plain": [
              "model.safetensors:   0%|          | 0.00/268M [00:00<?, ?B/s]"
            ],
            "application/vnd.jupyter.widget-view+json": {
              "version_major": 2,
              "version_minor": 0,
              "model_id": "8e089ff776e74a7e828f130b1af15366"
            }
          },
          "metadata": {}
        },
        {
          "output_type": "display_data",
          "data": {
            "text/plain": [
              "Upload 2 LFS files:   0%|          | 0/2 [00:00<?, ?it/s]"
            ],
            "application/vnd.jupyter.widget-view+json": {
              "version_major": 2,
              "version_minor": 0,
              "model_id": "411cb30f5f354c7eac5cdf571a73bf0c"
            }
          },
          "metadata": {}
        },
        {
          "output_type": "display_data",
          "data": {
            "text/plain": [
              "events.out.tfevents.1706026378.99e8694adbdf.39534.1:   0%|          | 0.00/14.3k [00:00<?, ?B/s]"
            ],
            "application/vnd.jupyter.widget-view+json": {
              "version_major": 2,
              "version_minor": 0,
              "model_id": "284ecc72b82343a098f444cca0403526"
            }
          },
          "metadata": {}
        },
        {
          "output_type": "execute_result",
          "data": {
            "text/plain": [
              "CommitInfo(commit_url='https://huggingface.co/hndc/distilbert-base-uncased-finetuned-clinic/commit/2be23bb49c8f67ae6ff5ea54d7a0912cc6b6f425', commit_message='Training completed!', commit_description='', oid='2be23bb49c8f67ae6ff5ea54d7a0912cc6b6f425', pr_url=None, pr_revision=None, pr_num=None)"
            ],
            "application/vnd.google.colaboratory.intrinsic+json": {
              "type": "string"
            }
          },
          "metadata": {},
          "execution_count": 32
        }
      ]
    },
    {
      "cell_type": "code",
      "source": [
        "#benchmarking the tuned model\n",
        "\n",
        "finetuned_ckpt = \"hndc/distilbert-base-uncased-finetuned-clinic\"\n",
        "pipe = pipeline(\"text-classification\", model=finetuned_ckpt)\n",
        "\n"
      ],
      "metadata": {
        "id": "ofPdj_qZGckt"
      },
      "execution_count": null,
      "outputs": []
    },
    {
      "cell_type": "code",
      "source": [
        "#passing the pipeline to our PerformanceBenchmark\n",
        "\n",
        "optim_type = \"DistilBERT\"\n",
        "pb = PerformanceBenchmark(pipe, clinc[\"test\"], optim_type=optim_type)\n",
        "perf_metrics.update(pb.run_benchmark())"
      ],
      "metadata": {
        "colab": {
          "base_uri": "https://localhost:8080/"
        },
        "id": "OyqDH75_Hh5F",
        "outputId": "0ef9a3fb-4bfc-4e19-92be-56d8d2525347"
      },
      "execution_count": null,
      "outputs": [
        {
          "output_type": "stream",
          "name": "stdout",
          "text": [
            "Model size (MB) - 255.88\n",
            "Accuracy on test set - 0.838\n",
            "Average latency(ms) - 19.63 +\\- 1.18\n"
          ]
        }
      ]
    },
    {
      "cell_type": "code",
      "source": [
        "print(type(perf_metrics))"
      ],
      "metadata": {
        "colab": {
          "base_uri": "https://localhost:8080/"
        },
        "id": "BKSWOvb-IaV8",
        "outputId": "c43230f6-b13a-4940-9bee-cb82ee7a672d"
      },
      "execution_count": null,
      "outputs": [
        {
          "output_type": "stream",
          "name": "stdout",
          "text": [
            "<class 'dict'>\n"
          ]
        }
      ]
    },
    {
      "cell_type": "code",
      "source": [
        "import matplotlib.pyplot as plt"
      ],
      "metadata": {
        "id": "8m8N7PeQJr7h"
      },
      "execution_count": null,
      "outputs": []
    },
    {
      "cell_type": "code",
      "source": [
        "#creating a scatter plot to compare results against baseline ; accuracy against the latency, w radius of each point corresponding to the size of the model on the disl\n",
        "\n",
        "import pandas as pd\n",
        "\n",
        "def plot_metrics(perf_metrics, current_optim_type):\n",
        "  df = pd.DataFrame.from_dict(perf_metrics, orient=\"index\")\n",
        "\n",
        "  for idx in df.index:\n",
        "    df_opt = df.loc[idx]\n",
        "    #Add a dashed circle around the current optimization type\n",
        "    if idx == current_optim_type:\n",
        "      plt.scatter(df_opt[\"time_avg_ms\"], df_opt[\"accuracy\"] * 100, alpha=0.5, s=df_opt[\"size_mb\"],\n",
        "                  label=idx, marker='$\\u25CC$')\n",
        "    else:\n",
        "      plt.scatter(df_opt[\"time_avg_ms\"], df_opt[\"accuracy\"] * 100, s=df_opt[\"size_mb\"], label=idx, alpha=0.5)\n",
        "\n",
        "  legend = plt.legend(bbox_to_anchor=(1,1))\n",
        "  for handle in legend.legendHandles:\n",
        "    handle.set_sizes([20])\n",
        "\n",
        "  plt.ylim(80,90)\n",
        "  #Use the slowest model to define the x-axis range\n",
        "  xlim = int(perf_metrics[\"BERT baseline\"][\"time_avg_ms\"] + 3)\n",
        "  plt.xlim(1, xlim)\n",
        "  plt.ylabel(\"Accuracy (%)\")\n",
        "  plt.xlabel(\"Average Latency (ms)\")\n",
        "  plt.show()\n",
        "\n",
        "\n",
        "plot_metrics(perf_metrics, optim_type)"
      ],
      "metadata": {
        "colab": {
          "base_uri": "https://localhost:8080/",
          "height": 511
        },
        "id": "HCIX5ne2HN9S",
        "outputId": "62ba998e-8116-4197-b840-da9bea8c1d4c"
      },
      "execution_count": null,
      "outputs": [
        {
          "output_type": "stream",
          "name": "stderr",
          "text": [
            "<ipython-input-32-c1e7db668336>:18: MatplotlibDeprecationWarning: The legendHandles attribute was deprecated in Matplotlib 3.7 and will be removed two minor releases later. Use legend_handles instead.\n",
            "  for handle in legend.legendHandles:\n"
          ]
        },
        {
          "output_type": "display_data",
          "data": {
            "text/plain": [
              "<Figure size 640x480 with 1 Axes>"
            ],
            "image/png": "[encoded data removed]"
          },
          "metadata": {}
        }
      ]
    },
    {
      "cell_type": "markdown",
      "source": [
        "**Finding Good Hyperparameters with Optuna**"
      ],
      "metadata": {
        "id": "7n4G5IJQLbnx"
      }
    },
    {
      "cell_type": "code",
      "source": [
        "#Using Optuna to find better alpha and T\n",
        "\n",
        "# defining a toy objective function\n",
        "\n",
        "def objective(trial):\n",
        "  x = trial.suggest_float(\"x\", -2, 2)\n",
        "  y = trial.suggest_float(\"y\", -2, 2)\n",
        "  return (1-x)**2 + 100*(y-x**2)**2"
      ],
      "metadata": {
        "id": "-cgdfbT4KROR"
      },
      "execution_count": null,
      "outputs": []
    },
    {
      "cell_type": "code",
      "source": [
        "! pip install optuna"
      ],
      "metadata": {
        "colab": {
          "base_uri": "https://localhost:8080/"
        },
        "id": "tRJkkPOmMz4M",
        "outputId": "25b3220b-1577-415f-ea2c-76b9ca0028aa"
      },
      "execution_count": null,
      "outputs": [
        {
          "output_type": "stream",
          "name": "stdout",
          "text": [
            "Requirement already satisfied: optuna in /usr/local/lib/python3.10/dist-packages (3.5.0)\n",
            "Requirement already satisfied: alembic>=1.5.0 in /usr/local/lib/python3.10/dist-packages (from optuna) (1.13.1)\n",
            "Requirement already satisfied: colorlog in /usr/local/lib/python3.10/dist-packages (from optuna) (6.8.0)\n",
            "Requirement already satisfied: numpy in /usr/local/lib/python3.10/dist-packages (from optuna) (1.23.5)\n",
            "Requirement already satisfied: packaging>=20.0 in /usr/local/lib/python3.10/dist-packages (from optuna) (23.2)\n",
            "Requirement already satisfied: sqlalchemy>=1.3.0 in /usr/local/lib/python3.10/dist-packages (from optuna) (2.0.24)\n",
            "Requirement already satisfied: tqdm in /usr/local/lib/python3.10/dist-packages (from optuna) (4.66.1)\n",
            "Requirement already satisfied: PyYAML in /usr/local/lib/python3.10/dist-packages (from optuna) (6.0.1)\n",
            "Requirement already satisfied: Mako in /usr/local/lib/python3.10/dist-packages (from alembic>=1.5.0->optuna) (1.3.1)\n",
            "Requirement already satisfied: typing-extensions>=4 in /usr/local/lib/python3.10/dist-packages (from alembic>=1.5.0->optuna) (4.5.0)\n",
            "Requirement already satisfied: greenlet!=0.4.17 in /usr/local/lib/python3.10/dist-packages (from sqlalchemy>=1.3.0->optuna) (3.0.3)\n",
            "Requirement already satisfied: MarkupSafe>=0.9.2 in /usr/local/lib/python3.10/dist-packages (from Mako->alembic>=1.5.0->optuna) (2.1.3)\n"
          ]
        }
      ]
    },
    {
      "cell_type": "code",
      "source": [
        "#Optuna collects multipe trails as a study, pass objective to study.optimize()\n",
        "\n",
        "import optuna\n",
        "\n",
        "study = optuna.create_study()\n",
        "study.optimize(objective, n_trials=1000)"
      ],
      "metadata": {
        "colab": {
          "base_uri": "https://localhost:8080/"
        },
        "id": "jfijOI8DMTx9",
        "outputId": "cae0b567-c963-4412-8832-5b556fe055b5"
      },
      "execution_count": null,
      "outputs": [
        {
          "output_type": "stream",
          "name": "stderr",
          "text": [
            "[I 2024-01-24 01:56:52,688] A new study created in memory with name: no-name-237c2e79-446c-429a-bed2-be2143d4d2ad\n",
            "[I 2024-01-24 01:56:52,691] Trial 0 finished with value: 570.2071199881491 and parameters: {'x': -1.8543323640370102, 'y': 1.0677682507827457}. Best is trial 0 with value: 570.2071199881491.\n",
            "[I 2024-01-24 01:56:52,693] Trial 1 finished with value: 57.38734033535626 and parameters: {'x': 1.2714949964611635, 'y': 0.859641861100223}. Best is trial 1 with value: 57.38734033535626.\n",
            "[I 2024-01-24 01:56:52,696] Trial 2 finished with value: 26.279145400386863 and parameters: {'x': 1.2749110444013785, 'y': 1.1135039504420154}. Best is trial 2 with value: 26.279145400386863.\n",
            "[I 2024-01-24 01:56:52,698] Trial 3 finished with value: 176.93273989282363 and parameters: {'x': 0.8722329692501942, 'y': -0.5693089499566599}. Best is trial 2 with value: 26.279145400386863.\n",
            "[I 2024-01-24 01:56:52,700] Trial 4 finished with value: 1308.666318460425 and parameters: {'x': -1.3303075683159307, 'y': -1.8403177639416661}. Best is trial 2 with value: 26.279145400386863.\n",
            "[I 2024-01-24 01:56:52,702] Trial 5 finished with value: 211.69088548701887 and parameters: {'x': 1.5070588869763344, 'y': 0.8171502295619066}. Best is trial 2 with value: 26.279145400386863.\n",
            "[I 2024-01-24 01:56:52,704] Trial 6 finished with value: 4.255515859595003 and parameters: {'x': -1.0165964465632582, 'y': 0.9900109271310336}. Best is trial 6 with value: 4.255515859595003.\n",
            "[I 2024-01-24 01:56:52,706] Trial 7 finished with value: 75.76037293642287 and parameters: {'x': 1.6291649579303589, 'y': 1.7860510248477683}. Best is trial 6 with value: 4.255515859595003.\n",
            "[I 2024-01-24 01:56:52,708] Trial 8 finished with value: 887.3924382052455 and parameters: {'x': 1.3675266931930548, 'y': -1.1085573035095027}. Best is trial 6 with value: 4.255515859595003.\n",
            "[I 2024-01-24 01:56:52,710] Trial 9 finished with value: 4.087188725198322 and parameters: {'x': 1.0314367615272482, 'y': 0.8617182683939042}. Best is trial 9 with value: 4.087188725198322.\n",
            "[I 2024-01-24 01:56:52,731] Trial 10 finished with value: 0.8887975540955367 and parameters: {'x': 0.1301786233865404, 'y': -0.019413989002784682}. Best is trial 10 with value: 0.8887975540955367.\n",
            "[I 2024-01-24 01:56:52,748] Trial 11 finished with value: 0.951486313477913 and parameters: {'x': 0.16520628127784365, 'y': 0.07775158945481764}. Best is trial 10 with value: 0.8887975540955367.\n",
            "[I 2024-01-24 01:56:52,765] Trial 12 finished with value: 2.5478423796079155 and parameters: {'x': 0.14438722034087254, 'y': -0.1139028092986735}. Best is trial 10 with value: 0.8887975540955367.\n",
            "[I 2024-01-24 01:56:52,781] Trial 13 finished with value: 4.070421689246328 and parameters: {'x': 0.02382322557708566, 'y': 0.17713199873721003}. Best is trial 10 with value: 0.8887975540955367.\n",
            "[I 2024-01-24 01:56:52,799] Trial 14 finished with value: 24.353095665818152 and parameters: {'x': -0.7500090717163574, 'y': 0.10109661712951533}. Best is trial 10 with value: 0.8887975540955367.\n",
            "[I 2024-01-24 01:56:52,816] Trial 15 finished with value: 96.76474842819306 and parameters: {'x': 0.4944991525322102, 'y': -0.7378616371748038}. Best is trial 10 with value: 0.8887975540955367.\n",
            "[I 2024-01-24 01:56:52,828] Trial 16 finished with value: 69.09870321579875 and parameters: {'x': -0.6789469585820473, 'y': -0.3531553442663359}. Best is trial 10 with value: 0.8887975540955367.\n",
            "[I 2024-01-24 01:56:52,840] Trial 17 finished with value: 198.99687651906405 and parameters: {'x': -0.41560604873592866, 'y': -1.2308133324528576}. Best is trial 10 with value: 0.8887975540955367.\n",
            "[I 2024-01-24 01:56:52,851] Trial 18 finished with value: 3.953815002531075 and parameters: {'x': 0.4804003217005347, 'y': 0.4227175609955204}. Best is trial 10 with value: 0.8887975540955367.\n",
            "[I 2024-01-24 01:56:52,866] Trial 19 finished with value: 255.0139213857405 and parameters: {'x': -0.29984040350998753, 'y': 1.681520855550227}. Best is trial 10 with value: 0.8887975540955367.\n",
            "[I 2024-01-24 01:56:52,878] Trial 20 finished with value: 1318.7078371861583 and parameters: {'x': 1.9900933292659122, 'y': 0.33041973450830053}. Best is trial 10 with value: 0.8887975540955367.\n",
            "[I 2024-01-24 01:56:52,889] Trial 21 finished with value: 7.253221881368589 and parameters: {'x': 0.22293525686025278, 'y': -0.20816402669368095}. Best is trial 10 with value: 0.8887975540955367.\n",
            "[I 2024-01-24 01:56:52,901] Trial 22 finished with value: 12.756371769787275 and parameters: {'x': 0.45898897539246175, 'y': -0.14236847862871493}. Best is trial 10 with value: 0.8887975540955367.\n",
            "[I 2024-01-24 01:56:52,916] Trial 23 finished with value: 81.24152990609427 and parameters: {'x': -0.07519839975622539, 'y': -0.8892501023662097}. Best is trial 10 with value: 0.8887975540955367.\n",
            "[I 2024-01-24 01:56:52,930] Trial 24 finished with value: 16.90876001763885 and parameters: {'x': 0.23361634051830515, 'y': -0.34942112949729454}. Best is trial 10 with value: 0.8887975540955367.\n",
            "[I 2024-01-24 01:56:52,943] Trial 25 finished with value: 4.537319018875648 and parameters: {'x': 0.8068868989695155, 'y': 0.4389338123196721}. Best is trial 10 with value: 0.8887975540955367.\n",
            "[I 2024-01-24 01:56:52,956] Trial 26 finished with value: 265.84222412222766 and parameters: {'x': -0.2788495994275677, 'y': -1.5476867412832171}. Best is trial 10 with value: 0.8887975540955367.\n",
            "[I 2024-01-24 01:56:52,968] Trial 27 finished with value: 196.99247501074854 and parameters: {'x': 0.08993816101305167, 'y': 1.4086754015862928}. Best is trial 10 with value: 0.8887975540955367.\n",
            "[I 2024-01-24 01:56:52,981] Trial 28 finished with value: 20.433771342803645 and parameters: {'x': 0.6829682779619382, 'y': 0.015521481836861827}. Best is trial 10 with value: 0.8887975540955367.\n",
            "[I 2024-01-24 01:56:52,993] Trial 29 finished with value: 66.94016746332085 and parameters: {'x': -1.150235813829839, 'y': 0.5336334497110379}. Best is trial 10 with value: 0.8887975540955367.\n",
            "[I 2024-01-24 01:56:53,005] Trial 30 finished with value: 916.1384382009854 and parameters: {'x': -1.5577567914744428, 'y': -0.5893452344524477}. Best is trial 10 with value: 0.8887975540955367.\n",
            "[I 2024-01-24 01:56:53,018] Trial 31 finished with value: 10.149906004071603 and parameters: {'x': 0.4601422830119277, 'y': 0.5257127616425818}. Best is trial 10 with value: 0.8887975540955367.\n",
            "[I 2024-01-24 01:56:53,030] Trial 32 finished with value: 8.15277674885035 and parameters: {'x': -0.11401004366889239, 'y': 0.2759005222931548}. Best is trial 10 with value: 0.8887975540955367.\n",
            "[I 2024-01-24 01:56:53,042] Trial 33 finished with value: 17.35775700506086 and parameters: {'x': -0.5551954659904597, 'y': -0.07826962525639486}. Best is trial 10 with value: 0.8887975540955367.\n",
            "[I 2024-01-24 01:56:53,055] Trial 34 finished with value: 29.92697453224495 and parameters: {'x': 1.0966346722662892, 'y': 0.6556374382067611}. Best is trial 10 with value: 0.8887975540955367.\n",
            "[I 2024-01-24 01:56:53,068] Trial 35 finished with value: 52.803264397384986 and parameters: {'x': 0.6230418936772859, 'y': -0.3374989416473169}. Best is trial 10 with value: 0.8887975540955367.\n",
            "[I 2024-01-24 01:56:53,082] Trial 36 finished with value: 132.86343184765235 and parameters: {'x': 0.26288779499567827, 'y': 1.2194147238828208}. Best is trial 10 with value: 0.8887975540955367.\n",
            "[I 2024-01-24 01:56:53,099] Trial 37 finished with value: 916.7271192165005 and parameters: {'x': -1.924066232175152, 'y': 0.6884334210699463}. Best is trial 10 with value: 0.8887975540955367.\n",
            "[I 2024-01-24 01:56:53,114] Trial 38 finished with value: 172.01682889682525 and parameters: {'x': 0.8858469484063085, 'y': -0.5267773684336952}. Best is trial 10 with value: 0.8887975540955367.\n",
            "[I 2024-01-24 01:56:53,132] Trial 39 finished with value: 7.469520782524259 and parameters: {'x': -0.1533184048854443, 'y': 0.2712842045764489}. Best is trial 10 with value: 0.8887975540955367.\n",
            "[I 2024-01-24 01:56:53,148] Trial 40 finished with value: 4.023082602774382 and parameters: {'x': 0.35592739035312815, 'y': -0.06326971555658015}. Best is trial 10 with value: 0.8887975540955367.\n",
            "[I 2024-01-24 01:56:53,161] Trial 41 finished with value: 0.9321450886917692 and parameters: {'x': 0.3422735433157913, 'y': 0.04647296421013586}. Best is trial 10 with value: 0.8887975540955367.\n",
            "[I 2024-01-24 01:56:53,176] Trial 42 finished with value: 22.438844653866905 and parameters: {'x': 0.7044990802737325, 'y': 0.023544971528095794}. Best is trial 10 with value: 0.8887975540955367.\n",
            "[I 2024-01-24 01:56:53,190] Trial 43 finished with value: 4.012361723551121 and parameters: {'x': 0.12921834354290715, 'y': 0.1970886503386747}. Best is trial 10 with value: 0.8887975540955367.\n",
            "[I 2024-01-24 01:56:53,204] Trial 44 finished with value: 3.960314897446637 and parameters: {'x': 1.10513878785731, 'y': 1.0226042704399476}. Best is trial 10 with value: 0.8887975540955367.\n",
            "[I 2024-01-24 01:56:53,218] Trial 45 finished with value: 18.116803742769928 and parameters: {'x': 0.560191132038923, 'y': 0.737174139166002}. Best is trial 10 with value: 0.8887975540955367.\n",
            "[I 2024-01-24 01:56:53,235] Trial 46 finished with value: 7.627821259864288 and parameters: {'x': 0.01843527331010847, 'y': -0.2578142022035579}. Best is trial 10 with value: 0.8887975540955367.\n",
            "[I 2024-01-24 01:56:53,249] Trial 47 finished with value: 173.20450532827505 and parameters: {'x': -0.8342111208466221, 'y': -0.6073192414649629}. Best is trial 10 with value: 0.8887975540955367.\n",
            "[I 2024-01-24 01:56:53,267] Trial 48 finished with value: 109.21846067771412 and parameters: {'x': -0.36831226234704684, 'y': -0.9004261043835313}. Best is trial 10 with value: 0.8887975540955367.\n",
            "[I 2024-01-24 01:56:53,281] Trial 49 finished with value: 18.836302669555124 and parameters: {'x': 0.9227081839996221, 'y': 0.41745112696883424}. Best is trial 10 with value: 0.8887975540955367.\n",
            "[I 2024-01-24 01:56:53,295] Trial 50 finished with value: 0.37512697080693114 and parameters: {'x': 0.387533709457507, 'y': 0.15052898462201414}. Best is trial 50 with value: 0.37512697080693114.\n",
            "[I 2024-01-24 01:56:53,311] Trial 51 finished with value: 1.0624392815602868 and parameters: {'x': 0.45852873147516177, 'y': 0.12254180498226663}. Best is trial 50 with value: 0.37512697080693114.\n",
            "[I 2024-01-24 01:56:53,324] Trial 52 finished with value: 0.6400315722465368 and parameters: {'x': 0.21675319954781874, 'y': 0.0632779679935745}. Best is trial 50 with value: 0.37512697080693114.\n",
            "[I 2024-01-24 01:56:53,337] Trial 53 finished with value: 0.4686676853456912 and parameters: {'x': 0.3160287612242559, 'y': 0.10279141955176832}. Best is trial 50 with value: 0.37512697080693114.\n",
            "[I 2024-01-24 01:56:53,352] Trial 54 finished with value: 0.5735255675451856 and parameters: {'x': 0.31162298247610465, 'y': 0.12867827491669295}. Best is trial 50 with value: 0.37512697080693114.\n",
            "[I 2024-01-24 01:56:53,365] Trial 55 finished with value: 27.02507242659931 and parameters: {'x': 0.32825962830428096, 'y': -0.4077437958562042}. Best is trial 50 with value: 0.37512697080693114.\n",
            "[I 2024-01-24 01:56:53,378] Trial 56 finished with value: 1.75111102252738 and parameters: {'x': -0.23816692088141184, 'y': 0.10341970245200124}. Best is trial 50 with value: 0.37512697080693114.\n",
            "[I 2024-01-24 01:56:53,392] Trial 57 finished with value: 4.358077929822749 and parameters: {'x': 0.06092036484714758, 'y': -0.18273460930733737}. Best is trial 50 with value: 0.37512697080693114.\n",
            "[I 2024-01-24 01:56:53,404] Trial 58 finished with value: 41.326712454734974 and parameters: {'x': -0.5436174733078969, 'y': 0.9195708971201719}. Best is trial 50 with value: 0.37512697080693114.\n",
            "[I 2024-01-24 01:56:53,417] Trial 59 finished with value: 6.494230525711506 and parameters: {'x': 0.7382263137047415, 'y': 0.29148834562365306}. Best is trial 50 with value: 0.37512697080693114.\n",
            "[I 2024-01-24 01:56:53,429] Trial 60 finished with value: 34.91868215578826 and parameters: {'x': 0.32324438012900675, 'y': -0.48254530140393714}. Best is trial 50 with value: 0.37512697080693114.\n",
            "[I 2024-01-24 01:56:53,442] Trial 61 finished with value: 0.7449655594941393 and parameters: {'x': 0.18847796485119722, 'y': 0.006130483764341752}. Best is trial 50 with value: 0.37512697080693114.\n",
            "[I 2024-01-24 01:56:53,454] Trial 62 finished with value: 1.3181884864391005 and parameters: {'x': -0.09845489380340694, 'y': -0.02371102472306133}. Best is trial 50 with value: 0.37512697080693114.\n",
            "[I 2024-01-24 01:56:53,466] Trial 63 finished with value: 6.649832945477202 and parameters: {'x': 0.18861985762430386, 'y': -0.20919785872713026}. Best is trial 50 with value: 0.37512697080693114.\n",
            "[I 2024-01-24 01:56:53,481] Trial 64 finished with value: 16.475746497099678 and parameters: {'x': -0.012178297238796543, 'y': 0.3932289844716812}. Best is trial 50 with value: 0.37512697080693114.\n",
            "[I 2024-01-24 01:56:53,494] Trial 65 finished with value: 15.839178495875283 and parameters: {'x': 0.40024419633897784, 'y': 0.5536350114548869}. Best is trial 50 with value: 0.37512697080693114.\n",
            "[I 2024-01-24 01:56:53,506] Trial 66 finished with value: 2.875059079336949 and parameters: {'x': 0.17634754892243798, 'y': 0.17930964919336112}. Best is trial 50 with value: 0.37512697080693114.\n",
            "[I 2024-01-24 01:56:53,517] Trial 67 finished with value: 19.01514927978854 and parameters: {'x': 0.568692691255339, 'y': -0.11051399996752453}. Best is trial 50 with value: 0.37512697080693114.\n",
            "[I 2024-01-24 01:56:53,528] Trial 68 finished with value: 6.719476951082148 and parameters: {'x': 0.5818039777732069, 'y': 0.08267192444123703}. Best is trial 50 with value: 0.37512697080693114.\n",
            "[I 2024-01-24 01:56:53,539] Trial 69 finished with value: 12.073367805897872 and parameters: {'x': -0.18181117202489439, 'y': -0.29369674683412833}. Best is trial 50 with value: 0.37512697080693114.\n",
            "[I 2024-01-24 01:56:53,550] Trial 70 finished with value: 2.374878001375209 and parameters: {'x': 0.28006031142310084, 'y': 0.21468959795366516}. Best is trial 50 with value: 0.37512697080693114.\n",
            "[I 2024-01-24 01:56:53,561] Trial 71 finished with value: 0.924245637193563 and parameters: {'x': 0.03865672958474753, 'y': 0.0006896463965409168}. Best is trial 50 with value: 0.37512697080693114.\n",
            "[I 2024-01-24 01:56:53,573] Trial 72 finished with value: 1.0266830614200086 and parameters: {'x': -8.992044652222919e-05, 'y': 0.016279815345380436}. Best is trial 50 with value: 0.37512697080693114.\n",
            "[I 2024-01-24 01:56:53,585] Trial 73 finished with value: 12.498619054027532 and parameters: {'x': 0.10232052712964806, 'y': 0.35241671745802106}. Best is trial 50 with value: 0.37512697080693114.\n",
            "[I 2024-01-24 01:56:53,596] Trial 74 finished with value: 15.21145343099589 and parameters: {'x': -0.42180824928910393, 'y': 0.5411014212233642}. Best is trial 50 with value: 0.37512697080693114.\n",
            "[I 2024-01-24 01:56:53,608] Trial 75 finished with value: 9.738197914482244 and parameters: {'x': 0.3979482112877806, 'y': -0.14783538504293986}. Best is trial 50 with value: 0.37512697080693114.\n",
            "[I 2024-01-24 01:56:53,619] Trial 76 finished with value: 25.54489162603786 and parameters: {'x': 0.22986581204107498, 'y': -0.4466793253469817}. Best is trial 50 with value: 0.37512697080693114.\n",
            "[I 2024-01-24 01:56:53,629] Trial 77 finished with value: 42.03176890826731 and parameters: {'x': 0.7678849553291571, 'y': -0.05825617209696525}. Best is trial 50 with value: 0.37512697080693114.\n",
            "[I 2024-01-24 01:56:53,639] Trial 78 finished with value: 398.2443094052551 and parameters: {'x': -0.055630358362888155, 'y': 1.9959067046997112}. Best is trial 50 with value: 0.37512697080693114.\n",
            "[I 2024-01-24 01:56:53,651] Trial 79 finished with value: 99.47322017413136 and parameters: {'x': 0.5051340179563598, 'y': -0.7409737907399775}. Best is trial 50 with value: 0.37512697080693114.\n",
            "[I 2024-01-24 01:56:53,662] Trial 80 finished with value: 51.35251776471119 and parameters: {'x': 0.9736690692642879, 'y': 0.23142958338555888}. Best is trial 50 with value: 0.37512697080693114.\n",
            "[I 2024-01-24 01:56:53,674] Trial 81 finished with value: 0.7201519412857341 and parameters: {'x': 0.1673088664538573, 'y': 0.044356063624813674}. Best is trial 50 with value: 0.37512697080693114.\n",
            "[I 2024-01-24 01:56:53,685] Trial 82 finished with value: 1.6906161150589591 and parameters: {'x': 0.06857748365959093, 'y': 0.09542597808539817}. Best is trial 50 with value: 0.37512697080693114.\n",
            "[I 2024-01-24 01:56:53,696] Trial 83 finished with value: 432.36454079902353 and parameters: {'x': 0.2936941527021531, 'y': -1.9918815477246956}. Best is trial 50 with value: 0.37512697080693114.\n",
            "[I 2024-01-24 01:56:53,708] Trial 84 finished with value: 8.823227468511654 and parameters: {'x': 0.14203415986151646, 'y': -0.26420495495910346}. Best is trial 50 with value: 0.37512697080693114.\n",
            "[I 2024-01-24 01:56:53,719] Trial 85 finished with value: 12.22423121243352 and parameters: {'x': 0.6203140730633838, 'y': 0.03722560103354282}. Best is trial 50 with value: 0.37512697080693114.\n",
            "[I 2024-01-24 01:56:53,730] Trial 86 finished with value: 11.150033864283014 and parameters: {'x': 0.40181241122095257, 'y': 0.4899681369564577}. Best is trial 50 with value: 0.37512697080693114.\n",
            "[I 2024-01-24 01:56:53,741] Trial 87 finished with value: 8.482295675991125 and parameters: {'x': -0.20857564511295362, 'y': 0.30848758388023834}. Best is trial 50 with value: 0.37512697080693114.\n",
            "[I 2024-01-24 01:56:53,753] Trial 88 finished with value: 1.9199213213381423 and parameters: {'x': -0.3401512158838008, 'y': 0.15090455983922296}. Best is trial 50 with value: 0.37512697080693114.\n",
            "[I 2024-01-24 01:56:53,765] Trial 89 finished with value: 2.2230615889519885 and parameters: {'x': -0.07676769638076908, 'y': -0.09723930133718398}. Best is trial 50 with value: 0.37512697080693114.\n",
            "[I 2024-01-24 01:56:53,777] Trial 90 finished with value: 32.001835249725616 and parameters: {'x': 0.2182917416235367, 'y': 0.6079259264761084}. Best is trial 50 with value: 0.37512697080693114.\n",
            "[I 2024-01-24 01:56:53,788] Trial 91 finished with value: 5.301302027828558 and parameters: {'x': 0.45073520323386385, 'y': -0.020435858195736373}. Best is trial 50 with value: 0.37512697080693114.\n",
            "[I 2024-01-24 01:56:53,800] Trial 92 finished with value: 5.278948901321026 and parameters: {'x': 0.08930009441879189, 'y': -0.2029656406501453}. Best is trial 50 with value: 0.37512697080693114.\n",
            "[I 2024-01-24 01:56:53,811] Trial 93 finished with value: 23.955439192165336 and parameters: {'x': 0.34261568623614513, 'y': -0.3676225848401149}. Best is trial 50 with value: 0.37512697080693114.\n",
            "[I 2024-01-24 01:56:53,823] Trial 94 finished with value: 10.79693870619098 and parameters: {'x': 0.19916044768753982, 'y': 0.3583433224413506}. Best is trial 50 with value: 0.37512697080693114.\n",
            "[I 2024-01-24 01:56:53,835] Trial 95 finished with value: 8.426139675041938 and parameters: {'x': 0.6840873229803908, 'y': 0.17942150420842987}. Best is trial 50 with value: 0.37512697080693114.\n",
            "[I 2024-01-24 01:56:53,845] Trial 96 finished with value: 3.304181840310652 and parameters: {'x': 0.48225530328412974, 'y': 0.05832545684133089}. Best is trial 50 with value: 0.37512697080693114.\n",
            "[I 2024-01-24 01:56:53,856] Trial 97 finished with value: 908.0915690436742 and parameters: {'x': 1.8105597462164003, 'y': 0.26576114211930374}. Best is trial 50 with value: 0.37512697080693114.\n",
            "[I 2024-01-24 01:56:53,867] Trial 98 finished with value: 2.753629635638545 and parameters: {'x': 0.024409306150190255, 'y': -0.133637282799007}. Best is trial 50 with value: 0.37512697080693114.\n",
            "[I 2024-01-24 01:56:53,877] Trial 99 finished with value: 28.869754047590604 and parameters: {'x': 0.8157796820263788, 'y': 0.1285065742265537}. Best is trial 50 with value: 0.37512697080693114.\n",
            "[I 2024-01-24 01:56:53,889] Trial 100 finished with value: 15.610925011519162 and parameters: {'x': 0.26737235323648995, 'y': 0.4597428109529845}. Best is trial 50 with value: 0.37512697080693114.\n",
            "[I 2024-01-24 01:56:53,900] Trial 101 finished with value: 1.1131381262415652 and parameters: {'x': -0.003418165354528463, 'y': -0.0325904804415753}. Best is trial 50 with value: 0.37512697080693114.\n",
            "[I 2024-01-24 01:56:53,911] Trial 102 finished with value: 1.4208034214203884 and parameters: {'x': -0.12207245295856123, 'y': 0.0551206882010603}. Best is trial 50 with value: 0.37512697080693114.\n",
            "[I 2024-01-24 01:56:53,922] Trial 103 finished with value: 0.7387698522284868 and parameters: {'x': 0.15744954701365632, 'y': 0.0077966591392481}. Best is trial 50 with value: 0.37512697080693114.\n",
            "[I 2024-01-24 01:56:53,933] Trial 104 finished with value: 5.243113693159734 and parameters: {'x': 0.1471288604593199, 'y': 0.23414924303770682}. Best is trial 50 with value: 0.37512697080693114.\n",
            "[I 2024-01-24 01:56:53,943] Trial 105 finished with value: 17.011165060545864 and parameters: {'x': 0.35360900449584687, 'y': -0.282309953778482}. Best is trial 50 with value: 0.37512697080693114.\n",
            "[I 2024-01-24 01:56:53,954] Trial 106 finished with value: 18.726221330965622 and parameters: {'x': 0.5278867117653603, 'y': -0.15149059596328535}. Best is trial 50 with value: 0.37512697080693114.\n",
            "[I 2024-01-24 01:56:53,965] Trial 107 finished with value: 2.962916765092404 and parameters: {'x': -0.2757215519448341, 'y': -0.039539353324173646}. Best is trial 50 with value: 0.37512697080693114.\n",
            "[I 2024-01-24 01:56:53,976] Trial 108 finished with value: 402.55421548994474 and parameters: {'x': -1.5309273351669255, 'y': 0.35339023876463654}. Best is trial 50 with value: 0.37512697080693114.\n",
            "[I 2024-01-24 01:56:53,988] Trial 109 finished with value: 2.092292012020007 and parameters: {'x': 0.14906702771308017, 'y': 0.1391912779170669}. Best is trial 50 with value: 0.37512697080693114.\n",
            "[I 2024-01-24 01:56:53,999] Trial 110 finished with value: 8.764701157925016 and parameters: {'x': 0.2548988952074485, 'y': -0.22154924868543455}. Best is trial 50 with value: 0.37512697080693114.\n",
            "[I 2024-01-24 01:56:54,012] Trial 111 finished with value: 1.0597575180801406 and parameters: {'x': -0.02232885843482335, 'y': 0.01258213008361507}. Best is trial 50 with value: 0.37512697080693114.\n",
            "[I 2024-01-24 01:56:54,024] Trial 112 finished with value: 1.7761574809189127 and parameters: {'x': 0.057748387680400415, 'y': -0.09091582026946587}. Best is trial 50 with value: 0.37512697080693114.\n",
            "[I 2024-01-24 01:56:54,044] Trial 113 finished with value: 1.4081203446320187 and parameters: {'x': 0.41119531323108416, 'y': 0.06605589050441986}. Best is trial 50 with value: 0.37512697080693114.\n",
            "[I 2024-01-24 01:56:54,059] Trial 114 finished with value: 5.321001540754471 and parameters: {'x': -0.14496089553692676, 'y': 0.22126515532282084}. Best is trial 50 with value: 0.37512697080693114.\n",
            "[I 2024-01-24 01:56:54,072] Trial 115 finished with value: 1.3523673042014692 and parameters: {'x': 0.3278910978254651, 'y': 0.012610679121655574}. Best is trial 50 with value: 0.37512697080693114.\n",
            "[I 2024-01-24 01:56:54,086] Trial 116 finished with value: 244.60166647350889 and parameters: {'x': -0.031783569750190144, 'y': -1.5595572948676293}. Best is trial 50 with value: 0.37512697080693114.\n",
            "[I 2024-01-24 01:56:54,099] Trial 117 finished with value: 2.484050312089438 and parameters: {'x': 0.14054241725243372, 'y': 0.1518651142263608}. Best is trial 50 with value: 0.37512697080693114.\n",
            "[I 2024-01-24 01:56:54,112] Trial 118 finished with value: 55.9105686066599 and parameters: {'x': 0.6319805264357855, 'y': -0.34742810615932623}. Best is trial 50 with value: 0.37512697080693114.\n",
            "[I 2024-01-24 01:56:54,125] Trial 119 finished with value: 6.775503512690243 and parameters: {'x': 0.22876119118692845, 'y': 0.3009417027547764}. Best is trial 50 with value: 0.37512697080693114.\n",
            "[I 2024-01-24 01:56:54,137] Trial 120 finished with value: 11.552779241395358 and parameters: {'x': -0.47053406278661125, 'y': -0.08503380347950489}. Best is trial 50 with value: 0.37512697080693114.\n",
            "[I 2024-01-24 01:56:54,149] Trial 121 finished with value: 1.0099037107999482 and parameters: {'x': 0.025205526091356706, 'y': 0.025064695213218136}. Best is trial 50 with value: 0.37512697080693114.\n",
            "[I 2024-01-24 01:56:54,163] Trial 122 finished with value: 1.867174235008052 and parameters: {'x': 0.0637347761684186, 'y': 0.1035900909105218}. Best is trial 50 with value: 0.37512697080693114.\n",
            "[I 2024-01-24 01:56:54,182] Trial 123 finished with value: 1.313931083621815 and parameters: {'x': 0.3125770494630832, 'y': 0.005977601664660423}. Best is trial 50 with value: 0.37512697080693114.\n",
            "[I 2024-01-24 01:56:54,195] Trial 124 finished with value: 6.12259485789594 and parameters: {'x': 0.18676655750288418, 'y': -0.19881134716050666}. Best is trial 50 with value: 0.37512697080693114.\n",
            "[I 2024-01-24 01:56:54,207] Trial 125 finished with value: 14.282998235497903 and parameters: {'x': -0.20042827403454072, 'y': 0.3985284407033083}. Best is trial 50 with value: 0.37512697080693114.\n",
            "[I 2024-01-24 01:56:54,219] Trial 126 finished with value: 0.47646005895631555 and parameters: {'x': 0.40165633247583465, 'y': 0.19574363637154296}. Best is trial 50 with value: 0.37512697080693114.\n",
            "[I 2024-01-24 01:56:54,234] Trial 127 finished with value: 0.5595372232332338 and parameters: {'x': 0.4082510614267841, 'y': 0.21242594139801413}. Best is trial 50 with value: 0.37512697080693114.\n",
            "[I 2024-01-24 01:56:54,246] Trial 128 finished with value: 1.0576413545610184 and parameters: {'x': 0.5534052514027126, 'y': 0.21361858531231026}. Best is trial 50 with value: 0.37512697080693114.\n",
            "[I 2024-01-24 01:56:54,258] Trial 129 finished with value: 1.7000719699688274 and parameters: {'x': 0.4345771839376163, 'y': 0.3063464350620237}. Best is trial 50 with value: 0.37512697080693114.\n",
            "[I 2024-01-24 01:56:54,269] Trial 130 finished with value: 9.81402041683804 and parameters: {'x': 0.38050070451502105, 'y': 0.4518677614338446}. Best is trial 50 with value: 0.37512697080693114.\n",
            "[I 2024-01-24 01:56:54,285] Trial 131 finished with value: 1.2818518263601262 and parameters: {'x': 0.27654060447958306, 'y': 0.16356421903706267}. Best is trial 50 with value: 0.37512697080693114.\n",
            "[I 2024-01-24 01:56:54,297] Trial 132 finished with value: 1.3754132317825758 and parameters: {'x': 0.1011910036836392, 'y': 0.08557590662662254}. Best is trial 50 with value: 0.37512697080693114.\n",
            "[I 2024-01-24 01:56:54,309] Trial 133 finished with value: 3.0843077937767474 and parameters: {'x': 0.21038189967771304, 'y': -0.11260918088201038}. Best is trial 50 with value: 0.37512697080693114.\n",
            "[I 2024-01-24 01:56:54,321] Trial 134 finished with value: 0.6405660396068742 and parameters: {'x': 0.46778685373918333, 'y': 0.2786003890449673}. Best is trial 50 with value: 0.37512697080693114.\n",
            "[I 2024-01-24 01:56:54,334] Trial 135 finished with value: 0.33591224894852734 and parameters: {'x': 0.5277526533600716, 'y': 0.24492305769164807}. Best is trial 135 with value: 0.33591224894852734.\n",
            "[I 2024-01-24 01:56:54,346] Trial 136 finished with value: 0.23410294716244534 and parameters: {'x': 0.5172244905302175, 'y': 0.2643106368599629}. Best is trial 136 with value: 0.23410294716244534.\n",
            "[I 2024-01-24 01:56:54,358] Trial 137 finished with value: 23.35542268604951 and parameters: {'x': 0.5230145481770343, 'y': 0.7544590496156394}. Best is trial 136 with value: 0.23410294716244534.\n",
            "[I 2024-01-24 01:56:54,369] Trial 138 finished with value: 4.466005326576256 and parameters: {'x': 0.637892309536011, 'y': 0.6151104253091508}. Best is trial 136 with value: 0.23410294716244534.\n",
            "[I 2024-01-24 01:56:54,381] Trial 139 finished with value: 6.044931417272533 and parameters: {'x': 0.7157499791768518, 'y': 0.2680822808873509}. Best is trial 136 with value: 0.23410294716244534.\n",
            "[I 2024-01-24 01:56:54,393] Trial 140 finished with value: 3.6392828681873564 and parameters: {'x': 0.4844601413980683, 'y': 0.4183725713891709}. Best is trial 136 with value: 0.23410294716244534.\n",
            "[I 2024-01-24 01:56:54,404] Trial 141 finished with value: 0.6966507646385873 and parameters: {'x': 0.38342884766824337, 'y': 0.20327519438918473}. Best is trial 136 with value: 0.23410294716244534.\n",
            "[I 2024-01-24 01:56:54,415] Trial 142 finished with value: 0.3551221728049636 and parameters: {'x': 0.4188779266534076, 'y': 0.1886569403005256}. Best is trial 136 with value: 0.23410294716244534.\n",
            "[I 2024-01-24 01:56:54,427] Trial 143 finished with value: 0.1897716362288992 and parameters: {'x': 0.5737052602533667, 'y': 0.3381068008975303}. Best is trial 143 with value: 0.1897716362288992.\n",
            "[I 2024-01-24 01:56:54,438] Trial 144 finished with value: 8.62350036559616 and parameters: {'x': 0.8031019960911585, 'y': 0.351975690855527}. Best is trial 143 with value: 0.1897716362288992.\n",
            "[I 2024-01-24 01:56:54,449] Trial 145 finished with value: 3.7619630809442044 and parameters: {'x': 0.5637718241267111, 'y': 0.5068272423368326}. Best is trial 143 with value: 0.1897716362288992.\n",
            "[I 2024-01-24 01:56:54,461] Trial 146 finished with value: 0.3884436276585954 and parameters: {'x': 0.43102299970781544, 'y': 0.21121875087743291}. Best is trial 143 with value: 0.1897716362288992.\n",
            "[I 2024-01-24 01:56:54,472] Trial 147 finished with value: 2.0397440089518293 and parameters: {'x': 0.6420088168578943, 'y': 0.2739151921173032}. Best is trial 143 with value: 0.1897716362288992.\n",
            "[I 2024-01-24 01:56:54,485] Trial 148 finished with value: 0.3702259028172716 and parameters: {'x': 0.4248712928287547, 'y': 0.2003783627635427}. Best is trial 143 with value: 0.1897716362288992.\n",
            "[I 2024-01-24 01:56:54,496] Trial 149 finished with value: 0.3006134488083365 and parameters: {'x': 0.4519381897425167, 'y': 0.20269345392342858}. Best is trial 143 with value: 0.1897716362288992.\n",
            "[I 2024-01-24 01:56:54,507] Trial 150 finished with value: 3.726714106826694 and parameters: {'x': 0.446350062394105, 'y': 0.3841658231208944}. Best is trial 143 with value: 0.1897716362288992.\n",
            "[I 2024-01-24 01:56:54,518] Trial 151 finished with value: 0.5188630976744812 and parameters: {'x': 0.38117551557163304, 'y': 0.1821620159259695}. Best is trial 143 with value: 0.1897716362288992.\n",
            "[I 2024-01-24 01:56:54,530] Trial 152 finished with value: 1.074997644292087 and parameters: {'x': 0.5131278436145867, 'y': 0.17176040305227275}. Best is trial 143 with value: 0.1897716362288992.\n",
            "[I 2024-01-24 01:56:54,542] Trial 153 finished with value: 1.0807155960662103 and parameters: {'x': 0.38283257042637114, 'y': 0.2302160194892026}. Best is trial 143 with value: 0.1897716362288992.\n",
            "[I 2024-01-24 01:56:54,554] Trial 154 finished with value: 0.18841629106868824 and parameters: {'x': 0.5665397877005598, 'y': 0.32326632087381124}. Best is trial 154 with value: 0.18841629106868824.\n",
            "[I 2024-01-24 01:56:54,565] Trial 155 finished with value: 4.169262669795861 and parameters: {'x': 0.7244060130107894, 'y': 0.32244475416729035}. Best is trial 154 with value: 0.18841629106868824.\n",
            "[I 2024-01-24 01:56:54,576] Trial 156 finished with value: 10.756749897373423 and parameters: {'x': 0.469135034510095, 'y': 0.543737681157682}. Best is trial 154 with value: 0.18841629106868824.\n",
            "[I 2024-01-24 01:56:54,587] Trial 157 finished with value: 3.4681598240412828 and parameters: {'x': 0.5428770027024736, 'y': 0.47524794099817813}. Best is trial 154 with value: 0.18841629106868824.\n",
            "[I 2024-01-24 01:56:54,599] Trial 158 finished with value: 0.2074913272702409 and parameters: {'x': 0.585282741741226, 'y': 0.3613975763914391}. Best is trial 154 with value: 0.18841629106868824.\n",
            "[I 2024-01-24 01:56:54,611] Trial 159 finished with value: 0.23074019298167348 and parameters: {'x': 0.6610023368612574, 'y': 0.40289163756304497}. Best is trial 154 with value: 0.18841629106868824.\n",
            "[I 2024-01-24 01:56:54,623] Trial 160 finished with value: 9.882180751516534 and parameters: {'x': 0.8355083282324169, 'y': 0.3841454606038274}. Best is trial 154 with value: 0.18841629106868824.\n",
            "[I 2024-01-24 01:56:54,635] Trial 161 finished with value: 5.087386208064968 and parameters: {'x': 0.5969236252730662, 'y': 0.1343963047666098}. Best is trial 154 with value: 0.18841629106868824.\n",
            "[I 2024-01-24 01:56:54,646] Trial 162 finished with value: 2.4369095619808707 and parameters: {'x': 0.6800875608852739, 'y': 0.6153119434870002}. Best is trial 154 with value: 0.18841629106868824.\n",
            "[I 2024-01-24 01:56:54,658] Trial 163 finished with value: 0.17541877983668946 and parameters: {'x': 0.5834074064618695, 'y': 0.33604055664018895}. Best is trial 163 with value: 0.17541877983668946.\n",
            "[I 2024-01-24 01:56:54,670] Trial 164 finished with value: 2.118884889443591 and parameters: {'x': 0.7623255237774511, 'y': 0.43752976820309025}. Best is trial 163 with value: 0.17541877983668946.\n",
            "[I 2024-01-24 01:56:54,684] Trial 165 finished with value: 27.425376507249904 and parameters: {'x': 0.9383268364438089, 'y': 0.3568011345992149}. Best is trial 163 with value: 0.17541877983668946.\n",
            "[I 2024-01-24 01:56:54,696] Trial 166 finished with value: 1.8154695160958862 and parameters: {'x': 0.6123952024946708, 'y': 0.24598401409315834}. Best is trial 163 with value: 0.17541877983668946.\n",
            "[I 2024-01-24 01:56:54,708] Trial 167 finished with value: 27.67283130253834 and parameters: {'x': 1.0342150130950807, 'y': 0.5435620955314253}. Best is trial 163 with value: 0.17541877983668946.\n",
            "[I 2024-01-24 01:56:54,720] Trial 168 finished with value: 1.3416080923078393 and parameters: {'x': 0.5391169508385301, 'y': 0.18438350367655576}. Best is trial 163 with value: 0.17541877983668946.\n",
            "[I 2024-01-24 01:56:54,731] Trial 169 finished with value: 1.1485571458508763 and parameters: {'x': 0.6649385111790995, 'y': 0.3403448472101579}. Best is trial 163 with value: 0.17541877983668946.\n",
            "[I 2024-01-24 01:56:54,743] Trial 170 finished with value: 0.5579645730379859 and parameters: {'x': 0.8764439819376373, 'y': 0.6944859814598483}. Best is trial 163 with value: 0.17541877983668946.\n",
            "[I 2024-01-24 01:56:54,754] Trial 171 finished with value: 1.73278063164213 and parameters: {'x': 0.856478739293318, 'y': 0.864406214100012}. Best is trial 163 with value: 0.17541877983668946.\n",
            "[I 2024-01-24 01:56:54,766] Trial 172 finished with value: 80.49983171645371 and parameters: {'x': 1.1632982720975031, 'y': 0.4561945035139335}. Best is trial 163 with value: 0.17541877983668946.\n",
            "[I 2024-01-24 01:56:54,778] Trial 173 finished with value: 28.545928157984886 and parameters: {'x': 0.42238350090611043, 'y': 0.7095602231121331}. Best is trial 163 with value: 0.17541877983668946.\n",
            "[I 2024-01-24 01:56:54,792] Trial 174 finished with value: 3.16615581420649 and parameters: {'x': 0.33058976040716925, 'y': 0.2741545570179669}. Best is trial 163 with value: 0.17541877983668946.\n",
            "[I 2024-01-24 01:56:54,804] Trial 175 finished with value: 29.249227327038096 and parameters: {'x': 0.7313092579718028, 'y': 1.0749709171442314}. Best is trial 163 with value: 0.17541877983668946.\n",
            "[I 2024-01-24 01:56:54,816] Trial 176 finished with value: 5.646915891433145 and parameters: {'x': 0.5924568427797103, 'y': 0.11689350327407688}. Best is trial 163 with value: 0.17541877983668946.\n",
            "[I 2024-01-24 01:56:54,828] Trial 177 finished with value: 0.42086310160454454 and parameters: {'x': 0.4828697366787192, 'y': 0.1939918420101719}. Best is trial 163 with value: 0.17541877983668946.\n",
            "[I 2024-01-24 01:56:54,841] Trial 178 finished with value: 97.21633491950283 and parameters: {'x': 0.4999442574714975, 'y': 1.2346588343201086}. Best is trial 163 with value: 0.17541877983668946.\n",
            "[I 2024-01-24 01:56:54,852] Trial 179 finished with value: 2.860107350625885 and parameters: {'x': 0.604639182902639, 'y': 0.20115627049179777}. Best is trial 163 with value: 0.17541877983668946.\n",
            "[I 2024-01-24 01:56:54,864] Trial 180 finished with value: 1.6962418661702565 and parameters: {'x': 0.41707954144055104, 'y': 0.29042188866241847}. Best is trial 163 with value: 0.17541877983668946.\n",
            "[I 2024-01-24 01:56:54,876] Trial 181 finished with value: 0.7255666072837655 and parameters: {'x': 0.33797685149140966, 'y': 0.16782797510191227}. Best is trial 163 with value: 0.17541877983668946.\n",
            "[I 2024-01-24 01:56:54,888] Trial 182 finished with value: 2.4454353039815704 and parameters: {'x': 0.5044136541475428, 'y': 0.40275135581834276}. Best is trial 163 with value: 0.17541877983668946.\n",
            "[I 2024-01-24 01:56:54,899] Trial 183 finished with value: 11.78930378852183 and parameters: {'x': 0.6794794669673621, 'y': 0.11983608418287253}. Best is trial 163 with value: 0.17541877983668946.\n",
            "[I 2024-01-24 01:56:54,911] Trial 184 finished with value: 2.6509705716697884 and parameters: {'x': 0.29525124357525057, 'y': 0.23394862725264814}. Best is trial 163 with value: 0.17541877983668946.\n",
            "[I 2024-01-24 01:56:54,923] Trial 185 finished with value: 2.4045548805422308 and parameters: {'x': 0.42629823586819304, 'y': 0.32579340696974923}. Best is trial 163 with value: 0.17541877983668946.\n",
            "[I 2024-01-24 01:56:54,935] Trial 186 finished with value: 393.8298477697012 and parameters: {'x': 1.4439042403494997, 'y': 0.10084131829773882}. Best is trial 163 with value: 0.17541877983668946.\n",
            "[I 2024-01-24 01:56:54,948] Trial 187 finished with value: 2.940964623158001 and parameters: {'x': 0.5689811547705019, 'y': 0.4897271256516679}. Best is trial 163 with value: 0.17541877983668946.\n",
            "[I 2024-01-24 01:56:54,961] Trial 188 finished with value: 1.2605918247563368 and parameters: {'x': 0.37442556333926136, 'y': 0.233427996943567}. Best is trial 163 with value: 0.17541877983668946.\n",
            "[I 2024-01-24 01:56:54,974] Trial 189 finished with value: 7.9483975201996895 and parameters: {'x': 0.7813193887852772, 'y': 0.3293803489243349}. Best is trial 163 with value: 0.17541877983668946.\n",
            "[I 2024-01-24 01:56:54,986] Trial 190 finished with value: 2.761719827877031 and parameters: {'x': 0.49463378353544357, 'y': 0.4029763446972833}. Best is trial 163 with value: 0.17541877983668946.\n",
            "[I 2024-01-24 01:56:54,998] Trial 191 finished with value: 0.7224939702393329 and parameters: {'x': 0.27102470899651343, 'y': 0.11716812017518827}. Best is trial 163 with value: 0.17541877983668946.\n",
            "[I 2024-01-24 01:56:55,009] Trial 192 finished with value: 0.38544432824073244 and parameters: {'x': 0.4340129008573636, 'y': 0.2138824742887951}. Best is trial 163 with value: 0.17541877983668946.\n",
            "[I 2024-01-24 01:56:55,021] Trial 193 finished with value: 0.3402720394651429 and parameters: {'x': 0.4421848528276352, 'y': 0.2125903573766102}. Best is trial 163 with value: 0.17541877983668946.\n",
            "[I 2024-01-24 01:56:55,034] Trial 194 finished with value: 0.40235220870558835 and parameters: {'x': 0.4347331671088861, 'y': 0.21777236652675191}. Best is trial 163 with value: 0.17541877983668946.\n",
            "[I 2024-01-24 01:56:55,046] Trial 195 finished with value: 0.20018527905645045 and parameters: {'x': 0.5633374859044479, 'y': 0.30759662188943415}. Best is trial 163 with value: 0.17541877983668946.\n",
            "[I 2024-01-24 01:56:55,058] Trial 196 finished with value: 0.31594185968523125 and parameters: {'x': 0.5783075261950898, 'y': 0.29727545659917365}. Best is trial 163 with value: 0.17541877983668946.\n",
            "[I 2024-01-24 01:56:55,071] Trial 197 finished with value: 0.976305048806337 and parameters: {'x': 0.6391377442243764, 'y': 0.31651425981145975}. Best is trial 163 with value: 0.17541877983668946.\n",
            "[I 2024-01-24 01:56:55,083] Trial 198 finished with value: 1.7309393583864958 and parameters: {'x': 0.5460485654585889, 'y': 0.4216545594226876}. Best is trial 163 with value: 0.17541877983668946.\n",
            "[I 2024-01-24 01:56:55,098] Trial 199 finished with value: 0.5944905709640541 and parameters: {'x': 0.47507520914284884, 'y': 0.2821716289684678}. Best is trial 163 with value: 0.17541877983668946.\n",
            "[I 2024-01-24 01:56:55,110] Trial 200 finished with value: 0.24779223986263801 and parameters: {'x': 0.580643498475471, 'y': 0.3639670819578058}. Best is trial 163 with value: 0.17541877983668946.\n",
            "[I 2024-01-24 01:56:55,122] Trial 201 finished with value: 0.1698869583372153 and parameters: {'x': 0.5945769498879522, 'y': 0.36095081978802873}. Best is trial 201 with value: 0.1698869583372153.\n",
            "[I 2024-01-24 01:56:55,135] Trial 202 finished with value: 1.378138124621851 and parameters: {'x': 0.6787595424570319, 'y': 0.3478011561926122}. Best is trial 201 with value: 0.1698869583372153.\n",
            "[I 2024-01-24 01:56:55,148] Trial 203 finished with value: 2.074142293701914 and parameters: {'x': 0.5977710326678807, 'y': 0.49561810109351107}. Best is trial 201 with value: 0.1698869583372153.\n",
            "[I 2024-01-24 01:56:55,159] Trial 204 finished with value: 5.783794571586461 and parameters: {'x': 0.5765278683501361, 'y': 0.5691219153974102}. Best is trial 201 with value: 0.1698869583372153.\n",
            "[I 2024-01-24 01:56:55,172] Trial 205 finished with value: 1.6509269177492174 and parameters: {'x': 0.7318509850699536, 'y': 0.40994668149434843}. Best is trial 201 with value: 0.1698869583372153.\n",
            "[I 2024-01-24 01:56:55,185] Trial 206 finished with value: 0.25298706262087484 and parameters: {'x': 0.5014342219695263, 'y': 0.25808400609086746}. Best is trial 201 with value: 0.1698869583372153.\n",
            "[I 2024-01-24 01:56:55,197] Trial 207 finished with value: 0.24906081898895843 and parameters: {'x': 0.5082008069113748, 'y': 0.2667500249332831}. Best is trial 201 with value: 0.1698869583372153.\n",
            "[I 2024-01-24 01:56:55,208] Trial 208 finished with value: 2.5297438162895522 and parameters: {'x': 0.6671917299323847, 'y': 0.28961402066702424}. Best is trial 201 with value: 0.1698869583372153.\n",
            "[I 2024-01-24 01:56:55,220] Trial 209 finished with value: 0.5961336027775548 and parameters: {'x': 0.5532408537463422, 'y': 0.3690468538640335}. Best is trial 201 with value: 0.1698869583372153.\n",
            "[I 2024-01-24 01:56:55,232] Trial 210 finished with value: 0.688440501991114 and parameters: {'x': 0.63154565908705, 'y': 0.47319249820342035}. Best is trial 201 with value: 0.1698869583372153.\n",
            "[I 2024-01-24 01:56:55,243] Trial 211 finished with value: 0.25986971287581084 and parameters: {'x': 0.5060999308295048, 'y': 0.2687595147816776}. Best is trial 201 with value: 0.1698869583372153.\n",
            "[I 2024-01-24 01:56:55,255] Trial 212 finished with value: 0.27187067343790966 and parameters: {'x': 0.5063390593990369, 'y': 0.2731630296431463}. Best is trial 201 with value: 0.1698869583372153.\n",
            "[I 2024-01-24 01:56:55,267] Trial 213 finished with value: 0.25826803254004754 and parameters: {'x': 0.5260550391299125, 'y': 0.29507626135053866}. Best is trial 201 with value: 0.1698869583372153.\n",
            "[I 2024-01-24 01:56:55,278] Trial 214 finished with value: 0.3860629047826394 and parameters: {'x': 0.5474541589114758, 'y': 0.3422813032016632}. Best is trial 201 with value: 0.1698869583372153.\n",
            "[I 2024-01-24 01:56:55,290] Trial 215 finished with value: 5.165014897068626 and parameters: {'x': 0.7124819006799659, 'y': 0.2821898182804129}. Best is trial 201 with value: 0.1698869583372153.\n",
            "[I 2024-01-24 01:56:55,302] Trial 216 finished with value: 2.0990069470697867 and parameters: {'x': 0.5254772926553023, 'y': 0.4130144834571623}. Best is trial 201 with value: 0.1698869583372153.\n",
            "[I 2024-01-24 01:56:55,313] Trial 217 finished with value: 1.1207723802593175 and parameters: {'x': 0.620673706893689, 'y': 0.2863984109834883}. Best is trial 201 with value: 0.1698869583372153.\n",
            "[I 2024-01-24 01:56:55,326] Trial 218 finished with value: 1.491511530978703 and parameters: {'x': 0.4977544974274378, 'y': 0.35908163931773485}. Best is trial 201 with value: 0.1698869583372153.\n",
            "[I 2024-01-24 01:56:55,338] Trial 219 finished with value: 1.6425716241353079 and parameters: {'x': 0.5948788538116905, 'y': 0.4754723175611968}. Best is trial 201 with value: 0.1698869583372153.\n",
            "[I 2024-01-24 01:56:55,351] Trial 220 finished with value: 11.5008652614117 and parameters: {'x': 0.7801015445736307, 'y': 0.27014284794213983}. Best is trial 201 with value: 0.1698869583372153.\n",
            "[I 2024-01-24 01:56:55,364] Trial 221 finished with value: 0.6464180204412898 and parameters: {'x': 0.5359214460233437, 'y': 0.3528661271763414}. Best is trial 201 with value: 0.1698869583372153.\n",
            "[I 2024-01-24 01:56:55,376] Trial 222 finished with value: 1.684406660114755 and parameters: {'x': 0.48076932594607014, 'y': 0.35008476962654733}. Best is trial 201 with value: 0.1698869583372153.\n",
            "[I 2024-01-24 01:56:55,389] Trial 223 finished with value: 0.7656756845372505 and parameters: {'x': 0.5745783381390906, 'y': 0.25367510503871316}. Best is trial 201 with value: 0.1698869583372153.\n",
            "[I 2024-01-24 01:56:55,403] Trial 224 finished with value: 0.2889460592061165 and parameters: {'x': 0.6924448081457873, 'y': 0.4353940024602955}. Best is trial 201 with value: 0.1698869583372153.\n",
            "[I 2024-01-24 01:56:55,415] Trial 225 finished with value: 1.170074055929009 and parameters: {'x': 0.6787248462529181, 'y': 0.5639561545217072}. Best is trial 201 with value: 0.1698869583372153.\n",
            "[I 2024-01-24 01:56:55,428] Trial 226 finished with value: 0.8812938625874913 and parameters: {'x': 0.7383856419785358, 'y': 0.45505506269235907}. Best is trial 201 with value: 0.1698869583372153.\n",
            "[I 2024-01-24 01:56:55,441] Trial 227 finished with value: 6.053677600088049 and parameters: {'x': 0.6443635180098694, 'y': 0.17174592198913238}. Best is trial 201 with value: 0.1698869583372153.\n",
            "[I 2024-01-24 01:56:55,454] Trial 228 finished with value: 5.75186904089314 and parameters: {'x': 0.44277368751586743, 'y': 0.4293159359405551}. Best is trial 201 with value: 0.1698869583372153.\n",
            "[I 2024-01-24 01:56:55,466] Trial 229 finished with value: 15.211724071927275 and parameters: {'x': 0.8054933447740059, 'y': 0.25928273646449834}. Best is trial 201 with value: 0.1698869583372153.\n",
            "[I 2024-01-24 01:56:55,478] Trial 230 finished with value: 1.324646572113946 and parameters: {'x': 0.520425294248795, 'y': 0.16621674084080595}. Best is trial 201 with value: 0.1698869583372153.\n",
            "[I 2024-01-24 01:56:55,491] Trial 231 finished with value: 0.1861413702327391 and parameters: {'x': 0.5782962054144024, 'y': 0.3435409292450425}. Best is trial 201 with value: 0.1698869583372153.\n",
            "[I 2024-01-24 01:56:55,503] Trial 232 finished with value: 0.1614114552258591 and parameters: {'x': 0.613186205484427, 'y': 0.38685390750985293}. Best is trial 232 with value: 0.1614114552258591.\n",
            "[I 2024-01-24 01:56:55,515] Trial 233 finished with value: 0.4541826751489564 and parameters: {'x': 0.6399896562204647, 'y': 0.3526152560061311}. Best is trial 232 with value: 0.1614114552258591.\n",
            "[I 2024-01-24 01:56:55,527] Trial 234 finished with value: 0.15542883368362048 and parameters: {'x': 0.7069900530478812, 'y': 0.526211819813011}. Best is trial 234 with value: 0.15542883368362048.\n",
            "[I 2024-01-24 01:56:55,539] Trial 235 finished with value: 0.39509856300719626 and parameters: {'x': 0.7348933595904874, 'y': 0.4830755283104957}. Best is trial 234 with value: 0.15542883368362048.\n",
            "[I 2024-01-24 01:56:55,552] Trial 236 finished with value: 6.280335292051169 and parameters: {'x': 0.5880320401202513, 'y': 0.5929783163518387}. Best is trial 234 with value: 0.15542883368362048.\n",
            "[I 2024-01-24 01:56:55,566] Trial 237 finished with value: 0.6033007336980251 and parameters: {'x': 0.6945851089765969, 'y': 0.41103261556641285}. Best is trial 234 with value: 0.15542883368362048.\n",
            "[I 2024-01-24 01:56:55,579] Trial 238 finished with value: 2.3981718257218465 and parameters: {'x': 0.8063192909499065, 'y': 0.4965064170670591}. Best is trial 234 with value: 0.15542883368362048.\n",
            "[I 2024-01-24 01:56:55,592] Trial 239 finished with value: 0.16983592568953157 and parameters: {'x': 0.6101782529208218, 'y': 0.3856872165624937}. Best is trial 234 with value: 0.15542883368362048.\n",
            "[I 2024-01-24 01:56:55,605] Trial 240 finished with value: 6.2437056759754945 and parameters: {'x': 0.635980246581871, 'y': 0.6516791929779449}. Best is trial 234 with value: 0.15542883368362048.\n",
            "[I 2024-01-24 01:56:55,617] Trial 241 finished with value: 0.7103772419216243 and parameters: {'x': 0.5594526142474436, 'y': 0.3848409152339733}. Best is trial 234 with value: 0.15542883368362048.\n",
            "[I 2024-01-24 01:56:55,630] Trial 242 finished with value: 0.7248172504020585 and parameters: {'x': 0.4980402397589753, 'y': 0.3168084352478846}. Best is trial 234 with value: 0.15542883368362048.\n",
            "[I 2024-01-24 01:56:55,642] Trial 243 finished with value: 0.47941212779719655 and parameters: {'x': 0.6900737988671085, 'y': 0.5381177487201094}. Best is trial 234 with value: 0.15542883368362048.\n",
            "[I 2024-01-24 01:56:55,655] Trial 244 finished with value: 0.4827775146568982 and parameters: {'x': 0.5939255922653676, 'y': 0.40912855362725165}. Best is trial 234 with value: 0.15542883368362048.\n",
            "[I 2024-01-24 01:56:55,667] Trial 245 finished with value: 0.4739179514496003 and parameters: {'x': 0.4955946147874404, 'y': 0.29246411919854504}. Best is trial 234 with value: 0.15542883368362048.\n",
            "[I 2024-01-24 01:56:55,680] Trial 246 finished with value: 1.2466041062400446 and parameters: {'x': 0.6335650318427095, 'y': 0.29593761584522293}. Best is trial 234 with value: 0.15542883368362048.\n",
            "[I 2024-01-24 01:56:55,693] Trial 247 finished with value: 1.2466611069497302 and parameters: {'x': 0.5503533607888315, 'y': 0.4050885774453515}. Best is trial 234 with value: 0.15542883368362048.\n",
            "[I 2024-01-24 01:56:55,706] Trial 248 finished with value: 0.15986914240325803 and parameters: {'x': 0.7399622828093585, 'y': 0.5171715725781184}. Best is trial 234 with value: 0.15542883368362048.\n",
            "[I 2024-01-24 01:56:55,718] Trial 249 finished with value: 0.056570121876125395 and parameters: {'x': 0.7711897325630622, 'y': 0.5882405431677511}. Best is trial 249 with value: 0.056570121876125395.\n",
            "[I 2024-01-24 01:56:55,730] Trial 250 finished with value: 4.003285127872015 and parameters: {'x': 0.9163999952706193, 'y': 0.6398815685998553}. Best is trial 249 with value: 0.056570121876125395.\n",
            "[I 2024-01-24 01:56:55,742] Trial 251 finished with value: 2.58059694343089 and parameters: {'x': 0.7781706552648742, 'y': 0.7646529528794119}. Best is trial 249 with value: 0.056570121876125395.\n",
            "[I 2024-01-24 01:56:55,755] Trial 252 finished with value: 2.5643501595016986 and parameters: {'x': 0.8392102976128724, 'y': 0.5449473146959304}. Best is trial 249 with value: 0.056570121876125395.\n",
            "[I 2024-01-24 01:56:55,768] Trial 253 finished with value: 0.22309353017129277 and parameters: {'x': 0.750000117063151, 'y': 0.5224260456974043}. Best is trial 249 with value: 0.056570121876125395.\n",
            "[I 2024-01-24 01:56:55,781] Trial 254 finished with value: 16.647986085863497 and parameters: {'x': 1.0041197925619707, 'y': 0.6002373289397224}. Best is trial 249 with value: 0.056570121876125395.\n",
            "[I 2024-01-24 01:56:55,794] Trial 255 finished with value: 0.5064190413915091 and parameters: {'x': 0.7569403156773622, 'y': 0.5060750836342094}. Best is trial 249 with value: 0.056570121876125395.\n",
            "[I 2024-01-24 01:56:55,808] Trial 256 finished with value: 5.687864269844789 and parameters: {'x': 0.8479218367400173, 'y': 0.48096437195361486}. Best is trial 249 with value: 0.056570121876125395.\n",
            "[I 2024-01-24 01:56:55,822] Trial 257 finished with value: 0.2764370255489268 and parameters: {'x': 0.7158526830076848, 'y': 0.5566827544634358}. Best is trial 249 with value: 0.056570121876125395.\n",
            "[I 2024-01-24 01:56:55,834] Trial 258 finished with value: 7.31273562924998 and parameters: {'x': 0.9035331174136063, 'y': 0.5461235092564185}. Best is trial 249 with value: 0.056570121876125395.\n",
            "[I 2024-01-24 01:56:55,847] Trial 259 finished with value: 2.1695417993280888 and parameters: {'x': 0.7230236795107832, 'y': 0.6674292674565762}. Best is trial 249 with value: 0.056570121876125395.\n",
            "[I 2024-01-24 01:56:55,860] Trial 260 finished with value: 1.8877725094370863 and parameters: {'x': 0.6976461354546135, 'y': 0.6207382859400418}. Best is trial 249 with value: 0.056570121876125395.\n",
            "[I 2024-01-24 01:56:55,873] Trial 261 finished with value: 3.290626981075492 and parameters: {'x': 0.7981806580330257, 'y': 0.45681768537160744}. Best is trial 249 with value: 0.056570121876125395.\n",
            "[I 2024-01-24 01:56:55,885] Trial 262 finished with value: 0.5942579065640493 and parameters: {'x': 0.6812281517176788, 'y': 0.5342602848678355}. Best is trial 249 with value: 0.056570121876125395.\n",
            "[I 2024-01-24 01:56:55,898] Trial 263 finished with value: 16.149710193041983 and parameters: {'x': 0.6347390868284701, 'y': 0.8030973397450463}. Best is trial 249 with value: 0.056570121876125395.\n",
            "[I 2024-01-24 01:56:55,911] Trial 264 finished with value: 1.8563520648357317 and parameters: {'x': 0.7500559225768818, 'y': 0.42864808061524234}. Best is trial 249 with value: 0.056570121876125395.\n",
            "[I 2024-01-24 01:56:55,923] Trial 265 finished with value: 0.21120449362030191 and parameters: {'x': 0.6248732944281918, 'y': 0.36391772669448236}. Best is trial 249 with value: 0.056570121876125395.\n",
            "[I 2024-01-24 01:56:55,935] Trial 266 finished with value: 10.563856041021278 and parameters: {'x': 0.8488232758405858, 'y': 0.39583186608894705}. Best is trial 249 with value: 0.056570121876125395.\n",
            "[I 2024-01-24 01:56:55,949] Trial 267 finished with value: 5.76349450509293 and parameters: {'x': 0.6810132285219291, 'y': 0.7017231693717448}. Best is trial 249 with value: 0.056570121876125395.\n",
            "[I 2024-01-24 01:56:55,962] Trial 268 finished with value: 0.06095222260698645 and parameters: {'x': 0.7568940669392612, 'y': 0.5771917993960396}. Best is trial 249 with value: 0.056570121876125395.\n",
            "[I 2024-01-24 01:56:55,975] Trial 269 finished with value: 4.442196927977058 and parameters: {'x': 0.8975839573118234, 'y': 0.5951407405691878}. Best is trial 249 with value: 0.056570121876125395.\n",
            "[I 2024-01-24 01:56:55,988] Trial 270 finished with value: 0.1320892349409616 and parameters: {'x': 0.7427602173692868, 'y': 0.5260184480774537}. Best is trial 249 with value: 0.056570121876125395.\n",
            "[I 2024-01-24 01:56:56,004] Trial 271 finished with value: 17.19611697925683 and parameters: {'x': 0.9737710455801134, 'y': 0.5335563338482552}. Best is trial 249 with value: 0.056570121876125395.\n",
            "[I 2024-01-24 01:56:56,017] Trial 272 finished with value: 0.786237087958939 and parameters: {'x': 0.8354648578868404, 'y': 0.610871437809677}. Best is trial 249 with value: 0.056570121876125395.\n",
            "[I 2024-01-24 01:56:56,030] Trial 273 finished with value: 1.3264200373811244 and parameters: {'x': 0.7550903493549893, 'y': 0.6826976209985687}. Best is trial 249 with value: 0.056570121876125395.\n",
            "[I 2024-01-24 01:56:56,043] Trial 274 finished with value: 0.47987986478504785 and parameters: {'x': 0.7451349135863712, 'y': 0.49081147179856854}. Best is trial 249 with value: 0.056570121876125395.\n",
            "[I 2024-01-24 01:56:56,057] Trial 275 finished with value: 3.0709048170495135 and parameters: {'x': 0.6155068561622165, 'y': 0.5498185656740362}. Best is trial 249 with value: 0.056570121876125395.\n",
            "[I 2024-01-24 01:56:56,071] Trial 276 finished with value: 0.1683886710694297 and parameters: {'x': 0.6011538342554248, 'y': 0.3710349775431582}. Best is trial 249 with value: 0.056570121876125395.\n",
            "[I 2024-01-24 01:56:56,084] Trial 277 finished with value: 0.1830837858653358 and parameters: {'x': 0.6170595708248906, 'y': 0.3616731416236225}. Best is trial 249 with value: 0.056570121876125395.\n",
            "[I 2024-01-24 01:56:56,097] Trial 278 finished with value: 0.15218218416386353 and parameters: {'x': 0.6242353303684629, 'y': 0.3791897203803715}. Best is trial 249 with value: 0.056570121876125395.\n",
            "[I 2024-01-24 01:56:56,111] Trial 279 finished with value: 0.1969190093701697 and parameters: {'x': 0.6248738741700952, 'y': 0.3667609461777123}. Best is trial 249 with value: 0.056570121876125395.\n",
            "[I 2024-01-24 01:56:56,124] Trial 280 finished with value: 0.19955331994825776 and parameters: {'x': 0.6486156769341129, 'y': 0.44828533054366093}. Best is trial 249 with value: 0.056570121876125395.\n",
            "[I 2024-01-24 01:56:56,137] Trial 281 finished with value: 2.792412104164284 and parameters: {'x': 0.7909751125106718, 'y': 0.4598489659094977}. Best is trial 249 with value: 0.056570121876125395.\n",
            "[I 2024-01-24 01:56:56,150] Trial 282 finished with value: 15.668357868981847 and parameters: {'x': -0.8797960706684389, 'y': 0.4256918098787307}. Best is trial 249 with value: 0.056570121876125395.\n",
            "[I 2024-01-24 01:56:56,164] Trial 283 finished with value: 0.1485486609492085 and parameters: {'x': 0.6187474283796826, 'y': 0.3771958253216912}. Best is trial 249 with value: 0.056570121876125395.\n",
            "[I 2024-01-24 01:56:56,177] Trial 284 finished with value: 0.2757400435764503 and parameters: {'x': 0.6424290034225253, 'y': 0.37425946229420715}. Best is trial 249 with value: 0.056570121876125395.\n",
            "[I 2024-01-24 01:56:56,191] Trial 285 finished with value: 0.2448149589030869 and parameters: {'x': 0.6882200346485522, 'y': 0.5120666302646221}. Best is trial 249 with value: 0.056570121876125395.\n",
            "[I 2024-01-24 01:56:56,203] Trial 286 finished with value: 0.06642606327295811 and parameters: {'x': 0.7930491403706603, 'y': 0.6442883859053693}. Best is trial 249 with value: 0.056570121876125395.\n",
            "[I 2024-01-24 01:56:56,215] Trial 287 finished with value: 1.4684839862882273 and parameters: {'x': 0.8940463070883163, 'y': 0.678601865805971}. Best is trial 249 with value: 0.056570121876125395.\n",
            "[I 2024-01-24 01:56:56,228] Trial 288 finished with value: 25.417034454627505 and parameters: {'x': 1.0589482919642643, 'y': 0.6172528526518769}. Best is trial 249 with value: 0.056570121876125395.\n",
            "[I 2024-01-24 01:56:56,240] Trial 289 finished with value: 2.6159002599161143 and parameters: {'x': 0.7841063657927221, 'y': 0.45453273708327757}. Best is trial 249 with value: 0.056570121876125395.\n",
            "[I 2024-01-24 01:56:56,253] Trial 290 finished with value: 3.4745202840159912 and parameters: {'x': 0.8419416328836061, 'y': 0.5231363984098293}. Best is trial 249 with value: 0.056570121876125395.\n",
            "[I 2024-01-24 01:56:56,266] Trial 291 finished with value: 15.488699372811597 and parameters: {'x': 0.6377240958079055, 'y': 0.7985779182933891}. Best is trial 249 with value: 0.056570121876125395.\n",
            "[I 2024-01-24 01:56:56,279] Trial 292 finished with value: 310.58246068188856 and parameters: {'x': 0.728540581473542, 'y': -1.231354526029218}. Best is trial 249 with value: 0.056570121876125395.\n",
            "[I 2024-01-24 01:56:56,291] Trial 293 finished with value: 575.1335356221193 and parameters: {'x': 1.6673483644663913, 'y': 0.38278508093305746}. Best is trial 249 with value: 0.056570121876125395.\n",
            "[I 2024-01-24 01:56:56,303] Trial 294 finished with value: 16.074155121077965 and parameters: {'x': 0.9303416357547771, 'y': 0.4646702098387035}. Best is trial 249 with value: 0.056570121876125395.\n",
            "[I 2024-01-24 01:56:56,317] Trial 295 finished with value: 38.358012467907 and parameters: {'x': 1.1600051710923198, 'y': 0.7264802596615755}. Best is trial 249 with value: 0.056570121876125395.\n",
            "[I 2024-01-24 01:56:56,331] Trial 296 finished with value: 3.485593917760934 and parameters: {'x': 0.6569182394073347, 'y': 0.6150596602032488}. Best is trial 249 with value: 0.056570121876125395.\n",
            "[I 2024-01-24 01:56:56,343] Trial 297 finished with value: 8.951082229194325 and parameters: {'x': 0.7844330832137134, 'y': 0.9137412461219531}. Best is trial 249 with value: 0.056570121876125395.\n",
            "[I 2024-01-24 01:56:56,356] Trial 298 finished with value: 0.1659605607450189 and parameters: {'x': 0.6096208528127772, 'y': 0.38328433574261483}. Best is trial 249 with value: 0.056570121876125395.\n",
            "[I 2024-01-24 01:56:56,369] Trial 299 finished with value: 1.419975518762927 and parameters: {'x': 0.6182281447796072, 'y': 0.4950876481872858}. Best is trial 249 with value: 0.056570121876125395.\n",
            "[I 2024-01-24 01:56:56,381] Trial 300 finished with value: 2.2104749865822613 and parameters: {'x': 0.7236799635942912, 'y': 0.3776263377079641}. Best is trial 249 with value: 0.056570121876125395.\n",
            "[I 2024-01-24 01:56:56,395] Trial 301 finished with value: 1.6418982251824938 and parameters: {'x': 0.8457583289744618, 'y': 0.5881022874394108}. Best is trial 249 with value: 0.056570121876125395.\n",
            "[I 2024-01-24 01:56:56,408] Trial 302 finished with value: 0.4862475215625153 and parameters: {'x': 0.6187166918602457, 'y': 0.4411944659579589}. Best is trial 249 with value: 0.056570121876125395.\n",
            "[I 2024-01-24 01:56:56,421] Trial 303 finished with value: 1.8464954098985702 and parameters: {'x': 0.6978585967272132, 'y': 0.35452243395731886}. Best is trial 249 with value: 0.056570121876125395.\n",
            "[I 2024-01-24 01:56:56,434] Trial 304 finished with value: 0.4677931809873554 and parameters: {'x': 0.7806766215205511, 'y': 0.5446724681388804}. Best is trial 249 with value: 0.056570121876125395.\n",
            "[I 2024-01-24 01:56:56,447] Trial 305 finished with value: 0.8731570356645213 and parameters: {'x': 0.5967521370760637, 'y': 0.4404071340500976}. Best is trial 249 with value: 0.056570121876125395.\n",
            "[I 2024-01-24 01:56:56,461] Trial 306 finished with value: 3.8303570192871885 and parameters: {'x': 0.6731089536467044, 'y': 0.6460393715464804}. Best is trial 249 with value: 0.056570121876125395.\n",
            "[I 2024-01-24 01:56:56,476] Trial 307 finished with value: 5.117383384983183 and parameters: {'x': 0.759123281739174, 'y': 0.3513379056541443}. Best is trial 249 with value: 0.056570121876125395.\n",
            "[I 2024-01-24 01:56:56,491] Trial 308 finished with value: 2.1922250355913606 and parameters: {'x': 0.5922104750338462, 'y': 0.49304851077930745}. Best is trial 249 with value: 0.056570121876125395.\n",
            "[I 2024-01-24 01:56:56,505] Trial 309 finished with value: 0.14381705599882205 and parameters: {'x': 0.8703469160170274, 'y': 0.7218656939739614}. Best is trial 249 with value: 0.056570121876125395.\n",
            "[I 2024-01-24 01:56:56,519] Trial 310 finished with value: 0.32855830598512786 and parameters: {'x': 0.8875158889634616, 'y': 0.7314789702672979}. Best is trial 249 with value: 0.056570121876125395.\n",
            "[I 2024-01-24 01:56:56,534] Trial 311 finished with value: 1.8406002649091397 and parameters: {'x': 0.9854902296208057, 'y': 0.835530028083507}. Best is trial 249 with value: 0.056570121876125395.\n",
            "[I 2024-01-24 01:56:56,549] Trial 312 finished with value: 0.7827508480080826 and parameters: {'x': 0.8097216964811264, 'y': 0.742052062234536}. Best is trial 249 with value: 0.056570121876125395.\n",
            "[I 2024-01-24 01:56:56,564] Trial 313 finished with value: 535.2010870848051 and parameters: {'x': -1.7118427030421115, 'y': 0.6329133371673893}. Best is trial 249 with value: 0.056570121876125395.\n",
            "[I 2024-01-24 01:56:56,577] Trial 314 finished with value: 7.450572733901709 and parameters: {'x': 0.9151887344600008, 'y': 0.5647448383463773}. Best is trial 249 with value: 0.056570121876125395.\n",
            "[I 2024-01-24 01:56:56,590] Trial 315 finished with value: 3.2980259723114482 and parameters: {'x': 0.7154320669035699, 'y': 0.6912043275791453}. Best is trial 249 with value: 0.056570121876125395.\n",
            "[I 2024-01-24 01:56:56,608] Trial 316 finished with value: 3.286987399050667 and parameters: {'x': 0.8227440792875513, 'y': 0.49647590105202466}. Best is trial 249 with value: 0.056570121876125395.\n",
            "[I 2024-01-24 01:56:56,621] Trial 317 finished with value: 0.23265791344599754 and parameters: {'x': 0.6184301965484417, 'y': 0.3529495699482251}. Best is trial 249 with value: 0.056570121876125395.\n",
            "[I 2024-01-24 01:56:56,634] Trial 318 finished with value: 1.0649301809568743 and parameters: {'x': 0.7231745194368018, 'y': 0.42356821569729236}. Best is trial 249 with value: 0.056570121876125395.\n",
            "[I 2024-01-24 01:56:56,647] Trial 319 finished with value: 4.664399781379729 and parameters: {'x': 0.5650765208026178, 'y': 0.5308591368080581}. Best is trial 249 with value: 0.056570121876125395.\n",
            "[I 2024-01-24 01:56:56,670] Trial 320 finished with value: 1.0822091394073101 and parameters: {'x': 0.9871926372688296, 'y': 0.8705279057180522}. Best is trial 249 with value: 0.056570121876125395.\n",
            "[I 2024-01-24 01:56:56,687] Trial 321 finished with value: 2.460295200452408 and parameters: {'x': 0.6683473752892534, 'y': 0.5999951524826715}. Best is trial 249 with value: 0.056570121876125395.\n",
            "[I 2024-01-24 01:56:56,701] Trial 322 finished with value: 11.111979353159583 and parameters: {'x': 0.822204966288639, 'y': 0.3431491351564559}. Best is trial 249 with value: 0.056570121876125395.\n",
            "[I 2024-01-24 01:56:56,715] Trial 323 finished with value: 1.2439750426862983 and parameters: {'x': 0.559132719439113, 'y': 0.41507992667305826}. Best is trial 249 with value: 0.056570121876125395.\n",
            "[I 2024-01-24 01:56:56,728] Trial 324 finished with value: 0.46963550281579663 and parameters: {'x': 0.7325067316732539, 'y': 0.4734723044679524}. Best is trial 249 with value: 0.056570121876125395.\n",
            "[I 2024-01-24 01:56:56,741] Trial 325 finished with value: 0.8780080220723148 and parameters: {'x': 0.8781525226474016, 'y': 0.6782453831639003}. Best is trial 249 with value: 0.056570121876125395.\n",
            "[I 2024-01-24 01:56:56,756] Trial 326 finished with value: 0.24126642035504775 and parameters: {'x': 0.6182575322859999, 'y': 0.3513329749564839}. Best is trial 249 with value: 0.056570121876125395.\n",
            "[I 2024-01-24 01:56:56,770] Trial 327 finished with value: 112.68585221979613 and parameters: {'x': 0.6803474198799043, 'y': 1.523927155329695}. Best is trial 249 with value: 0.056570121876125395.\n",
            "[I 2024-01-24 01:56:56,784] Trial 328 finished with value: 3.8172972301306065 and parameters: {'x': 0.7708284472137863, 'y': 0.7882068439365575}. Best is trial 249 with value: 0.056570121876125395.\n",
            "[I 2024-01-24 01:56:56,800] Trial 329 finished with value: 5.777995749144805 and parameters: {'x': 0.5763206410506738, 'y': 0.5687567986539093}. Best is trial 249 with value: 0.056570121876125395.\n",
            "[I 2024-01-24 01:56:56,814] Trial 330 finished with value: 0.11301500780640235 and parameters: {'x': 0.6643990798197179, 'y': 0.4394588290013133}. Best is trial 249 with value: 0.056570121876125395.\n",
            "[I 2024-01-24 01:56:56,828] Trial 331 finished with value: 0.17821815872192526 and parameters: {'x': 0.5780991308579849, 'y': 0.335674461931711}. Best is trial 249 with value: 0.056570121876125395.\n",
            "[I 2024-01-24 01:56:56,843] Trial 332 finished with value: 1.490857521034344 and parameters: {'x': 0.5698026220577121, 'y': 0.4389460978041808}. Best is trial 249 with value: 0.056570121876125395.\n",
            "[I 2024-01-24 01:56:56,857] Trial 333 finished with value: 1.5562724897573696 and parameters: {'x': 0.6741425680411224, 'y': 0.33404854319343935}. Best is trial 249 with value: 0.056570121876125395.\n",
            "[I 2024-01-24 01:56:56,871] Trial 334 finished with value: 2.4538247491890357 and parameters: {'x': 0.5311526270146626, 'y': 0.43158905880543713}. Best is trial 249 with value: 0.056570121876125395.\n",
            "[I 2024-01-24 01:56:56,887] Trial 335 finished with value: 132.60879259184713 and parameters: {'x': -1.2012791786671464, 'y': 0.31274798327434106}. Best is trial 249 with value: 0.056570121876125395.\n",
            "[I 2024-01-24 01:56:56,902] Trial 336 finished with value: 0.13511869479398944 and parameters: {'x': 0.6692226439435897, 'y': 0.46389173716557314}. Best is trial 249 with value: 0.056570121876125395.\n",
            "[I 2024-01-24 01:56:56,916] Trial 337 finished with value: 0.6137453199166112 and parameters: {'x': 0.8121115208414647, 'y': 0.5834696662453519}. Best is trial 249 with value: 0.056570121876125395.\n",
            "[I 2024-01-24 01:56:56,932] Trial 338 finished with value: 66.81198516929157 and parameters: {'x': 1.34267750837782, 'y': 0.9861155339183223}. Best is trial 249 with value: 0.056570121876125395.\n",
            "[I 2024-01-24 01:56:56,947] Trial 339 finished with value: 15.35778764307011 and parameters: {'x': 0.94219582324659, 'y': 0.495885469412288}. Best is trial 249 with value: 0.056570121876125395.\n",
            "[I 2024-01-24 01:56:56,962] Trial 340 finished with value: 0.26310160539773986 and parameters: {'x': 0.6787165928542995, 'y': 0.42067139408508425}. Best is trial 249 with value: 0.056570121876125395.\n",
            "[I 2024-01-24 01:56:56,976] Trial 341 finished with value: 0.26754640739840785 and parameters: {'x': 0.7581001589385825, 'y': 0.620435745371566}. Best is trial 249 with value: 0.056570121876125395.\n",
            "[I 2024-01-24 01:56:56,990] Trial 342 finished with value: 0.7753643933221464 and parameters: {'x': 0.6363996184344338, 'y': 0.48520167852465634}. Best is trial 249 with value: 0.056570121876125395.\n",
            "[I 2024-01-24 01:56:57,005] Trial 343 finished with value: 0.7132957099989401 and parameters: {'x': 0.47612765656274436, 'y': 0.29294356241518543}. Best is trial 249 with value: 0.056570121876125395.\n",
            "[I 2024-01-24 01:56:57,019] Trial 344 finished with value: 0.7513506752220012 and parameters: {'x': 0.8737342619254389, 'y': 0.6776556487938372}. Best is trial 249 with value: 0.056570121876125395.\n",
            "[I 2024-01-24 01:56:57,033] Trial 345 finished with value: 0.7597935937332925 and parameters: {'x': 0.5623435400857025, 'y': 0.3916126434026737}. Best is trial 249 with value: 0.056570121876125395.\n",
            "[I 2024-01-24 01:56:57,047] Trial 346 finished with value: 0.35537133746031224 and parameters: {'x': 0.7063732401198077, 'y': 0.5508432722583947}. Best is trial 249 with value: 0.056570121876125395.\n",
            "[I 2024-01-24 01:56:57,061] Trial 347 finished with value: 0.5586526186964662 and parameters: {'x': 0.6517795410420582, 'y': 0.49095242504550624}. Best is trial 249 with value: 0.056570121876125395.\n",
            "[I 2024-01-24 01:56:57,080] Trial 348 finished with value: 7.36769719152064 and parameters: {'x': 0.7747394493556204, 'y': 0.3297225105860752}. Best is trial 249 with value: 0.056570121876125395.\n",
            "[I 2024-01-24 01:56:57,097] Trial 349 finished with value: 18.850766522889348 and parameters: {'x': 0.561684937240229, 'y': 0.747446522424981}. Best is trial 249 with value: 0.056570121876125395.\n",
            "[I 2024-01-24 01:56:57,112] Trial 350 finished with value: 3.404409907098758 and parameters: {'x': 0.48179519540939436, 'y': 0.40921059287017225}. Best is trial 249 with value: 0.056570121876125395.\n",
            "[I 2024-01-24 01:56:57,127] Trial 351 finished with value: 0.6273574780452152 and parameters: {'x': 0.6979357963603584, 'y': 0.5603342293595109}. Best is trial 249 with value: 0.056570121876125395.\n",
            "[I 2024-01-24 01:56:57,140] Trial 352 finished with value: 18.14777794070458 and parameters: {'x': 0.8522425266021438, 'y': 0.3005715588178327}. Best is trial 249 with value: 0.056570121876125395.\n",
            "[I 2024-01-24 01:56:57,155] Trial 353 finished with value: 66.51334604742885 and parameters: {'x': 1.12158050996553, 'y': 0.4424763221559847}. Best is trial 249 with value: 0.056570121876125395.\n",
            "[I 2024-01-24 01:56:57,171] Trial 354 finished with value: 1.1641917704362528 and parameters: {'x': 0.6357909992674148, 'y': 0.5057951283742884}. Best is trial 249 with value: 0.056570121876125395.\n",
            "[I 2024-01-24 01:56:57,191] Trial 355 finished with value: 1006.8581036203493 and parameters: {'x': 1.953176611970393, 'y': 0.6432280907754337}. Best is trial 249 with value: 0.056570121876125395.\n",
            "[I 2024-01-24 01:56:57,208] Trial 356 finished with value: 4.663638399752295 and parameters: {'x': 0.7600609244545543, 'y': 0.36307509702082535}. Best is trial 249 with value: 0.056570121876125395.\n",
            "[I 2024-01-24 01:56:57,228] Trial 357 finished with value: 0.3317011815946975 and parameters: {'x': 0.5283706459026236, 'y': 0.2461199901521734}. Best is trial 249 with value: 0.056570121876125395.\n",
            "[I 2024-01-24 01:56:57,245] Trial 358 finished with value: 0.4006656884306147 and parameters: {'x': 0.6103101344644708, 'y': 0.42235906739650503}. Best is trial 249 with value: 0.056570121876125395.\n",
            "[I 2024-01-24 01:56:57,259] Trial 359 finished with value: 18.234949829342348 and parameters: {'x': 0.4166115944354186, 'y': 0.5965854068691646}. Best is trial 249 with value: 0.056570121876125395.\n",
            "[I 2024-01-24 01:56:57,281] Trial 360 finished with value: 3.4449577972590326 and parameters: {'x': 0.6982182902039037, 'y': 0.3043726129412824}. Best is trial 249 with value: 0.056570121876125395.\n",
            "[I 2024-01-24 01:56:57,303] Trial 361 finished with value: 2.528396365896025 and parameters: {'x': 0.8081020078972919, 'y': 0.49518172891812173}. Best is trial 249 with value: 0.056570121876125395.\n",
            "[I 2024-01-24 01:56:57,326] Trial 362 finished with value: 0.29248104443826045 and parameters: {'x': 0.6031579974024999, 'y': 0.40054157160141024}. Best is trial 249 with value: 0.056570121876125395.\n",
            "[I 2024-01-24 01:56:57,341] Trial 363 finished with value: 3.019484259751448 and parameters: {'x': 0.9232191524860127, 'y': 0.6787366864589263}. Best is trial 249 with value: 0.056570121876125395.\n",
            "[I 2024-01-24 01:56:57,355] Trial 364 finished with value: 23.736437116630153 and parameters: {'x': 1.0198310227488911, 'y': 0.5528588058688055}. Best is trial 249 with value: 0.056570121876125395.\n",
            "[I 2024-01-24 01:56:57,369] Trial 365 finished with value: 1.3406631020443838 and parameters: {'x': 0.4806435286560976, 'y': 0.33450404403868683}. Best is trial 249 with value: 0.056570121876125395.\n",
            "[I 2024-01-24 01:56:57,383] Trial 366 finished with value: 7.194107347065789 and parameters: {'x': 0.7172864956623267, 'y': 0.24777570683107542}. Best is trial 249 with value: 0.056570121876125395.\n",
            "[I 2024-01-24 01:56:57,398] Trial 367 finished with value: 3.304105684936744 and parameters: {'x': 0.5541773876618757, 'y': 0.4833325498496928}. Best is trial 249 with value: 0.056570121876125395.\n",
            "[I 2024-01-24 01:56:57,416] Trial 368 finished with value: 0.1420606918215598 and parameters: {'x': 0.6243326933663694, 'y': 0.39284870721803566}. Best is trial 249 with value: 0.056570121876125395.\n",
            "[I 2024-01-24 01:56:57,431] Trial 369 finished with value: 0.37516334484887354 and parameters: {'x': 0.8531124568695707, 'y': 0.7872640791255978}. Best is trial 249 with value: 0.056570121876125395.\n",
            "[I 2024-01-24 01:56:57,445] Trial 370 finished with value: 194.4171097898823 and parameters: {'x': 0.7394800066290002, 'y': 1.9409226395916996}. Best is trial 249 with value: 0.056570121876125395.\n",
            "[I 2024-01-24 01:56:57,459] Trial 371 finished with value: 0.11164374711194289 and parameters: {'x': 0.6658902685292295, 'y': 0.44378977666849295}. Best is trial 249 with value: 0.056570121876125395.\n",
            "[I 2024-01-24 01:56:57,472] Trial 372 finished with value: 2.5668619550164053 and parameters: {'x': 0.6527968512903944, 'y': 0.5825506319887164}. Best is trial 249 with value: 0.056570121876125395.\n",
            "[I 2024-01-24 01:56:57,487] Trial 373 finished with value: 7.277371620298547 and parameters: {'x': 0.8045592014679595, 'y': 0.3782583676247933}. Best is trial 249 with value: 0.056570121876125395.\n",
            "[I 2024-01-24 01:56:57,501] Trial 374 finished with value: 0.5127925871740211 and parameters: {'x': 0.7294837171042756, 'y': 0.4658431355463113}. Best is trial 249 with value: 0.056570121876125395.\n",
            "[I 2024-01-24 01:56:57,515] Trial 375 finished with value: 25.44779032637198 and parameters: {'x': 0.3631523917984689, 'y': 0.6323016361078334}. Best is trial 249 with value: 0.056570121876125395.\n",
            "[I 2024-01-24 01:56:57,530] Trial 376 finished with value: 3.001014295736568 and parameters: {'x': 0.6040818507886677, 'y': 0.5335643151480659}. Best is trial 249 with value: 0.056570121876125395.\n",
            "[I 2024-01-24 01:56:57,547] Trial 377 finished with value: 2.9279889082362947 and parameters: {'x': 0.47292412522228366, 'y': 0.3864509606047101}. Best is trial 249 with value: 0.056570121876125395.\n",
            "[I 2024-01-24 01:56:57,561] Trial 378 finished with value: 30.67709455756782 and parameters: {'x': 0.9370672728463935, 'y': 0.3242617592999165}. Best is trial 249 with value: 0.056570121876125395.\n",
            "[I 2024-01-24 01:56:57,575] Trial 379 finished with value: 4.560221092635635 and parameters: {'x': 0.6647856855778992, 'y': 0.23104068446818782}. Best is trial 249 with value: 0.056570121876125395.\n",
            "[I 2024-01-24 01:56:57,591] Trial 380 finished with value: 19.09200047167947 and parameters: {'x': 0.5404901464297287, 'y': 0.7266506124496804}. Best is trial 249 with value: 0.056570121876125395.\n",
            "[I 2024-01-24 01:56:57,614] Trial 381 finished with value: 3.343562062086085 and parameters: {'x': 0.790580635448099, 'y': 0.44336682339840916}. Best is trial 249 with value: 0.056570121876125395.\n",
            "[I 2024-01-24 01:56:57,628] Trial 382 finished with value: 0.5375276041209748 and parameters: {'x': 0.6757604390756282, 'y': 0.5224090194274787}. Best is trial 249 with value: 0.056570121876125395.\n",
            "[I 2024-01-24 01:56:57,644] Trial 383 finished with value: 11.934991491621346 and parameters: {'x': 0.8567370625728744, 'y': 0.38882499995384967}. Best is trial 249 with value: 0.056570121876125395.\n",
            "[I 2024-01-24 01:56:57,660] Trial 384 finished with value: 7.675120585071044 and parameters: {'x': 0.6046560412606996, 'y': 0.6398136645043255}. Best is trial 249 with value: 0.056570121876125395.\n",
            "[I 2024-01-24 01:56:57,676] Trial 385 finished with value: 17.07266877427142 and parameters: {'x': 0.7602908574604861, 'y': 0.1655472388628109}. Best is trial 249 with value: 0.056570121876125395.\n",
            "[I 2024-01-24 01:56:57,690] Trial 386 finished with value: 342.1643527234678 and parameters: {'x': 0.4581064521825321, 'y': -1.6391130702527894}. Best is trial 249 with value: 0.056570121876125395.\n",
            "[I 2024-01-24 01:56:57,703] Trial 387 finished with value: 0.21060192812563217 and parameters: {'x': 0.5465594586488719, 'y': 0.29166069842268466}. Best is trial 249 with value: 0.056570121876125395.\n",
            "[I 2024-01-24 01:56:57,717] Trial 388 finished with value: 0.16579764356351703 and parameters: {'x': 0.6996185307284944, 'y': 0.46197634199897664}. Best is trial 249 with value: 0.056570121876125395.\n",
            "[I 2024-01-24 01:56:57,734] Trial 389 finished with value: 670.5108022193201 and parameters: {'x': 1.2330922309542296, 'y': -1.068800970114113}. Best is trial 249 with value: 0.056570121876125395.\n",
            "[I 2024-01-24 01:56:57,749] Trial 390 finished with value: 0.09975518185051602 and parameters: {'x': 0.7367214842782214, 'y': 0.5602054949900439}. Best is trial 249 with value: 0.056570121876125395.\n",
            "[I 2024-01-24 01:56:57,764] Trial 391 finished with value: 2.508794734081802 and parameters: {'x': 0.8703095081564478, 'y': 0.5995787302445065}. Best is trial 249 with value: 0.056570121876125395.\n",
            "[I 2024-01-24 01:56:57,778] Trial 392 finished with value: 7.656856725027817 and parameters: {'x': -0.6993978703445296, 'y': 0.707535576000117}. Best is trial 249 with value: 0.056570121876125395.\n",
            "[I 2024-01-24 01:56:57,797] Trial 393 finished with value: 0.3402167895199144 and parameters: {'x': 0.7757241615358691, 'y': 0.5479040208308553}. Best is trial 249 with value: 0.056570121876125395.\n",
            "[I 2024-01-24 01:56:57,811] Trial 394 finished with value: 0.20709012259311502 and parameters: {'x': 0.9759601098034154, 'y': 0.9070545218246913}. Best is trial 249 with value: 0.056570121876125395.\n",
            "[I 2024-01-24 01:56:57,828] Trial 395 finished with value: 7.423014834369922 and parameters: {'x': 0.732646826642232, 'y': 0.8079085540131236}. Best is trial 249 with value: 0.056570121876125395.\n",
            "[I 2024-01-24 01:56:57,842] Trial 396 finished with value: 4.137181440313363 and parameters: {'x': 0.8446345281125228, 'y': 0.5106011003209698}. Best is trial 249 with value: 0.056570121876125395.\n",
            "[I 2024-01-24 01:56:57,857] Trial 397 finished with value: 2.9909594418704866 and parameters: {'x': 0.7067730952052591, 'y': 0.6699681513169663}. Best is trial 249 with value: 0.056570121876125395.\n",
            "[I 2024-01-24 01:56:57,871] Trial 398 finished with value: 0.15201549476956283 and parameters: {'x': 0.6706491843554596, 'y': 0.4706374161996196}. Best is trial 249 with value: 0.056570121876125395.\n",
            "[I 2024-01-24 01:56:57,886] Trial 399 finished with value: 4.871245029936933 and parameters: {'x': 0.8994617042425679, 'y': 0.5885514925354355}. Best is trial 249 with value: 0.056570121876125395.\n",
            "[I 2024-01-24 01:56:57,901] Trial 400 finished with value: 45.366469003253165 and parameters: {'x': 1.0750451445281888, 'y': 0.4822175176550737}. Best is trial 249 with value: 0.056570121876125395.\n",
            "[I 2024-01-24 01:56:57,917] Trial 401 finished with value: 0.12116702546405649 and parameters: {'x': 0.8059711082724981, 'y': 0.6206896324504749}. Best is trial 249 with value: 0.056570121876125395.\n",
            "[I 2024-01-24 01:56:57,932] Trial 402 finished with value: 0.15587313457291135 and parameters: {'x': 0.8133378931984876, 'y': 0.6963079511087017}. Best is trial 249 with value: 0.056570121876125395.\n",
            "[I 2024-01-24 01:56:57,946] Trial 403 finished with value: 0.8250632836526393 and parameters: {'x': 0.9117535656886855, 'y': 0.74089125429226}. Best is trial 249 with value: 0.056570121876125395.\n",
            "[I 2024-01-24 01:56:57,964] Trial 404 finished with value: 8.147248546119892 and parameters: {'x': 0.9897480738104428, 'y': 0.69416923591769}. Best is trial 249 with value: 0.056570121876125395.\n",
            "[I 2024-01-24 01:56:57,987] Trial 405 finished with value: 0.08321773194579817 and parameters: {'x': 0.8234796446893914, 'y': 0.6553024380292655}. Best is trial 249 with value: 0.056570121876125395.\n",
            "[I 2024-01-24 01:56:58,004] Trial 406 finished with value: 1.533772851023242 and parameters: {'x': 0.8316088459714757, 'y': 0.8142687196497275}. Best is trial 249 with value: 0.056570121876125395.\n",
            "[I 2024-01-24 01:56:58,018] Trial 407 finished with value: 0.045266741127960405 and parameters: {'x': 0.9330604845333826, 'y': 0.85040636275396}. Best is trial 407 with value: 0.045266741127960405.\n",
            "[I 2024-01-24 01:56:58,032] Trial 408 finished with value: 0.5982690935011744 and parameters: {'x': 1.055017104588337, 'y': 1.0359091492158992}. Best is trial 407 with value: 0.045266741127960405.\n",
            "[I 2024-01-24 01:56:58,055] Trial 409 finished with value: 0.5407861949415264 and parameters: {'x': 0.9570418663015481, 'y': 0.9893417209007689}. Best is trial 407 with value: 0.045266741127960405.\n",
            "[I 2024-01-24 01:56:58,070] Trial 410 finished with value: 9.090503815182897 and parameters: {'x': 0.9245649927010897, 'y': 1.1562306673403044}. Best is trial 407 with value: 0.045266741127960405.\n",
            "[I 2024-01-24 01:56:58,085] Trial 411 finished with value: 1.4378549622382375 and parameters: {'x': 0.8587515569531898, 'y': 0.8565300040276923}. Best is trial 407 with value: 0.045266741127960405.\n",
            "[I 2024-01-24 01:56:58,102] Trial 412 finished with value: 0.23285150631429696 and parameters: {'x': 0.8539329626784853, 'y': 0.7751923654629594}. Best is trial 407 with value: 0.045266741127960405.\n",
            "[I 2024-01-24 01:56:58,119] Trial 413 finished with value: 3.5888118288685007 and parameters: {'x': 1.0522575914203949, 'y': 0.917876532893565}. Best is trial 407 with value: 0.045266741127960405.\n",
            "[I 2024-01-24 01:56:58,137] Trial 414 finished with value: 1.175625768363004 and parameters: {'x': 0.7968306627110586, 'y': 0.7414448789996768}. Best is trial 407 with value: 0.045266741127960405.\n",
            "[I 2024-01-24 01:56:58,152] Trial 415 finished with value: 6.004758279531875 and parameters: {'x': 0.9512954466232317, 'y': 0.6599653503278827}. Best is trial 407 with value: 0.045266741127960405.\n",
            "[I 2024-01-24 01:56:58,167] Trial 416 finished with value: 5.802772576044107 and parameters: {'x': 0.8000174558023914, 'y': 0.8800858300638199}. Best is trial 407 with value: 0.045266741127960405.\n",
            "[I 2024-01-24 01:56:58,185] Trial 417 finished with value: 3.210367058359387 and parameters: {'x': 0.7943335147213926, 'y': 0.8089564165004707}. Best is trial 407 with value: 0.045266741127960405.\n",
            "[I 2024-01-24 01:56:58,201] Trial 418 finished with value: 3.3816373668212516 and parameters: {'x': 0.9112697480614975, 'y': 0.6467344573456919}. Best is trial 407 with value: 0.045266741127960405.\n",
            "[I 2024-01-24 01:56:58,215] Trial 419 finished with value: 1.9299122772088158 and parameters: {'x': 0.7484036595807583, 'y': 0.6967320311265759}. Best is trial 407 with value: 0.045266741127960405.\n",
            "[I 2024-01-24 01:56:58,232] Trial 420 finished with value: 2.1680969282890783 and parameters: {'x': 0.8663526806899039, 'y': 0.6039301601471307}. Best is trial 407 with value: 0.045266741127960405.\n",
            "[I 2024-01-24 01:56:58,252] Trial 421 finished with value: 6.689735542468321 and parameters: {'x': 0.9924846377491487, 'y': 0.7263816172087824}. Best is trial 407 with value: 0.045266741127960405.\n",
            "[I 2024-01-24 01:56:58,266] Trial 422 finished with value: 0.23214668991719795 and parameters: {'x': 0.7582478377092082, 'y': 0.6166174251119921}. Best is trial 407 with value: 0.045266741127960405.\n",
            "[I 2024-01-24 01:56:58,285] Trial 423 finished with value: 0.24090574850104624 and parameters: {'x': 0.7174178629039168, 'y': 0.5548198096614823}. Best is trial 407 with value: 0.045266741127960405.\n",
            "[I 2024-01-24 01:56:58,305] Trial 424 finished with value: 8.77709718480912 and parameters: {'x': 0.8185901668405563, 'y': 0.965795587557876}. Best is trial 407 with value: 0.045266741127960405.\n",
            "[I 2024-01-24 01:56:58,327] Trial 425 finished with value: 0.022784972444425212 and parameters: {'x': 0.8836299950667484, 'y': 0.7711879188806336}. Best is trial 425 with value: 0.022784972444425212.\n",
            "[I 2024-01-24 01:56:58,344] Trial 426 finished with value: 13.259894578678917 and parameters: {'x': 1.101450001491412, 'y': 0.849192071776143}. Best is trial 425 with value: 0.022784972444425212.\n",
            "[I 2024-01-24 01:56:58,363] Trial 427 finished with value: 0.02246490433513061 and parameters: {'x': 0.8836102535419157, 'y': 0.7713233884844809}. Best is trial 427 with value: 0.02246490433513061.\n",
            "[I 2024-01-24 01:56:58,381] Trial 428 finished with value: 0.6559308256959017 and parameters: {'x': 0.9377308187256443, 'y': 0.7985892664215419}. Best is trial 427 with value: 0.02246490433513061.\n",
            "[I 2024-01-24 01:56:58,398] Trial 429 finished with value: 1.646688542358927 and parameters: {'x': 1.0288994524257133, 'y': 0.9303432665388364}. Best is trial 427 with value: 0.02246490433513061.\n",
            "[I 2024-01-24 01:56:58,413] Trial 430 finished with value: 59.77175852437154 and parameters: {'x': 1.2071863372964569, 'y': 0.6844545455684934}. Best is trial 427 with value: 0.02246490433513061.\n",
            "[I 2024-01-24 01:56:58,430] Trial 431 finished with value: 0.40516682206852916 and parameters: {'x': 0.9104191432418491, 'y': 0.7658438056458441}. Best is trial 427 with value: 0.02246490433513061.\n",
            "[I 2024-01-24 01:56:58,445] Trial 432 finished with value: 0.06433471520898851 and parameters: {'x': 0.8945464818240605, 'y': 0.8232816266951586}. Best is trial 427 with value: 0.02246490433513061.\n",
            "[I 2024-01-24 01:56:58,459] Trial 433 finished with value: 6.245480154652491 and parameters: {'x': 0.998593288202278, 'y': 0.7472790080897848}. Best is trial 427 with value: 0.02246490433513061.\n",
            "[I 2024-01-24 01:56:58,476] Trial 434 finished with value: 0.018069082669837082 and parameters: {'x': 0.9181477944035172, 'y': 0.8323326808181446}. Best is trial 434 with value: 0.018069082669837082.\n",
            "[I 2024-01-24 01:56:58,492] Trial 435 finished with value: 2.307167811301588 and parameters: {'x': 1.0332760949133655, 'y': 0.9158023016995869}. Best is trial 434 with value: 0.018069082669837082.\n",
            "[I 2024-01-24 01:56:58,507] Trial 436 finished with value: 0.4742277023946473 and parameters: {'x': 0.9650028929802807, 'y': 0.8624553768161362}. Best is trial 434 with value: 0.018069082669837082.\n",
            "[I 2024-01-24 01:56:58,521] Trial 437 finished with value: 1.135211604668475 and parameters: {'x': 1.0912981199545695, 'y': 1.084777158637078}. Best is trial 434 with value: 0.018069082669837082.\n",
            "[I 2024-01-24 01:56:58,536] Trial 438 finished with value: 0.42050132838070453 and parameters: {'x': 0.8711587595835206, 'y': 0.8224708111581424}. Best is trial 434 with value: 0.018069082669837082.\n",
            "[I 2024-01-24 01:56:58,551] Trial 439 finished with value: 0.17486209587727555 and parameters: {'x': 0.8941546523161162, 'y': 0.8399673143195803}. Best is trial 434 with value: 0.018069082669837082.\n",
            "[I 2024-01-24 01:56:58,566] Trial 440 finished with value: 3.7541223236599763 and parameters: {'x': 0.9821736788541071, 'y': 0.7709177600726363}. Best is trial 434 with value: 0.018069082669837082.\n",
            "[I 2024-01-24 01:56:58,581] Trial 441 finished with value: 3.3614656323396876 and parameters: {'x': 0.8602078981123589, 'y': 0.9227669220654598}. Best is trial 434 with value: 0.018069082669837082.\n",
            "[I 2024-01-24 01:56:58,599] Trial 442 finished with value: 7.593755423005508 and parameters: {'x': 1.132260343517074, 'y': 1.0067633697059997}. Best is trial 434 with value: 0.018069082669837082.\n",
            "[I 2024-01-24 01:56:58,613] Trial 443 finished with value: 0.9646029746639401 and parameters: {'x': 0.9083378157619258, 'y': 0.7272920559628228}. Best is trial 434 with value: 0.018069082669837082.\n",
            "[I 2024-01-24 01:56:58,628] Trial 444 finished with value: 3.3474141695545088 and parameters: {'x': 0.8235683784310146, 'y': 0.8603716023407805}. Best is trial 434 with value: 0.018069082669837082.\n",
            "[I 2024-01-24 01:56:58,643] Trial 445 finished with value: 6.753285100050444 and parameters: {'x': 0.9612685865543449, 'y': 0.6641953247204309}. Best is trial 434 with value: 0.018069082669837082.\n",
            "[I 2024-01-24 01:56:58,660] Trial 446 finished with value: 1.0615229612065114 and parameters: {'x': 0.81938457144631, 'y': 0.7728258346697088}. Best is trial 434 with value: 0.018069082669837082.\n",
            "[I 2024-01-24 01:56:58,679] Trial 447 finished with value: 0.792007100153729 and parameters: {'x': 0.878301446018038, 'y': 0.6832546776977954}. Best is trial 434 with value: 0.018069082669837082.\n",
            "[I 2024-01-24 01:56:58,701] Trial 448 finished with value: 21.204268791875514 and parameters: {'x': 1.0430624210682717, 'y': 0.6275184187391801}. Best is trial 434 with value: 0.018069082669837082.\n",
            "[I 2024-01-24 01:56:58,715] Trial 449 finished with value: 4.7605449244823 and parameters: {'x': 0.7870101665448329, 'y': 0.8365296603723371}. Best is trial 434 with value: 0.018069082669837082.\n",
            "[I 2024-01-24 01:56:58,729] Trial 450 finished with value: 284.07090312653423 and parameters: {'x': 1.5575143245437446, 'y': 0.7413328958780082}. Best is trial 434 with value: 0.018069082669837082.\n",
            "[I 2024-01-24 01:56:58,744] Trial 451 finished with value: 3.9735461246616515 and parameters: {'x': 0.9047610407958986, 'y': 0.6194826299554226}. Best is trial 434 with value: 0.018069082669837082.\n",
            "[I 2024-01-24 01:56:58,760] Trial 452 finished with value: 12.247360662099235 and parameters: {'x': 0.7752453825295816, 'y': 0.9502452351117636}. Best is trial 434 with value: 0.018069082669837082.\n",
            "[I 2024-01-24 01:56:58,774] Trial 453 finished with value: 0.6702378786088393 and parameters: {'x': 0.7936551701803418, 'y': 0.7091135056333486}. Best is trial 434 with value: 0.018069082669837082.\n",
            "[I 2024-01-24 01:56:58,788] Trial 454 finished with value: 12.54972328956837 and parameters: {'x': 0.980385603056929, 'y': 0.6069054745771328}. Best is trial 434 with value: 0.018069082669837082.\n",
            "[I 2024-01-24 01:56:58,811] Trial 455 finished with value: 187.8668286045288 and parameters: {'x': 0.8491368680716748, 'y': -0.6495287592643479}. Best is trial 434 with value: 0.018069082669837082.\n",
            "[I 2024-01-24 01:56:58,828] Trial 456 finished with value: 0.8909153044338072 and parameters: {'x': 0.7599830564516104, 'y': 0.6688599060431368}. Best is trial 434 with value: 0.018069082669837082.\n",
            "[I 2024-01-24 01:56:58,844] Trial 457 finished with value: 7.40326139789749 and parameters: {'x': 0.7233939903917646, 'y': 0.7939785748320694}. Best is trial 434 with value: 0.018069082669837082.\n",
            "[I 2024-01-24 01:56:58,860] Trial 458 finished with value: 9.333529584049915 and parameters: {'x': 0.9359668233139868, 'y': 0.5705927488461424}. Best is trial 434 with value: 0.018069082669837082.\n",
            "[I 2024-01-24 01:56:58,878] Trial 459 finished with value: 2.840786983583214 and parameters: {'x': 0.8485008060772422, 'y': 0.8878176991766363}. Best is trial 434 with value: 0.018069082669837082.\n",
            "[I 2024-01-24 01:56:58,894] Trial 460 finished with value: 22.997012549548273 and parameters: {'x': -0.5581320455235854, 'y': 0.7650445882666201}. Best is trial 434 with value: 0.018069082669837082.\n",
            "[I 2024-01-24 01:56:58,910] Trial 461 finished with value: 0.27937398135967384 and parameters: {'x': 0.722223272704317, 'y': 0.56657467453893}. Best is trial 434 with value: 0.018069082669837082.\n",
            "[I 2024-01-24 01:56:58,926] Trial 462 finished with value: 19.632578289287878 and parameters: {'x': 1.0558032741516192, 'y': 0.6716690410848234}. Best is trial 434 with value: 0.018069082669837082.\n",
            "[I 2024-01-24 01:56:58,940] Trial 463 finished with value: 0.015298680367094156 and parameters: {'x': 0.913692755770149, 'y': 0.8259745761234851}. Best is trial 463 with value: 0.015298680367094156.\n",
            "[I 2024-01-24 01:56:58,956] Trial 464 finished with value: 0.529838994329374 and parameters: {'x': 0.9709649315645923, 'y': 0.8700407899351499}. Best is trial 463 with value: 0.015298680367094156.\n",
            "[I 2024-01-24 01:56:58,974] Trial 465 finished with value: 17.704518018091502 and parameters: {'x': 1.1779731210478295, 'y': 0.9672298606638242}. Best is trial 463 with value: 0.015298680367094156.\n",
            "[I 2024-01-24 01:56:58,989] Trial 466 finished with value: 0.09401345407724718 and parameters: {'x': 0.9109513995681577, 'y': 0.8004924113325458}. Best is trial 463 with value: 0.015298680367094156.\n",
            "[I 2024-01-24 01:56:59,005] Trial 467 finished with value: 0.006523689219984549 and parameters: {'x': 1.0584926595520545, 'y': 1.125976537969694}. Best is trial 467 with value: 0.006523689219984549.\n",
            "[I 2024-01-24 01:56:59,023] Trial 468 finished with value: 3.713849855216683 and parameters: {'x': 1.1375630307019227, 'y': 1.1018277388354552}. Best is trial 467 with value: 0.006523689219984549.\n",
            "[I 2024-01-24 01:56:59,040] Trial 469 finished with value: 3.1365237044227094 and parameters: {'x': 1.071014035060756, 'y': 1.3240309658526757}. Best is trial 467 with value: 0.006523689219984549.\n",
            "[I 2024-01-24 01:56:59,057] Trial 470 finished with value: 3.3149071692038006 and parameters: {'x': 1.022791391601716, 'y': 1.22815683028297}. Best is trial 467 with value: 0.006523689219984549.\n",
            "[I 2024-01-24 01:56:59,078] Trial 471 finished with value: 47.22037515987913 and parameters: {'x': 0.9503195877245973, 'y': 1.590260191298606}. Best is trial 467 with value: 0.006523689219984549.\n",
            "[I 2024-01-24 01:56:59,093] Trial 472 finished with value: 0.3935539571168526 and parameters: {'x': 1.101292724508589, 'y': 1.1509349437644467}. Best is trial 467 with value: 0.006523689219984549.\n",
            "[I 2024-01-24 01:56:59,111] Trial 473 finished with value: 0.3081757143989645 and parameters: {'x': 1.0130124957316975, 'y': 0.9706959931686816}. Best is trial 467 with value: 0.006523689219984549.\n",
            "[I 2024-01-24 01:56:59,128] Trial 474 finished with value: 59.56672889851982 and parameters: {'x': 1.261111010297056, 'y': 0.8190479486732067}. Best is trial 467 with value: 0.006523689219984549.\n",
            "[I 2024-01-24 01:56:59,143] Trial 475 finished with value: 0.20066262419015216 and parameters: {'x': 0.9147931095469962, 'y': 0.8808239741346836}. Best is trial 467 with value: 0.006523689219984549.\n",
            "[I 2024-01-24 01:56:59,161] Trial 476 finished with value: 6.048181937248622 and parameters: {'x': 0.905559833861342, 'y': 1.0657877325847893}. Best is trial 467 with value: 0.006523689219984549.\n",
            "[I 2024-01-24 01:56:59,176] Trial 477 finished with value: 6.797447373666621 and parameters: {'x': 1.00718127609896, 'y': 0.7536959646970934}. Best is trial 467 with value: 0.006523689219984549.\n",
            "[I 2024-01-24 01:56:59,193] Trial 478 finished with value: 28.454655327269176 and parameters: {'x': 0.8828041548763423, 'y': 1.3126434708336143}. Best is trial 467 with value: 0.006523689219984549.\n",
            "[I 2024-01-24 01:56:59,210] Trial 479 finished with value: 19.483989079104127 and parameters: {'x': 1.101740776195032, 'y': 0.7725432876426634}. Best is trial 467 with value: 0.006523689219984549.\n",
            "[I 2024-01-24 01:56:59,232] Trial 480 finished with value: 1.57367801869306 and parameters: {'x': 0.8442097373794941, 'y': 0.8371652755151111}. Best is trial 467 with value: 0.006523689219984549.\n",
            "[I 2024-01-24 01:56:59,247] Trial 481 finished with value: 0.33205426369860397 and parameters: {'x': 0.9565812126801871, 'y': 0.972507956915166}. Best is trial 467 with value: 0.006523689219984549.\n",
            "[I 2024-01-24 01:56:59,263] Trial 482 finished with value: 0.08544461034088263 and parameters: {'x': 0.826329801517274, 'y': 0.7063333360108786}. Best is trial 467 with value: 0.006523689219984549.\n",
            "[I 2024-01-24 01:56:59,278] Trial 483 finished with value: 0.44083602471008426 and parameters: {'x': 0.9202769539335107, 'y': 0.9128247886167538}. Best is trial 467 with value: 0.006523689219984549.\n",
            "[I 2024-01-24 01:56:59,293] Trial 484 finished with value: 4.557609321601023 and parameters: {'x': 1.0089615331092896, 'y': 0.8045196753889543}. Best is trial 467 with value: 0.006523689219984549.\n",
            "[I 2024-01-24 01:56:59,308] Trial 485 finished with value: 16.385226586091413 and parameters: {'x': 0.8080912512596192, 'y': 1.0573429880337686}. Best is trial 467 with value: 0.006523689219984549.\n",
            "[I 2024-01-24 01:56:59,325] Trial 486 finished with value: 42.21228700764658 and parameters: {'x': 1.1645733568148229, 'y': 0.7067297360612488}. Best is trial 467 with value: 0.006523689219984549.\n",
            "[I 2024-01-24 01:56:59,344] Trial 487 finished with value: 1.3177565432171487 and parameters: {'x': 0.8908558044530134, 'y': 0.679350528992643}. Best is trial 467 with value: 0.006523689219984549.\n",
            "[I 2024-01-24 01:56:59,360] Trial 488 finished with value: 33.05243951458491 and parameters: {'x': 0.8854901232998386, 'y': 1.3588912188172173}. Best is trial 467 with value: 0.006523689219984549.\n",
            "[I 2024-01-24 01:56:59,376] Trial 489 finished with value: 0.16757534756989606 and parameters: {'x': 0.8150326362460631, 'y': 0.6277593780782186}. Best is trial 467 with value: 0.006523689219984549.\n",
            "[I 2024-01-24 01:56:59,395] Trial 490 finished with value: 7.530170143296286 and parameters: {'x': 1.0642380960381956, 'y': 0.8582663692781178}. Best is trial 467 with value: 0.006523689219984549.\n",
            "[I 2024-01-24 01:56:59,412] Trial 491 finished with value: 100.9616972139255 and parameters: {'x': 1.332102562585875, 'y': 0.770249234502271}. Best is trial 467 with value: 0.006523689219984549.\n",
            "[I 2024-01-24 01:56:59,427] Trial 492 finished with value: 0.7831627670068586 and parameters: {'x': 0.9626660758847645, 'y': 1.0151436724032887}. Best is trial 467 with value: 0.006523689219984549.\n",
            "[I 2024-01-24 01:56:59,443] Trial 493 finished with value: 0.09619341478082684 and parameters: {'x': 0.7738245484012009, 'y': 0.6200266087584995}. Best is trial 467 with value: 0.006523689219984549.\n",
            "[I 2024-01-24 01:56:59,458] Trial 494 finished with value: 0.09707295521478852 and parameters: {'x': 0.8409259617910109, 'y': 0.7339460991134794}. Best is trial 467 with value: 0.006523689219984549.\n",
            "[I 2024-01-24 01:56:59,473] Trial 495 finished with value: 0.03747083015250388 and parameters: {'x': 0.8601629933268735, 'y': 0.726495143780921}. Best is trial 467 with value: 0.006523689219984549.\n",
            "[I 2024-01-24 01:56:59,488] Trial 496 finished with value: 1.4078218371111615 and parameters: {'x': 0.9289545469708935, 'y': 0.7445177737182853}. Best is trial 467 with value: 0.006523689219984549.\n",
            "[I 2024-01-24 01:56:59,505] Trial 497 finished with value: 3.0378269549084753 and parameters: {'x': 0.9944265252389848, 'y': 0.8145913749704952}. Best is trial 467 with value: 0.006523689219984549.\n",
            "[I 2024-01-24 01:56:59,522] Trial 498 finished with value: 1.2309780947809688 and parameters: {'x': 0.8842551103405363, 'y': 0.8922511627720275}. Best is trial 467 with value: 0.006523689219984549.\n",
            "[I 2024-01-24 01:56:59,538] Trial 499 finished with value: 0.025609567437570372 and parameters: {'x': 0.8405791811119915, 'y': 0.7079682430210041}. Best is trial 467 with value: 0.006523689219984549.\n",
            "[I 2024-01-24 01:56:59,562] Trial 500 finished with value: 0.03302693095615705 and parameters: {'x': 0.8415353513164561, 'y': 0.717078874059178}. Best is trial 467 with value: 0.006523689219984549.\n",
            "[I 2024-01-24 01:56:59,588] Trial 501 finished with value: 0.40080812945791666 and parameters: {'x': 0.8117441713564449, 'y': 0.7193742672714943}. Best is trial 467 with value: 0.006523689219984549.\n",
            "[I 2024-01-24 01:56:59,613] Trial 502 finished with value: 7.29030415951565 and parameters: {'x': 1.0394256461068268, 'y': 0.8104288270376053}. Best is trial 467 with value: 0.006523689219984549.\n",
            "[I 2024-01-24 01:56:59,634] Trial 503 finished with value: 6.9519111071988755 and parameters: {'x': 0.9643206347011869, 'y': 0.6662736581906078}. Best is trial 467 with value: 0.006523689219984549.\n",
            "[I 2024-01-24 01:56:59,651] Trial 504 finished with value: 0.055184233343401556 and parameters: {'x': 0.8537642633086442, 'y': 0.7472980148394056}. Best is trial 467 with value: 0.006523689219984549.\n",
            "[I 2024-01-24 01:56:59,677] Trial 505 finished with value: 51.62094737425766 and parameters: {'x': 0.871339646974954, 'y': 1.4775947635703461}. Best is trial 467 with value: 0.006523689219984549.\n",
            "[I 2024-01-24 01:56:59,696] Trial 506 finished with value: 0.029911381370734815 and parameters: {'x': 0.9438624288922117, 'y': 0.9072347547986334}. Best is trial 467 with value: 0.006523689219984549.\n",
            "[I 2024-01-24 01:56:59,713] Trial 507 finished with value: 148.41823110002844 and parameters: {'x': -1.4483602236234931, 'y': 0.9043330617963996}. Best is trial 467 with value: 0.006523689219984549.\n",
            "[I 2024-01-24 01:56:59,728] Trial 508 finished with value: 1.6958472392826487 and parameters: {'x': 1.0148269565275203, 'y': 1.1600900103050686}. Best is trial 467 with value: 0.006523689219984549.\n",
            "[I 2024-01-24 01:56:59,745] Trial 509 finished with value: 0.13646307040736536 and parameters: {'x': 0.9645038480707397, 'y': 0.9670376462374595}. Best is trial 467 with value: 0.006523689219984549.\n",
            "[I 2024-01-24 01:56:59,760] Trial 510 finished with value: 15.342648250975154 and parameters: {'x': 1.116936398897463, 'y': 0.8560245809995471}. Best is trial 467 with value: 0.006523689219984549.\n",
            "[I 2024-01-24 01:56:59,780] Trial 511 finished with value: 0.4300218131210131 and parameters: {'x': 0.9295421357561452, 'y': 0.7988521480037896}. Best is trial 467 with value: 0.006523689219984549.\n",
            "[I 2024-01-24 01:56:59,802] Trial 512 finished with value: 0.1785774867425073 and parameters: {'x': 0.8349086065225745, 'y': 0.7359725507235284}. Best is trial 467 with value: 0.006523689219984549.\n",
            "[I 2024-01-24 01:56:59,818] Trial 513 finished with value: 1.6239420005056087 and parameters: {'x': 1.0361349539551359, 'y': 0.9461929019983375}. Best is trial 467 with value: 0.006523689219984549.\n",
            "[I 2024-01-24 01:56:59,842] Trial 514 finished with value: 33.19665229776249 and parameters: {'x': 1.1900806081710806, 'y': 0.8404401225055854}. Best is trial 467 with value: 0.006523689219984549.\n",
            "[I 2024-01-24 01:56:59,867] Trial 515 finished with value: 0.4015304695204284 and parameters: {'x': 0.9029425071187499, 'y': 0.7526864588950294}. Best is trial 467 with value: 0.006523689219984549.\n",
            "[I 2024-01-24 01:56:59,888] Trial 516 finished with value: 3.5376802841974606 and parameters: {'x': 0.85032950344108, 'y': 0.9105510382395543}. Best is trial 467 with value: 0.006523689219984549.\n",
            "[I 2024-01-24 01:56:59,904] Trial 517 finished with value: 855.7892060342426 and parameters: {'x': -1.984635354711414, 'y': 1.0286552294198885}. Best is trial 467 with value: 0.006523689219984549.\n",
            "[I 2024-01-24 01:56:59,919] Trial 518 finished with value: 24.619718151527167 and parameters: {'x': 1.084705154604831, 'y': 0.6804749702926766}. Best is trial 467 with value: 0.006523689219984549.\n",
            "[I 2024-01-24 01:56:59,936] Trial 519 finished with value: 1.616428884147928 and parameters: {'x': 0.9517180113520072, 'y': 0.7787200270119586}. Best is trial 467 with value: 0.006523689219984549.\n",
            "[I 2024-01-24 01:56:59,951] Trial 520 finished with value: 4.054999164130022 and parameters: {'x': 0.8049699717769024, 'y': 0.8484002681487702}. Best is trial 467 with value: 0.006523689219984549.\n",
            "[I 2024-01-24 01:56:59,970] Trial 521 finished with value: 1.2985989437265615 and parameters: {'x': 0.8886450055092756, 'y': 0.6762792316433361}. Best is trial 467 with value: 0.006523689219984549.\n",
            "[I 2024-01-24 01:56:59,986] Trial 522 finished with value: 5.074402579445963 and parameters: {'x': 0.985548959639015, 'y': 0.7460470406924306}. Best is trial 467 with value: 0.006523689219984549.\n",
            "[I 2024-01-24 01:57:00,002] Trial 523 finished with value: 3.4978942128924797 and parameters: {'x': 0.7949968266645846, 'y': 0.817919602384234}. Best is trial 467 with value: 0.006523689219984549.\n",
            "[I 2024-01-24 01:57:00,026] Trial 524 finished with value: 0.4933699505352939 and parameters: {'x': 0.843157454100973, 'y': 0.6424476853875085}. Best is trial 467 with value: 0.006523689219984549.\n",
            "[I 2024-01-24 01:57:00,044] Trial 525 finished with value: 4.187255379148404 and parameters: {'x': 1.0648097182691771, 'y': 0.9292945523516812}. Best is trial 467 with value: 0.006523689219984549.\n",
            "[I 2024-01-24 01:57:00,060] Trial 526 finished with value: 3.4669720853723334 and parameters: {'x': 0.9549177937707809, 'y': 0.7257245084171711}. Best is trial 467 with value: 0.006523689219984549.\n",
            "[I 2024-01-24 01:57:00,078] Trial 527 finished with value: 17.864745881267684 and parameters: {'x': 0.7782735968899368, 'y': 1.0277948930283993}. Best is trial 467 with value: 0.006523689219984549.\n",
            "[I 2024-01-24 01:57:00,095] Trial 528 finished with value: 1.7100361291544917 and parameters: {'x': 0.8934981883569627, 'y': 0.6680050763690668}. Best is trial 467 with value: 0.006523689219984549.\n",
            "[I 2024-01-24 01:57:00,112] Trial 529 finished with value: 3.399449291244889 and parameters: {'x': 0.831283254458008, 'y': 0.8746342443069195}. Best is trial 467 with value: 0.006523689219984549.\n",
            "[I 2024-01-24 01:57:00,128] Trial 530 finished with value: 5.200404041615513 and parameters: {'x': 1.0111266558863627, 'y': 0.7943358846571755}. Best is trial 467 with value: 0.006523689219984549.\n",
            "[I 2024-01-24 01:57:00,146] Trial 531 finished with value: 3.7763212568707263 and parameters: {'x': 0.9210706899122098, 'y': 0.654203983232722}. Best is trial 467 with value: 0.006523689219984549.\n",
            "[I 2024-01-24 01:57:00,162] Trial 532 finished with value: 0.15323377674618216 and parameters: {'x': 0.7696601672957484, 'y': 0.6240275769370981}. Best is trial 467 with value: 0.006523689219984549.\n",
            "[I 2024-01-24 01:57:00,180] Trial 533 finished with value: 24.357872184356584 and parameters: {'x': 1.1162721614472417, 'y': 0.7526635691392748}. Best is trial 467 with value: 0.006523689219984549.\n",
            "[I 2024-01-24 01:57:00,200] Trial 534 finished with value: 22.569381277881135 and parameters: {'x': 0.8659268514857013, 'y': 1.2247125153300396}. Best is trial 467 with value: 0.006523689219984549.\n",
            "[I 2024-01-24 01:57:00,217] Trial 535 finished with value: 7.275130516188668 and parameters: {'x': 0.77788293078458, 'y': 0.873910234153499}. Best is trial 467 with value: 0.006523689219984549.\n",
            "[I 2024-01-24 01:57:00,234] Trial 536 finished with value: 3.260785742976064 and parameters: {'x': 0.9682569645598983, 'y': 1.118070105842695}. Best is trial 467 with value: 0.006523689219984549.\n",
            "[I 2024-01-24 01:57:00,257] Trial 537 finished with value: 0.05942792891380431 and parameters: {'x': 0.8747983017936282, 'y': 0.7443549792337799}. Best is trial 467 with value: 0.006523689219984549.\n",
            "[I 2024-01-24 01:57:00,283] Trial 538 finished with value: 53.34610941798033 and parameters: {'x': 1.241605286081575, 'y': 0.8115991913594255}. Best is trial 467 with value: 0.006523689219984549.\n",
            "[I 2024-01-24 01:57:00,301] Trial 539 finished with value: 1.4426488041027294 and parameters: {'x': 1.0411938246500874, 'y': 0.9640449256701871}. Best is trial 467 with value: 0.006523689219984549.\n",
            "[I 2024-01-24 01:57:00,320] Trial 540 finished with value: 1.4997771484833298 and parameters: {'x': 0.9226663968571931, 'y': 0.7290923053266264}. Best is trial 467 with value: 0.006523689219984549.\n",
            "[I 2024-01-24 01:57:00,338] Trial 541 finished with value: 0.35206825096881034 and parameters: {'x': 0.8654124216104181, 'y': 0.806727450320819}. Best is trial 467 with value: 0.006523689219984549.\n",
            "[I 2024-01-24 01:57:00,354] Trial 542 finished with value: 6.2122880011879555 and parameters: {'x': 0.9716585060209123, 'y': 0.6948917475143126}. Best is trial 467 with value: 0.006523689219984549.\n",
            "[I 2024-01-24 01:57:00,372] Trial 543 finished with value: 1054.303540987371 and parameters: {'x': 1.1299130917275242, 'y': -1.970274482641838}. Best is trial 467 with value: 0.006523689219984549.\n",
            "[I 2024-01-24 01:57:00,388] Trial 544 finished with value: 5.749091783166196 and parameters: {'x': -0.9451119672954107, 'y': 0.7530356600489618}. Best is trial 467 with value: 0.006523689219984549.\n",
            "[I 2024-01-24 01:57:00,408] Trial 545 finished with value: 2.1921892637976947 and parameters: {'x': 0.8325167669557432, 'y': 0.8401942835171297}. Best is trial 467 with value: 0.006523689219984549.\n",
            "[I 2024-01-24 01:57:00,433] Trial 546 finished with value: 0.9020711961257121 and parameters: {'x': 0.9088341887177348, 'y': 0.9205184629954668}. Best is trial 467 with value: 0.006523689219984549.\n",
            "[I 2024-01-24 01:57:00,449] Trial 547 finished with value: 200.77381562351925 and parameters: {'x': 1.4211681053678218, 'y': 0.6033980818589307}. Best is trial 467 with value: 0.006523689219984549.\n",
            "[I 2024-01-24 01:57:00,469] Trial 548 finished with value: 20.179274419364354 and parameters: {'x': 1.0343871004638152, 'y': 0.6207563625342963}. Best is trial 467 with value: 0.006523689219984549.\n",
            "[I 2024-01-24 01:57:00,496] Trial 549 finished with value: 0.9521217003586677 and parameters: {'x': 0.7966557716505671, 'y': 0.7300948370938728}. Best is trial 467 with value: 0.006523689219984549.\n",
            "[I 2024-01-24 01:57:00,514] Trial 550 finished with value: 0.007413734420739721 and parameters: {'x': 0.927384518385205, 'y': 0.8554152466408798}. Best is trial 467 with value: 0.006523689219984549.\n",
            "[I 2024-01-24 01:57:00,531] Trial 551 finished with value: 0.4246491477019596 and parameters: {'x': 0.9920544968082206, 'y': 0.9190118593923262}. Best is trial 467 with value: 0.006523689219984549.\n",
            "[I 2024-01-24 01:57:00,548] Trial 552 finished with value: 9.228855689636275 and parameters: {'x': 1.1571038602768706, 'y': 1.0355055260560542}. Best is trial 467 with value: 0.006523689219984549.\n",
            "[I 2024-01-24 01:57:00,566] Trial 553 finished with value: 2.033238161874393 and parameters: {'x': 1.0656992650397348, 'y': 0.9932746985538801}. Best is trial 467 with value: 0.006523689219984549.\n",
            "[I 2024-01-24 01:57:00,583] Trial 554 finished with value: 0.009801360079144044 and parameters: {'x': 0.9356488729002783, 'y': 0.8679153218030168}. Best is trial 467 with value: 0.006523689219984549.\n",
            "[I 2024-01-24 01:57:00,603] Trial 555 finished with value: 0.3151767852114595 and parameters: {'x': 0.9755598380090511, 'y': 0.8956296135989188}. Best is trial 467 with value: 0.006523689219984549.\n",
            "[I 2024-01-24 01:57:00,624] Trial 556 finished with value: 0.007310995106299516 and parameters: {'x': 0.9150067054352212, 'y': 0.8381707322135595}. Best is trial 467 with value: 0.006523689219984549.\n",
            "[I 2024-01-24 01:57:00,642] Trial 557 finished with value: 1.5385849742322244 and parameters: {'x': 1.0415929608903471, 'y': 0.9609459401451674}. Best is trial 467 with value: 0.006523689219984549.\n",
            "[I 2024-01-24 01:57:00,661] Trial 558 finished with value: 443.54732144608437 and parameters: {'x': 1.7219244782986127, 'y': 0.8602052790252135}. Best is trial 467 with value: 0.006523689219984549.\n",
            "[I 2024-01-24 01:57:00,679] Trial 559 finished with value: 0.14626320661863176 and parameters: {'x': 0.9352412939551964, 'y': 0.8369841677883494}. Best is trial 467 with value: 0.006523689219984549.\n",
            "[I 2024-01-24 01:57:00,697] Trial 560 finished with value: 5.092495420367502 and parameters: {'x': 1.1072027880629778, 'y': 1.0004872115224281}. Best is trial 467 with value: 0.006523689219984549.\n",
            "[I 2024-01-24 01:57:00,719] Trial 561 finished with value: 0.19572745628766108 and parameters: {'x': 0.919241812660903, 'y': 0.8885032769218769}. Best is trial 467 with value: 0.006523689219984549.\n",
            "[I 2024-01-24 01:57:00,740] Trial 562 finished with value: 1.6224036344821158 and parameters: {'x': 1.004578446175148, 'y': 1.1365506409504007}. Best is trial 467 with value: 0.006523689219984549.\n",
            "[I 2024-01-24 01:57:00,759] Trial 563 finished with value: 0.07982043721225102 and parameters: {'x': 0.8954772485169201, 'y': 0.7756315633333387}. Best is trial 467 with value: 0.006523689219984549.\n",
            "[I 2024-01-24 01:57:00,776] Trial 564 finished with value: 0.23438355132466304 and parameters: {'x': 0.9153614988355626, 'y': 0.7902190875569323}. Best is trial 467 with value: 0.006523689219984549.\n",
            "[I 2024-01-24 01:57:00,793] Trial 565 finished with value: 3.1987090861003638 and parameters: {'x': 1.048918667878892, 'y': 0.9214479328093232}. Best is trial 467 with value: 0.006523689219984549.\n",
            "[I 2024-01-24 01:57:00,810] Trial 566 finished with value: 0.6748444562169277 and parameters: {'x': 0.9478843091548729, 'y': 0.8165012255203795}. Best is trial 467 with value: 0.006523689219984549.\n",
            "[I 2024-01-24 01:57:00,828] Trial 567 finished with value: 45.020719834817726 and parameters: {'x': 1.205777000056404, 'y': 0.7832389782890157}. Best is trial 467 with value: 0.006523689219984549.\n",
            "[I 2024-01-24 01:57:00,845] Trial 568 finished with value: 1.3823985073246754 and parameters: {'x': 0.871596032253011, 'y': 0.8765518355291626}. Best is trial 467 with value: 0.006523689219984549.\n",
            "[I 2024-01-24 01:57:00,863] Trial 569 finished with value: 0.0972194630823772 and parameters: {'x': 1.0142166484368829, 'y': 1.0597830182197625}. Best is trial 467 with value: 0.006523689219984549.\n",
            "[I 2024-01-24 01:57:00,884] Trial 570 finished with value: 7.927955091652827 and parameters: {'x': 1.1182379853779358, 'y': 0.9691383135471012}. Best is trial 467 with value: 0.006523689219984549.\n",
            "[I 2024-01-24 01:57:00,903] Trial 571 finished with value: 0.07087101832240593 and parameters: {'x': 0.8808444150672989, 'y': 0.7520807992695591}. Best is trial 467 with value: 0.006523689219984549.\n",
            "[I 2024-01-24 01:57:00,920] Trial 572 finished with value: 1.5291980739716748 and parameters: {'x': 0.9770678636399633, 'y': 0.8310221265334483}. Best is trial 467 with value: 0.006523689219984549.\n",
            "[I 2024-01-24 01:57:00,938] Trial 573 finished with value: 1.3855904990863954 and parameters: {'x': 0.899729793199996, 'y': 0.9267969640582772}. Best is trial 467 with value: 0.006523689219984549.\n",
            "[I 2024-01-24 01:57:00,956] Trial 574 finished with value: 14.620409422262705 and parameters: {'x': 1.0741413515697724, 'y': 0.771485090715798}. Best is trial 467 with value: 0.006523689219984549.\n",
            "[I 2024-01-24 01:57:00,972] Trial 575 finished with value: 0.06910705382716043 and parameters: {'x': 0.942178619984366, 'y': 0.8620561097039112}. Best is trial 467 with value: 0.006523689219984549.\n",
            "[I 2024-01-24 01:57:00,987] Trial 576 finished with value: 0.8954536916783661 and parameters: {'x': 0.9845323143816519, 'y': 1.0639196506569615}. Best is trial 467 with value: 0.006523689219984549.\n",
            "[I 2024-01-24 01:57:01,007] Trial 577 finished with value: 1.824254234903872 and parameters: {'x': 0.916201249173669, 'y': 0.9742294768364126}. Best is trial 467 with value: 0.006523689219984549.\n",
            "[I 2024-01-24 01:57:01,026] Trial 578 finished with value: 556.5869466656496 and parameters: {'x': -1.7914944335396226, 'y': 0.8668159582655388}. Best is trial 467 with value: 0.006523689219984549.\n",
            "[I 2024-01-24 01:57:01,042] Trial 579 finished with value: 55.75260531907026 and parameters: {'x': 1.270997799833441, 'y': 0.8692506746148017}. Best is trial 467 with value: 0.006523689219984549.\n",
            "[I 2024-01-24 01:57:01,062] Trial 580 finished with value: 32.787375474370016 and parameters: {'x': 1.1700307677611472, 'y': 0.796621886016665}. Best is trial 467 with value: 0.006523689219984549.\n",
            "[I 2024-01-24 01:57:01,078] Trial 581 finished with value: 2.086357737789561 and parameters: {'x': 1.0740786152532449, 'y': 1.009392658709251}. Best is trial 467 with value: 0.006523689219984549.\n",
            "[I 2024-01-24 01:57:01,094] Trial 582 finished with value: 0.0025033410637363023 and parameters: {'x': 0.9499696644745002, 'y': 0.9024977340766768}. Best is trial 582 with value: 0.0025033410637363023.\n",
            "[I 2024-01-24 01:57:01,110] Trial 583 finished with value: 1.0898110247625428 and parameters: {'x': 1.019647678994337, 'y': 0.9353058656404422}. Best is trial 582 with value: 0.0025033410637363023.\n",
            "[I 2024-01-24 01:57:01,130] Trial 584 finished with value: 2.134163178826044 and parameters: {'x': 0.9784054176905277, 'y': 1.1033489537437915}. Best is trial 582 with value: 0.0025033410637363023.\n",
            "[I 2024-01-24 01:57:01,148] Trial 585 finished with value: 1.829272936547832 and parameters: {'x': 0.8616390887064217, 'y': 0.8769629610578487}. Best is trial 582 with value: 0.0025033410637363023.\n",
            "[I 2024-01-24 01:57:01,169] Trial 586 finished with value: 0.6445306424722714 and parameters: {'x': 1.0856760945438273, 'y': 1.2585167796790062}. Best is trial 582 with value: 0.0025033410637363023.\n",
            "[I 2024-01-24 01:57:01,186] Trial 587 finished with value: 1.663433896430053 and parameters: {'x': 0.9446835046321791, 'y': 1.0212824236814333}. Best is trial 582 with value: 0.0025033410637363023.\n",
            "[I 2024-01-24 01:57:01,205] Trial 588 finished with value: 0.5741977209674738 and parameters: {'x': 0.8961580693219618, 'y': 0.7280383383476317}. Best is trial 582 with value: 0.0025033410637363023.\n",
            "[I 2024-01-24 01:57:01,231] Trial 589 finished with value: 0.266516725105888 and parameters: {'x': 0.9922117763902298, 'y': 0.9328648263480206}. Best is trial 582 with value: 0.0025033410637363023.\n",
            "[I 2024-01-24 01:57:01,248] Trial 590 finished with value: 1.0691443406515018 and parameters: {'x': 0.8479343924593251, 'y': 0.8212678722264317}. Best is trial 582 with value: 0.0025033410637363023.\n",
            "[I 2024-01-24 01:57:01,268] Trial 591 finished with value: 36.09761181148992 and parameters: {'x': 1.1533018833433135, 'y': 0.7294879654399792}. Best is trial 582 with value: 0.0025033410637363023.\n",
            "[I 2024-01-24 01:57:01,295] Trial 592 finished with value: 51.859568960437855 and parameters: {'x': 1.0267564664489108, 'y': 1.7743597534650979}. Best is trial 582 with value: 0.0025033410637363023.\n",
            "[I 2024-01-24 01:57:01,321] Trial 593 finished with value: 3.057878615470356 and parameters: {'x': 0.8628934865849341, 'y': 0.9189147541569259}. Best is trial 582 with value: 0.0025033410637363023.\n",
            "[I 2024-01-24 01:57:01,344] Trial 594 finished with value: 0.09613893923825621 and parameters: {'x': 0.9410293251413232, 'y': 0.8550958558985107}. Best is trial 582 with value: 0.0025033410637363023.\n",
            "[I 2024-01-24 01:57:01,363] Trial 595 finished with value: 0.134116809664633 and parameters: {'x': 0.8485897567104018, 'y': 0.7534500018505013}. Best is trial 582 with value: 0.0025033410637363023.\n",
            "[I 2024-01-24 01:57:01,381] Trial 596 finished with value: 0.5799322464895208 and parameters: {'x': 1.0385295747694376, 'y': 1.1545994281672245}. Best is trial 582 with value: 0.0025033410637363023.\n",
            "[I 2024-01-24 01:57:01,398] Trial 597 finished with value: 12.032403179224847 and parameters: {'x': -1.1202091847145588, 'y': 0.9803305292273249}. Best is trial 582 with value: 0.0025033410637363023.\n",
            "[I 2024-01-24 01:57:01,417] Trial 598 finished with value: 3.200440274031877 and parameters: {'x': 0.9501527399562596, 'y': 0.7239619449986766}. Best is trial 582 with value: 0.0025033410637363023.\n",
            "[I 2024-01-24 01:57:01,438] Trial 599 finished with value: 1.5292655185734247 and parameters: {'x': 0.829405553377717, 'y': 0.810394715557414}. Best is trial 582 with value: 0.0025033410637363023.\n",
            "[I 2024-01-24 01:57:01,460] Trial 600 finished with value: 1.701363640267419 and parameters: {'x': 1.096680605885597, 'y': 1.0726308167274605}. Best is trial 582 with value: 0.0025033410637363023.\n",
            "[I 2024-01-24 01:57:01,484] Trial 601 finished with value: 0.7643573723678511 and parameters: {'x': 0.8997022480635009, 'y': 0.8963144508477981}. Best is trial 582 with value: 0.0025033410637363023.\n",
            "[I 2024-01-24 01:57:01,512] Trial 602 finished with value: 6.734052159761856 and parameters: {'x': 0.9812332529767431, 'y': 0.7033249594632006}. Best is trial 582 with value: 0.0025033410637363023.\n",
            "[I 2024-01-24 01:57:01,536] Trial 603 finished with value: 2.159822272138482 and parameters: {'x': 0.8097891641321057, 'y': 0.8014857050332486}. Best is trial 582 with value: 0.0025033410637363023.\n",
            "[I 2024-01-24 01:57:01,556] Trial 604 finished with value: 0.12107350807802017 and parameters: {'x': 0.9054924027752609, 'y': 0.853404074577278}. Best is trial 582 with value: 0.0025033410637363023.\n",
            "[I 2024-01-24 01:57:01,579] Trial 605 finished with value: 10.866169588746823 and parameters: {'x': 1.009250255872474, 'y': 0.6889486414580792}. Best is trial 582 with value: 0.0025033410637363023.\n",
            "[I 2024-01-24 01:57:01,598] Trial 606 finished with value: 14.921273733205373 and parameters: {'x': 0.7888133133595271, 'y': 1.007929359015645}. Best is trial 582 with value: 0.0025033410637363023.\n",
            "[I 2024-01-24 01:57:01,625] Trial 607 finished with value: 0.13976511059930105 and parameters: {'x': 1.1746869925742587, 'y': 1.412942452515722}. Best is trial 582 with value: 0.0025033410637363023.\n",
            "[I 2024-01-24 01:57:01,642] Trial 608 finished with value: 0.022784559737520915 and parameters: {'x': 0.8799299711417762, 'y': 0.7651292146042202}. Best is trial 582 with value: 0.0025033410637363023.\n",
            "[I 2024-01-24 01:57:01,660] Trial 609 finished with value: 5.388298264196051 and parameters: {'x': 1.079439741343084, 'y': 0.9331990434711853}. Best is trial 582 with value: 0.0025033410637363023.\n",
            "[I 2024-01-24 01:57:01,677] Trial 610 finished with value: 0.6937010266921672 and parameters: {'x': 0.9415820213371436, 'y': 0.8034931084681051}. Best is trial 582 with value: 0.0025033410637363023.\n",
            "[I 2024-01-24 01:57:01,695] Trial 611 finished with value: 0.8458523360225002 and parameters: {'x': 0.8897990774281854, 'y': 0.8830500152175107}. Best is trial 582 with value: 0.0025033410637363023.\n",
            "[I 2024-01-24 01:57:01,714] Trial 612 finished with value: 2.5119595213562596 and parameters: {'x': 0.9747659487018967, 'y': 0.7916971190077011}. Best is trial 582 with value: 0.0025033410637363023.\n",
            "[I 2024-01-24 01:57:01,732] Trial 613 finished with value: 14.223820465628608 and parameters: {'x': 1.0645685839841919, 'y': 0.7562167400057256}. Best is trial 582 with value: 0.0025033410637363023.\n",
            "[I 2024-01-24 01:57:01,752] Trial 614 finished with value: 423.9302971145918 and parameters: {'x': 0.8654314006508653, 'y': -1.3099412825259402}. Best is trial 582 with value: 0.0025033410637363023.\n",
            "[I 2024-01-24 01:57:01,772] Trial 615 finished with value: 11.496457858850183 and parameters: {'x': 0.7777854422446805, 'y': 0.9432855093385434}. Best is trial 582 with value: 0.0025033410637363023.\n",
            "[I 2024-01-24 01:57:01,791] Trial 616 finished with value: 0.06579017574084928 and parameters: {'x': 0.9392765107374722, 'y': 0.8573199235001145}. Best is trial 582 with value: 0.0025033410637363023.\n",
            "[I 2024-01-24 01:57:01,817] Trial 617 finished with value: 7.3984372982723885 and parameters: {'x': 1.1376502977420837, 'y': 1.0225960382862311}. Best is trial 582 with value: 0.0025033410637363023.\n",
            "[I 2024-01-24 01:57:01,839] Trial 618 finished with value: 4.239141133420668 and parameters: {'x': 1.038763208439164, 'y': 0.8731737495188969}. Best is trial 582 with value: 0.0025033410637363023.\n",
            "[I 2024-01-24 01:57:01,863] Trial 619 finished with value: 49.385835983989274 and parameters: {'x': 1.2850456601725042, 'y': 0.9491701123388088}. Best is trial 582 with value: 0.0025033410637363023.\n",
            "[I 2024-01-24 01:57:01,880] Trial 620 finished with value: 2.203459956369633 and parameters: {'x': 0.9672218478627441, 'y': 1.0839224677810992}. Best is trial 582 with value: 0.0025033410637363023.\n",
            "[I 2024-01-24 01:57:01,898] Trial 621 finished with value: 0.44738115615886687 and parameters: {'x': 0.9449809914306098, 'y': 0.8263291863123691}. Best is trial 582 with value: 0.0025033410637363023.\n",
            "[I 2024-01-24 01:57:01,917] Trial 622 finished with value: 3.178685283608187 and parameters: {'x': 1.0311839212552218, 'y': 0.8850788745841531}. Best is trial 582 with value: 0.0025033410637363023.\n",
            "[I 2024-01-24 01:57:01,935] Trial 623 finished with value: 0.17976343731866093 and parameters: {'x': 0.8930339911472136, 'y': 0.7564826804159716}. Best is trial 582 with value: 0.0025033410637363023.\n",
            "[I 2024-01-24 01:57:01,951] Trial 624 finished with value: 6.677279907237165 and parameters: {'x': 1.2035817764532308, 'y': 1.19100795970261}. Best is trial 582 with value: 0.0025033410637363023.\n",
            "[I 2024-01-24 01:57:01,968] Trial 625 finished with value: 7.2793159886149095 and parameters: {'x': 1.1120635651311988, 'y': 0.9671161286157255}. Best is trial 582 with value: 0.0025033410637363023.\n",
            "[I 2024-01-24 01:57:01,986] Trial 626 finished with value: 0.0482849924746356 and parameters: {'x': 0.9262203810463029, 'y': 0.837185991372147}. Best is trial 582 with value: 0.0025033410637363023.\n",
            "[I 2024-01-24 01:57:02,003] Trial 627 finished with value: 0.0005745295334271727 and parameters: {'x': 1.0075025668330293, 'y': 1.0173379129489941}. Best is trial 627 with value: 0.0005745295334271727.\n",
            "[I 2024-01-24 01:57:02,020] Trial 628 finished with value: 0.4216601914640843 and parameters: {'x': 1.0818742949152755, 'y': 1.1060348500979127}. Best is trial 627 with value: 0.0005745295334271727.\n",
            "[I 2024-01-24 01:57:02,038] Trial 629 finished with value: 0.05842280333953245 and parameters: {'x': 1.0218523581854537, 'y': 1.0682540673234522}. Best is trial 627 with value: 0.0005745295334271727.\n",
            "[I 2024-01-24 01:57:02,055] Trial 630 finished with value: 1.0431471330556281 and parameters: {'x': 1.1412221695899156, 'y': 1.2012345217953524}. Best is trial 627 with value: 0.0005745295334271727.\n",
            "[I 2024-01-24 01:57:02,075] Trial 631 finished with value: 21.686319537520014 and parameters: {'x': 1.2465228897136282, 'y': 1.0887865630197906}. Best is trial 627 with value: 0.0005745295334271727.\n",
            "[I 2024-01-24 01:57:02,094] Trial 632 finished with value: 88.63332648326482 and parameters: {'x': -0.3295331187587702, 'y': 1.040609609291543}. Best is trial 627 with value: 0.0005745295334271727.\n",
            "[I 2024-01-24 01:57:02,114] Trial 633 finished with value: 0.02283559481942005 and parameters: {'x': 1.0328709432027539, 'y': 1.0520727765338767}. Best is trial 627 with value: 0.0005745295334271727.\n",
            "[I 2024-01-24 01:57:02,138] Trial 634 finished with value: 2.917937646115717 and parameters: {'x': 1.1333652512813837, 'y': 1.1142184852495791}. Best is trial 627 with value: 0.0005745295334271727.\n",
            "[I 2024-01-24 01:57:02,161] Trial 635 finished with value: 5.9239122013637715 and parameters: {'x': 1.2166272843239438, 'y': 1.2377570158161568}. Best is trial 627 with value: 0.0005745295334271727.\n",
            "[I 2024-01-24 01:57:02,186] Trial 636 finished with value: 0.576600949819084 and parameters: {'x': 1.0365426866120697, 'y': 1.1502670055380355}. Best is trial 627 with value: 0.0005745295334271727.\n",
            "[I 2024-01-24 01:57:02,204] Trial 637 finished with value: 0.19665572719597452 and parameters: {'x': 1.031305272383983, 'y': 1.0193553179146129}. Best is trial 627 with value: 0.0005745295334271727.\n",
            "[I 2024-01-24 01:57:02,223] Trial 638 finished with value: 0.15870962431566715 and parameters: {'x': 1.1145873159792878, 'y': 1.2804597498129002}. Best is trial 627 with value: 0.0005745295334271727.\n",
            "[I 2024-01-24 01:57:02,242] Trial 639 finished with value: 0.15271109014541515 and parameters: {'x': 1.0212833295759827, 'y': 1.0820399045210276}. Best is trial 627 with value: 0.0005745295334271727.\n",
            "[I 2024-01-24 01:57:02,261] Trial 640 finished with value: 57.230720920089944 and parameters: {'x': 1.3336982161699835, 'y': 1.0229773782910923}. Best is trial 627 with value: 0.0005745295334271727.\n",
            "[I 2024-01-24 01:57:02,278] Trial 641 finished with value: 3.6337972516953276 and parameters: {'x': 1.0014127934186636, 'y': 1.1934527452673565}. Best is trial 627 with value: 0.0005745295334271727.\n",
            "[I 2024-01-24 01:57:02,298] Trial 642 finished with value: 19.048272624518674 and parameters: {'x': 1.1950809891910696, 'y': 0.9922115061939771}. Best is trial 627 with value: 0.0005745295334271727.\n",
            "[I 2024-01-24 01:57:02,316] Trial 643 finished with value: 0.10145876695119321 and parameters: {'x': 1.0619650991830663, 'y': 1.0965258174989971}. Best is trial 627 with value: 0.0005745295334271727.\n",
            "[I 2024-01-24 01:57:02,333] Trial 644 finished with value: 0.17949474817670127 and parameters: {'x': 0.955562615905531, 'y': 0.9552330432380409}. Best is trial 627 with value: 0.0005745295334271727.\n",
            "[I 2024-01-24 01:57:02,350] Trial 645 finished with value: 2.603409119138663 and parameters: {'x': 1.097137580335643, 'y': 1.0426527002701125}. Best is trial 627 with value: 0.0005745295334271727.\n",
            "[I 2024-01-24 01:57:02,371] Trial 646 finished with value: 0.0552182534278253 and parameters: {'x': 0.9809472443777536, 'y': 0.9388362994573056}. Best is trial 627 with value: 0.0005745295334271727.\n",
            "[I 2024-01-24 01:57:02,389] Trial 647 finished with value: 12.14715390920373 and parameters: {'x': 1.1441577346155096, 'y': 0.9608675079780585}. Best is trial 627 with value: 0.0005745295334271727.\n",
            "[I 2024-01-24 01:57:02,406] Trial 648 finished with value: 0.15238729404150927 and parameters: {'x': 1.0380196661459564, 'y': 1.116336056247414}. Best is trial 627 with value: 0.0005745295334271727.\n",
            "[I 2024-01-24 01:57:02,432] Trial 649 finished with value: 0.09139345123694399 and parameters: {'x': 0.9872961024986335, 'y': 1.0049582397154426}. Best is trial 627 with value: 0.0005745295334271727.\n",
            "[I 2024-01-24 01:57:02,451] Trial 650 finished with value: 0.007050984441475585 and parameters: {'x': 0.9788350019673696, 'y': 0.9499920597112246}. Best is trial 627 with value: 0.0005745295334271727.\n",
            "[I 2024-01-24 01:57:02,470] Trial 651 finished with value: 0.019355273229409116 and parameters: {'x': 1.0839089731321998, 'y': 1.1859557596107797}. Best is trial 627 with value: 0.0005745295334271727.\n",
            "[I 2024-01-24 01:57:02,488] Trial 652 finished with value: 15.519273981615582 and parameters: {'x': 1.3039586450323726, 'y': 1.3075374371865889}. Best is trial 627 with value: 0.0005745295334271727.\n",
            "[I 2024-01-24 01:57:02,505] Trial 653 finished with value: 5.447600079876016 and parameters: {'x': 1.1912278678328747, 'y': 1.1864075829719614}. Best is trial 627 with value: 0.0005745295334271727.\n",
            "[I 2024-01-24 01:57:02,524] Trial 654 finished with value: 1.856478518830205 and parameters: {'x': 1.1228113188938353, 'y': 1.3964033012553823}. Best is trial 627 with value: 0.0005745295334271727.\n",
            "[I 2024-01-24 01:57:02,542] Trial 655 finished with value: 0.21722821038921392 and parameters: {'x': 1.0788735445647806, 'y': 1.2099036423959357}. Best is trial 627 with value: 0.0005745295334271727.\n",
            "[I 2024-01-24 01:57:02,559] Trial 656 finished with value: 17.27309804525998 and parameters: {'x': 1.2265652476850204, 'y': 1.0894711474793901}. Best is trial 627 with value: 0.0005745295334271727.\n",
            "[I 2024-01-24 01:57:02,575] Trial 657 finished with value: 0.08791730213060091 and parameters: {'x': 1.0781175202865336, 'y': 1.1909407011950883}. Best is trial 627 with value: 0.0005745295334271727.\n",
            "[I 2024-01-24 01:57:02,594] Trial 658 finished with value: 883.6731161651695 and parameters: {'x': 1.9996056098143336, 'y': 1.0274397527266383}. Best is trial 627 with value: 0.0005745295334271727.\n",
            "[I 2024-01-24 01:57:02,611] Trial 659 finished with value: 66.24685900568272 and parameters: {'x': 1.396760590402931, 'y': 1.1379860274126845}. Best is trial 627 with value: 0.0005745295334271727.\n",
            "[I 2024-01-24 01:57:02,629] Trial 660 finished with value: 5.556876759676864 and parameters: {'x': 1.01814056528042, 'y': 1.2723335162540295}. Best is trial 627 with value: 0.0005745295334271727.\n",
            "[I 2024-01-24 01:57:02,647] Trial 661 finished with value: 1.3924117538626628 and parameters: {'x': 1.1189173019543428, 'y': 1.1345761658720306}. Best is trial 627 with value: 0.0005745295334271727.\n",
            "[I 2024-01-24 01:57:02,665] Trial 662 finished with value: 168.07294144955873 and parameters: {'x': 1.4971921780661797, 'y': 0.9461086699775915}. Best is trial 627 with value: 0.0005745295334271727.\n",
            "[I 2024-01-24 01:57:02,682] Trial 663 finished with value: 0.2863247690048178 and parameters: {'x': 0.9980223103695811, 'y': 1.049557489913578}. Best is trial 627 with value: 0.0005745295334271727.\n",
            "[I 2024-01-24 01:57:02,699] Trial 664 finished with value: 325.1416836502615 and parameters: {'x': 0.9737803594213116, 'y': -0.8549184599789599}. Best is trial 627 with value: 0.0005745295334271727.\n",
            "[I 2024-01-24 01:57:02,716] Trial 665 finished with value: 25.798041875536494 and parameters: {'x': 1.2091195116310112, 'y': 0.9544829403168695}. Best is trial 627 with value: 0.0005745295334271727.\n",
            "[I 2024-01-24 01:57:02,733] Trial 666 finished with value: 1.2569793055477017 and parameters: {'x': 1.0580256089927862, 'y': 1.0074533584559107}. Best is trial 627 with value: 0.0005745295334271727.\n",
            "[I 2024-01-24 01:57:02,751] Trial 667 finished with value: 15.833441555382333 and parameters: {'x': 1.1505029408942342, 'y': 0.9260291706453344}. Best is trial 627 with value: 0.0005745295334271727.\n",
            "[I 2024-01-24 01:57:02,767] Trial 668 finished with value: 0.9298094560871906 and parameters: {'x': 0.9697931523089995, 'y': 1.036878061149384}. Best is trial 627 with value: 0.0005745295334271727.\n",
            "[I 2024-01-24 01:57:02,785] Trial 669 finished with value: 1.7997048723702904 and parameters: {'x': 1.0277170497656507, 'y': 0.9220778907632955}. Best is trial 627 with value: 0.0005745295334271727.\n",
            "[I 2024-01-24 01:57:02,803] Trial 670 finished with value: 6.701969351032484 and parameters: {'x': 0.943064661166608, 'y': 1.1481899598187744}. Best is trial 627 with value: 0.0005745295334271727.\n",
            "[I 2024-01-24 01:57:02,819] Trial 671 finished with value: 6.565685875688348 and parameters: {'x': 1.0765873264862877, 'y': 0.9029188109680273}. Best is trial 627 with value: 0.0005745295334271727.\n",
            "[I 2024-01-24 01:57:02,836] Trial 672 finished with value: 4.397191946812233 and parameters: {'x': 0.9219433790530144, 'y': 1.059529089782485}. Best is trial 627 with value: 0.0005745295334271727.\n",
            "[I 2024-01-24 01:57:02,852] Trial 673 finished with value: 324.9114591918905 and parameters: {'x': 1.1554270792300168, 'y': -0.46745130613078534}. Best is trial 627 with value: 0.0005745295334271727.\n",
            "[I 2024-01-24 01:57:02,868] Trial 674 finished with value: 0.00016743370609194298 and parameters: {'x': 0.9940166705778987, 'y': 0.9892164577124567}. Best is trial 674 with value: 0.00016743370609194298.\n",
            "[I 2024-01-24 01:57:02,885] Trial 675 finished with value: 13.380399421916882 and parameters: {'x': 1.2682166244910908, 'y': 1.243565796185034}. Best is trial 674 with value: 0.00016743370609194298.\n",
            "[I 2024-01-24 01:57:02,903] Trial 676 finished with value: 0.9320200052270733 and parameters: {'x': 0.9995259957607072, 'y': 1.0955933877577726}. Best is trial 674 with value: 0.00016743370609194298.\n",
            "[I 2024-01-24 01:57:02,921] Trial 677 finished with value: 6.9520701316668765 and parameters: {'x': 1.118188291540973, 'y': 0.9869422903688382}. Best is trial 674 with value: 0.00016743370609194298.\n",
            "[I 2024-01-24 01:57:02,938] Trial 678 finished with value: 1.7930136528281362 and parameters: {'x': 1.057829326300762, 'y': 0.9852243568353742}. Best is trial 674 with value: 0.00016743370609194298.\n",
            "[I 2024-01-24 01:57:02,955] Trial 679 finished with value: 2.693292790155456 and parameters: {'x': 0.9779292708630513, 'y': 1.1204433636414532}. Best is trial 674 with value: 0.00016743370609194298.\n",
            "[I 2024-01-24 01:57:02,971] Trial 680 finished with value: 18.80205869318654 and parameters: {'x': 1.1620299859434569, 'y': 0.9170031185840474}. Best is trial 674 with value: 0.00016743370609194298.\n",
            "[I 2024-01-24 01:57:02,987] Trial 681 finished with value: 3.8202450073251706 and parameters: {'x': 0.9243151888173501, 'y': 1.049666448730867}. Best is trial 674 with value: 0.00016743370609194298.\n",
            "[I 2024-01-24 01:57:03,006] Trial 682 finished with value: 4.151326535935338 and parameters: {'x': 1.049265468157028, 'y': 0.8972695485308505}. Best is trial 674 with value: 0.00016743370609194298.\n",
            "[I 2024-01-24 01:57:03,024] Trial 683 finished with value: 5.695014433323696 and parameters: {'x': 0.9593562265542213, 'y': 1.1589720498790008}. Best is trial 674 with value: 0.00016743370609194298.\n",
            "[I 2024-01-24 01:57:03,042] Trial 684 finished with value: 4.289951504896711 and parameters: {'x': 0.8692954158668209, 'y': 0.9623836832833245}. Best is trial 674 with value: 0.00016743370609194298.\n",
            "[I 2024-01-24 01:57:03,059] Trial 685 finished with value: 0.01012664480146986 and parameters: {'x': 1.012537329835554, 'y': 1.015247125905839}. Best is trial 674 with value: 0.00016743370609194298.\n",
            "[I 2024-01-24 01:57:03,076] Trial 686 finished with value: 11.911415648097588 and parameters: {'x': 1.104699094346886, 'y': 0.8753897461553786}. Best is trial 674 with value: 0.00016743370609194298.\n",
            "[I 2024-01-24 01:57:03,094] Trial 687 finished with value: 0.7704001891612909 and parameters: {'x': 0.9401633913833992, 'y': 0.9714754484221023}. Best is trial 674 with value: 0.00016743370609194298.\n",
            "[I 2024-01-24 01:57:03,112] Trial 688 finished with value: 37.39120661241921 and parameters: {'x': 1.216362335736421, 'y': 0.8684367349068327}. Best is trial 674 with value: 0.00016743370609194298.\n",
            "[I 2024-01-24 01:57:03,129] Trial 689 finished with value: 8.00871785025819 and parameters: {'x': 0.8518671582753964, 'y': 1.0082864753001035}. Best is trial 674 with value: 0.00016743370609194298.\n",
            "[I 2024-01-24 01:57:03,145] Trial 690 finished with value: 1.6843620072393903 and parameters: {'x': 1.0120232285364796, 'y': 0.8944136114704604}. Best is trial 674 with value: 0.00016743370609194298.\n",
            "[I 2024-01-24 01:57:03,163] Trial 691 finished with value: 0.047044765797525374 and parameters: {'x': 0.9132152107765961, 'y': 0.8538399401383845}. Best is trial 674 with value: 0.00016743370609194298.\n",
            "[I 2024-01-24 01:57:03,183] Trial 692 finished with value: 4.692656621950204 and parameters: {'x': 1.0816665920645385, 'y': 0.9535312051192469}. Best is trial 674 with value: 0.00016743370609194298.\n",
            "[I 2024-01-24 01:57:03,199] Trial 693 finished with value: 0.9729010769024191 and parameters: {'x': 0.9677729188282329, 'y': 1.03516750880345}. Best is trial 674 with value: 0.00016743370609194298.\n",
            "[I 2024-01-24 01:57:03,219] Trial 694 finished with value: 0.7544851085053917 and parameters: {'x': 0.8905717854440992, 'y': 0.8792871583118382}. Best is trial 674 with value: 0.00016743370609194298.\n",
            "[I 2024-01-24 01:57:03,236] Trial 695 finished with value: 6.912410068737278 and parameters: {'x': 1.008731982488849, 'y': 1.2804533886818459}. Best is trial 674 with value: 0.00016743370609194298.\n",
            "[I 2024-01-24 01:57:03,253] Trial 696 finished with value: 27.19798728806319 and parameters: {'x': 1.1736131969564312, 'y': 0.8561400996503109}. Best is trial 674 with value: 0.00016743370609194298.\n",
            "[I 2024-01-24 01:57:03,270] Trial 697 finished with value: 1.8714848498561587 and parameters: {'x': 0.9190738165043287, 'y': 0.9812593325702366}. Best is trial 674 with value: 0.00016743370609194298.\n",
            "[I 2024-01-24 01:57:03,290] Trial 698 finished with value: 49.74574494866425 and parameters: {'x': -0.4951868853786273, 'y': 0.9344862016727675}. Best is trial 674 with value: 0.00016743370609194298.\n",
            "[I 2024-01-24 01:57:03,308] Trial 699 finished with value: 14.028877932882654 and parameters: {'x': 1.095743931167317, 'y': 0.8262257169079339}. Best is trial 674 with value: 0.00016743370609194298.\n",
            "[I 2024-01-24 01:57:03,324] Trial 700 finished with value: 17.440541900189366 and parameters: {'x': 0.8679015585851406, 'y': 1.1706628889020987}. Best is trial 674 with value: 0.00016743370609194298.\n",
            "[I 2024-01-24 01:57:03,341] Trial 701 finished with value: 0.7288782539938419 and parameters: {'x': 0.9997648642452456, 'y': 1.0849041475371204}. Best is trial 674 with value: 0.00016743370609194298.\n",
            "[I 2024-01-24 01:57:03,358] Trial 702 finished with value: 0.34439461176529695 and parameters: {'x': 0.953983917104849, 'y': 0.8515808585481222}. Best is trial 674 with value: 0.00016743370609194298.\n",
            "[I 2024-01-24 01:57:03,379] Trial 703 finished with value: 1.0680831973296605 and parameters: {'x': 1.0660296952924717, 'y': 1.03328235003992}. Best is trial 674 with value: 0.00016743370609194298.\n",
            "[I 2024-01-24 01:57:03,396] Trial 704 finished with value: 6.774353160657758 and parameters: {'x': 0.8316941298849648, 'y': 0.9514462615687871}. Best is trial 674 with value: 0.00016743370609194298.\n",
            "[I 2024-01-24 01:57:03,416] Trial 705 finished with value: 777.8953059328455 and parameters: {'x': 1.904089712217619, 'y': 0.8379458806460383}. Best is trial 674 with value: 0.00016743370609194298.\n",
            "[I 2024-01-24 01:57:03,443] Trial 706 finished with value: 14.370695277977944 and parameters: {'x': 0.9103957505571308, 'y': 1.2078015086573612}. Best is trial 674 with value: 0.00016743370609194298.\n",
            "[I 2024-01-24 01:57:03,464] Trial 707 finished with value: 1.3228910260693925 and parameters: {'x': 1.0224010744492444, 'y': 0.9303087737474546}. Best is trial 674 with value: 0.00016743370609194298.\n",
            "[I 2024-01-24 01:57:03,482] Trial 708 finished with value: 6.726492741025161 and parameters: {'x': 1.1534076665610697, 'y': 1.071448514713832}. Best is trial 674 with value: 0.00016743370609194298.\n",
            "[I 2024-01-24 01:57:03,500] Trial 709 finished with value: 66.56212580880454 and parameters: {'x': 1.2738392967875387, 'y': 0.8072700992506042}. Best is trial 674 with value: 0.00016743370609194298.\n",
            "[I 2024-01-24 01:57:03,517] Trial 710 finished with value: 9.258379985875095 and parameters: {'x': 0.8377198999543257, 'y': 1.0056174380829375}. Best is trial 674 with value: 0.00016743370609194298.\n",
            "[I 2024-01-24 01:57:03,535] Trial 711 finished with value: 0.1177322069897827 and parameters: {'x': 0.9667377370421599, 'y': 0.900431328235269}. Best is trial 674 with value: 0.00016743370609194298.\n",
            "[I 2024-01-24 01:57:03,553] Trial 712 finished with value: 22.03950496660149 and parameters: {'x': 0.9227281499168061, 'y': 1.320826152450215}. Best is trial 674 with value: 0.00016743370609194298.\n",
            "[I 2024-01-24 01:57:03,569] Trial 713 finished with value: 12.718791675718947 and parameters: {'x': 1.0815193926398832, 'y': 0.8131432275608277}. Best is trial 674 with value: 0.00016743370609194298.\n",
            "[I 2024-01-24 01:57:03,587] Trial 714 finished with value: 16.65176077178604 and parameters: {'x': 0.838783122902561, 'y': 1.111304228915283}. Best is trial 674 with value: 0.00016743370609194298.\n",
            "[I 2024-01-24 01:57:03,606] Trial 715 finished with value: 0.5887353433475573 and parameters: {'x': 1.0038215010568035, 'y': 0.9309294664602086}. Best is trial 674 with value: 0.00016743370609194298.\n",
            "[I 2024-01-24 01:57:03,623] Trial 716 finished with value: 3.300619905750086 and parameters: {'x': 0.9070122263218584, 'y': 1.0041091344755138}. Best is trial 674 with value: 0.00016743370609194298.\n",
            "[I 2024-01-24 01:57:03,641] Trial 717 finished with value: 10.09987272528459 and parameters: {'x': 1.0667331411585885, 'y': 0.8201866969809861}. Best is trial 674 with value: 0.00016743370609194298.\n",
            "[I 2024-01-24 01:57:03,658] Trial 718 finished with value: 5.385068922490438 and parameters: {'x': 0.80141845665217, 'y': 0.8734778205431711}. Best is trial 674 with value: 0.00016743370609194298.\n",
            "[I 2024-01-24 01:57:03,676] Trial 719 finished with value: 29.6008705456418 and parameters: {'x': 1.1534331932405777, 'y': 0.7865577032942043}. Best is trial 674 with value: 0.00016743370609194298.\n",
            "[I 2024-01-24 01:57:03,695] Trial 720 finished with value: 9.520554208197007 and parameters: {'x': 0.9287565244985956, 'y': 1.171060375401146}. Best is trial 674 with value: 0.00016743370609194298.\n",
            "[I 2024-01-24 01:57:03,713] Trial 721 finished with value: 0.5208063851165172 and parameters: {'x': 1.029036311483346, 'y': 0.9868072511180863}. Best is trial 674 with value: 0.00016743370609194298.\n",
            "[I 2024-01-24 01:57:03,731] Trial 722 finished with value: 3.525495105073309 and parameters: {'x': 0.8508055619150373, 'y': 0.9110394426125019}. Best is trial 674 with value: 0.00016743370609194298.\n",
            "[I 2024-01-24 01:57:03,747] Trial 723 finished with value: 2.090475341587564 and parameters: {'x': 0.9677123384585937, 'y': 1.0810158762773063}. Best is trial 674 with value: 0.00016743370609194298.\n",
            "[I 2024-01-24 01:57:03,764] Trial 724 finished with value: 1.1904281687430418 and parameters: {'x': 1.2263846203783992, 'y': 1.3972869471224652}. Best is trial 674 with value: 0.00016743370609194298.\n",
            "[I 2024-01-24 01:57:03,782] Trial 725 finished with value: 20.329363107175634 and parameters: {'x': 1.1051402921129165, 'y': 0.7705767195033927}. Best is trial 674 with value: 0.00016743370609194298.\n",
            "[I 2024-01-24 01:57:03,799] Trial 726 finished with value: 110.18859096043391 and parameters: {'x': 0.7698944544328866, 'y': 1.6421927696730991}. Best is trial 674 with value: 0.00016743370609194298.\n",
            "[I 2024-01-24 01:57:03,816] Trial 727 finished with value: 1.2768793307675734 and parameters: {'x': 0.8906228814402146, 'y': 0.9056776003837048}. Best is trial 674 with value: 0.00016743370609194298.\n",
            "[I 2024-01-24 01:57:03,834] Trial 728 finished with value: 0.03356424971534395 and parameters: {'x': 0.9979891330507278, 'y': 1.0143017545832609}. Best is trial 674 with value: 0.00016743370609194298.\n",
            "[I 2024-01-24 01:57:03,851] Trial 729 finished with value: 1.6004850523995444 and parameters: {'x': 1.050282296232582, 'y': 1.2295032155631178}. Best is trial 674 with value: 0.00016743370609194298.\n",
            "[I 2024-01-24 01:57:03,869] Trial 730 finished with value: 16.795917596973943 and parameters: {'x': 0.8469905716699844, 'y': 1.1269355258264644}. Best is trial 674 with value: 0.00016743370609194298.\n",
            "[I 2024-01-24 01:57:03,887] Trial 731 finished with value: 1.863734306358881 and parameters: {'x': 0.9429851260122701, 'y': 1.0256204937191753}. Best is trial 674 with value: 0.00016743370609194298.\n",
            "[I 2024-01-24 01:57:03,906] Trial 732 finished with value: 5.747837694676806 and parameters: {'x': 1.1402136670264398, 'y': 1.060751086712241}. Best is trial 674 with value: 0.00016743370609194298.\n",
            "[I 2024-01-24 01:57:03,924] Trial 733 finished with value: 2.9272358211966436 and parameters: {'x': 1.0106766839069896, 'y': 0.8503790246179618}. Best is trial 674 with value: 0.00016743370609194298.\n",
            "[I 2024-01-24 01:57:03,942] Trial 734 finished with value: 2.295096247306289 and parameters: {'x': 0.7945873585939593, 'y': 0.7814657690704693}. Best is trial 674 with value: 0.00016743370609194298.\n",
            "[I 2024-01-24 01:57:03,960] Trial 735 finished with value: 4.454448361602758 and parameters: {'x': 0.8883388015611735, 'y': 0.9999058827826959}. Best is trial 674 with value: 0.00016743370609194298.\n",
            "[I 2024-01-24 01:57:03,978] Trial 736 finished with value: 0.005024425855567837 and parameters: {'x': 1.0650168281487866, 'y': 1.1314373040632337}. Best is trial 674 with value: 0.00016743370609194298.\n",
            "[I 2024-01-24 01:57:03,995] Trial 737 finished with value: 2.2890747930451267 and parameters: {'x': 1.1725204842096066, 'y': 1.2244942238336218}. Best is trial 674 with value: 0.00016743370609194298.\n",
            "[I 2024-01-24 01:57:04,013] Trial 738 finished with value: 42.66341812468884 and parameters: {'x': 1.3493564751326992, 'y': 1.1685254541906427}. Best is trial 674 with value: 0.00016743370609194298.\n",
            "[I 2024-01-24 01:57:04,031] Trial 739 finished with value: 0.446355648194077 and parameters: {'x': 1.1081476222127329, 'y': 1.2939198823171172}. Best is trial 674 with value: 0.00016743370609194298.\n",
            "[I 2024-01-24 01:57:04,048] Trial 740 finished with value: 14.413126608741909 and parameters: {'x': 1.2224107346747648, 'y': 1.1152938080676904}. Best is trial 674 with value: 0.00016743370609194298.\n",
            "[I 2024-01-24 01:57:04,065] Trial 741 finished with value: 0.9648249921433794 and parameters: {'x': 1.0864252310696643, 'y': 1.0824752288666606}. Best is trial 674 with value: 0.00016743370609194298.\n",
            "[I 2024-01-24 01:57:04,084] Trial 742 finished with value: 0.1875226939584949 and parameters: {'x': 1.034476912459162, 'y': 1.1133089087706292}. Best is trial 674 with value: 0.00016743370609194298.\n",
            "[I 2024-01-24 01:57:04,101] Trial 743 finished with value: 6.072775474469222 and parameters: {'x': 1.3034604354703063, 'y': 1.4544546703898}. Best is trial 674 with value: 0.00016743370609194298.\n",
            "[I 2024-01-24 01:57:04,119] Trial 744 finished with value: 2.083290124773559 and parameters: {'x': 1.0461950137776437, 'y': 1.238786134436144}. Best is trial 674 with value: 0.00016743370609194298.\n",
            "[I 2024-01-24 01:57:04,136] Trial 745 finished with value: 3.303095517667479 and parameters: {'x': 1.168025320494063, 'y': 1.18331732355414}. Best is trial 674 with value: 0.00016743370609194298.\n",
            "[I 2024-01-24 01:57:04,152] Trial 746 finished with value: 1.6627664983684043 and parameters: {'x': 0.9513506154458609, 'y': 1.0339244925983564}. Best is trial 674 with value: 0.00016743370609194298.\n",
            "[I 2024-01-24 01:57:04,170] Trial 747 finished with value: 0.17909576281997433 and parameters: {'x': 1.005186861853268, 'y': 0.9680840986414014}. Best is trial 674 with value: 0.00016743370609194298.\n",
            "[I 2024-01-24 01:57:04,189] Trial 748 finished with value: 0.6374295232378376 and parameters: {'x': 1.1247735552333318, 'y': 1.3439737196377632}. Best is trial 674 with value: 0.00016743370609194298.\n",
            "[I 2024-01-24 01:57:04,206] Trial 749 finished with value: 3.079303397895812 and parameters: {'x': 0.9773315720128041, 'y': 1.1306417998396752}. Best is trial 674 with value: 0.00016743370609194298.\n",
            "[I 2024-01-24 01:57:04,224] Trial 750 finished with value: 2.8738120282082806 and parameters: {'x': 1.0779885786685899, 'y': 0.9927156480791263}. Best is trial 674 with value: 0.00016743370609194298.\n",
            "[I 2024-01-24 01:57:04,242] Trial 751 finished with value: 0.18908032667918817 and parameters: {'x': 0.9387551687407925, 'y': 0.9243111678041319}. Best is trial 674 with value: 0.00016743370609194298.\n",
            "[I 2024-01-24 01:57:04,259] Trial 752 finished with value: 16.378329584016804 and parameters: {'x': 1.2163916037723275, 'y': 1.0754859748693215}. Best is trial 674 with value: 0.00016743370609194298.\n",
            "[I 2024-01-24 01:57:04,277] Trial 753 finished with value: 5.501264414358067 and parameters: {'x': 1.0382391633212085, 'y': 0.8434239898213294}. Best is trial 674 with value: 0.00016743370609194298.\n",
            "[I 2024-01-24 01:57:04,293] Trial 754 finished with value: 3.0836931092220072 and parameters: {'x': 0.908667781288957, 'y': 1.0010439390570036}. Best is trial 674 with value: 0.00016743370609194298.\n",
            "[I 2024-01-24 01:57:04,312] Trial 755 finished with value: 275.59179272764413 and parameters: {'x': 1.5993309236842816, 'y': 0.8988458556734155}. Best is trial 674 with value: 0.00016743370609194298.\n",
            "[I 2024-01-24 01:57:04,329] Trial 756 finished with value: 237.6502858118353 and parameters: {'x': 0.9858116280438494, 'y': -0.5697657962756262}. Best is trial 674 with value: 0.00016743370609194298.\n",
            "[I 2024-01-24 01:57:04,346] Trial 757 finished with value: 853.230133240014 and parameters: {'x': 1.0949000580650285, 'y': -1.722188774209012}. Best is trial 674 with value: 0.00016743370609194298.\n",
            "[I 2024-01-24 01:57:04,363] Trial 758 finished with value: 17.51606624707148 and parameters: {'x': 0.8730815043663264, 'y': 1.18060082385048}. Best is trial 674 with value: 0.00016743370609194298.\n",
            "[I 2024-01-24 01:57:04,382] Trial 759 finished with value: 19.634576900112965 and parameters: {'x': 0.7773735157918737, 'y': 1.0468591774352043}. Best is trial 674 with value: 0.00016743370609194298.\n",
            "[I 2024-01-24 01:57:04,399] Trial 760 finished with value: 0.041082404351220944 and parameters: {'x': 0.9661455011212663, 'y': 0.9534211923013579}. Best is trial 674 with value: 0.00016743370609194298.\n",
            "[I 2024-01-24 01:57:04,415] Trial 761 finished with value: 12.063932859079362 and parameters: {'x': 1.1481771743062221, 'y': 0.9712953140871652}. Best is trial 674 with value: 0.00016743370609194298.\n",
            "[I 2024-01-24 01:57:04,433] Trial 762 finished with value: 3.906667760186827 and parameters: {'x': 1.0217958419170634, 'y': 1.2417076467631138}. Best is trial 674 with value: 0.00016743370609194298.\n",
            "[I 2024-01-24 01:57:04,452] Trial 763 finished with value: 18.1474109111474 and parameters: {'x': 1.242947466861028, 'y': 1.1196139563107188}. Best is trial 674 with value: 0.00016743370609194298.\n",
            "[I 2024-01-24 01:57:04,469] Trial 764 finished with value: 67.07927883845797 and parameters: {'x': -1.3499590629175655, 'y': 1.0378069632020495}. Best is trial 674 with value: 0.00016743370609194298.\n",
            "[I 2024-01-24 01:57:04,485] Trial 765 finished with value: 0.1413163619254065 and parameters: {'x': 0.9805545354355348, 'y': 0.9239454554168496}. Best is trial 674 with value: 0.00016743370609194298.\n",
            "[I 2024-01-24 01:57:04,504] Trial 766 finished with value: 123.97519960192369 and parameters: {'x': -0.20999277007889228, 'y': 1.150944365335727}. Best is trial 674 with value: 0.00016743370609194298.\n",
            "[I 2024-01-24 01:57:04,522] Trial 767 finished with value: 4.628697858281763 and parameters: {'x': 1.0883851840413297, 'y': 0.9696198489197956}. Best is trial 674 with value: 0.00016743370609194298.\n",
            "[I 2024-01-24 01:57:04,541] Trial 768 finished with value: 10.203330521545489 and parameters: {'x': 0.8567486062907387, 'y': 1.053123322565007}. Best is trial 674 with value: 0.00016743370609194298.\n",
            "[I 2024-01-24 01:57:04,559] Trial 769 finished with value: 0.3448945483835962 and parameters: {'x': 0.9698603503259985, 'y': 0.8819787666630217}. Best is trial 674 with value: 0.00016743370609194298.\n",
            "[I 2024-01-24 01:57:04,577] Trial 770 finished with value: 60.614336361236916 and parameters: {'x': 1.0355464563705858, 'y': 1.8509004428601634}. Best is trial 674 with value: 0.00016743370609194298.\n",
            "[I 2024-01-24 01:57:04,595] Trial 771 finished with value: 16.382666132629193 and parameters: {'x': 1.1684776603803109, 'y': 0.960935772175326}. Best is trial 674 with value: 0.00016743370609194298.\n",
            "[I 2024-01-24 01:57:04,611] Trial 772 finished with value: 24.26431091305324 and parameters: {'x': 0.9032359337963429, 'y': 1.3083282751853758}. Best is trial 674 with value: 0.00016743370609194298.\n",
            "[I 2024-01-24 01:57:04,631] Trial 773 finished with value: 1.9345926380559437 and parameters: {'x': 0.8244467421327527, 'y': 0.8176897364178564}. Best is trial 674 with value: 0.00016743370609194298.\n",
            "[I 2024-01-24 01:57:04,651] Trial 774 finished with value: 1.23231129920533 and parameters: {'x': 1.0749127707388584, 'y': 1.0446810032162035}. Best is trial 674 with value: 0.00016743370609194298.\n",
            "[I 2024-01-24 01:57:04,670] Trial 775 finished with value: 0.08047166323652509 and parameters: {'x': 0.9480336674054466, 'y': 0.8708803528420356}. Best is trial 674 with value: 0.00016743370609194298.\n",
            "[I 2024-01-24 01:57:04,689] Trial 776 finished with value: 53.23364722382843 and parameters: {'x': -0.097910816686124, 'y': 0.7308925592094655}. Best is trial 674 with value: 0.00016743370609194298.\n",
            "[I 2024-01-24 01:57:04,707] Trial 777 finished with value: 57.922380875003405 and parameters: {'x': -0.6122002053098685, 'y': 1.1185847042550505}. Best is trial 674 with value: 0.00016743370609194298.\n",
            "[I 2024-01-24 01:57:04,726] Trial 778 finished with value: 438.20239099327716 and parameters: {'x': 1.7371990635219032, 'y': 0.9258306426007151}. Best is trial 674 with value: 0.00016743370609194298.\n",
            "[I 2024-01-24 01:57:04,746] Trial 779 finished with value: 5.48766355819525 and parameters: {'x': 0.7515583150745571, 'y': 0.7977763791526575}. Best is trial 674 with value: 0.00016743370609194298.\n",
            "[I 2024-01-24 01:57:04,766] Trial 780 finished with value: 0.11553786465441954 and parameters: {'x': 1.0080273494757626, 'y': 0.9821377561663426}. Best is trial 674 with value: 0.00016743370609194298.\n",
            "[I 2024-01-24 01:57:04,785] Trial 781 finished with value: 14.759258225557017 and parameters: {'x': 0.9005048435377166, 'y': 1.1949579146394638}. Best is trial 674 with value: 0.00016743370609194298.\n",
            "[I 2024-01-24 01:57:04,806] Trial 782 finished with value: 20.588171588372546 and parameters: {'x': 1.1496346505514023, 'y': 0.8681647243754442}. Best is trial 674 with value: 0.00016743370609194298.\n",
            "[I 2024-01-24 01:57:04,827] Trial 783 finished with value: 14.232790045407762 and parameters: {'x': 0.8364292794273063, 'y': 1.0765228762940076}. Best is trial 674 with value: 0.00016743370609194298.\n",
            "[I 2024-01-24 01:57:04,847] Trial 784 finished with value: 18.030054671455627 and parameters: {'x': 1.0678883452833317, 'y': 0.7158216730401167}. Best is trial 674 with value: 0.00016743370609194298.\n",
            "[I 2024-01-24 01:57:04,882] Trial 785 finished with value: 0.39916321572681907 and parameters: {'x': 0.9586083454096355, 'y': 0.9819735913403272}. Best is trial 674 with value: 0.00016743370609194298.\n",
            "[I 2024-01-24 01:57:04,916] Trial 786 finished with value: 6.033236644328536 and parameters: {'x': 0.7601173825527813, 'y': 0.8222307409173818}. Best is trial 674 with value: 0.00016743370609194298.\n",
            "[I 2024-01-24 01:57:04,937] Trial 787 finished with value: 1.4970502627055513 and parameters: {'x': 0.8804048768296674, 'y': 0.8968808574707611}. Best is trial 674 with value: 0.00016743370609194298.\n",
            "[I 2024-01-24 01:57:04,959] Trial 788 finished with value: 15.082297711777777 and parameters: {'x': 1.280214498164885, 'y': 1.2516020618413908}. Best is trial 674 with value: 0.00016743370609194298.\n",
            "[I 2024-01-24 01:57:04,982] Trial 789 finished with value: 0.012504043064107405 and parameters: {'x': 1.0179357583376463, 'y': 1.0251558390151243}. Best is trial 674 with value: 0.00016743370609194298.\n",
            "[I 2024-01-24 01:57:05,002] Trial 790 finished with value: 6.325169825791695 and parameters: {'x': 1.1732572591086154, 'y': 1.1256311861714456}. Best is trial 674 with value: 0.00016743370609194298.\n",
            "[I 2024-01-24 01:57:05,025] Trial 791 finished with value: 0.2352973835601527 and parameters: {'x': 1.0738819880111625, 'y': 1.1052810144564351}. Best is trial 674 with value: 0.00016743370609194298.\n",
            "[I 2024-01-24 01:57:05,045] Trial 792 finished with value: 0.020273060841316838 and parameters: {'x': 1.0143570094066208, 'y': 1.0430859242341115}. Best is trial 674 with value: 0.00016743370609194298.\n",
            "[I 2024-01-24 01:57:05,066] Trial 793 finished with value: 0.12359819323490283 and parameters: {'x': 1.1162271094047624, 'y': 1.2127832291692888}. Best is trial 674 with value: 0.00016743370609194298.\n",
            "[I 2024-01-24 01:57:05,088] Trial 794 finished with value: 820.0740673109669 and parameters: {'x': 1.1963917847425753, 'y': -1.4322728908444669}. Best is trial 674 with value: 0.00016743370609194298.\n",
            "[I 2024-01-24 01:57:05,111] Trial 795 finished with value: 2.077148377327502 and parameters: {'x': 1.0112175660880354, 'y': 1.166679755286131}. Best is trial 674 with value: 0.00016743370609194298.\n",
            "[I 2024-01-24 01:57:05,132] Trial 796 finished with value: 2.5334781172783347 and parameters: {'x': 1.1100431359203504, 'y': 1.0734075831396221}. Best is trial 674 with value: 0.00016743370609194298.\n",
            "[I 2024-01-24 01:57:05,154] Trial 797 finished with value: 23.492169347705673 and parameters: {'x': 1.2275671013701652, 'y': 1.0227683000326002}. Best is trial 674 with value: 0.00016743370609194298.\n",
            "[I 2024-01-24 01:57:05,174] Trial 798 finished with value: 0.010226490818378065 and parameters: {'x': 1.0252359828766096, 'y': 1.041316151905476}. Best is trial 674 with value: 0.00016743370609194298.\n",
            "[I 2024-01-24 01:57:05,194] Trial 799 finished with value: 3.3204672084695983 and parameters: {'x': 1.0588302418602205, 'y': 1.303247981376666}. Best is trial 674 with value: 0.00016743370609194298.\n",
            "[I 2024-01-24 01:57:05,214] Trial 800 finished with value: 0.038417495367876975 and parameters: {'x': 1.0941218642497892, 'y': 1.2142952598093375}. Best is trial 674 with value: 0.00016743370609194298.\n",
            "[I 2024-01-24 01:57:05,237] Trial 801 finished with value: 5.38184189131069 and parameters: {'x': 1.1585565621570884, 'y': 1.11080781288299}. Best is trial 674 with value: 0.00016743370609194298.\n",
            "[I 2024-01-24 01:57:05,258] Trial 802 finished with value: 41.90252965160165 and parameters: {'x': 1.3431576713734168, 'y': 1.1576611096004454}. Best is trial 674 with value: 0.00016743370609194298.\n",
            "[I 2024-01-24 01:57:05,279] Trial 803 finished with value: 0.005442067964071726 and parameters: {'x': 1.0282828828180948, 'y': 1.064179017048756}. Best is trial 674 with value: 0.00016743370609194298.\n",
            "[I 2024-01-24 01:57:05,303] Trial 804 finished with value: 0.1302705176689692 and parameters: {'x': 1.0302399849269606, 'y': 1.0973605301651022}. Best is trial 674 with value: 0.00016743370609194298.\n",
            "[I 2024-01-24 01:57:05,325] Trial 805 finished with value: 11.619526834289257 and parameters: {'x': 1.1799456445187857, 'y': 1.0518727463572273}. Best is trial 674 with value: 0.00016743370609194298.\n",
            "[I 2024-01-24 01:57:05,352] Trial 806 finished with value: 0.25458754409721174 and parameters: {'x': 1.1135246904727738, 'y': 1.1907742737342486}. Best is trial 674 with value: 0.00016743370609194298.\n",
            "[I 2024-01-24 01:57:05,380] Trial 807 finished with value: 6.911182843285049 and parameters: {'x': 1.2705100529213027, 'y': 1.3526999599121687}. Best is trial 674 with value: 0.00016743370609194298.\n",
            "[I 2024-01-24 01:57:05,404] Trial 808 finished with value: 0.9960015933904148 and parameters: {'x': 1.0282255038618435, 'y': 1.1570076444063155}. Best is trial 674 with value: 0.00016743370609194298.\n",
            "[I 2024-01-24 01:57:05,425] Trial 809 finished with value: 16.471276515583288 and parameters: {'x': 1.2000564722687055, 'y': 1.0347807053628548}. Best is trial 674 with value: 0.00016743370609194298.\n",
            "[I 2024-01-24 01:57:05,455] Trial 810 finished with value: 107.54903202980955 and parameters: {'x': 1.444797271950648, 'y': 1.0513349759003985}. Best is trial 674 with value: 0.00016743370609194298.\n",
            "[I 2024-01-24 01:57:05,475] Trial 811 finished with value: 0.5393255395960294 and parameters: {'x': 1.0982312233978053, 'y': 1.2788906745535749}. Best is trial 674 with value: 0.00016743370609194298.\n",
            "[I 2024-01-24 01:57:05,507] Trial 812 finished with value: 0.08403644920862258 and parameters: {'x': 1.0205717247877202, 'y': 1.0126506890543017}. Best is trial 674 with value: 0.00016743370609194298.\n",
            "[I 2024-01-24 01:57:05,535] Trial 813 finished with value: 101.09757929253632 and parameters: {'x': -0.3958716627566734, 'y': 1.1524508927082873}. Best is trial 674 with value: 0.00016743370609194298.\n",
            "[I 2024-01-24 01:57:05,557] Trial 814 finished with value: 439.87827196868534 and parameters: {'x': 1.017017154066125, 'y': -1.0630029364313112}. Best is trial 674 with value: 0.00016743370609194298.\n",
            "[I 2024-01-24 01:57:05,582] Trial 815 finished with value: 223.55496300754126 and parameters: {'x': -1.603945326095003, 'y': 1.1003144504460871}. Best is trial 674 with value: 0.00016743370609194298.\n",
            "[I 2024-01-24 01:57:05,607] Trial 816 finished with value: 9.276685076754234 and parameters: {'x': 1.147048195966052, 'y': 1.011498231533167}. Best is trial 674 with value: 0.00016743370609194298.\n",
            "[I 2024-01-24 01:57:05,629] Trial 817 finished with value: 0.6937563141471047 and parameters: {'x': 0.9850993880645097, 'y': 1.0536995102814732}. Best is trial 674 with value: 0.00016743370609194298.\n",
            "[I 2024-01-24 01:57:05,650] Trial 818 finished with value: 3.0104658679415297 and parameters: {'x': 1.0736127752884728, 'y': 0.9792936766042728}. Best is trial 674 with value: 0.00016743370609194298.\n",
            "[I 2024-01-24 01:57:05,679] Trial 819 finished with value: 8.091487699564293 and parameters: {'x': 0.9705782236765471, 'y': 1.226462276340069}. Best is trial 674 with value: 0.00016743370609194298.\n",
            "[I 2024-01-24 01:57:05,701] Trial 820 finished with value: 27.44485691520725 and parameters: {'x': 1.267348952075814, 'y': 1.0829775955780219}. Best is trial 674 with value: 0.00016743370609194298.\n",
            "[I 2024-01-24 01:57:05,724] Trial 821 finished with value: 0.9248899857861121 and parameters: {'x': 1.1200064694820937, 'y': 1.1589949741253995}. Best is trial 674 with value: 0.00016743370609194298.\n",
            "[I 2024-01-24 01:57:05,746] Trial 822 finished with value: 0.9905727113566181 and parameters: {'x': 1.0345410970429265, 'y': 0.9708077177139627}. Best is trial 674 with value: 0.00016743370609194298.\n",
            "[I 2024-01-24 01:57:05,768] Trial 823 finished with value: 152.34173418686615 and parameters: {'x': 0.9626671471469737, 'y': -0.30753425539740786}. Best is trial 674 with value: 0.00016743370609194298.\n",
            "[I 2024-01-24 01:57:05,790] Trial 824 finished with value: 15.370041984384109 and parameters: {'x': 1.1920442770274005, 'y': 1.0293937550038705}. Best is trial 674 with value: 0.00016743370609194298.\n",
            "[I 2024-01-24 01:57:05,822] Trial 825 finished with value: 0.6544555474344084 and parameters: {'x': 0.9309534191426803, 'y': 0.9472775016197179}. Best is trial 674 with value: 0.00016743370609194298.\n",
            "[I 2024-01-24 01:57:05,844] Trial 826 finished with value: 0.11765081535027443 and parameters: {'x': 1.0808778964020278, 'y': 1.1349639230810173}. Best is trial 674 with value: 0.00016743370609194298.\n",
            "[I 2024-01-24 01:57:05,865] Trial 827 finished with value: 3.682135999306555 and parameters: {'x': 1.0303209110958094, 'y': 1.253426149068536}. Best is trial 674 with value: 0.00016743370609194298.\n",
            "[I 2024-01-24 01:57:05,888] Trial 828 finished with value: 0.07455426621286858 and parameters: {'x': 0.9574733914406887, 'y': 0.9437267160761956}. Best is trial 674 with value: 0.00016743370609194298.\n",
            "[I 2024-01-24 01:57:05,909] Trial 829 finished with value: 7.804552493679949 and parameters: {'x': 1.1274599281131978, 'y': 1.5502412639145495}. Best is trial 674 with value: 0.00016743370609194298.\n",
            "[I 2024-01-24 01:57:05,929] Trial 830 finished with value: 4.9502816657657664 and parameters: {'x': 0.9045159028969177, 'y': 1.0404363203667435}. Best is trial 674 with value: 0.00016743370609194298.\n",
            "[I 2024-01-24 01:57:05,951] Trial 831 finished with value: 1.485515883069628 and parameters: {'x': 1.0120166608720114, 'y': 1.1460535391282516}. Best is trial 674 with value: 0.00016743370609194298.\n",
            "[I 2024-01-24 01:57:05,971] Trial 832 finished with value: 29.0702601076374 and parameters: {'x': 1.2144120959609555, 'y': 0.9360548009578751}. Best is trial 674 with value: 0.00016743370609194298.\n",
            "[I 2024-01-24 01:57:05,991] Trial 833 finished with value: 6.61024851079758 and parameters: {'x': 0.8980460016664947, 'y': 1.0633884290635283}. Best is trial 674 with value: 0.00016743370609194298.\n",
            "[I 2024-01-24 01:57:06,011] Trial 834 finished with value: 3.663512619319721 and parameters: {'x': 1.0889137248465435, 'y': 0.994536683643235}. Best is trial 674 with value: 0.00016743370609194298.\n",
            "[I 2024-01-24 01:57:06,031] Trial 835 finished with value: 6.95539859294101 and parameters: {'x': 0.9851488125114971, 'y': 1.2342448980715497}. Best is trial 674 with value: 0.00016743370609194298.\n",
            "[I 2024-01-24 01:57:06,052] Trial 836 finished with value: 4.931716770738708 and parameters: {'x': 0.8332358113864503, 'y': 0.9157295743103602}. Best is trial 674 with value: 0.00016743370609194298.\n",
            "[I 2024-01-24 01:57:06,073] Trial 837 finished with value: 0.03437155958782033 and parameters: {'x': 1.0487865173582591, 'y': 1.0820670092357765}. Best is trial 674 with value: 0.00016743370609194298.\n",
            "[I 2024-01-24 01:57:06,095] Trial 838 finished with value: 2.1394317689664786 and parameters: {'x': 0.9251222126507803, 'y': 1.0019272900372407}. Best is trial 674 with value: 0.00016743370609194298.\n",
            "[I 2024-01-24 01:57:06,119] Trial 839 finished with value: 0.08566367024362354 and parameters: {'x': 1.1409511536338504, 'y': 1.327420352223272}. Best is trial 674 with value: 0.00016743370609194298.\n",
            "[I 2024-01-24 01:57:06,138] Trial 840 finished with value: 18.172742115202595 and parameters: {'x': 0.8371240008060545, 'y': 1.1267603192232638}. Best is trial 674 with value: 0.00016743370609194298.\n",
            "[I 2024-01-24 01:57:06,157] Trial 841 finished with value: 0.1731400963374094 and parameters: {'x': 0.9768846867480471, 'y': 0.9127578395891403}. Best is trial 674 with value: 0.00016743370609194298.\n",
            "[I 2024-01-24 01:57:06,185] Trial 842 finished with value: 12.836983133521048 and parameters: {'x': 1.3174909763737066, 'y': 1.3789045859594677}. Best is trial 674 with value: 0.00016743370609194298.\n",
            "[I 2024-01-24 01:57:06,214] Trial 843 finished with value: 1.2670417464544192 and parameters: {'x': 1.0507565078559304, 'y': 0.9916407829044683}. Best is trial 674 with value: 0.00016743370609194298.\n",
            "[I 2024-01-24 01:57:06,234] Trial 844 finished with value: 13.727687071530111 and parameters: {'x': 0.8937511551116011, 'y': 1.1691476886266916}. Best is trial 674 with value: 0.00016743370609194298.\n",
            "[I 2024-01-24 01:57:06,255] Trial 845 finished with value: 605.4916906931138 and parameters: {'x': 1.8324939679452417, 'y': 0.8987687146556325}. Best is trial 674 with value: 0.00016743370609194298.\n",
            "[I 2024-01-24 01:57:06,285] Trial 846 finished with value: 1.7375103074816167 and parameters: {'x': 0.9702338668242325, 'y': 1.0731347976397654}. Best is trial 674 with value: 0.00016743370609194298.\n",
            "[I 2024-01-24 01:57:06,311] Trial 847 finished with value: 6.869017358938379 and parameters: {'x': 1.1258011048571308, 'y': 1.0056421188858526}. Best is trial 674 with value: 0.00016743370609194298.\n",
            "[I 2024-01-24 01:57:06,340] Trial 848 finished with value: 35.10616805863248 and parameters: {'x': 0.8090233061697808, 'y': 1.246715433667632}. Best is trial 674 with value: 0.00016743370609194298.\n",
            "[I 2024-01-24 01:57:06,366] Trial 849 finished with value: 32.31252240755098 and parameters: {'x': 1.2089996399176455, 'y': 0.8936234282948993}. Best is trial 674 with value: 0.00016743370609194298.\n",
            "[I 2024-01-24 01:57:06,386] Trial 850 finished with value: 0.0039610318421771235 and parameters: {'x': 1.0488297819968027, 'y': 1.1040146599363594}. Best is trial 674 with value: 0.00016743370609194298.\n",
            "[I 2024-01-24 01:57:06,407] Trial 851 finished with value: 0.6283783154445152 and parameters: {'x': 1.1018631327025836, 'y': 1.2927154802851542}. Best is trial 674 with value: 0.00016743370609194298.\n",
            "[I 2024-01-24 01:57:06,428] Trial 852 finished with value: 12.001697256677446 and parameters: {'x': 1.2483794646346293, 'y': 1.2129081659808243}. Best is trial 674 with value: 0.00016743370609194298.\n",
            "[I 2024-01-24 01:57:06,449] Trial 853 finished with value: 0.010626750607033305 and parameters: {'x': 1.048690661595418, 'y': 1.1088383406065077}. Best is trial 674 with value: 0.00016743370609194298.\n",
            "[I 2024-01-24 01:57:06,469] Trial 854 finished with value: 3.7845163293872766 and parameters: {'x': 1.1623723466427396, 'y': 1.1572499470563575}. Best is trial 674 with value: 0.00016743370609194298.\n",
            "[I 2024-01-24 01:57:06,490] Trial 855 finished with value: 0.023571385912507816 and parameters: {'x': 1.0759818088539774, 'y': 1.1443958820170956}. Best is trial 674 with value: 0.00016743370609194298.\n",
            "[I 2024-01-24 01:57:06,509] Trial 856 finished with value: 11.42733085821279 and parameters: {'x': 1.273906703038691, 'y': 1.285906455531141}. Best is trial 674 with value: 0.00016743370609194298.\n",
            "[I 2024-01-24 01:57:06,529] Trial 857 finished with value: 0.08121832994815997 and parameters: {'x': 1.184973985621006, 'y': 1.3824831817948136}. Best is trial 674 with value: 0.00016743370609194298.\n",
            "[I 2024-01-24 01:57:06,552] Trial 858 finished with value: 53.55930200360222 and parameters: {'x': 1.384664162699035, 'y': 1.1864642510167451}. Best is trial 674 with value: 0.00016743370609194298.\n",
            "[I 2024-01-24 01:57:06,581] Trial 859 finished with value: 0.010350705050007057 and parameters: {'x': 1.100810472739049, 'y': 1.2104127350539275}. Best is trial 674 with value: 0.00016743370609194298.\n",
            "[I 2024-01-24 01:57:06,610] Trial 860 finished with value: 0.70325462839209 and parameters: {'x': 1.2483528805431408, 'y': 1.4782865076896863}. Best is trial 674 with value: 0.00016743370609194298.\n",
            "[I 2024-01-24 01:57:06,629] Trial 861 finished with value: 1.204400950542948 and parameters: {'x': 1.168707908516823, 'y': 1.2574374731014055}. Best is trial 674 with value: 0.00016743370609194298.\n",
            "[I 2024-01-24 01:57:06,652] Trial 862 finished with value: 21.524125553614326 and parameters: {'x': 1.3373867871437124, 'y': 1.3258908109748808}. Best is trial 674 with value: 0.00016743370609194298.\n",
            "[I 2024-01-24 01:57:06,683] Trial 863 finished with value: 0.7952744131554008 and parameters: {'x': 1.1355736248039565, 'y': 1.201385855061074}. Best is trial 674 with value: 0.00016743370609194298.\n",
            "[I 2024-01-24 01:57:06,706] Trial 864 finished with value: 3.9428284318396285 and parameters: {'x': 1.101671473988715, 'y': 1.4119851384818012}. Best is trial 674 with value: 0.00016743370609194298.\n",
            "[I 2024-01-24 01:57:06,736] Trial 865 finished with value: 8.777326678343796 and parameters: {'x': 1.2300800147778586, 'y': 1.2177260611077516}. Best is trial 674 with value: 0.00016743370609194298.\n",
            "[I 2024-01-24 01:57:06,762] Trial 866 finished with value: 0.10054713427388169 and parameters: {'x': 1.083071422353617, 'y': 1.1424420273602192}. Best is trial 674 with value: 0.00016743370609194298.\n",
            "[I 2024-01-24 01:57:06,789] Trial 867 finished with value: 1.437492274562522 and parameters: {'x': 1.1779004327964784, 'y': 1.2688811492296967}. Best is trial 674 with value: 0.00016743370609194298.\n",
            "[I 2024-01-24 01:57:06,814] Trial 868 finished with value: 0.10916701461051172 and parameters: {'x': 1.0768772664742674, 'y': 1.127531035283533}. Best is trial 674 with value: 0.00016743370609194298.\n",
            "[I 2024-01-24 01:57:06,837] Trial 869 finished with value: 2.9950881153963826 and parameters: {'x': 1.0731888181958678, 'y': 1.3246426404615994}. Best is trial 674 with value: 0.00016743370609194298.\n",
            "[I 2024-01-24 01:57:06,861] Trial 870 finished with value: 32.47359172181899 and parameters: {'x': 1.294045671245236, 'y': 1.105457293065021}. Best is trial 674 with value: 0.00016743370609194298.\n",
            "[I 2024-01-24 01:57:06,883] Trial 871 finished with value: 5.993249116354776 and parameters: {'x': 1.1765201875795925, 'y': 1.140025843681318}. Best is trial 674 with value: 0.00016743370609194298.\n",
            "[I 2024-01-24 01:57:06,907] Trial 872 finished with value: 0.23640602388457302 and parameters: {'x': 1.0734813621763304, 'y': 1.2004253718847315}. Best is trial 674 with value: 0.00016743370609194298.\n",
            "[I 2024-01-24 01:57:06,931] Trial 873 finished with value: 0.025558296110803416 and parameters: {'x': 1.0378130597831754, 'y': 1.0925892881718846}. Best is trial 674 with value: 0.00016743370609194298.\n",
            "[I 2024-01-24 01:57:06,953] Trial 874 finished with value: 35.68890603151324 and parameters: {'x': -0.776745077301614, 'y': 1.1737019444415284}. Best is trial 674 with value: 0.00016743370609194298.\n",
            "[I 2024-01-24 01:57:06,972] Trial 875 finished with value: 0.3212143592939235 and parameters: {'x': 1.1460414366361946, 'y': 1.2586491028902873}. Best is trial 674 with value: 0.00016743370609194298.\n",
            "[I 2024-01-24 01:57:06,992] Trial 876 finished with value: 0.12068615106082561 and parameters: {'x': 1.0323805660266938, 'y': 1.100398309002816}. Best is trial 674 with value: 0.00016743370609194298.\n",
            "[I 2024-01-24 01:57:07,021] Trial 877 finished with value: 18.150080076531438 and parameters: {'x': 1.226504719843023, 'y': 1.0788872690538698}. Best is trial 674 with value: 0.00016743370609194298.\n",
            "[I 2024-01-24 01:57:07,045] Trial 878 finished with value: 0.518248132711465 and parameters: {'x': 1.1256757299730509, 'y': 1.1962618774060458}. Best is trial 674 with value: 0.00016743370609194298.\n",
            "[I 2024-01-24 01:57:07,072] Trial 879 finished with value: 7.435073267510595 and parameters: {'x': 1.0277466000751005, 'y': 1.3289222640493525}. Best is trial 674 with value: 0.00016743370609194298.\n",
            "[I 2024-01-24 01:57:07,092] Trial 880 finished with value: 1.7702828030717241 and parameters: {'x': 1.1035262478043193, 'y': 1.0851215791825486}. Best is trial 674 with value: 0.00016743370609194298.\n",
            "[I 2024-01-24 01:57:07,111] Trial 881 finished with value: 1.420137000088837 and parameters: {'x': 1.0499721841535044, 'y': 1.2215062665952896}. Best is trial 674 with value: 0.00016743370609194298.\n",
            "[I 2024-01-24 01:57:07,129] Trial 882 finished with value: 0.8439415504705592 and parameters: {'x': 0.9875235622731127, 'y': 1.0670606049263809}. Best is trial 674 with value: 0.00016743370609194298.\n",
            "[I 2024-01-24 01:57:07,150] Trial 883 finished with value: 11.494701990855603 and parameters: {'x': 1.2202389348322136, 'y': 1.1506607738241623}. Best is trial 674 with value: 0.00016743370609194298.\n",
            "[I 2024-01-24 01:57:07,170] Trial 884 finished with value: 5.503860107177169 and parameters: {'x': 1.1294355452972444, 'y': 1.041378913628189}. Best is trial 674 with value: 0.00016743370609194298.\n",
            "[I 2024-01-24 01:57:07,188] Trial 885 finished with value: 5.559899347858794 and parameters: {'x': 1.0232049479296939, 'y': 1.2827313351295364}. Best is trial 674 with value: 0.00016743370609194298.\n",
            "[I 2024-01-24 01:57:07,207] Trial 886 finished with value: 3.1669906328418844 and parameters: {'x': 0.9827641914046842, 'y': 1.1437775157364587}. Best is trial 674 with value: 0.00016743370609194298.\n",
            "[I 2024-01-24 01:57:07,232] Trial 887 finished with value: 1.1351757179616984 and parameters: {'x': 1.1421671602914327, 'y': 1.4101376880463095}. Best is trial 674 with value: 0.00016743370609194298.\n",
            "[I 2024-01-24 01:57:07,260] Trial 888 finished with value: 0.9579034698697572 and parameters: {'x': 1.0665427077912224, 'y': 1.0398672755320513}. Best is trial 674 with value: 0.00016743370609194298.\n",
            "[I 2024-01-24 01:57:07,289] Trial 889 finished with value: 6.7552718467520565 and parameters: {'x': 0.9893136467123741, 'y': 1.2386483527467478}. Best is trial 674 with value: 0.00016743370609194298.\n",
            "[I 2024-01-24 01:57:07,319] Trial 890 finished with value: 35.27428571620063 and parameters: {'x': 1.3047326205258187, 'y': 1.1091879041034183}. Best is trial 674 with value: 0.00016743370609194298.\n",
            "[I 2024-01-24 01:57:07,348] Trial 891 finished with value: 17.960827907170597 and parameters: {'x': 1.195033193131601, 'y': 1.0047511708846357}. Best is trial 674 with value: 0.00016743370609194298.\n",
            "[I 2024-01-24 01:57:07,378] Trial 892 finished with value: 7.52538331769277 and parameters: {'x': 0.9610218436225927, 'y': 1.1978596120619698}. Best is trial 674 with value: 0.00016743370609194298.\n",
            "[I 2024-01-24 01:57:07,407] Trial 893 finished with value: 0.6361099268177848 and parameters: {'x': 1.0675647272613953, 'y': 1.0602246454302626}. Best is trial 674 with value: 0.00016743370609194298.\n",
            "[I 2024-01-24 01:57:07,431] Trial 894 finished with value: 1.3223913124653324 and parameters: {'x': 0.9370781572760978, 'y': 0.9929384737703303}. Best is trial 674 with value: 0.00016743370609194298.\n",
            "[I 2024-01-24 01:57:07,452] Trial 895 finished with value: 109.65733587652174 and parameters: {'x': 1.4863584112533346, 'y': 1.1632173918120579}. Best is trial 674 with value: 0.00016743370609194298.\n",
            "[I 2024-01-24 01:57:07,474] Trial 896 finished with value: 1.7612985011146698 and parameters: {'x': 1.1080922187800746, 'y': 1.0955953683278408}. Best is trial 674 with value: 0.00016743370609194298.\n",
            "[I 2024-01-24 01:57:07,496] Trial 897 finished with value: 8.159986745751537 and parameters: {'x': 1.021753302860916, 'y': 1.3296284341612843}. Best is trial 674 with value: 0.00016743370609194298.\n",
            "[I 2024-01-24 01:57:07,516] Trial 898 finished with value: 16.951807924097636 and parameters: {'x': 1.1773585644484452, 'y': 0.9748296362284675}. Best is trial 674 with value: 0.00016743370609194298.\n",
            "[I 2024-01-24 01:57:07,537] Trial 899 finished with value: 2.82502736644796 and parameters: {'x': 0.9365009713208141, 'y': 1.0449922557421951}. Best is trial 674 with value: 0.00016743370609194298.\n",
            "[I 2024-01-24 01:57:07,559] Trial 900 finished with value: 1.336213069104972 and parameters: {'x': 1.0624540026354403, 'y': 1.244234352597524}. Best is trial 674 with value: 0.00016743370609194298.\n",
            "[I 2024-01-24 01:57:07,580] Trial 901 finished with value: 45.6590918068988 and parameters: {'x': 1.2839164911685406, 'y': 0.9733231723577542}. Best is trial 674 with value: 0.00016743370609194298.\n",
            "[I 2024-01-24 01:57:07,600] Trial 902 finished with value: 5.028202762635278 and parameters: {'x': -1.1031475403785769, 'y': 1.139154473598847}. Best is trial 674 with value: 0.00016743370609194298.\n",
            "[I 2024-01-24 01:57:07,619] Trial 903 finished with value: 0.6545727544885276 and parameters: {'x': 0.9916302298317996, 'y': 1.0642318539558207}. Best is trial 674 with value: 0.00016743370609194298.\n",
            "[I 2024-01-24 01:57:07,640] Trial 904 finished with value: 0.4220621111034689 and parameters: {'x': 1.1212397111773782, 'y': 1.1933534914066695}. Best is trial 674 with value: 0.00016743370609194298.\n",
            "[I 2024-01-24 01:57:07,660] Trial 905 finished with value: 1.4705602115458152 and parameters: {'x': 0.913427344453505, 'y': 0.9553067534306827}. Best is trial 674 with value: 0.00016743370609194298.\n",
            "[I 2024-01-24 01:57:07,680] Trial 906 finished with value: 70.22682690350322 and parameters: {'x': 1.3978292858101755, 'y': 1.1168570690318054}. Best is trial 674 with value: 0.00016743370609194298.\n",
            "[I 2024-01-24 01:57:07,701] Trial 907 finished with value: 20.746381534944543 and parameters: {'x': 1.009710939302146, 'y': 1.4749971051639177}. Best is trial 674 with value: 0.00016743370609194298.\n",
            "[I 2024-01-24 01:57:07,722] Trial 908 finished with value: 17.516847530555594 and parameters: {'x': 1.2010648808768938, 'y': 1.0245087594037994}. Best is trial 674 with value: 0.00016743370609194298.\n",
            "[I 2024-01-24 01:57:07,743] Trial 909 finished with value: 16.741200540692546 and parameters: {'x': 0.9356485933957035, 'y': 1.2845478042332723}. Best is trial 674 with value: 0.00016743370609194298.\n",
            "[I 2024-01-24 01:57:07,765] Trial 910 finished with value: 1.5539293547397799 and parameters: {'x': 1.0527724398084535, 'y': 0.9837848613335772}. Best is trial 674 with value: 0.00016743370609194298.\n",
            "[I 2024-01-24 01:57:07,785] Trial 911 finished with value: 0.5045218620583146 and parameters: {'x': 1.1147808436044369, 'y': 1.1726401653210405}. Best is trial 674 with value: 0.00016743370609194298.\n",
            "[I 2024-01-24 01:57:07,807] Trial 912 finished with value: 27.230829314454024 and parameters: {'x': 0.9178955669326353, 'y': 1.364299347955247}. Best is trial 674 with value: 0.00016743370609194298.\n",
            "[I 2024-01-24 01:57:07,830] Trial 913 finished with value: 2.018330885941731 and parameters: {'x': 1.0379550839628768, 'y': 0.935333493375715}. Best is trial 674 with value: 0.00016743370609194298.\n",
            "[I 2024-01-24 01:57:07,851] Trial 914 finished with value: 1.8728410633369914 and parameters: {'x': 0.9729393309125882, 'y': 1.0834359679850896}. Best is trial 674 with value: 0.00016743370609194298.\n",
            "[I 2024-01-24 01:57:07,873] Trial 915 finished with value: 13.593826674010657 and parameters: {'x': 1.1832334501129795, 'y': 1.0317989206012195}. Best is trial 674 with value: 0.00016743370609194298.\n",
            "[I 2024-01-24 01:57:07,895] Trial 916 finished with value: 15.81711921352257 and parameters: {'x': 0.9010807639014736, 'y': 1.2095309265474166}. Best is trial 674 with value: 0.00016743370609194298.\n",
            "[I 2024-01-24 01:57:07,917] Trial 917 finished with value: 9.337920822484776 and parameters: {'x': 1.1102156454098033, 'y': 0.9271974875806867}. Best is trial 674 with value: 0.00016743370609194298.\n",
            "[I 2024-01-24 01:57:07,936] Trial 918 finished with value: 0.794750588270643 and parameters: {'x': 1.0076104144813645, 'y': 1.1044242839876777}. Best is trial 674 with value: 0.00016743370609194298.\n",
            "[I 2024-01-24 01:57:07,955] Trial 919 finished with value: 35.17991980855943 and parameters: {'x': 1.259768531221662, 'y': 0.9944592434967159}. Best is trial 674 with value: 0.00016743370609194298.\n",
            "[I 2024-01-24 01:57:07,975] Trial 920 finished with value: 2.431319749667943 and parameters: {'x': 0.8663383280161461, 'y': 0.9058950614553591}. Best is trial 674 with value: 0.00016743370609194298.\n",
            "[I 2024-01-24 01:57:07,996] Trial 921 finished with value: 0.02551083752129795 and parameters: {'x': 1.0576121238341458, 'y': 1.1334402768737324}. Best is trial 674 with value: 0.00016743370609194298.\n",
            "[I 2024-01-24 01:57:08,016] Trial 922 finished with value: 11.192373822397144 and parameters: {'x': 0.9724034094320664, 'y': 1.280107061841628}. Best is trial 674 with value: 0.00016743370609194298.\n",
            "[I 2024-01-24 01:57:08,037] Trial 923 finished with value: 5.68047561014877 and parameters: {'x': 1.1313721158469274, 'y': 1.0420277192312688}. Best is trial 674 with value: 0.00016743370609194298.\n",
            "[I 2024-01-24 01:57:08,057] Trial 924 finished with value: 0.19348125320901377 and parameters: {'x': 0.9076971383335694, 'y': 0.866921237943015}. Best is trial 674 with value: 0.00016743370609194298.\n",
            "[I 2024-01-24 01:57:08,078] Trial 925 finished with value: 2.143928356669545 and parameters: {'x': 1.0228673955152239, 'y': 1.1926614464274594}. Best is trial 674 with value: 0.00016743370609194298.\n",
            "[I 2024-01-24 01:57:08,099] Trial 926 finished with value: 31.015036588164325 and parameters: {'x': 1.226696682283113, 'y': 0.9483348855350684}. Best is trial 674 with value: 0.00016743370609194298.\n",
            "[I 2024-01-24 01:57:08,120] Trial 927 finished with value: 2.6654970977319152 and parameters: {'x': 1.1240375715463615, 'y': 1.1006688230713535}. Best is trial 674 with value: 0.00016743370609194298.\n",
            "[I 2024-01-24 01:57:08,146] Trial 928 finished with value: 6.302268089776315 and parameters: {'x': 0.8816054149367808, 'y': 1.0279919569544016}. Best is trial 674 with value: 0.00016743370609194298.\n",
            "[I 2024-01-24 01:57:08,169] Trial 929 finished with value: 0.34312086286239535 and parameters: {'x': 0.9740918692292898, 'y': 0.8903357735641498}. Best is trial 674 with value: 0.00016743370609194298.\n",
            "[I 2024-01-24 01:57:08,202] Trial 930 finished with value: 1.6632497634449133 and parameters: {'x': 1.0534390083087342, 'y': 0.9808774663105144}. Best is trial 674 with value: 0.00016743370609194298.\n",
            "[I 2024-01-24 01:57:08,224] Trial 931 finished with value: 6.9887822169513605 and parameters: {'x': 0.9397781011848767, 'y': 1.1474773277597343}. Best is trial 674 with value: 0.00016743370609194298.\n",
            "[I 2024-01-24 01:57:08,252] Trial 932 finished with value: 2.6699443456985024 and parameters: {'x': 1.1775080267702709, 'y': 1.2240925441245487}. Best is trial 674 with value: 0.00016743370609194298.\n",
            "[I 2024-01-24 01:57:08,276] Trial 933 finished with value: 9.47473394770663 and parameters: {'x': 1.070775218479651, 'y': 0.8388303886107434}. Best is trial 674 with value: 0.00016743370609194298.\n",
            "[I 2024-01-24 01:57:08,297] Trial 934 finished with value: 13.507900494471999 and parameters: {'x': 0.8292445700673053, 'y': 1.054780634369571}. Best is trial 674 with value: 0.00016743370609194298.\n",
            "[I 2024-01-24 01:57:08,321] Trial 935 finished with value: 0.2849207032379717 and parameters: {'x': 1.005191100177663, 'y': 0.9570337082325784}. Best is trial 674 with value: 0.00016743370609194298.\n",
            "[I 2024-01-24 01:57:08,349] Trial 936 finished with value: 314.9265219176653 and parameters: {'x': 0.888127415472302, 'y': -0.9858113528768448}. Best is trial 674 with value: 0.00016743370609194298.\n",
            "[I 2024-01-24 01:57:08,372] Trial 937 finished with value: 1.5846118896408201 and parameters: {'x': 1.1119129376100707, 'y': 1.3617332897092536}. Best is trial 674 with value: 0.00016743370609194298.\n",
            "[I 2024-01-24 01:57:08,394] Trial 938 finished with value: 60.10422347120174 and parameters: {'x': 0.9669895902181984, 'y': 1.7103309767124792}. Best is trial 674 with value: 0.00016743370609194298.\n",
            "[I 2024-01-24 01:57:08,415] Trial 939 finished with value: 314.0691539720577 and parameters: {'x': 1.0322895352615453, 'y': -0.7065750069504884}. Best is trial 674 with value: 0.00016743370609194298.\n",
            "[I 2024-01-24 01:57:08,444] Trial 940 finished with value: 36.560954839994324 and parameters: {'x': 1.3095602869032832, 'y': 1.1110845241000893}. Best is trial 674 with value: 0.00016743370609194298.\n",
            "[I 2024-01-24 01:57:08,467] Trial 941 finished with value: 3.7922195569978316 and parameters: {'x': 0.796718330462739, 'y': 0.8284324017380589}. Best is trial 674 with value: 0.00016743370609194298.\n",
            "[I 2024-01-24 01:57:08,487] Trial 942 finished with value: 1.248414788820921 and parameters: {'x': 1.1756559432153337, 'y': 1.2718238055778008}. Best is trial 674 with value: 0.00016743370609194298.\n",
            "[I 2024-01-24 01:57:08,509] Trial 943 finished with value: 3.8716892993668828 and parameters: {'x': 0.9011748541374375, 'y': 1.0086338749403256}. Best is trial 674 with value: 0.00016743370609194298.\n",
            "[I 2024-01-24 01:57:08,529] Trial 944 finished with value: 236.45985688026485 and parameters: {'x': 1.0735832129202947, 'y': -0.3851266071617331}. Best is trial 674 with value: 0.00016743370609194298.\n",
            "[I 2024-01-24 01:57:08,550] Trial 945 finished with value: 0.004269527015407814 and parameters: {'x': 0.9515574585961873, 'y': 0.9098466251715723}. Best is trial 674 with value: 0.00016743370609194298.\n",
            "[I 2024-01-24 01:57:08,569] Trial 946 finished with value: 6.728526139164352 and parameters: {'x': 0.7663742532154234, 'y': 0.8456692945050777}. Best is trial 674 with value: 0.00016743370609194298.\n",
            "[I 2024-01-24 01:57:08,592] Trial 947 finished with value: 2.840691495542681 and parameters: {'x': 0.8565240417093458, 'y': 0.9015651506532965}. Best is trial 674 with value: 0.00016743370609194298.\n",
            "[I 2024-01-24 01:57:08,613] Trial 948 finished with value: 1.179916445438469 and parameters: {'x': 0.9480575858854121, 'y': 0.7903134888716842}. Best is trial 674 with value: 0.00016743370609194298.\n",
            "[I 2024-01-24 01:57:08,632] Trial 949 finished with value: 1.334436222013672 and parameters: {'x': 0.8708352231142126, 'y': 0.87314739514051}. Best is trial 674 with value: 0.00016743370609194298.\n",
            "[I 2024-01-24 01:57:08,652] Trial 950 finished with value: 1.1477770836895573 and parameters: {'x': 0.9152996774027496, 'y': 0.9445725134490953}. Best is trial 674 with value: 0.00016743370609194298.\n",
            "[I 2024-01-24 01:57:08,672] Trial 951 finished with value: 4.770932422239591 and parameters: {'x': 0.7647873477335515, 'y': 0.8020541813457376}. Best is trial 674 with value: 0.00016743370609194298.\n",
            "[I 2024-01-24 01:57:08,693] Trial 952 finished with value: 103.12562262788688 and parameters: {'x': 0.9732477502195026, 'y': 1.9627155257156588}. Best is trial 674 with value: 0.00016743370609194298.\n",
            "[I 2024-01-24 01:57:08,712] Trial 953 finished with value: 5.252489744589715 and parameters: {'x': 0.8334320638852832, 'y': 0.9231860133007499}. Best is trial 674 with value: 0.00016743370609194298.\n",
            "[I 2024-01-24 01:57:08,732] Trial 954 finished with value: 0.00027376607936995787 and parameters: {'x': 0.9884369934608614, 'y': 0.975824208064282}. Best is trial 674 with value: 0.00016743370609194298.\n",
            "[I 2024-01-24 01:57:08,753] Trial 955 finished with value: 0.008485161061553946 and parameters: {'x': 0.9339998612884439, 'y': 0.8787815814945735}. Best is trial 674 with value: 0.00016743370609194298.\n",
            "[I 2024-01-24 01:57:08,774] Trial 956 finished with value: 0.002150038507184048 and parameters: {'x': 0.9591448113116371, 'y': 0.917765843931832}. Best is trial 674 with value: 0.00016743370609194298.\n",
            "[I 2024-01-24 01:57:08,794] Trial 957 finished with value: 0.14951726201987112 and parameters: {'x': 0.9972714291208674, 'y': 0.9558838040266645}. Best is trial 674 with value: 0.00016743370609194298.\n",
            "[I 2024-01-24 01:57:08,814] Trial 958 finished with value: 0.015927019766810414 and parameters: {'x': 0.962910212812623, 'y': 0.9392589828349386}. Best is trial 674 with value: 0.00016743370609194298.\n",
            "[I 2024-01-24 01:57:08,833] Trial 959 finished with value: 0.1510298287022197 and parameters: {'x': 1.002937081922509, 'y': 0.9670213438152104}. Best is trial 674 with value: 0.00016743370609194298.\n",
            "[I 2024-01-24 01:57:08,852] Trial 960 finished with value: 0.3868270673276134 and parameters: {'x': 0.9582237023011552, 'y': 0.9802476238304478}. Best is trial 674 with value: 0.00016743370609194298.\n",
            "[I 2024-01-24 01:57:08,872] Trial 961 finished with value: 6.1363724122602505 and parameters: {'x': 1.0749115467145107, 'y': 0.9078311040388898}. Best is trial 674 with value: 0.00016743370609194298.\n",
            "[I 2024-01-24 01:57:08,895] Trial 962 finished with value: 6.704074784713215 and parameters: {'x': 1.1277616072964265, 'y': 1.013239364475675}. Best is trial 674 with value: 0.00016743370609194298.\n",
            "[I 2024-01-24 01:57:08,916] Trial 963 finished with value: 0.6711614133609453 and parameters: {'x': 0.9977455960116234, 'y': 0.9135721429325663}. Best is trial 674 with value: 0.00016743370609194298.\n",
            "[I 2024-01-24 01:57:08,937] Trial 964 finished with value: 1.1068852895812507 and parameters: {'x': 0.9589196936044146, 'y': 1.0246553621052386}. Best is trial 674 with value: 0.00016743370609194298.\n",
            "[I 2024-01-24 01:57:08,957] Trial 965 finished with value: 0.46040959789847824 and parameters: {'x': 1.038402795075456, 'y': 1.0105356363740292}. Best is trial 674 with value: 0.00016743370609194298.\n",
            "[I 2024-01-24 01:57:08,977] Trial 966 finished with value: 14.409927906883238 and parameters: {'x': 1.1297652424655265, 'y': 0.8969872566781808}. Best is trial 674 with value: 0.00016743370609194298.\n",
            "[I 2024-01-24 01:57:08,996] Trial 967 finished with value: 3.4231838805432604 and parameters: {'x': 0.9356992015367911, 'y': 1.0604397097466502}. Best is trial 674 with value: 0.00016743370609194298.\n",
            "[I 2024-01-24 01:57:09,015] Trial 968 finished with value: 2.1867563260618637 and parameters: {'x': 1.0502772469001507, 'y': 0.9552909382169145}. Best is trial 674 with value: 0.00016743370609194298.\n",
            "[I 2024-01-24 01:57:09,036] Trial 969 finished with value: 16.92161272168577 and parameters: {'x': 1.2165243169799804, 'y': 1.0691427827311046}. Best is trial 674 with value: 0.00016743370609194298.\n",
            "[I 2024-01-24 01:57:09,055] Trial 970 finished with value: 0.004505155198485197 and parameters: {'x': 0.933489662084586, 'y': 0.8723058896867248}. Best is trial 674 with value: 0.00016743370609194298.\n",
            "[I 2024-01-24 01:57:09,076] Trial 971 finished with value: 0.11724150790664332 and parameters: {'x': 0.8991447922444977, 'y': 0.8411828694538076}. Best is trial 674 with value: 0.00016743370609194298.\n",
            "[I 2024-01-24 01:57:09,096] Trial 972 finished with value: 3.1037890481054173 and parameters: {'x': 0.8374248064408165, 'y': 0.876704317186254}. Best is trial 674 with value: 0.00016743370609194298.\n",
            "[I 2024-01-24 01:57:09,115] Trial 973 finished with value: 0.03723467054176818 and parameters: {'x': 0.9396279819671829, 'y': 0.864573199657305}. Best is trial 674 with value: 0.00016743370609194298.\n",
            "[I 2024-01-24 01:57:09,137] Trial 974 finished with value: 0.7474361807659392 and parameters: {'x': 0.9295769698059081, 'y': 0.9502804349798335}. Best is trial 674 with value: 0.00016743370609194298.\n",
            "[I 2024-01-24 01:57:09,156] Trial 975 finished with value: 4.578891763453444 and parameters: {'x': 0.8123201345136541, 'y': 0.8730228157093154}. Best is trial 674 with value: 0.00016743370609194298.\n",
            "[I 2024-01-24 01:57:09,175] Trial 976 finished with value: 0.6618618247251946 and parameters: {'x': 1.0074455247678364, 'y': 0.9335950017443782}. Best is trial 674 with value: 0.00016743370609194298.\n",
            "[I 2024-01-24 01:57:09,194] Trial 977 finished with value: 0.3556274163027588 and parameters: {'x': 0.8775379708648272, 'y': 0.8284364463803509}. Best is trial 674 with value: 0.00016743370609194298.\n",
            "[I 2024-01-24 01:57:09,214] Trial 978 finished with value: 7.039362401245994 and parameters: {'x': 1.0808454927634408, 'y': 0.9030322129222434}. Best is trial 674 with value: 0.00016743370609194298.\n",
            "[I 2024-01-24 01:57:09,236] Trial 979 finished with value: 0.0007879005774614427 and parameters: {'x': 0.9896978010982922, 'y': 0.9821128010278019}. Best is trial 674 with value: 0.00016743370609194298.\n",
            "[I 2024-01-24 01:57:09,255] Trial 980 finished with value: 14.620563435472295 and parameters: {'x': 0.7616274211995164, 'y': 0.9617010389967224}. Best is trial 674 with value: 0.00016743370609194298.\n",
            "[I 2024-01-24 01:57:09,275] Trial 981 finished with value: 0.4130948597868911 and parameters: {'x': 0.940150354938293, 'y': 0.819889496520297}. Best is trial 674 with value: 0.00016743370609194298.\n",
            "[I 2024-01-24 01:57:09,294] Trial 982 finished with value: 5.6131902050776485 and parameters: {'x': 0.8608456306071609, 'y': 0.9775679111603559}. Best is trial 674 with value: 0.00016743370609194298.\n",
            "[I 2024-01-24 01:57:09,315] Trial 983 finished with value: 0.2286585663513971 and parameters: {'x': 0.9657302076718822, 'y': 0.8849395357422036}. Best is trial 674 with value: 0.00016743370609194298.\n",
            "[I 2024-01-24 01:57:09,335] Trial 984 finished with value: 9.188246170533365 and parameters: {'x': 0.8302871353458741, 'y': 0.9920224558880792}. Best is trial 674 with value: 0.00016743370609194298.\n",
            "[I 2024-01-24 01:57:09,358] Trial 985 finished with value: 0.46402301357671305 and parameters: {'x': 0.9153735693383965, 'y': 0.9055002931609244}. Best is trial 674 with value: 0.00016743370609194298.\n",
            "[I 2024-01-24 01:57:09,378] Trial 986 finished with value: 0.053529653669827995 and parameters: {'x': 0.990022640153305, 'y': 1.0032597811764272}. Best is trial 674 with value: 0.00016743370609194298.\n",
            "[I 2024-01-24 01:57:09,398] Trial 987 finished with value: 2.9588185573539714 and parameters: {'x': 1.0125784880946431, 'y': 0.8533076267245908}. Best is trial 674 with value: 0.00016743370609194298.\n",
            "[I 2024-01-24 01:57:09,418] Trial 988 finished with value: 0.016097951603048305 and parameters: {'x': 0.8956941611582491, 'y': 0.8094917714596859}. Best is trial 674 with value: 0.00016743370609194298.\n",
            "[I 2024-01-24 01:57:09,438] Trial 989 finished with value: 74.057282652826 and parameters: {'x': 0.8190261343630344, 'y': -0.18957129031668163}. Best is trial 674 with value: 0.00016743370609194298.\n",
            "[I 2024-01-24 01:57:09,458] Trial 990 finished with value: 16.50021026006479 and parameters: {'x': 0.7366926399244635, 'y': 0.9480662584262926}. Best is trial 674 with value: 0.00016743370609194298.\n",
            "[I 2024-01-24 01:57:09,480] Trial 991 finished with value: 0.013650434140971305 and parameters: {'x': 0.9012708497981332, 'y': 0.806041754007419}. Best is trial 674 with value: 0.00016743370609194298.\n",
            "[I 2024-01-24 01:57:09,501] Trial 992 finished with value: 0.1364931052359476 and parameters: {'x': 1.033046191959678, 'y': 1.030387552458685}. Best is trial 674 with value: 0.00016743370609194298.\n",
            "[I 2024-01-24 01:57:09,521] Trial 993 finished with value: 12.020589080273908 and parameters: {'x': 1.1286849635563445, 'y': 0.9274614329606667}. Best is trial 674 with value: 0.00016743370609194298.\n",
            "[I 2024-01-24 01:57:09,541] Trial 994 finished with value: 1.1420578065645701 and parameters: {'x': 0.9717346933908345, 'y': 1.0510980330044988}. Best is trial 674 with value: 0.00016743370609194298.\n",
            "[I 2024-01-24 01:57:09,563] Trial 995 finished with value: 0.4316350681164824 and parameters: {'x': 0.877310475611776, 'y': 0.8342168614845776}. Best is trial 674 with value: 0.00016743370609194298.\n",
            "[I 2024-01-24 01:57:09,583] Trial 996 finished with value: 2.4392893506787057 and parameters: {'x': 1.060024675449627, 'y': 0.9675854554457898}. Best is trial 674 with value: 0.00016743370609194298.\n",
            "[I 2024-01-24 01:57:09,606] Trial 997 finished with value: 3.1098780259080825 and parameters: {'x': 0.9503414550479785, 'y': 1.0794274123435208}. Best is trial 674 with value: 0.00016743370609194298.\n",
            "[I 2024-01-24 01:57:09,627] Trial 998 finished with value: 6.236317822151836 and parameters: {'x': 0.7972751687287977, 'y': 0.8845496927538684}. Best is trial 674 with value: 0.00016743370609194298.\n",
            "[I 2024-01-24 01:57:09,650] Trial 999 finished with value: 8.598082797175532 and parameters: {'x': 1.1357148833590183, 'y': 0.996937656879114}. Best is trial 674 with value: 0.00016743370609194298.\n"
          ]
        }
      ]
    },
    {
      "cell_type": "code",
      "source": [
        "#find the best parameters\n",
        "\n",
        "study.best_params"
      ],
      "metadata": {
        "colab": {
          "base_uri": "https://localhost:8080/"
        },
        "id": "_SH4CXjcMyd6",
        "outputId": "5fb94870-276b-48f7-841d-25358213c8df"
      },
      "execution_count": null,
      "outputs": [
        {
          "output_type": "execute_result",
          "data": {
            "text/plain": [
              "{'x': 0.9940166705778987, 'y': 0.9892164577124567}"
            ]
          },
          "metadata": {},
          "execution_count": 36
        }
      ]
    },
    {
      "cell_type": "code",
      "source": [
        "#defining hyperparameters space over to optimize\n",
        "\n",
        "def hp_space(trail):\n",
        "  return {\n",
        "      \"num_train_epochs\": trail.suggest_int(\"num_train_epochs\", 5, 10),\n",
        "      \"alpha\": trail.suggest_float(\"alpha\", 0, 1),\n",
        "      \"temperature\": trail.suggest_int(\"temperature\", 2, 20)\n",
        "  }"
      ],
      "metadata": {
        "id": "FagbpgX9M-Wj"
      },
      "execution_count": null,
      "outputs": []
    },
    {
      "cell_type": "code",
      "source": [
        "#running the hyperparameter search with Trainer\n",
        "\n",
        "best_run = distilbert_trainer.hyperparameter_search(n_trials=20, direction=\"maximize\", hp_space=hp_space)\n"
      ],
      "metadata": {
        "colab": {
          "base_uri": "https://localhost:8080/",
          "height": 1000
        },
        "id": "EqeF-Q4zNhp3",
        "outputId": "cf458941-abdc-4490-e4b8-5faa4f508a74"
      },
      "execution_count": null,
      "outputs": [
        {
          "metadata": {
            "tags": null
          },
          "name": "stderr",
          "output_type": "stream",
          "text": [
            "[I 2024-01-23 16:47:36,739] A new study created in memory with name: no-name-28e1a6c5-989c-41fb-ac41-1caa68b56c5d\n",
            "Some weights of DistilBertForSequenceClassification were not initialized from the model checkpoint at distilbert-base-uncased and are newly initialized: ['classifier.bias', 'classifier.weight', 'pre_classifier.bias', 'pre_classifier.weight']\n",
            "You should probably TRAIN this model on a down-stream task to be able to use it for predictions and inference.\n"
          ]
        },
        {
          "data": {
            "text/html": [
              "\n",
              "    <div>\n",
              "      \n",
              "      <progress value='2226' max='2226' style='width:300px; height:20px; vertical-align: middle;'></progress>\n",
              "      [2226/2226 07:09, Epoch 7/7]\n",
              "    </div>\n",
              "    <table border=\"1\" class=\"dataframe\">\n",
              "  <thead>\n",
              " <tr style=\"text-align: left;\">\n",
              "      <th>Epoch</th>\n",
              "      <th>Training Loss</th>\n",
              "      <th>Validation Loss</th>\n",
              "      <th>Accuracy</th>\n",
              "    </tr>\n",
              "  </thead>\n",
              "  <tbody>\n",
              "    <tr>\n",
              "      <td>1</td>\n",
              "      <td>No log</td>\n",
              "      <td>0.202355</td>\n",
              "      <td>0.612258</td>\n",
              "    </tr>\n",
              "    <tr>\n",
              "      <td>2</td>\n",
              "      <td>0.323700</td>\n",
              "      <td>0.100802</td>\n",
              "      <td>0.818710</td>\n",
              "    </tr>\n",
              "    <tr>\n",
              "      <td>3</td>\n",
              "      <td>0.323700</td>\n",
              "      <td>0.067339</td>\n",
              "      <td>0.876452</td>\n",
              "    </tr>\n",
              "    <tr>\n",
              "      <td>4</td>\n",
              "      <td>0.115600</td>\n",
              "      <td>0.052981</td>\n",
              "      <td>0.897742</td>\n",
              "    </tr>\n",
              "    <tr>\n",
              "      <td>5</td>\n",
              "      <td>0.076100</td>\n",
              "      <td>0.045068</td>\n",
              "      <td>0.902903</td>\n",
              "    </tr>\n",
              "    <tr>\n",
              "      <td>6</td>\n",
              "      <td>0.076100</td>\n",
              "      <td>0.041217</td>\n",
              "      <td>0.906774</td>\n",
              "    </tr>\n",
              "    <tr>\n",
              "      <td>7</td>\n",
              "      <td>0.062700</td>\n",
              "      <td>0.040039</td>\n",
              "      <td>0.906452</td>\n",
              "    </tr>\n",
              "  </tbody>\n",
              "</table><p>"
            ],
            "text/plain": [
              "<IPython.core.display.HTML object>"
            ]
          },
          "metadata": {},
          "output_type": "display_data"
        },
        {
          "metadata": {
            "tags": null
          },
          "name": "stderr",
          "output_type": "stream",
          "text": [
            "[I 2024-01-23 16:54:47,394] Trial 0 finished with value: 0.9064516129032258 and parameters: {'num_train_epochs': 7, 'alpha': 0.7143131281575181, 'temperature': 11}. Best is trial 0 with value: 0.9064516129032258.\n",
            "Some weights of DistilBertForSequenceClassification were not initialized from the model checkpoint at distilbert-base-uncased and are newly initialized: ['classifier.bias', 'classifier.weight', 'pre_classifier.bias', 'pre_classifier.weight']\n",
            "You should probably TRAIN this model on a down-stream task to be able to use it for predictions and inference.\n"
          ]
        },
        {
          "data": {
            "text/html": [
              "\n",
              "    <div>\n",
              "      \n",
              "      <progress value='1590' max='1590' style='width:300px; height:20px; vertical-align: middle;'></progress>\n",
              "      [1590/1590 05:08, Epoch 5/5]\n",
              "    </div>\n",
              "    <table border=\"1\" class=\"dataframe\">\n",
              "  <thead>\n",
              " <tr style=\"text-align: left;\">\n",
              "      <th>Epoch</th>\n",
              "      <th>Training Loss</th>\n",
              "      <th>Validation Loss</th>\n",
              "      <th>Accuracy</th>\n",
              "    </tr>\n",
              "  </thead>\n",
              "  <tbody>\n",
              "    <tr>\n",
              "      <td>1</td>\n",
              "      <td>No log</td>\n",
              "      <td>0.229898</td>\n",
              "      <td>0.618065</td>\n",
              "    </tr>\n",
              "    <tr>\n",
              "      <td>2</td>\n",
              "      <td>0.360500</td>\n",
              "      <td>0.115963</td>\n",
              "      <td>0.811613</td>\n",
              "    </tr>\n",
              "    <tr>\n",
              "      <td>3</td>\n",
              "      <td>0.360500</td>\n",
              "      <td>0.079959</td>\n",
              "      <td>0.867097</td>\n",
              "    </tr>\n",
              "    <tr>\n",
              "      <td>4</td>\n",
              "      <td>0.133500</td>\n",
              "      <td>0.066186</td>\n",
              "      <td>0.885161</td>\n",
              "    </tr>\n",
              "    <tr>\n",
              "      <td>5</td>\n",
              "      <td>0.093600</td>\n",
              "      <td>0.061893</td>\n",
              "      <td>0.886129</td>\n",
              "    </tr>\n",
              "  </tbody>\n",
              "</table><p>"
            ],
            "text/plain": [
              "<IPython.core.display.HTML object>"
            ]
          },
          "metadata": {},
          "output_type": "display_data"
        },
        {
          "metadata": {
            "tags": null
          },
          "name": "stderr",
          "output_type": "stream",
          "text": [
            "[I 2024-01-23 17:00:07,575] Trial 1 finished with value: 0.8861290322580645 and parameters: {'num_train_epochs': 5, 'alpha': 0.3439719251489417, 'temperature': 6}. Best is trial 0 with value: 0.9064516129032258.\n",
            "Some weights of DistilBertForSequenceClassification were not initialized from the model checkpoint at distilbert-base-uncased and are newly initialized: ['classifier.bias', 'classifier.weight', 'pre_classifier.bias', 'pre_classifier.weight']\n",
            "You should probably TRAIN this model on a down-stream task to be able to use it for predictions and inference.\n"
          ]
        },
        {
          "data": {
            "text/html": [
              "\n",
              "    <div>\n",
              "      \n",
              "      <progress value='1590' max='1590' style='width:300px; height:20px; vertical-align: middle;'></progress>\n",
              "      [1590/1590 05:11, Epoch 5/5]\n",
              "    </div>\n",
              "    <table border=\"1\" class=\"dataframe\">\n",
              "  <thead>\n",
              " <tr style=\"text-align: left;\">\n",
              "      <th>Epoch</th>\n",
              "      <th>Training Loss</th>\n",
              "      <th>Validation Loss</th>\n",
              "      <th>Accuracy</th>\n",
              "    </tr>\n",
              "  </thead>\n",
              "  <tbody>\n",
              "    <tr>\n",
              "      <td>1</td>\n",
              "      <td>No log</td>\n",
              "      <td>0.241141</td>\n",
              "      <td>0.631613</td>\n",
              "    </tr>\n",
              "    <tr>\n",
              "      <td>2</td>\n",
              "      <td>0.377700</td>\n",
              "      <td>0.119460</td>\n",
              "      <td>0.817742</td>\n",
              "    </tr>\n",
              "    <tr>\n",
              "      <td>3</td>\n",
              "      <td>0.377700</td>\n",
              "      <td>0.081182</td>\n",
              "      <td>0.867097</td>\n",
              "    </tr>\n",
              "    <tr>\n",
              "      <td>4</td>\n",
              "      <td>0.137800</td>\n",
              "      <td>0.066687</td>\n",
              "      <td>0.885484</td>\n",
              "    </tr>\n",
              "    <tr>\n",
              "      <td>5</td>\n",
              "      <td>0.095400</td>\n",
              "      <td>0.062229</td>\n",
              "      <td>0.886774</td>\n",
              "    </tr>\n",
              "  </tbody>\n",
              "</table><p>"
            ],
            "text/plain": [
              "<IPython.core.display.HTML object>"
            ]
          },
          "metadata": {},
          "output_type": "display_data"
        },
        {
          "metadata": {
            "tags": null
          },
          "name": "stderr",
          "output_type": "stream",
          "text": [
            "[I 2024-01-23 17:05:36,063] Trial 2 finished with value: 0.886774193548387 and parameters: {'num_train_epochs': 5, 'alpha': 0.759039271861527, 'temperature': 5}. Best is trial 0 with value: 0.9064516129032258.\n",
            "Some weights of DistilBertForSequenceClassification were not initialized from the model checkpoint at distilbert-base-uncased and are newly initialized: ['classifier.bias', 'classifier.weight', 'pre_classifier.bias', 'pre_classifier.weight']\n",
            "You should probably TRAIN this model on a down-stream task to be able to use it for predictions and inference.\n"
          ]
        },
        {
          "data": {
            "text/html": [
              "\n",
              "    <div>\n",
              "      \n",
              "      <progress value='3180' max='3180' style='width:300px; height:20px; vertical-align: middle;'></progress>\n",
              "      [3180/3180 10:20, Epoch 10/10]\n",
              "    </div>\n",
              "    <table border=\"1\" class=\"dataframe\">\n",
              "  <thead>\n",
              " <tr style=\"text-align: left;\">\n",
              "      <th>Epoch</th>\n",
              "      <th>Training Loss</th>\n",
              "      <th>Validation Loss</th>\n",
              "      <th>Accuracy</th>\n",
              "    </tr>\n",
              "  </thead>\n",
              "  <tbody>\n",
              "    <tr>\n",
              "      <td>1</td>\n",
              "      <td>No log</td>\n",
              "      <td>0.199814</td>\n",
              "      <td>0.626774</td>\n",
              "    </tr>\n",
              "    <tr>\n",
              "      <td>2</td>\n",
              "      <td>0.324000</td>\n",
              "      <td>0.096455</td>\n",
              "      <td>0.828710</td>\n",
              "    </tr>\n",
              "    <tr>\n",
              "      <td>3</td>\n",
              "      <td>0.324000</td>\n",
              "      <td>0.061595</td>\n",
              "      <td>0.884194</td>\n",
              "    </tr>\n",
              "    <tr>\n",
              "      <td>4</td>\n",
              "      <td>0.110700</td>\n",
              "      <td>0.046647</td>\n",
              "      <td>0.903548</td>\n",
              "    </tr>\n",
              "    <tr>\n",
              "      <td>5</td>\n",
              "      <td>0.069200</td>\n",
              "      <td>0.038250</td>\n",
              "      <td>0.909677</td>\n",
              "    </tr>\n",
              "    <tr>\n",
              "      <td>6</td>\n",
              "      <td>0.069200</td>\n",
              "      <td>0.033316</td>\n",
              "      <td>0.919355</td>\n",
              "    </tr>\n",
              "    <tr>\n",
              "      <td>7</td>\n",
              "      <td>0.053900</td>\n",
              "      <td>0.030774</td>\n",
              "      <td>0.923548</td>\n",
              "    </tr>\n",
              "    <tr>\n",
              "      <td>8</td>\n",
              "      <td>0.046400</td>\n",
              "      <td>0.028615</td>\n",
              "      <td>0.926774</td>\n",
              "    </tr>\n",
              "    <tr>\n",
              "      <td>9</td>\n",
              "      <td>0.046400</td>\n",
              "      <td>0.027388</td>\n",
              "      <td>0.927742</td>\n",
              "    </tr>\n",
              "    <tr>\n",
              "      <td>10</td>\n",
              "      <td>0.042900</td>\n",
              "      <td>0.027072</td>\n",
              "      <td>0.928387</td>\n",
              "    </tr>\n",
              "  </tbody>\n",
              "</table><p>"
            ],
            "text/plain": [
              "<IPython.core.display.HTML object>"
            ]
          },
          "metadata": {},
          "output_type": "display_data"
        },
        {
          "metadata": {
            "tags": null
          },
          "name": "stderr",
          "output_type": "stream",
          "text": [
            "[I 2024-01-23 17:16:12,439] Trial 3 finished with value: 0.9283870967741935 and parameters: {'num_train_epochs': 10, 'alpha': 0.924670627776918, 'temperature': 10}. Best is trial 3 with value: 0.9283870967741935.\n",
            "Some weights of DistilBertForSequenceClassification were not initialized from the model checkpoint at distilbert-base-uncased and are newly initialized: ['classifier.bias', 'classifier.weight', 'pre_classifier.bias', 'pre_classifier.weight']\n",
            "You should probably TRAIN this model on a down-stream task to be able to use it for predictions and inference.\n"
          ]
        },
        {
          "data": {
            "text/html": [
              "\n",
              "    <div>\n",
              "      \n",
              "      <progress value='1908' max='1908' style='width:300px; height:20px; vertical-align: middle;'></progress>\n",
              "      [1908/1908 06:11, Epoch 6/6]\n",
              "    </div>\n",
              "    <table border=\"1\" class=\"dataframe\">\n",
              "  <thead>\n",
              " <tr style=\"text-align: left;\">\n",
              "      <th>Epoch</th>\n",
              "      <th>Training Loss</th>\n",
              "      <th>Validation Loss</th>\n",
              "      <th>Accuracy</th>\n",
              "    </tr>\n",
              "  </thead>\n",
              "  <tbody>\n",
              "    <tr>\n",
              "      <td>1</td>\n",
              "      <td>No log</td>\n",
              "      <td>0.196068</td>\n",
              "      <td>0.596774</td>\n",
              "    </tr>\n",
              "    <tr>\n",
              "      <td>2</td>\n",
              "      <td>0.312000</td>\n",
              "      <td>0.100759</td>\n",
              "      <td>0.808710</td>\n",
              "    </tr>\n",
              "    <tr>\n",
              "      <td>3</td>\n",
              "      <td>0.312000</td>\n",
              "      <td>0.069819</td>\n",
              "      <td>0.868387</td>\n",
              "    </tr>\n",
              "    <tr>\n",
              "      <td>4</td>\n",
              "      <td>0.115200</td>\n",
              "      <td>0.056676</td>\n",
              "      <td>0.892581</td>\n",
              "    </tr>\n",
              "    <tr>\n",
              "      <td>5</td>\n",
              "      <td>0.079100</td>\n",
              "      <td>0.049996</td>\n",
              "      <td>0.894839</td>\n",
              "    </tr>\n",
              "    <tr>\n",
              "      <td>6</td>\n",
              "      <td>0.079100</td>\n",
              "      <td>0.048079</td>\n",
              "      <td>0.897742</td>\n",
              "    </tr>\n",
              "  </tbody>\n",
              "</table><p>"
            ],
            "text/plain": [
              "<IPython.core.display.HTML object>"
            ]
          },
          "metadata": {},
          "output_type": "display_data"
        },
        {
          "metadata": {
            "tags": null
          },
          "name": "stderr",
          "output_type": "stream",
          "text": [
            "[I 2024-01-23 17:22:24,759] Trial 4 finished with value: 0.8977419354838709 and parameters: {'num_train_epochs': 6, 'alpha': 0.7650015549981369, 'temperature': 19}. Best is trial 3 with value: 0.9283870967741935.\n",
            "Some weights of DistilBertForSequenceClassification were not initialized from the model checkpoint at distilbert-base-uncased and are newly initialized: ['classifier.bias', 'classifier.weight', 'pre_classifier.bias', 'pre_classifier.weight']\n",
            "You should probably TRAIN this model on a down-stream task to be able to use it for predictions and inference.\n"
          ]
        },
        {
          "data": {
            "text/html": [
              "\n",
              "    <div>\n",
              "      \n",
              "      <progress value='2226' max='2226' style='width:300px; height:20px; vertical-align: middle;'></progress>\n",
              "      [2226/2226 07:11, Epoch 7/7]\n",
              "    </div>\n",
              "    <table border=\"1\" class=\"dataframe\">\n",
              "  <thead>\n",
              " <tr style=\"text-align: left;\">\n",
              "      <th>Epoch</th>\n",
              "      <th>Training Loss</th>\n",
              "      <th>Validation Loss</th>\n",
              "      <th>Accuracy</th>\n",
              "    </tr>\n",
              "  </thead>\n",
              "  <tbody>\n",
              "    <tr>\n",
              "      <td>1</td>\n",
              "      <td>No log</td>\n",
              "      <td>0.207164</td>\n",
              "      <td>0.621290</td>\n",
              "    </tr>\n",
              "    <tr>\n",
              "      <td>2</td>\n",
              "      <td>0.331400</td>\n",
              "      <td>0.102346</td>\n",
              "      <td>0.820000</td>\n",
              "    </tr>\n",
              "    <tr>\n",
              "      <td>3</td>\n",
              "      <td>0.331400</td>\n",
              "      <td>0.067820</td>\n",
              "      <td>0.877419</td>\n",
              "    </tr>\n",
              "    <tr>\n",
              "      <td>4</td>\n",
              "      <td>0.117500</td>\n",
              "      <td>0.053100</td>\n",
              "      <td>0.897097</td>\n",
              "    </tr>\n",
              "    <tr>\n",
              "      <td>5</td>\n",
              "      <td>0.076900</td>\n",
              "      <td>0.045061</td>\n",
              "      <td>0.902903</td>\n",
              "    </tr>\n",
              "    <tr>\n",
              "      <td>6</td>\n",
              "      <td>0.076900</td>\n",
              "      <td>0.041146</td>\n",
              "      <td>0.907419</td>\n",
              "    </tr>\n",
              "    <tr>\n",
              "      <td>7</td>\n",
              "      <td>0.063200</td>\n",
              "      <td>0.039950</td>\n",
              "      <td>0.907742</td>\n",
              "    </tr>\n",
              "  </tbody>\n",
              "</table><p>"
            ],
            "text/plain": [
              "<IPython.core.display.HTML object>"
            ]
          },
          "metadata": {},
          "output_type": "display_data"
        },
        {
          "metadata": {
            "tags": null
          },
          "name": "stderr",
          "output_type": "stream",
          "text": [
            "[I 2024-01-23 17:29:36,491] Trial 5 pruned. \n",
            "Some weights of DistilBertForSequenceClassification were not initialized from the model checkpoint at distilbert-base-uncased and are newly initialized: ['classifier.bias', 'classifier.weight', 'pre_classifier.bias', 'pre_classifier.weight']\n",
            "You should probably TRAIN this model on a down-stream task to be able to use it for predictions and inference.\n"
          ]
        },
        {
          "data": {
            "text/html": [
              "\n",
              "    <div>\n",
              "      \n",
              "      <progress value='3180' max='3180' style='width:300px; height:20px; vertical-align: middle;'></progress>\n",
              "      [3180/3180 10:16, Epoch 10/10]\n",
              "    </div>\n",
              "    <table border=\"1\" class=\"dataframe\">\n",
              "  <thead>\n",
              " <tr style=\"text-align: left;\">\n",
              "      <th>Epoch</th>\n",
              "      <th>Training Loss</th>\n",
              "      <th>Validation Loss</th>\n",
              "      <th>Accuracy</th>\n",
              "    </tr>\n",
              "  </thead>\n",
              "  <tbody>\n",
              "    <tr>\n",
              "      <td>1</td>\n",
              "      <td>No log</td>\n",
              "      <td>0.199814</td>\n",
              "      <td>0.626774</td>\n",
              "    </tr>\n",
              "    <tr>\n",
              "      <td>2</td>\n",
              "      <td>0.324000</td>\n",
              "      <td>0.096455</td>\n",
              "      <td>0.828710</td>\n",
              "    </tr>\n",
              "    <tr>\n",
              "      <td>3</td>\n",
              "      <td>0.324000</td>\n",
              "      <td>0.061595</td>\n",
              "      <td>0.884194</td>\n",
              "    </tr>\n",
              "    <tr>\n",
              "      <td>4</td>\n",
              "      <td>0.110700</td>\n",
              "      <td>0.046647</td>\n",
              "      <td>0.903548</td>\n",
              "    </tr>\n",
              "    <tr>\n",
              "      <td>5</td>\n",
              "      <td>0.069200</td>\n",
              "      <td>0.038250</td>\n",
              "      <td>0.909677</td>\n",
              "    </tr>\n",
              "    <tr>\n",
              "      <td>6</td>\n",
              "      <td>0.069200</td>\n",
              "      <td>0.033316</td>\n",
              "      <td>0.919355</td>\n",
              "    </tr>\n",
              "    <tr>\n",
              "      <td>7</td>\n",
              "      <td>0.053900</td>\n",
              "      <td>0.030774</td>\n",
              "      <td>0.923548</td>\n",
              "    </tr>\n",
              "    <tr>\n",
              "      <td>8</td>\n",
              "      <td>0.046400</td>\n",
              "      <td>0.028615</td>\n",
              "      <td>0.926774</td>\n",
              "    </tr>\n",
              "    <tr>\n",
              "      <td>9</td>\n",
              "      <td>0.046400</td>\n",
              "      <td>0.027388</td>\n",
              "      <td>0.927742</td>\n",
              "    </tr>\n",
              "    <tr>\n",
              "      <td>10</td>\n",
              "      <td>0.042900</td>\n",
              "      <td>0.027072</td>\n",
              "      <td>0.928387</td>\n",
              "    </tr>\n",
              "  </tbody>\n",
              "</table><p>"
            ],
            "text/plain": [
              "<IPython.core.display.HTML object>"
            ]
          },
          "metadata": {},
          "output_type": "display_data"
        },
        {
          "metadata": {
            "tags": null
          },
          "name": "stderr",
          "output_type": "stream",
          "text": [
            "[I 2024-01-23 17:40:23,010] Trial 6 finished with value: 0.9283870967741935 and parameters: {'num_train_epochs': 10, 'alpha': 0.8067006596645674, 'temperature': 10}. Best is trial 3 with value: 0.9283870967741935.\n",
            "Some weights of DistilBertForSequenceClassification were not initialized from the model checkpoint at distilbert-base-uncased and are newly initialized: ['classifier.bias', 'classifier.weight', 'pre_classifier.bias', 'pre_classifier.weight']\n",
            "You should probably TRAIN this model on a down-stream task to be able to use it for predictions and inference.\n"
          ]
        },
        {
          "data": {
            "text/html": [
              "\n",
              "    <div>\n",
              "      \n",
              "      <progress value='318' max='2862' style='width:300px; height:20px; vertical-align: middle;'></progress>\n",
              "      [ 318/2862 00:59 < 07:56, 5.33 it/s, Epoch 1/9]\n",
              "    </div>\n",
              "    <table border=\"1\" class=\"dataframe\">\n",
              "  <thead>\n",
              " <tr style=\"text-align: left;\">\n",
              "      <th>Epoch</th>\n",
              "      <th>Training Loss</th>\n",
              "      <th>Validation Loss</th>\n",
              "      <th>Accuracy</th>\n",
              "    </tr>\n",
              "  </thead>\n",
              "  <tbody>\n",
              "    <tr>\n",
              "      <td>1</td>\n",
              "      <td>No log</td>\n",
              "      <td>0.192811</td>\n",
              "      <td>0.613226</td>\n",
              "    </tr>\n",
              "  </tbody>\n",
              "</table><p>"
            ],
            "text/plain": [
              "<IPython.core.display.HTML object>"
            ]
          },
          "metadata": {},
          "output_type": "display_data"
        },
        {
          "metadata": {
            "tags": null
          },
          "name": "stderr",
          "output_type": "stream",
          "text": [
            "[I 2024-01-23 17:41:22,987] Trial 7 pruned. \n",
            "Some weights of DistilBertForSequenceClassification were not initialized from the model checkpoint at distilbert-base-uncased and are newly initialized: ['classifier.bias', 'classifier.weight', 'pre_classifier.bias', 'pre_classifier.weight']\n",
            "You should probably TRAIN this model on a down-stream task to be able to use it for predictions and inference.\n"
          ]
        },
        {
          "data": {
            "text/html": [
              "\n",
              "    <div>\n",
              "      \n",
              "      <progress value='318' max='2226' style='width:300px; height:20px; vertical-align: middle;'></progress>\n",
              "      [ 318/2226 00:58 < 05:53, 5.40 it/s, Epoch 1/7]\n",
              "    </div>\n",
              "    <table border=\"1\" class=\"dataframe\">\n",
              "  <thead>\n",
              " <tr style=\"text-align: left;\">\n",
              "      <th>Epoch</th>\n",
              "      <th>Training Loss</th>\n",
              "      <th>Validation Loss</th>\n",
              "      <th>Accuracy</th>\n",
              "    </tr>\n",
              "  </thead>\n",
              "  <tbody>\n",
              "    <tr>\n",
              "      <td>1</td>\n",
              "      <td>No log</td>\n",
              "      <td>0.195949</td>\n",
              "      <td>0.603548</td>\n",
              "    </tr>\n",
              "  </tbody>\n",
              "</table><p>"
            ],
            "text/plain": [
              "<IPython.core.display.HTML object>"
            ]
          },
          "metadata": {},
          "output_type": "display_data"
        },
        {
          "metadata": {
            "tags": null
          },
          "name": "stderr",
          "output_type": "stream",
          "text": [
            "[I 2024-01-23 17:42:22,182] Trial 8 pruned. \n",
            "Some weights of DistilBertForSequenceClassification were not initialized from the model checkpoint at distilbert-base-uncased and are newly initialized: ['classifier.bias', 'classifier.weight', 'pre_classifier.bias', 'pre_classifier.weight']\n",
            "You should probably TRAIN this model on a down-stream task to be able to use it for predictions and inference.\n"
          ]
        },
        {
          "data": {
            "text/html": [
              "\n",
              "    <div>\n",
              "      \n",
              "      <progress value='318' max='1590' style='width:300px; height:20px; vertical-align: middle;'></progress>\n",
              "      [ 318/1590 00:58 < 03:56, 5.38 it/s, Epoch 1/5]\n",
              "    </div>\n",
              "    <table border=\"1\" class=\"dataframe\">\n",
              "  <thead>\n",
              " <tr style=\"text-align: left;\">\n",
              "      <th>Epoch</th>\n",
              "      <th>Training Loss</th>\n",
              "      <th>Validation Loss</th>\n",
              "      <th>Accuracy</th>\n",
              "    </tr>\n",
              "  </thead>\n",
              "  <tbody>\n",
              "    <tr>\n",
              "      <td>1</td>\n",
              "      <td>No log</td>\n",
              "      <td>0.200256</td>\n",
              "      <td>0.587097</td>\n",
              "    </tr>\n",
              "  </tbody>\n",
              "</table><p>"
            ],
            "text/plain": [
              "<IPython.core.display.HTML object>"
            ]
          },
          "metadata": {},
          "output_type": "display_data"
        },
        {
          "metadata": {
            "tags": null
          },
          "name": "stderr",
          "output_type": "stream",
          "text": [
            "[I 2024-01-23 17:43:21,593] Trial 9 pruned. \n",
            "Some weights of DistilBertForSequenceClassification were not initialized from the model checkpoint at distilbert-base-uncased and are newly initialized: ['classifier.bias', 'classifier.weight', 'pre_classifier.bias', 'pre_classifier.weight']\n",
            "You should probably TRAIN this model on a down-stream task to be able to use it for predictions and inference.\n"
          ]
        },
        {
          "data": {
            "text/html": [
              "\n",
              "    <div>\n",
              "      \n",
              "      <progress value='2862' max='2862' style='width:300px; height:20px; vertical-align: middle;'></progress>\n",
              "      [2862/2862 09:11, Epoch 9/9]\n",
              "    </div>\n",
              "    <table border=\"1\" class=\"dataframe\">\n",
              "  <thead>\n",
              " <tr style=\"text-align: left;\">\n",
              "      <th>Epoch</th>\n",
              "      <th>Training Loss</th>\n",
              "      <th>Validation Loss</th>\n",
              "      <th>Accuracy</th>\n",
              "    </tr>\n",
              "  </thead>\n",
              "  <tbody>\n",
              "    <tr>\n",
              "      <td>1</td>\n",
              "      <td>No log</td>\n",
              "      <td>0.407687</td>\n",
              "      <td>0.695484</td>\n",
              "    </tr>\n",
              "    <tr>\n",
              "      <td>2</td>\n",
              "      <td>0.642800</td>\n",
              "      <td>0.139202</td>\n",
              "      <td>0.841613</td>\n",
              "    </tr>\n",
              "    <tr>\n",
              "      <td>3</td>\n",
              "      <td>0.642800</td>\n",
              "      <td>0.070367</td>\n",
              "      <td>0.898710</td>\n",
              "    </tr>\n",
              "    <tr>\n",
              "      <td>4</td>\n",
              "      <td>0.163000</td>\n",
              "      <td>0.050596</td>\n",
              "      <td>0.919677</td>\n",
              "    </tr>\n",
              "    <tr>\n",
              "      <td>5</td>\n",
              "      <td>0.081300</td>\n",
              "      <td>0.042428</td>\n",
              "      <td>0.926774</td>\n",
              "    </tr>\n",
              "    <tr>\n",
              "      <td>6</td>\n",
              "      <td>0.081300</td>\n",
              "      <td>0.037371</td>\n",
              "      <td>0.928065</td>\n",
              "    </tr>\n",
              "    <tr>\n",
              "      <td>7</td>\n",
              "      <td>0.061500</td>\n",
              "      <td>0.035419</td>\n",
              "      <td>0.931613</td>\n",
              "    </tr>\n",
              "    <tr>\n",
              "      <td>8</td>\n",
              "      <td>0.053600</td>\n",
              "      <td>0.033705</td>\n",
              "      <td>0.932581</td>\n",
              "    </tr>\n",
              "    <tr>\n",
              "      <td>9</td>\n",
              "      <td>0.053600</td>\n",
              "      <td>0.033094</td>\n",
              "      <td>0.933226</td>\n",
              "    </tr>\n",
              "  </tbody>\n",
              "</table><p>"
            ],
            "text/plain": [
              "<IPython.core.display.HTML object>"
            ]
          },
          "metadata": {},
          "output_type": "display_data"
        },
        {
          "metadata": {
            "tags": null
          },
          "name": "stderr",
          "output_type": "stream",
          "text": [
            "[I 2024-01-23 17:52:34,162] Trial 10 finished with value: 0.9332258064516129 and parameters: {'num_train_epochs': 9, 'alpha': 0.9464628409873767, 'temperature': 2}. Best is trial 10 with value: 0.9332258064516129.\n",
            "Some weights of DistilBertForSequenceClassification were not initialized from the model checkpoint at distilbert-base-uncased and are newly initialized: ['classifier.bias', 'classifier.weight', 'pre_classifier.bias', 'pre_classifier.weight']\n",
            "You should probably TRAIN this model on a down-stream task to be able to use it for predictions and inference.\n"
          ]
        },
        {
          "data": {
            "text/html": [
              "\n",
              "    <div>\n",
              "      \n",
              "      <progress value='557' max='2862' style='width:300px; height:20px; vertical-align: middle;'></progress>\n",
              "      [ 557/2862 01:42 < 07:06, 5.41 it/s, Epoch 1.75/9]\n",
              "    </div>\n",
              "    <table border=\"1\" class=\"dataframe\">\n",
              "  <thead>\n",
              " <tr style=\"text-align: left;\">\n",
              "      <th>Epoch</th>\n",
              "      <th>Training Loss</th>\n",
              "      <th>Validation Loss</th>\n",
              "      <th>Accuracy</th>\n",
              "    </tr>\n",
              "  </thead>\n",
              "  <tbody>\n",
              "    <tr>\n",
              "      <td>1</td>\n",
              "      <td>No log</td>\n",
              "      <td>0.407687</td>\n",
              "      <td>0.695484</td>\n",
              "    </tr>\n",
              "  </tbody>\n",
              "</table><p>"
            ],
            "text/plain": [
              "<IPython.core.display.HTML object>"
            ]
          },
          "metadata": {},
          "output_type": "display_data"
        },
        {
          "output_type": "display_data",
          "data": {
            "text/plain": [
              "<IPython.core.display.HTML object>"
            ],
            "text/html": [
              "\n",
              "    <div>\n",
              "      \n",
              "      <progress value='2862' max='2862' style='width:300px; height:20px; vertical-align: middle;'></progress>\n",
              "      [2862/2862 09:14, Epoch 9/9]\n",
              "    </div>\n",
              "    <table border=\"1\" class=\"dataframe\">\n",
              "  <thead>\n",
              " <tr style=\"text-align: left;\">\n",
              "      <th>Epoch</th>\n",
              "      <th>Training Loss</th>\n",
              "      <th>Validation Loss</th>\n",
              "      <th>Accuracy</th>\n",
              "    </tr>\n",
              "  </thead>\n",
              "  <tbody>\n",
              "    <tr>\n",
              "      <td>1</td>\n",
              "      <td>No log</td>\n",
              "      <td>0.407687</td>\n",
              "      <td>0.695484</td>\n",
              "    </tr>\n",
              "    <tr>\n",
              "      <td>2</td>\n",
              "      <td>0.642800</td>\n",
              "      <td>0.139202</td>\n",
              "      <td>0.841613</td>\n",
              "    </tr>\n",
              "    <tr>\n",
              "      <td>3</td>\n",
              "      <td>0.642800</td>\n",
              "      <td>0.070367</td>\n",
              "      <td>0.898710</td>\n",
              "    </tr>\n",
              "    <tr>\n",
              "      <td>4</td>\n",
              "      <td>0.163000</td>\n",
              "      <td>0.050596</td>\n",
              "      <td>0.919677</td>\n",
              "    </tr>\n",
              "    <tr>\n",
              "      <td>5</td>\n",
              "      <td>0.081300</td>\n",
              "      <td>0.042428</td>\n",
              "      <td>0.926774</td>\n",
              "    </tr>\n",
              "    <tr>\n",
              "      <td>6</td>\n",
              "      <td>0.081300</td>\n",
              "      <td>0.037371</td>\n",
              "      <td>0.928065</td>\n",
              "    </tr>\n",
              "    <tr>\n",
              "      <td>7</td>\n",
              "      <td>0.061500</td>\n",
              "      <td>0.035419</td>\n",
              "      <td>0.931613</td>\n",
              "    </tr>\n",
              "    <tr>\n",
              "      <td>8</td>\n",
              "      <td>0.053600</td>\n",
              "      <td>0.033705</td>\n",
              "      <td>0.932581</td>\n",
              "    </tr>\n",
              "    <tr>\n",
              "      <td>9</td>\n",
              "      <td>0.053600</td>\n",
              "      <td>0.033094</td>\n",
              "      <td>0.933226</td>\n",
              "    </tr>\n",
              "  </tbody>\n",
              "</table><p>"
            ]
          },
          "metadata": {}
        },
        {
          "output_type": "stream",
          "name": "stderr",
          "text": [
            "[I 2024-01-23 18:02:07,626] Trial 11 finished with value: 0.9332258064516129 and parameters: {'num_train_epochs': 9, 'alpha': 0.9937737785515707, 'temperature': 2}. Best is trial 10 with value: 0.9332258064516129.\n",
            "Some weights of DistilBertForSequenceClassification were not initialized from the model checkpoint at distilbert-base-uncased and are newly initialized: ['classifier.bias', 'classifier.weight', 'pre_classifier.bias', 'pre_classifier.weight']\n",
            "You should probably TRAIN this model on a down-stream task to be able to use it for predictions and inference.\n"
          ]
        },
        {
          "output_type": "display_data",
          "data": {
            "text/plain": [
              "<IPython.core.display.HTML object>"
            ],
            "text/html": [
              "\n",
              "    <div>\n",
              "      \n",
              "      <progress value='2862' max='2862' style='width:300px; height:20px; vertical-align: middle;'></progress>\n",
              "      [2862/2862 09:11, Epoch 9/9]\n",
              "    </div>\n",
              "    <table border=\"1\" class=\"dataframe\">\n",
              "  <thead>\n",
              " <tr style=\"text-align: left;\">\n",
              "      <th>Epoch</th>\n",
              "      <th>Training Loss</th>\n",
              "      <th>Validation Loss</th>\n",
              "      <th>Accuracy</th>\n",
              "    </tr>\n",
              "  </thead>\n",
              "  <tbody>\n",
              "    <tr>\n",
              "      <td>1</td>\n",
              "      <td>No log</td>\n",
              "      <td>0.407687</td>\n",
              "      <td>0.695484</td>\n",
              "    </tr>\n",
              "    <tr>\n",
              "      <td>2</td>\n",
              "      <td>0.642800</td>\n",
              "      <td>0.139202</td>\n",
              "      <td>0.841613</td>\n",
              "    </tr>\n",
              "    <tr>\n",
              "      <td>3</td>\n",
              "      <td>0.642800</td>\n",
              "      <td>0.070367</td>\n",
              "      <td>0.898710</td>\n",
              "    </tr>\n",
              "    <tr>\n",
              "      <td>4</td>\n",
              "      <td>0.163000</td>\n",
              "      <td>0.050596</td>\n",
              "      <td>0.919677</td>\n",
              "    </tr>\n",
              "    <tr>\n",
              "      <td>5</td>\n",
              "      <td>0.081300</td>\n",
              "      <td>0.042428</td>\n",
              "      <td>0.926774</td>\n",
              "    </tr>\n",
              "    <tr>\n",
              "      <td>6</td>\n",
              "      <td>0.081300</td>\n",
              "      <td>0.037371</td>\n",
              "      <td>0.928065</td>\n",
              "    </tr>\n",
              "    <tr>\n",
              "      <td>7</td>\n",
              "      <td>0.061500</td>\n",
              "      <td>0.035419</td>\n",
              "      <td>0.931613</td>\n",
              "    </tr>\n",
              "    <tr>\n",
              "      <td>8</td>\n",
              "      <td>0.053600</td>\n",
              "      <td>0.033705</td>\n",
              "      <td>0.932581</td>\n",
              "    </tr>\n",
              "    <tr>\n",
              "      <td>9</td>\n",
              "      <td>0.053600</td>\n",
              "      <td>0.033094</td>\n",
              "      <td>0.933226</td>\n",
              "    </tr>\n",
              "  </tbody>\n",
              "</table><p>"
            ]
          },
          "metadata": {}
        },
        {
          "output_type": "stream",
          "name": "stderr",
          "text": [
            "[I 2024-01-23 18:11:19,443] Trial 12 finished with value: 0.9332258064516129 and parameters: {'num_train_epochs': 9, 'alpha': 0.9688927570011859, 'temperature': 2}. Best is trial 10 with value: 0.9332258064516129.\n",
            "Some weights of DistilBertForSequenceClassification were not initialized from the model checkpoint at distilbert-base-uncased and are newly initialized: ['classifier.bias', 'classifier.weight', 'pre_classifier.bias', 'pre_classifier.weight']\n",
            "You should probably TRAIN this model on a down-stream task to be able to use it for predictions and inference.\n"
          ]
        },
        {
          "output_type": "display_data",
          "data": {
            "text/plain": [
              "<IPython.core.display.HTML object>"
            ],
            "text/html": [
              "\n",
              "    <div>\n",
              "      \n",
              "      <progress value='2862' max='2862' style='width:300px; height:20px; vertical-align: middle;'></progress>\n",
              "      [2862/2862 09:15, Epoch 9/9]\n",
              "    </div>\n",
              "    <table border=\"1\" class=\"dataframe\">\n",
              "  <thead>\n",
              " <tr style=\"text-align: left;\">\n",
              "      <th>Epoch</th>\n",
              "      <th>Training Loss</th>\n",
              "      <th>Validation Loss</th>\n",
              "      <th>Accuracy</th>\n",
              "    </tr>\n",
              "  </thead>\n",
              "  <tbody>\n",
              "    <tr>\n",
              "      <td>1</td>\n",
              "      <td>No log</td>\n",
              "      <td>0.407687</td>\n",
              "      <td>0.695484</td>\n",
              "    </tr>\n",
              "    <tr>\n",
              "      <td>2</td>\n",
              "      <td>0.642800</td>\n",
              "      <td>0.139202</td>\n",
              "      <td>0.841613</td>\n",
              "    </tr>\n",
              "    <tr>\n",
              "      <td>3</td>\n",
              "      <td>0.642800</td>\n",
              "      <td>0.070367</td>\n",
              "      <td>0.898710</td>\n",
              "    </tr>\n",
              "    <tr>\n",
              "      <td>4</td>\n",
              "      <td>0.163000</td>\n",
              "      <td>0.050596</td>\n",
              "      <td>0.919677</td>\n",
              "    </tr>\n",
              "    <tr>\n",
              "      <td>5</td>\n",
              "      <td>0.081300</td>\n",
              "      <td>0.042428</td>\n",
              "      <td>0.926774</td>\n",
              "    </tr>\n",
              "    <tr>\n",
              "      <td>6</td>\n",
              "      <td>0.081300</td>\n",
              "      <td>0.037371</td>\n",
              "      <td>0.928065</td>\n",
              "    </tr>\n",
              "    <tr>\n",
              "      <td>7</td>\n",
              "      <td>0.061500</td>\n",
              "      <td>0.035419</td>\n",
              "      <td>0.931613</td>\n",
              "    </tr>\n",
              "    <tr>\n",
              "      <td>8</td>\n",
              "      <td>0.053600</td>\n",
              "      <td>0.033705</td>\n",
              "      <td>0.932581</td>\n",
              "    </tr>\n",
              "    <tr>\n",
              "      <td>9</td>\n",
              "      <td>0.053600</td>\n",
              "      <td>0.033094</td>\n",
              "      <td>0.933226</td>\n",
              "    </tr>\n",
              "  </tbody>\n",
              "</table><p>"
            ]
          },
          "metadata": {}
        },
        {
          "output_type": "stream",
          "name": "stderr",
          "text": [
            "[I 2024-01-23 18:21:23,595] Trial 13 finished with value: 0.9332258064516129 and parameters: {'num_train_epochs': 9, 'alpha': 0.5462833281701369, 'temperature': 2}. Best is trial 10 with value: 0.9332258064516129.\n",
            "Some weights of DistilBertForSequenceClassification were not initialized from the model checkpoint at distilbert-base-uncased and are newly initialized: ['classifier.bias', 'classifier.weight', 'pre_classifier.bias', 'pre_classifier.weight']\n",
            "You should probably TRAIN this model on a down-stream task to be able to use it for predictions and inference.\n"
          ]
        },
        {
          "output_type": "display_data",
          "data": {
            "text/plain": [
              "<IPython.core.display.HTML object>"
            ],
            "text/html": [
              "\n",
              "    <div>\n",
              "      \n",
              "      <progress value='954' max='2544' style='width:300px; height:20px; vertical-align: middle;'></progress>\n",
              "      [ 954/2544 03:01 < 05:03, 5.24 it/s, Epoch 3/8]\n",
              "    </div>\n",
              "    <table border=\"1\" class=\"dataframe\">\n",
              "  <thead>\n",
              " <tr style=\"text-align: left;\">\n",
              "      <th>Epoch</th>\n",
              "      <th>Training Loss</th>\n",
              "      <th>Validation Loss</th>\n",
              "      <th>Accuracy</th>\n",
              "    </tr>\n",
              "  </thead>\n",
              "  <tbody>\n",
              "    <tr>\n",
              "      <td>1</td>\n",
              "      <td>No log</td>\n",
              "      <td>0.231633</td>\n",
              "      <td>0.643871</td>\n",
              "    </tr>\n",
              "    <tr>\n",
              "      <td>2</td>\n",
              "      <td>0.371300</td>\n",
              "      <td>0.107421</td>\n",
              "      <td>0.834194</td>\n",
              "    </tr>\n",
              "    <tr>\n",
              "      <td>3</td>\n",
              "      <td>0.371300</td>\n",
              "      <td>0.066895</td>\n",
              "      <td>0.883871</td>\n",
              "    </tr>\n",
              "  </tbody>\n",
              "</table><p>"
            ]
          },
          "metadata": {}
        },
        {
          "output_type": "stream",
          "name": "stderr",
          "text": [
            "[I 2024-01-23 18:24:25,894] Trial 14 pruned. \n",
            "Some weights of DistilBertForSequenceClassification were not initialized from the model checkpoint at distilbert-base-uncased and are newly initialized: ['classifier.bias', 'classifier.weight', 'pre_classifier.bias', 'pre_classifier.weight']\n",
            "You should probably TRAIN this model on a down-stream task to be able to use it for predictions and inference.\n"
          ]
        },
        {
          "output_type": "display_data",
          "data": {
            "text/plain": [
              "<IPython.core.display.HTML object>"
            ],
            "text/html": [
              "\n",
              "    <div>\n",
              "      \n",
              "      <progress value='318' max='2544' style='width:300px; height:20px; vertical-align: middle;'></progress>\n",
              "      [ 318/2544 00:59 < 06:56, 5.34 it/s, Epoch 1/8]\n",
              "    </div>\n",
              "    <table border=\"1\" class=\"dataframe\">\n",
              "  <thead>\n",
              " <tr style=\"text-align: left;\">\n",
              "      <th>Epoch</th>\n",
              "      <th>Training Loss</th>\n",
              "      <th>Validation Loss</th>\n",
              "      <th>Accuracy</th>\n",
              "    </tr>\n",
              "  </thead>\n",
              "  <tbody>\n",
              "    <tr>\n",
              "      <td>1</td>\n",
              "      <td>No log</td>\n",
              "      <td>0.213600</td>\n",
              "      <td>0.628387</td>\n",
              "    </tr>\n",
              "  </tbody>\n",
              "</table><p>"
            ]
          },
          "metadata": {}
        },
        {
          "output_type": "stream",
          "name": "stderr",
          "text": [
            "[I 2024-01-23 18:25:25,793] Trial 15 pruned. \n",
            "Some weights of DistilBertForSequenceClassification were not initialized from the model checkpoint at distilbert-base-uncased and are newly initialized: ['classifier.bias', 'classifier.weight', 'pre_classifier.bias', 'pre_classifier.weight']\n",
            "You should probably TRAIN this model on a down-stream task to be able to use it for predictions and inference.\n"
          ]
        },
        {
          "output_type": "display_data",
          "data": {
            "text/plain": [
              "<IPython.core.display.HTML object>"
            ],
            "text/html": [
              "\n",
              "    <div>\n",
              "      \n",
              "      <progress value='2226' max='2862' style='width:300px; height:20px; vertical-align: middle;'></progress>\n",
              "      [2226/2862 07:08 < 02:02, 5.19 it/s, Epoch 7/9]\n",
              "    </div>\n",
              "    <table border=\"1\" class=\"dataframe\">\n",
              "  <thead>\n",
              " <tr style=\"text-align: left;\">\n",
              "      <th>Epoch</th>\n",
              "      <th>Training Loss</th>\n",
              "      <th>Validation Loss</th>\n",
              "      <th>Accuracy</th>\n",
              "    </tr>\n",
              "  </thead>\n",
              "  <tbody>\n",
              "    <tr>\n",
              "      <td>1</td>\n",
              "      <td>No log</td>\n",
              "      <td>0.287391</td>\n",
              "      <td>0.674194</td>\n",
              "    </tr>\n",
              "    <tr>\n",
              "      <td>2</td>\n",
              "      <td>0.460100</td>\n",
              "      <td>0.116875</td>\n",
              "      <td>0.846452</td>\n",
              "    </tr>\n",
              "    <tr>\n",
              "      <td>3</td>\n",
              "      <td>0.460100</td>\n",
              "      <td>0.065586</td>\n",
              "      <td>0.892581</td>\n",
              "    </tr>\n",
              "    <tr>\n",
              "      <td>4</td>\n",
              "      <td>0.136600</td>\n",
              "      <td>0.047417</td>\n",
              "      <td>0.909355</td>\n",
              "    </tr>\n",
              "    <tr>\n",
              "      <td>5</td>\n",
              "      <td>0.076500</td>\n",
              "      <td>0.038786</td>\n",
              "      <td>0.921613</td>\n",
              "    </tr>\n",
              "    <tr>\n",
              "      <td>6</td>\n",
              "      <td>0.076500</td>\n",
              "      <td>0.033981</td>\n",
              "      <td>0.927097</td>\n",
              "    </tr>\n",
              "    <tr>\n",
              "      <td>7</td>\n",
              "      <td>0.058500</td>\n",
              "      <td>0.031913</td>\n",
              "      <td>0.929677</td>\n",
              "    </tr>\n",
              "  </tbody>\n",
              "</table><p>"
            ]
          },
          "metadata": {}
        },
        {
          "output_type": "stream",
          "name": "stderr",
          "text": [
            "[I 2024-01-23 18:32:34,777] Trial 16 pruned. \n",
            "Some weights of DistilBertForSequenceClassification were not initialized from the model checkpoint at distilbert-base-uncased and are newly initialized: ['classifier.bias', 'classifier.weight', 'pre_classifier.bias', 'pre_classifier.weight']\n",
            "You should probably TRAIN this model on a down-stream task to be able to use it for predictions and inference.\n"
          ]
        },
        {
          "output_type": "display_data",
          "data": {
            "text/plain": [
              "<IPython.core.display.HTML object>"
            ],
            "text/html": [
              "\n",
              "    <div>\n",
              "      \n",
              "      <progress value='318' max='3180' style='width:300px; height:20px; vertical-align: middle;'></progress>\n",
              "      [ 318/3180 00:58 < 08:53, 5.36 it/s, Epoch 1/10]\n",
              "    </div>\n",
              "    <table border=\"1\" class=\"dataframe\">\n",
              "  <thead>\n",
              " <tr style=\"text-align: left;\">\n",
              "      <th>Epoch</th>\n",
              "      <th>Training Loss</th>\n",
              "      <th>Validation Loss</th>\n",
              "      <th>Accuracy</th>\n",
              "    </tr>\n",
              "  </thead>\n",
              "  <tbody>\n",
              "    <tr>\n",
              "      <td>1</td>\n",
              "      <td>No log</td>\n",
              "      <td>0.194729</td>\n",
              "      <td>0.619032</td>\n",
              "    </tr>\n",
              "  </tbody>\n",
              "</table><p>"
            ]
          },
          "metadata": {}
        },
        {
          "output_type": "stream",
          "name": "stderr",
          "text": [
            "[I 2024-01-23 18:33:34,428] Trial 17 pruned. \n",
            "Some weights of DistilBertForSequenceClassification were not initialized from the model checkpoint at distilbert-base-uncased and are newly initialized: ['classifier.bias', 'classifier.weight', 'pre_classifier.bias', 'pre_classifier.weight']\n",
            "You should probably TRAIN this model on a down-stream task to be able to use it for predictions and inference.\n"
          ]
        },
        {
          "output_type": "display_data",
          "data": {
            "text/plain": [
              "<IPython.core.display.HTML object>"
            ],
            "text/html": [
              "\n",
              "    <div>\n",
              "      \n",
              "      <progress value='318' max='2544' style='width:300px; height:20px; vertical-align: middle;'></progress>\n",
              "      [ 318/2544 00:58 < 06:54, 5.38 it/s, Epoch 1/8]\n",
              "    </div>\n",
              "    <table border=\"1\" class=\"dataframe\">\n",
              "  <thead>\n",
              " <tr style=\"text-align: left;\">\n",
              "      <th>Epoch</th>\n",
              "      <th>Training Loss</th>\n",
              "      <th>Validation Loss</th>\n",
              "      <th>Accuracy</th>\n",
              "    </tr>\n",
              "  </thead>\n",
              "  <tbody>\n",
              "    <tr>\n",
              "      <td>1</td>\n",
              "      <td>No log</td>\n",
              "      <td>0.208915</td>\n",
              "      <td>0.626452</td>\n",
              "    </tr>\n",
              "  </tbody>\n",
              "</table><p>"
            ]
          },
          "metadata": {}
        },
        {
          "output_type": "stream",
          "name": "stderr",
          "text": [
            "[I 2024-01-23 18:34:33,891] Trial 18 pruned. \n",
            "Some weights of DistilBertForSequenceClassification were not initialized from the model checkpoint at distilbert-base-uncased and are newly initialized: ['classifier.bias', 'classifier.weight', 'pre_classifier.bias', 'pre_classifier.weight']\n",
            "You should probably TRAIN this model on a down-stream task to be able to use it for predictions and inference.\n"
          ]
        },
        {
          "output_type": "display_data",
          "data": {
            "text/plain": [
              "<IPython.core.display.HTML object>"
            ],
            "text/html": [
              "\n",
              "    <div>\n",
              "      \n",
              "      <progress value='1908' max='2862' style='width:300px; height:20px; vertical-align: middle;'></progress>\n",
              "      [1908/2862 06:09 < 03:04, 5.16 it/s, Epoch 6/9]\n",
              "    </div>\n",
              "    <table border=\"1\" class=\"dataframe\">\n",
              "  <thead>\n",
              " <tr style=\"text-align: left;\">\n",
              "      <th>Epoch</th>\n",
              "      <th>Training Loss</th>\n",
              "      <th>Validation Loss</th>\n",
              "      <th>Accuracy</th>\n",
              "    </tr>\n",
              "  </thead>\n",
              "  <tbody>\n",
              "    <tr>\n",
              "      <td>1</td>\n",
              "      <td>No log</td>\n",
              "      <td>0.247991</td>\n",
              "      <td>0.654194</td>\n",
              "    </tr>\n",
              "    <tr>\n",
              "      <td>2</td>\n",
              "      <td>0.398900</td>\n",
              "      <td>0.109334</td>\n",
              "      <td>0.841935</td>\n",
              "    </tr>\n",
              "    <tr>\n",
              "      <td>3</td>\n",
              "      <td>0.398900</td>\n",
              "      <td>0.065109</td>\n",
              "      <td>0.888710</td>\n",
              "    </tr>\n",
              "    <tr>\n",
              "      <td>4</td>\n",
              "      <td>0.127100</td>\n",
              "      <td>0.047838</td>\n",
              "      <td>0.905484</td>\n",
              "    </tr>\n",
              "    <tr>\n",
              "      <td>5</td>\n",
              "      <td>0.075000</td>\n",
              "      <td>0.038961</td>\n",
              "      <td>0.916774</td>\n",
              "    </tr>\n",
              "    <tr>\n",
              "      <td>6</td>\n",
              "      <td>0.075000</td>\n",
              "      <td>0.034014</td>\n",
              "      <td>0.923548</td>\n",
              "    </tr>\n",
              "  </tbody>\n",
              "</table><p>"
            ]
          },
          "metadata": {}
        },
        {
          "output_type": "stream",
          "name": "stderr",
          "text": [
            "[I 2024-01-23 18:40:44,037] Trial 19 pruned. \n"
          ]
        }
      ]
    },
    {
      "cell_type": "code",
      "source": [
        "print(best_run)"
      ],
      "metadata": {
        "colab": {
          "base_uri": "https://localhost:8080/"
        },
        "id": "QMGNsiF1OFl3",
        "outputId": "78dc0017-b38c-4b02-bb46-ab71a3e467dd"
      },
      "execution_count": null,
      "outputs": [
        {
          "output_type": "stream",
          "name": "stdout",
          "text": [
            "BestRun(run_id='10', objective=0.9332258064516129, hyperparameters={'num_train_epochs': 9, 'alpha': 0.9464628409873767, 'temperature': 2}, run_summary=None)\n"
          ]
        }
      ]
    },
    {
      "cell_type": "code",
      "source": [
        "#updating our training arguments with these values and run the final training run\n",
        "\n",
        "for k,v in best_run.hyperparameters.items():\n",
        "  setattr(student_training_args, k, v)\n",
        "\n",
        "#Define a new repository to store our distilled model\n",
        "distilled_ckpt = \"distilbert-base-uncased-distilled-clinc\"\n",
        "student_training_args.output_dir = distilled_ckpt\n",
        "\n",
        "#Create a new Trainer with optimal parameters\n",
        "distil_trainer = DistillationTrainer(model_init=student_init,\n",
        "                                     teacher_model=teacher_model, args=student_training_args,\n",
        "                                     train_dataset=clinc_enc['train'], eval_dataset=clinc_enc['validation'],\n",
        "                                     compute_metrics=compute_metrics, tokenizer=student_tokenizer)\n",
        "distil_trainer.train()"
      ],
      "metadata": {
        "colab": {
          "base_uri": "https://localhost:8080/",
          "height": 503
        },
        "id": "LNF4XCHMOQ3N",
        "outputId": "f1e0126b-20c1-4b42-ed47-9d1d81b4e692"
      },
      "execution_count": null,
      "outputs": [
        {
          "output_type": "stream",
          "name": "stderr",
          "text": [
            "Some weights of DistilBertForSequenceClassification were not initialized from the model checkpoint at distilbert-base-uncased and are newly initialized: ['classifier.bias', 'classifier.weight', 'pre_classifier.bias', 'pre_classifier.weight']\n",
            "You should probably TRAIN this model on a down-stream task to be able to use it for predictions and inference.\n",
            "Some weights of DistilBertForSequenceClassification were not initialized from the model checkpoint at distilbert-base-uncased and are newly initialized: ['classifier.bias', 'classifier.weight', 'pre_classifier.bias', 'pre_classifier.weight']\n",
            "You should probably TRAIN this model on a down-stream task to be able to use it for predictions and inference.\n"
          ]
        },
        {
          "output_type": "display_data",
          "data": {
            "text/plain": [
              "<IPython.core.display.HTML object>"
            ],
            "text/html": [
              "\n",
              "    <div>\n",
              "      \n",
              "      <progress value='2862' max='2862' style='width:300px; height:20px; vertical-align: middle;'></progress>\n",
              "      [2862/2862 09:17, Epoch 9/9]\n",
              "    </div>\n",
              "    <table border=\"1\" class=\"dataframe\">\n",
              "  <thead>\n",
              " <tr style=\"text-align: left;\">\n",
              "      <th>Epoch</th>\n",
              "      <th>Training Loss</th>\n",
              "      <th>Validation Loss</th>\n",
              "      <th>Accuracy</th>\n",
              "    </tr>\n",
              "  </thead>\n",
              "  <tbody>\n",
              "    <tr>\n",
              "      <td>1</td>\n",
              "      <td>No log</td>\n",
              "      <td>3.071423</td>\n",
              "      <td>0.759677</td>\n",
              "    </tr>\n",
              "    <tr>\n",
              "      <td>2</td>\n",
              "      <td>3.579300</td>\n",
              "      <td>1.564803</td>\n",
              "      <td>0.878710</td>\n",
              "    </tr>\n",
              "    <tr>\n",
              "      <td>3</td>\n",
              "      <td>3.579300</td>\n",
              "      <td>0.813925</td>\n",
              "      <td>0.909677</td>\n",
              "    </tr>\n",
              "    <tr>\n",
              "      <td>4</td>\n",
              "      <td>1.350700</td>\n",
              "      <td>0.506569</td>\n",
              "      <td>0.929355</td>\n",
              "    </tr>\n",
              "    <tr>\n",
              "      <td>5</td>\n",
              "      <td>0.483900</td>\n",
              "      <td>0.382818</td>\n",
              "      <td>0.939677</td>\n",
              "    </tr>\n",
              "    <tr>\n",
              "      <td>6</td>\n",
              "      <td>0.483900</td>\n",
              "      <td>0.336799</td>\n",
              "      <td>0.940000</td>\n",
              "    </tr>\n",
              "    <tr>\n",
              "      <td>7</td>\n",
              "      <td>0.243700</td>\n",
              "      <td>0.319506</td>\n",
              "      <td>0.942258</td>\n",
              "    </tr>\n",
              "    <tr>\n",
              "      <td>8</td>\n",
              "      <td>0.167300</td>\n",
              "      <td>0.312880</td>\n",
              "      <td>0.942581</td>\n",
              "    </tr>\n",
              "    <tr>\n",
              "      <td>9</td>\n",
              "      <td>0.167300</td>\n",
              "      <td>0.311150</td>\n",
              "      <td>0.943548</td>\n",
              "    </tr>\n",
              "  </tbody>\n",
              "</table><p>"
            ]
          },
          "metadata": {}
        },
        {
          "output_type": "execute_result",
          "data": {
            "text/plain": [
              "TrainOutput(global_step=2862, training_loss=1.0361964014507856, metrics={'train_runtime': 557.7821, 'train_samples_per_second': 246.064, 'train_steps_per_second': 5.131, 'total_flos': 743236042911180.0, 'train_loss': 1.0361964014507856, 'epoch': 9.0})"
            ]
          },
          "metadata": {},
          "execution_count": 53
        }
      ]
    },
    {
      "cell_type": "code",
      "source": [
        "distil_trainer.push_to_hub(\"Training complete\")"
      ],
      "metadata": {
        "colab": {
          "base_uri": "https://localhost:8080/",
          "height": 120,
          "referenced_widgets": [
            "75c40a9b01c2436aae8de348caf26fdc",
            "7291f7c9ae634de28813cee9f24ba8f8",
            "3775ffcc9d494733a03561be668f4512",
            "790c81d308e2467aa7c5c5409a6d4617",
            "2702e5f06e0b43cbaa15032c1139c137",
            "ce9b1b72243143c4b3457be81985099c",
            "acddac4644e640ff84ef3c64decf5ad9",
            "e234a72cfaf1470bb2f439fe74eabe7f",
            "5e16b6b48cc047d0b6ebbac61745898c",
            "07ee68a394754214927fe9cfb1f9e362",
            "f33fc515d9fb49be94b490a35ae16225"
          ]
        },
        "id": "Fm_TFQsuPmYi",
        "outputId": "763c4d24-18f9-4a80-c280-e33c5217b812"
      },
      "execution_count": null,
      "outputs": [
        {
          "output_type": "display_data",
          "data": {
            "text/plain": [
              "model.safetensors:   0%|          | 0.00/268M [00:00<?, ?B/s]"
            ],
            "application/vnd.jupyter.widget-view+json": {
              "version_major": 2,
              "version_minor": 0,
              "model_id": "75c40a9b01c2436aae8de348caf26fdc"
            }
          },
          "metadata": {}
        },
        {
          "output_type": "execute_result",
          "data": {
            "text/plain": [
              "CommitInfo(commit_url='https://huggingface.co/hndc/distilbert-base-uncased-distilled-clinc/commit/117ca00e9ccecae72b558eecc616f2b81c991c38', commit_message='Training complete', commit_description='', oid='117ca00e9ccecae72b558eecc616f2b81c991c38', pr_url=None, pr_revision=None, pr_num=None)"
            ],
            "application/vnd.google.colaboratory.intrinsic+json": {
              "type": "string"
            }
          },
          "metadata": {},
          "execution_count": 54
        }
      ]
    },
    {
      "cell_type": "code",
      "source": [
        "#Benchmarking the Distilled Model\n",
        "\n",
        "distilled_ckpt = \"hndc/distilbert-base-uncased-distilled-clinc\"\n",
        "pipe = pipeline(\"text-classification\", model=distilled_ckpt)\n",
        "optim_type = \"Distillation\"\n",
        "pb = PerformanceBenchmark(pipe, clinc[\"test\"], optim_type=optim_type)\n",
        "perf_metrics.update(pb.run_benchmark())"
      ],
      "metadata": {
        "colab": {
          "base_uri": "https://localhost:8080/"
        },
        "id": "wRk8HIsSPrf-",
        "outputId": "59193dbd-62c3-4b2a-a1c3-585163218792"
      },
      "execution_count": null,
      "outputs": [
        {
          "output_type": "stream",
          "name": "stdout",
          "text": [
            "Model size (MB) - 255.88\n",
            "Accuracy on test set - 0.887\n",
            "Average latency(ms) - 27.71 +\\- 4.64\n"
          ]
        }
      ]
    },
    {
      "cell_type": "code",
      "source": [
        "#visualizing the results\n",
        "\n",
        "plot_metrics(perf_metrics, optim_type)"
      ],
      "metadata": {
        "colab": {
          "base_uri": "https://localhost:8080/",
          "height": 511
        },
        "id": "brWF-kSkQO2i",
        "outputId": "ef3dbc8a-e546-4081-e4f6-056e84e5ec06"
      },
      "execution_count": null,
      "outputs": [
        {
          "output_type": "stream",
          "name": "stderr",
          "text": [
            "<ipython-input-32-c1e7db668336>:18: MatplotlibDeprecationWarning: The legendHandles attribute was deprecated in Matplotlib 3.7 and will be removed two minor releases later. Use legend_handles instead.\n",
            "  for handle in legend.legendHandles:\n"
          ]
        },
        {
          "output_type": "display_data",
          "data": {
            "text/plain": [
              "<Figure size 640x480 with 1 Axes>"
            ],
            "image/png": "[encoded data removed]"
          },
          "metadata": {}
        }
      ]
    },
    {
      "cell_type": "markdown",
      "source": [
        "**Quantization**"
      ],
      "metadata": {
        "id": "bFvpqnDmzBH7"
      }
    },
    {
      "cell_type": "code",
      "source": [
        "#visualizing attention weight matrics from distiled model\n",
        "\n",
        "import matplotlib.pyplot as plt\n",
        "\n",
        "state_dict = pipe.model.state_dict()\n",
        "weights = state_dict[\"distilbert.transformer.layer.0.attention.out_lin.weight\"]\n",
        "plt.hist(weights.flatten().numpy(), bins=250, range=(-0.3, 0.3), edgecolor=\"C0\")\n",
        "plt.show()"
      ],
      "metadata": {
        "colab": {
          "base_uri": "https://localhost:8080/",
          "height": 430
        },
        "id": "Bknx9l6mQWHx",
        "outputId": "a6033733-d8f0-46be-a35c-aad7ccaf636f"
      },
      "execution_count": null,
      "outputs": [
        {
          "output_type": "display_data",
          "data": {
            "text/plain": [
              "<Figure size 640x480 with 1 Axes>"
            ],
            "image/png": "[encoded data removed]"
          },
          "metadata": {}
        }
      ]
    },
    {
      "cell_type": "code",
      "source": [
        "# scaling to 8-bits; [q_max, q_min]=[-128, 127]\n",
        "\n",
        "zero_point = 0\n",
        "scale = (weights.max() - weights.min())/(127 - (-128))"
      ],
      "metadata": {
        "id": "9vUk1Nt_2e82"
      },
      "execution_count": null,
      "outputs": []
    },
    {
      "cell_type": "code",
      "source": [
        "#quantizing the weights\n",
        "\n",
        "(weights/scale + zero_point).clamp(-128, 127).round().char()"
      ],
      "metadata": {
        "colab": {
          "base_uri": "https://localhost:8080/"
        },
        "id": "_ollIQqa4BZH",
        "outputId": "f84a85d7-9c40-4e40-9edd-4e062b108513"
      },
      "execution_count": null,
      "outputs": [
        {
          "output_type": "execute_result",
          "data": {
            "text/plain": [
              "tensor([[ -5,  -8,   0,  ...,  -6,  -4,   8],\n",
              "        [  9,   2,   1,  ...,  -4,   7,   0],\n",
              "        [ -9,  -5,   6,  ...,   0,   6,  -3],\n",
              "        ...,\n",
              "        [  6,   1,  13,  ...,  -1,   6,  -1],\n",
              "        [  1,  -2, -12,  ...,  11,  -7, -13],\n",
              "        [-13,  -1,  -9,  ...,   8,   2,  -1]], dtype=torch.int8)"
            ]
          },
          "metadata": {},
          "execution_count": 42
        }
      ]
    },
    {
      "cell_type": "code",
      "source": [
        "#simplyfing the qunatization by using quantize_per_tensor() fn\n",
        "\n",
        "from torch import quantize_per_tensor\n",
        "\n",
        "dtype = torch.qint8\n",
        "quantized_weights = quantize_per_tensor(weights, scale, zero_point, dtype)\n",
        "quantized_weights.int_repr()"
      ],
      "metadata": {
        "colab": {
          "base_uri": "https://localhost:8080/"
        },
        "id": "sS2c8oud4Qkn",
        "outputId": "ff354476-0a8a-4340-d116-95ba3cfda46d"
      },
      "execution_count": null,
      "outputs": [
        {
          "output_type": "execute_result",
          "data": {
            "text/plain": [
              "tensor([[ -5,  -8,   0,  ...,  -6,  -4,   8],\n",
              "        [  9,   2,   1,  ...,  -4,   7,   0],\n",
              "        [ -9,  -5,   6,  ...,   0,   6,  -3],\n",
              "        ...,\n",
              "        [  6,   1,  13,  ...,  -1,   6,  -1],\n",
              "        [  1,  -2, -12,  ...,  11,  -7, -13],\n",
              "        [-13,  -1,  -9,  ...,   8,   2,  -1]], dtype=torch.int8)"
            ]
          },
          "metadata": {},
          "execution_count": 43
        }
      ]
    },
    {
      "cell_type": "code",
      "source": [
        "# comparing the time it takes to compute the multiplication of two weight tensors with FP32 and INT8 values\n",
        "%%timeit\n",
        "weights @ weights"
      ],
      "metadata": {
        "colab": {
          "base_uri": "https://localhost:8080/"
        },
        "id": "4obsUfjL4wMn",
        "outputId": "d1e7bc91-40f7-4695-f38e-bb6d580dec89"
      },
      "execution_count": null,
      "outputs": [
        {
          "output_type": "stream",
          "name": "stdout",
          "text": [
            "2.98 ms ± 113 µs per loop (mean ± std. dev. of 7 runs, 100 loops each)\n"
          ]
        }
      ]
    },
    {
      "cell_type": "code",
      "source": [
        "# quantized tensors need QFunctional wrapper\n",
        "\n",
        "from torch.nn.quantized import QFunctional\n",
        "\n",
        "q_fn = QFunctional()"
      ],
      "metadata": {
        "id": "716Lw6S07i98"
      },
      "execution_count": null,
      "outputs": []
    },
    {
      "cell_type": "code",
      "source": [
        "%%timeit\n",
        "q_fn.mul(quantized_weights, quantized_weights)"
      ],
      "metadata": {
        "colab": {
          "base_uri": "https://localhost:8080/"
        },
        "id": "gtiRxqIQ71qF",
        "outputId": "18f21950-b563-4d21-fd10-70978b674eac"
      },
      "execution_count": null,
      "outputs": [
        {
          "output_type": "stream",
          "name": "stdout",
          "text": [
            "240 µs ± 6.61 µs per loop (mean ± std. dev. of 7 runs, 1000 loops each)\n"
          ]
        }
      ]
    },
    {
      "cell_type": "code",
      "source": [
        "#verifying quantization reduce storage size by 4\n",
        "\n",
        "import sys\n",
        "\n",
        "sys.getsizeof(weights.storage())/sys.getsizeof(quantized_weights.storage())"
      ],
      "metadata": {
        "colab": {
          "base_uri": "https://localhost:8080/"
        },
        "id": "VeSVrNqH78Ph",
        "outputId": "0ebfc721-1411-4d4b-97e2-62bedfcb528a"
      },
      "execution_count": null,
      "outputs": [
        {
          "output_type": "execute_result",
          "data": {
            "text/plain": [
              "3.999755879241598"
            ]
          },
          "metadata": {},
          "execution_count": 47
        }
      ]
    },
    {
      "cell_type": "code",
      "source": [
        "#quantization in PyTorch\n",
        "\n",
        "from torch.quantization import quantize_dynamic\n",
        "\n",
        "model_ckpt = \"hndc/distilbert-base-uncased-distilled-clinc\"\n",
        "tokenizer = AutoTokenizer.from_pretrained(model_ckpt)\n",
        "model = (AutoModelForSequenceClassification.from_pretrained(model_ckpt).to(\"cpu\"))\n",
        "\n",
        "model_quantized = quantize_dynamic(model, {nn.Linear}, dtype=torch.qint8)"
      ],
      "metadata": {
        "id": "txR_2pnI8X63"
      },
      "execution_count": null,
      "outputs": []
    },
    {
      "cell_type": "code",
      "source": [
        "\n",
        "#hide_input\n",
        "#id weight-quantization\n",
        "#alt Effect of quantization on a transformer's weights\n",
        "#caption Effect of quantization on a transformer's weights\n",
        "from mpl_toolkits.axes_grid1.inset_locator import zoomed_inset_axes,mark_inset\n",
        "\n",
        "# Create histogram\n",
        "fig, ax = plt.subplots()\n",
        "ax.hist(quantized_weights.dequantize().flatten().numpy(),\n",
        "         bins=250, range=(-0.3,0.3), edgecolor=\"C0\");\n",
        "# Create zoom inset\n",
        "axins = zoomed_inset_axes(ax, 5, loc='upper right')\n",
        "axins.hist(quantized_weights.dequantize().flatten().numpy(),\n",
        "         bins=250, range=(-0.3,0.3));\n",
        "x1, x2, y1, y2 = 0.05, 0.1, 500, 2500\n",
        "axins.set_xlim(x1, x2)\n",
        "axins.set_ylim(y1, y2)\n",
        "axins.axes.xaxis.set_visible(False)\n",
        "axins.axes.yaxis.set_visible(False)\n",
        "mark_inset(ax, axins, loc1=2, loc2=4, fc=\"none\", ec=\"0.5\")\n",
        "plt.show()"
      ],
      "metadata": {
        "colab": {
          "base_uri": "https://localhost:8080/",
          "height": 430
        },
        "id": "H751hchH0ZSp",
        "outputId": "f44d684f-821d-4037-f669-62e8debf80be"
      },
      "execution_count": null,
      "outputs": [
        {
          "output_type": "display_data",
          "data": {
            "text/plain": [
              "<Figure size 640x480 with 2 Axes>"
            ],
            "image/png": "[encoded data removed]"
          },
          "metadata": {}
        }
      ]
    },
    {
      "cell_type": "code",
      "source": [
        "#Benchmarking the Quantized Model\n",
        "\n",
        "pipe = pipeline(\"text-classification\", model=model_quantized, tokenizer=tokenizer)\n",
        "optim_type = \"Distillation + quantization\"\n",
        "pb = PerformanceBenchmark(pipe, clinc[\"test\"], optim_type=optim_type)\n",
        "perf_metrics.update(pb.run_benchmark())"
      ],
      "metadata": {
        "colab": {
          "base_uri": "https://localhost:8080/"
        },
        "id": "mVulVZaM9uQs",
        "outputId": "102f2cf2-2e2b-4f36-ce1c-b6bd404e93b2"
      },
      "execution_count": null,
      "outputs": [
        {
          "output_type": "stream",
          "name": "stdout",
          "text": [
            "Model size (MB) - 132.39\n",
            "Accuracy on test set - 0.895\n",
            "Average latency(ms) - 11.51 +\\- 0.61\n"
          ]
        }
      ]
    },
    {
      "cell_type": "code",
      "source": [
        "#plotting the results\n",
        "\n",
        "plot_metrics(perf_metrics, optim_type)"
      ],
      "metadata": {
        "colab": {
          "base_uri": "https://localhost:8080/",
          "height": 511
        },
        "id": "L8MrXJeo-CH7",
        "outputId": "b580455e-5330-4054-8e39-695135268a26"
      },
      "execution_count": null,
      "outputs": [
        {
          "output_type": "stream",
          "name": "stderr",
          "text": [
            "<ipython-input-32-c1e7db668336>:18: MatplotlibDeprecationWarning: The legendHandles attribute was deprecated in Matplotlib 3.7 and will be removed two minor releases later. Use legend_handles instead.\n",
            "  for handle in legend.legendHandles:\n"
          ]
        },
        {
          "output_type": "display_data",
          "data": {
            "text/plain": [
              "<Figure size 640x480 with 1 Axes>"
            ],
            "image/png": "[encoded data removed]"
          },
          "metadata": {}
        }
      ]
    },
    {
      "cell_type": "markdown",
      "source": [
        "**Optimizing Inference with ONNX and ONNX Runtime**"
      ],
      "metadata": {
        "id": "ryqhPMCMu12Z"
      }
    },
    {
      "cell_type": "code",
      "source": [
        "! pip install --upgrade onnx"
      ],
      "metadata": {
        "colab": {
          "base_uri": "https://localhost:8080/"
        },
        "id": "ikYwjKJH1C4x",
        "outputId": "219351b9-5955-46f1-901b-a881244e7791"
      },
      "execution_count": null,
      "outputs": [
        {
          "output_type": "stream",
          "name": "stdout",
          "text": [
            "Requirement already satisfied: onnx in /usr/local/lib/python3.10/dist-packages (1.15.0)\n",
            "Requirement already satisfied: numpy in /usr/local/lib/python3.10/dist-packages (from onnx) (1.23.5)\n",
            "Requirement already satisfied: protobuf>=3.20.2 in /usr/local/lib/python3.10/dist-packages (from onnx) (3.20.3)\n"
          ]
        }
      ]
    },
    {
      "cell_type": "code",
      "source": [
        "! pip install transformers"
      ],
      "metadata": {
        "colab": {
          "base_uri": "https://localhost:8080/"
        },
        "id": "sDLDrOMl2hM8",
        "outputId": "e85a42fa-4a5b-4b1a-f94f-cb1d95cd70f7"
      },
      "execution_count": null,
      "outputs": [
        {
          "output_type": "stream",
          "name": "stdout",
          "text": [
            "Requirement already satisfied: transformers in /usr/local/lib/python3.10/dist-packages (4.37.0)\n",
            "Requirement already satisfied: filelock in /usr/local/lib/python3.10/dist-packages (from transformers) (3.13.1)\n",
            "Requirement already satisfied: huggingface-hub<1.0,>=0.19.3 in /usr/local/lib/python3.10/dist-packages (from transformers) (0.20.2)\n",
            "Requirement already satisfied: numpy>=1.17 in /usr/local/lib/python3.10/dist-packages (from transformers) (1.23.5)\n",
            "Requirement already satisfied: packaging>=20.0 in /usr/local/lib/python3.10/dist-packages (from transformers) (23.2)\n",
            "Requirement already satisfied: pyyaml>=5.1 in /usr/local/lib/python3.10/dist-packages (from transformers) (6.0.1)\n",
            "Requirement already satisfied: regex!=2019.12.17 in /usr/local/lib/python3.10/dist-packages (from transformers) (2023.6.3)\n",
            "Requirement already satisfied: requests in /usr/local/lib/python3.10/dist-packages (from transformers) (2.31.0)\n",
            "Requirement already satisfied: tokenizers<0.19,>=0.14 in /usr/local/lib/python3.10/dist-packages (from transformers) (0.15.0)\n",
            "Requirement already satisfied: safetensors>=0.3.1 in /usr/local/lib/python3.10/dist-packages (from transformers) (0.4.1)\n",
            "Requirement already satisfied: tqdm>=4.27 in /usr/local/lib/python3.10/dist-packages (from transformers) (4.66.1)\n",
            "Requirement already satisfied: fsspec>=2023.5.0 in /usr/local/lib/python3.10/dist-packages (from huggingface-hub<1.0,>=0.19.3->transformers) (2023.6.0)\n",
            "Requirement already satisfied: typing-extensions>=3.7.4.3 in /usr/local/lib/python3.10/dist-packages (from huggingface-hub<1.0,>=0.19.3->transformers) (4.5.0)\n",
            "Requirement already satisfied: charset-normalizer<4,>=2 in /usr/local/lib/python3.10/dist-packages (from requests->transformers) (3.3.2)\n",
            "Requirement already satisfied: idna<4,>=2.5 in /usr/local/lib/python3.10/dist-packages (from requests->transformers) (3.6)\n",
            "Requirement already satisfied: urllib3<3,>=1.21.1 in /usr/local/lib/python3.10/dist-packages (from requests->transformers) (2.0.7)\n",
            "Requirement already satisfied: certifi>=2017.4.17 in /usr/local/lib/python3.10/dist-packages (from requests->transformers) (2023.11.17)\n"
          ]
        }
      ]
    },
    {
      "cell_type": "code",
      "source": [
        "from pathlib import Path\n",
        "\n",
        "from transformers import AutoTokenizer\n"
      ],
      "metadata": {
        "id": "vUVpUwDr1pqd"
      },
      "execution_count": null,
      "outputs": []
    },
    {
      "cell_type": "code",
      "source": [
        "#using convert_graph_to_onnx.convert() to see ORT in action\n",
        "#Setting OpenMP environment\n",
        "\n",
        "import os\n",
        "from psutil import cpu_count\n",
        "\n",
        "os.environ[\"OMP_NUM_THREADS\"] = f\"{cpu_count()}\"\n",
        "os.environ[\"OMP_WAIT_POLICY\"] = \"ACTIVE\""
      ],
      "metadata": {
        "id": "3MBJ11iqu_i-"
      },
      "execution_count": null,
      "outputs": []
    },
    {
      "cell_type": "code",
      "source": [
        "#emptying onnx folder\n",
        "!rm -rf onnx/*"
      ],
      "metadata": {
        "id": "UrIBfauXNSqe"
      },
      "execution_count": null,
      "outputs": []
    },
    {
      "cell_type": "code",
      "source": [
        "#converting distilled model to the ONNX format\n",
        "\n",
        "from transformers.convert_graph_to_onnx import convert\n",
        "\n",
        "model_ckpt = \"hndc/distilbert-base-uncased-distilled-clinc\"\n",
        "onnx_model_path = Path(\"onnx/model.onnx\")\n",
        "convert(framework=\"pt\", model=model_ckpt, tokenizer=tokenizer,\n",
        "        output=onnx_model_path, opset=12, pipeline_name=\"text-classification\")"
      ],
      "metadata": {
        "colab": {
          "base_uri": "https://localhost:8080/"
        },
        "id": "eDtAZK-jyuUp",
        "outputId": "b1437cf4-835e-421f-97d3-d3865598e8e4"
      },
      "execution_count": null,
      "outputs": [
        {
          "output_type": "stream",
          "name": "stderr",
          "text": [
            "/usr/local/lib/python3.10/dist-packages/transformers/convert_graph_to_onnx.py:361: FutureWarning: The `transformers.convert_graph_to_onnx` package is deprecated and will be removed in version 5 of Transformers\n",
            "  warnings.warn(\n"
          ]
        },
        {
          "output_type": "stream",
          "name": "stdout",
          "text": [
            "ONNX opset version set to: 12\n",
            "Loading pipeline (model: hndc/distilbert-base-uncased-distilled-clinc, tokenizer: DistilBertTokenizerFast(name_or_path='hndc/distilbert-base-uncased-distilled-clinc', vocab_size=30522, model_max_length=512, is_fast=True, padding_side='right', truncation_side='right', special_tokens={'unk_token': '[UNK]', 'sep_token': '[SEP]', 'pad_token': '[PAD]', 'cls_token': '[CLS]', 'mask_token': '[MASK]'}, clean_up_tokenization_spaces=True),  added_tokens_decoder={\n",
            "\t0: AddedToken(\"[PAD]\", rstrip=False, lstrip=False, single_word=False, normalized=False, special=True),\n",
            "\t100: AddedToken(\"[UNK]\", rstrip=False, lstrip=False, single_word=False, normalized=False, special=True),\n",
            "\t101: AddedToken(\"[CLS]\", rstrip=False, lstrip=False, single_word=False, normalized=False, special=True),\n",
            "\t102: AddedToken(\"[SEP]\", rstrip=False, lstrip=False, single_word=False, normalized=False, special=True),\n",
            "\t103: AddedToken(\"[MASK]\", rstrip=False, lstrip=False, single_word=False, normalized=False, special=True),\n",
            "})\n",
            "Using framework PyTorch: 2.1.0+cu121\n",
            "Found input input_ids with shape: {0: 'batch', 1: 'sequence'}\n",
            "Found input attention_mask with shape: {0: 'batch', 1: 'sequence'}\n",
            "Found output output_0 with shape: {0: 'batch'}\n",
            "Ensuring inputs are in correct order\n",
            "head_mask is not present in the generated input list.\n",
            "Generated inputs order: ['input_ids', 'attention_mask']\n"
          ]
        },
        {
          "output_type": "stream",
          "name": "stderr",
          "text": [
            "/usr/local/lib/python3.10/dist-packages/transformers/models/distilbert/modeling_distilbert.py:246: TracerWarning: torch.tensor results are registered as constants in the trace. You can safely ignore this warning if you use this function to create tensors out of constant variables that would be the same every time you call this function. In any other case, this might cause the trace to be incorrect.\n",
            "  mask, torch.tensor(torch.finfo(scores.dtype).min)\n"
          ]
        }
      ]
    },
    {
      "cell_type": "code",
      "source": [
        "#! pip install onnxruntime"
      ],
      "metadata": {
        "id": "mvw85MHn7fqF"
      },
      "execution_count": null,
      "outputs": []
    },
    {
      "cell_type": "code",
      "source": [
        "#creating InferenceSession instance to feed inputs to the models\n",
        "\n",
        "from onnxruntime import (GraphOptimizationLevel, InferenceSession,\n",
        "                         SessionOptions)\n",
        "\n",
        "def create_model_for_provider(model_path, provider=\"CPUExecutionProvider\"):\n",
        "    options = SessionOptions()\n",
        "    options.intra_op_num_threads = 1\n",
        "    options.graph_optimization_level = GraphOptimizationLevel.ORT_ENABLE_ALL\n",
        "    session = InferenceSession(str(model_path), options, providers=[provider])\n",
        "    session.disable_fallback()\n",
        "    return session"
      ],
      "metadata": {
        "id": "wd2ehby9zwMc"
      },
      "execution_count": null,
      "outputs": []
    },
    {
      "cell_type": "code",
      "source": [
        "onnx_model = create_model_for_provider(onnx_model_path)"
      ],
      "metadata": {
        "id": "2nwPzywSRbXy"
      },
      "execution_count": null,
      "outputs": []
    },
    {
      "cell_type": "code",
      "source": [
        "#testing out the onnx_model with an example\n",
        "\n",
        "inputs = clinc_enc[\"test\"][:1]\n",
        "del inputs[\"labels\"]\n",
        "logits_onnx = onnx_model.run(None, inputs)[0]\n",
        "logits_onnx.shape"
      ],
      "metadata": {
        "colab": {
          "base_uri": "https://localhost:8080/"
        },
        "id": "0GmfSCrv5ddc",
        "outputId": "a4269fc2-34b7-4067-b0df-15e6070dbb94"
      },
      "execution_count": null,
      "outputs": [
        {
          "output_type": "execute_result",
          "data": {
            "text/plain": [
              "(1, 151)"
            ]
          },
          "metadata": {},
          "execution_count": 90
        }
      ]
    },
    {
      "cell_type": "code",
      "source": [
        "#getting the predicted label\n",
        "\n",
        "np.argmax(logits_onnx)"
      ],
      "metadata": {
        "colab": {
          "base_uri": "https://localhost:8080/"
        },
        "id": "pyItsxR050at",
        "outputId": "cab57c8f-21d0-4344-ca6c-1bec02885f87"
      },
      "execution_count": null,
      "outputs": [
        {
          "output_type": "execute_result",
          "data": {
            "text/plain": [
              "61"
            ]
          },
          "metadata": {},
          "execution_count": 91
        }
      ]
    },
    {
      "cell_type": "code",
      "source": [
        "#ground truth label\n",
        "\n",
        "clinc_enc[\"test\"][0][\"labels\"]"
      ],
      "metadata": {
        "colab": {
          "base_uri": "https://localhost:8080/"
        },
        "id": "mblPL0IV56cJ",
        "outputId": "39359215-5a8a-4e27-e0e6-879b36158155"
      },
      "execution_count": null,
      "outputs": [
        {
          "output_type": "execute_result",
          "data": {
            "text/plain": [
              "61"
            ]
          },
          "metadata": {},
          "execution_count": 92
        }
      ]
    },
    {
      "cell_type": "code",
      "source": [
        "#creating custom pipeline for ONNX model\n",
        "\n",
        "from scipy.special import softmax\n",
        "\n",
        "class OnnxPipeline:\n",
        "    def __init__(self, model, tokenizer):\n",
        "        self.model = model\n",
        "        self.tokenizer = tokenizer\n",
        "\n",
        "    def __call__(self, query):\n",
        "        model_inputs = self.tokenizer(query, return_tensors=\"pt\")\n",
        "        inputs_onnx = {k: v.cpu().detach().numpy()\n",
        "                       for k, v in model_inputs.items()}\n",
        "        logits = self.model.run(None, inputs_onnx)[0][0, :]\n",
        "        probs = softmax(logits)\n",
        "        pred_idx = np.argmax(probs).item()\n",
        "        return [{\"label\": intents.int2str(pred_idx), \"score\": probs[pred_idx]}]"
      ],
      "metadata": {
        "id": "aPKsC3aJ6FxV"
      },
      "execution_count": null,
      "outputs": []
    },
    {
      "cell_type": "code",
      "source": [
        "# testing on the simple query about car_rental intent\n",
        "\n",
        "pipe = OnnxPipeline(onnx_model, tokenizer)\n",
        "pipe(query)"
      ],
      "metadata": {
        "colab": {
          "base_uri": "https://localhost:8080/"
        },
        "id": "mHFT2hc18FjD",
        "outputId": "2fca3b17-1398-4aed-83eb-4ffe07d4f720"
      },
      "execution_count": null,
      "outputs": [
        {
          "output_type": "execute_result",
          "data": {
            "text/plain": [
              "[{'label': 'car_rental', 'score': 0.9454193}]"
            ]
          },
          "metadata": {},
          "execution_count": 94
        }
      ]
    },
    {
      "cell_type": "code",
      "source": [
        "#creating performance benchmark for ONNX models\n",
        "\n",
        "class OnnxPerformanceBenchmark(PerformanceBenchmark):\n",
        "    def __init__(self, *args, model_path, **kwargs):\n",
        "        super().__init__(*args, **kwargs)\n",
        "        self.model_path = model_path\n",
        "\n",
        "    def compute_size(self):\n",
        "        size_mb = Path(self.model_path).stat().st_size / (1024 * 1024)\n",
        "        print(f\"Model size (MB) - {size_mb:.2f}\")\n",
        "        return {\"size_mb\": size_mb}"
      ],
      "metadata": {
        "id": "X34EQG1T8R6b"
      },
      "execution_count": null,
      "outputs": []
    },
    {
      "cell_type": "code",
      "source": [
        "#Benchmarking of +ORT\n",
        "\n",
        "optim_type = \"Distillation + ORT\"\n",
        "pb = OnnxPerformanceBenchmark(pipe, clinc[\"test\"], optim_type,\n",
        "                              model_path=\"onnx/model.onnx\")\n",
        "perf_metrics.update(pb.run_benchmark())"
      ],
      "metadata": {
        "colab": {
          "base_uri": "https://localhost:8080/"
        },
        "id": "GsAwK6FN-UnI",
        "outputId": "8bce1bd3-d56d-4cb3-cc6a-8429e5610a13"
      },
      "execution_count": null,
      "outputs": [
        {
          "output_type": "stream",
          "name": "stdout",
          "text": [
            "Model size (MB) - 255.98\n",
            "Accuracy on test set - 0.887\n",
            "Average latency(ms) - 22.23 +\\- 0.65\n"
          ]
        }
      ]
    },
    {
      "cell_type": "code",
      "source": [
        "plot_metrics(perf_metrics, optim_type)"
      ],
      "metadata": {
        "colab": {
          "base_uri": "https://localhost:8080/",
          "height": 511
        },
        "id": "OHyiZPMr-zGF",
        "outputId": "e1b086da-14ff-45d1-deb1-a027345b0338"
      },
      "execution_count": null,
      "outputs": [
        {
          "output_type": "stream",
          "name": "stderr",
          "text": [
            "<ipython-input-32-c1e7db668336>:18: MatplotlibDeprecationWarning: The legendHandles attribute was deprecated in Matplotlib 3.7 and will be removed two minor releases later. Use legend_handles instead.\n",
            "  for handle in legend.legendHandles:\n"
          ]
        },
        {
          "output_type": "display_data",
          "data": {
            "text/plain": [
              "<Figure size 640x480 with 1 Axes>"
            ],
            "image/png": "[encoded data removed]"
          },
          "metadata": {}
        }
      ]
    },
    {
      "cell_type": "code",
      "source": [
        "#adding quantization to the mix\n",
        "\n",
        "from onnxruntime.quantization import quantize_dynamic, QuantType\n",
        "\n",
        "model_input = \"onnx/model.onnx\"\n",
        "model_output = \"onnx/model_quant.onnx\"\n",
        "quantize_dynamic(model_input, model_output, weight_type=QuantType.QInt8)"
      ],
      "metadata": {
        "id": "vvvIFuzuBTwv",
        "colab": {
          "base_uri": "https://localhost:8080/"
        },
        "outputId": "39c94c08-d359-4a29-c26b-abcdd796900d"
      },
      "execution_count": null,
      "outputs": [
        {
          "output_type": "stream",
          "name": "stderr",
          "text": [
            "WARNING:root:Please consider to run pre-processing before quantization. Refer to example: https://github.com/microsoft/onnxruntime-inference-examples/blob/main/quantization/image_classification/cpu/ReadMe.md \n"
          ]
        },
        {
          "output_type": "stream",
          "name": "stdout",
          "text": [
            "Ignore MatMul due to non constant B: /[/distilbert/transformer/layer.0/attention/MatMul]\n",
            "Ignore MatMul due to non constant B: /[/distilbert/transformer/layer.0/attention/MatMul_1]\n",
            "Ignore MatMul due to non constant B: /[/distilbert/transformer/layer.1/attention/MatMul]\n",
            "Ignore MatMul due to non constant B: /[/distilbert/transformer/layer.1/attention/MatMul_1]\n",
            "Ignore MatMul due to non constant B: /[/distilbert/transformer/layer.2/attention/MatMul]\n",
            "Ignore MatMul due to non constant B: /[/distilbert/transformer/layer.2/attention/MatMul_1]\n",
            "Ignore MatMul due to non constant B: /[/distilbert/transformer/layer.3/attention/MatMul]\n",
            "Ignore MatMul due to non constant B: /[/distilbert/transformer/layer.3/attention/MatMul_1]\n",
            "Ignore MatMul due to non constant B: /[/distilbert/transformer/layer.4/attention/MatMul]\n",
            "Ignore MatMul due to non constant B: /[/distilbert/transformer/layer.4/attention/MatMul_1]\n",
            "Ignore MatMul due to non constant B: /[/distilbert/transformer/layer.5/attention/MatMul]\n",
            "Ignore MatMul due to non constant B: /[/distilbert/transformer/layer.5/attention/MatMul_1]\n"
          ]
        }
      ]
    },
    {
      "cell_type": "code",
      "source": [
        "#running quantized model\n",
        "\n",
        "onnx_quantized_model = create_model_for_provider(model_output)\n",
        "pipe = OnnxPipeline(onnx_quantized_model, tokenizer)\n",
        "optim_type = \"Distillation +ORT(quantized)\"\n",
        "pb = OnnxPerformanceBenchmark(pipe, clinc[\"test\"], optim_type, model_path=model_output)\n",
        "perf_metrics.update(pb.run_benchmark())"
      ],
      "metadata": {
        "colab": {
          "base_uri": "https://localhost:8080/"
        },
        "id": "HaYQuppEMazl",
        "outputId": "8adf2099-092b-4542-d30f-3e0ec21baf37"
      },
      "execution_count": null,
      "outputs": [
        {
          "output_type": "stream",
          "name": "stdout",
          "text": [
            "Model size (MB) - 64.36\n",
            "Accuracy on test set - 0.893\n",
            "Average latency(ms) - 9.95 +\\- 0.42\n"
          ]
        }
      ]
    },
    {
      "cell_type": "code",
      "source": [
        "plot_metrics(perf_metrics, optim_type)"
      ],
      "metadata": {
        "colab": {
          "base_uri": "https://localhost:8080/",
          "height": 511
        },
        "id": "7bl2TPgdNj9m",
        "outputId": "22886ad7-05fa-4872-8a77-f4df7812d1a4"
      },
      "execution_count": null,
      "outputs": [
        {
          "output_type": "stream",
          "name": "stderr",
          "text": [
            "<ipython-input-32-c1e7db668336>:18: MatplotlibDeprecationWarning: The legendHandles attribute was deprecated in Matplotlib 3.7 and will be removed two minor releases later. Use legend_handles instead.\n",
            "  for handle in legend.legendHandles:\n"
          ]
        },
        {
          "output_type": "display_data",
          "data": {
            "text/plain": [
              "<Figure size 640x480 with 1 Axes>"
            ],
            "image/png": "[encoded data removed]"
          },
          "metadata": {}
        }
      ]
    }
  ],
  "metadata": {
    "accelerator": "GPU",
    "colab": {
      "machine_shape": "hm",
      "provenance": []
    },
    "kernelspec": {
      "display_name": "Python 3",
      "name": "python3"
    },
    "language_info": {
      "name": "python"
    },
    "widgets": {
      "application/vnd.jupyter.widget-state+json": {
        "8e089ff776e74a7e828f130b1af15366": {
          "model_module": "@jupyter-widgets/controls",
          "model_name": "HBoxModel",
          "model_module_version": "1.5.0",
          "state": {
            "_dom_classes": [],
            "_model_module": "@jupyter-widgets/controls",
            "_model_module_version": "1.5.0",
            "_model_name": "HBoxModel",
            "_view_count": null,
            "_view_module": "@jupyter-widgets/controls",
            "_view_module_version": "1.5.0",
            "_view_name": "HBoxView",
            "box_style": "",
            "children": [
              "IPY_MODEL_38f9e896b1cf4629a1ec818db40a0290",
              "IPY_MODEL_7e79f57ca80d4071a612665ffa80e3cb",
              "IPY_MODEL_66634be940cc4b2ebfc63e079b419da6"
            ],
            "layout": "IPY_MODEL_3d0059b0bc5c4a8e9bbc570dc9745be3"
          }
        },
        "38f9e896b1cf4629a1ec818db40a0290": {
          "model_module": "@jupyter-widgets/controls",
          "model_name": "HTMLModel",
          "model_module_version": "1.5.0",
          "state": {
            "_dom_classes": [],
            "_model_module": "@jupyter-widgets/controls",
            "_model_module_version": "1.5.0",
            "_model_name": "HTMLModel",
            "_view_count": null,
            "_view_module": "@jupyter-widgets/controls",
            "_view_module_version": "1.5.0",
            "_view_name": "HTMLView",
            "description": "",
            "description_tooltip": null,
            "layout": "IPY_MODEL_7d1e141194cb43b58d4165d932863e94",
            "placeholder": "​",
            "style": "IPY_MODEL_887bab6522794f578206e9f16e3666b0",
            "value": "model.safetensors: 100%"
          }
        },
        "7e79f57ca80d4071a612665ffa80e3cb": {
          "model_module": "@jupyter-widgets/controls",
          "model_name": "FloatProgressModel",
          "model_module_version": "1.5.0",
          "state": {
            "_dom_classes": [],
            "_model_module": "@jupyter-widgets/controls",
            "_model_module_version": "1.5.0",
            "_model_name": "FloatProgressModel",
            "_view_count": null,
            "_view_module": "@jupyter-widgets/controls",
            "_view_module_version": "1.5.0",
            "_view_name": "ProgressView",
            "bar_style": "success",
            "description": "",
            "description_tooltip": null,
            "layout": "IPY_MODEL_b8d0061b403641f5956d5aab84bfca98",
            "max": 268290900,
            "min": 0,
            "orientation": "horizontal",
            "style": "IPY_MODEL_4e653e86732e4dd19c3eaa81861eea5b",
            "value": 268290900
          }
        },
        "66634be940cc4b2ebfc63e079b419da6": {
          "model_module": "@jupyter-widgets/controls",
          "model_name": "HTMLModel",
          "model_module_version": "1.5.0",
          "state": {
            "_dom_classes": [],
            "_model_module": "@jupyter-widgets/controls",
            "_model_module_version": "1.5.0",
            "_model_name": "HTMLModel",
            "_view_count": null,
            "_view_module": "@jupyter-widgets/controls",
            "_view_module_version": "1.5.0",
            "_view_name": "HTMLView",
            "description": "",
            "description_tooltip": null,
            "layout": "IPY_MODEL_e17b41123e834b3cb4f05d18ced08bf5",
            "placeholder": "​",
            "style": "IPY_MODEL_487f68b082674022ab46e9b6db758751",
            "value": " 268M/268M [00:10&lt;00:00, 25.7MB/s]"
          }
        },
        "3d0059b0bc5c4a8e9bbc570dc9745be3": {
          "model_module": "@jupyter-widgets/base",
          "model_name": "LayoutModel",
          "model_module_version": "1.2.0",
          "state": {
            "_model_module": "@jupyter-widgets/base",
            "_model_module_version": "1.2.0",
            "_model_name": "LayoutModel",
            "_view_count": null,
            "_view_module": "@jupyter-widgets/base",
            "_view_module_version": "1.2.0",
            "_view_name": "LayoutView",
            "align_content": null,
            "align_items": null,
            "align_self": null,
            "border": null,
            "bottom": null,
            "display": null,
            "flex": null,
            "flex_flow": null,
            "grid_area": null,
            "grid_auto_columns": null,
            "grid_auto_flow": null,
            "grid_auto_rows": null,
            "grid_column": null,
            "grid_gap": null,
            "grid_row": null,
            "grid_template_areas": null,
            "grid_template_columns": null,
            "grid_template_rows": null,
            "height": null,
            "justify_content": null,
            "justify_items": null,
            "left": null,
            "margin": null,
            "max_height": null,
            "max_width": null,
            "min_height": null,
            "min_width": null,
            "object_fit": null,
            "object_position": null,
            "order": null,
            "overflow": null,
            "overflow_x": null,
            "overflow_y": null,
            "padding": null,
            "right": null,
            "top": null,
            "visibility": null,
            "width": null
          }
        },
        "7d1e141194cb43b58d4165d932863e94": {
          "model_module": "@jupyter-widgets/base",
          "model_name": "LayoutModel",
          "model_module_version": "1.2.0",
          "state": {
            "_model_module": "@jupyter-widgets/base",
            "_model_module_version": "1.2.0",
            "_model_name": "LayoutModel",
            "_view_count": null,
            "_view_module": "@jupyter-widgets/base",
            "_view_module_version": "1.2.0",
            "_view_name": "LayoutView",
            "align_content": null,
            "align_items": null,
            "align_self": null,
            "border": null,
            "bottom": null,
            "display": null,
            "flex": null,
            "flex_flow": null,
            "grid_area": null,
            "grid_auto_columns": null,
            "grid_auto_flow": null,
            "grid_auto_rows": null,
            "grid_column": null,
            "grid_gap": null,
            "grid_row": null,
            "grid_template_areas": null,
            "grid_template_columns": null,
            "grid_template_rows": null,
            "height": null,
            "justify_content": null,
            "justify_items": null,
            "left": null,
            "margin": null,
            "max_height": null,
            "max_width": null,
            "min_height": null,
            "min_width": null,
            "object_fit": null,
            "object_position": null,
            "order": null,
            "overflow": null,
            "overflow_x": null,
            "overflow_y": null,
            "padding": null,
            "right": null,
            "top": null,
            "visibility": null,
            "width": null
          }
        },
        "887bab6522794f578206e9f16e3666b0": {
          "model_module": "@jupyter-widgets/controls",
          "model_name": "DescriptionStyleModel",
          "model_module_version": "1.5.0",
          "state": {
            "_model_module": "@jupyter-widgets/controls",
            "_model_module_version": "1.5.0",
            "_model_name": "DescriptionStyleModel",
            "_view_count": null,
            "_view_module": "@jupyter-widgets/base",
            "_view_module_version": "1.2.0",
            "_view_name": "StyleView",
            "description_width": ""
          }
        },
        "b8d0061b403641f5956d5aab84bfca98": {
          "model_module": "@jupyter-widgets/base",
          "model_name": "LayoutModel",
          "model_module_version": "1.2.0",
          "state": {
            "_model_module": "@jupyter-widgets/base",
            "_model_module_version": "1.2.0",
            "_model_name": "LayoutModel",
            "_view_count": null,
            "_view_module": "@jupyter-widgets/base",
            "_view_module_version": "1.2.0",
            "_view_name": "LayoutView",
            "align_content": null,
            "align_items": null,
            "align_self": null,
            "border": null,
            "bottom": null,
            "display": null,
            "flex": null,
            "flex_flow": null,
            "grid_area": null,
            "grid_auto_columns": null,
            "grid_auto_flow": null,
            "grid_auto_rows": null,
            "grid_column": null,
            "grid_gap": null,
            "grid_row": null,
            "grid_template_areas": null,
            "grid_template_columns": null,
            "grid_template_rows": null,
            "height": null,
            "justify_content": null,
            "justify_items": null,
            "left": null,
            "margin": null,
            "max_height": null,
            "max_width": null,
            "min_height": null,
            "min_width": null,
            "object_fit": null,
            "object_position": null,
            "order": null,
            "overflow": null,
            "overflow_x": null,
            "overflow_y": null,
            "padding": null,
            "right": null,
            "top": null,
            "visibility": null,
            "width": null
          }
        },
        "4e653e86732e4dd19c3eaa81861eea5b": {
          "model_module": "@jupyter-widgets/controls",
          "model_name": "ProgressStyleModel",
          "model_module_version": "1.5.0",
          "state": {
            "_model_module": "@jupyter-widgets/controls",
            "_model_module_version": "1.5.0",
            "_model_name": "ProgressStyleModel",
            "_view_count": null,
            "_view_module": "@jupyter-widgets/base",
            "_view_module_version": "1.2.0",
            "_view_name": "StyleView",
            "bar_color": null,
            "description_width": ""
          }
        },
        "e17b41123e834b3cb4f05d18ced08bf5": {
          "model_module": "@jupyter-widgets/base",
          "model_name": "LayoutModel",
          "model_module_version": "1.2.0",
          "state": {
            "_model_module": "@jupyter-widgets/base",
            "_model_module_version": "1.2.0",
            "_model_name": "LayoutModel",
            "_view_count": null,
            "_view_module": "@jupyter-widgets/base",
            "_view_module_version": "1.2.0",
            "_view_name": "LayoutView",
            "align_content": null,
            "align_items": null,
            "align_self": null,
            "border": null,
            "bottom": null,
            "display": null,
            "flex": null,
            "flex_flow": null,
            "grid_area": null,
            "grid_auto_columns": null,
            "grid_auto_flow": null,
            "grid_auto_rows": null,
            "grid_column": null,
            "grid_gap": null,
            "grid_row": null,
            "grid_template_areas": null,
            "grid_template_columns": null,
            "grid_template_rows": null,
            "height": null,
            "justify_content": null,
            "justify_items": null,
            "left": null,
            "margin": null,
            "max_height": null,
            "max_width": null,
            "min_height": null,
            "min_width": null,
            "object_fit": null,
            "object_position": null,
            "order": null,
            "overflow": null,
            "overflow_x": null,
            "overflow_y": null,
            "padding": null,
            "right": null,
            "top": null,
            "visibility": null,
            "width": null
          }
        },
        "487f68b082674022ab46e9b6db758751": {
          "model_module": "@jupyter-widgets/controls",
          "model_name": "DescriptionStyleModel",
          "model_module_version": "1.5.0",
          "state": {
            "_model_module": "@jupyter-widgets/controls",
            "_model_module_version": "1.5.0",
            "_model_name": "DescriptionStyleModel",
            "_view_count": null,
            "_view_module": "@jupyter-widgets/base",
            "_view_module_version": "1.2.0",
            "_view_name": "StyleView",
            "description_width": ""
          }
        },
        "411cb30f5f354c7eac5cdf571a73bf0c": {
          "model_module": "@jupyter-widgets/controls",
          "model_name": "HBoxModel",
          "model_module_version": "1.5.0",
          "state": {
            "_dom_classes": [],
            "_model_module": "@jupyter-widgets/controls",
            "_model_module_version": "1.5.0",
            "_model_name": "HBoxModel",
            "_view_count": null,
            "_view_module": "@jupyter-widgets/controls",
            "_view_module_version": "1.5.0",
            "_view_name": "HBoxView",
            "box_style": "",
            "children": [
              "IPY_MODEL_3d7e3a1ade6d423d84616dc185fd8b75",
              "IPY_MODEL_e36bf48ea0f04b1e935270e26d486e8e",
              "IPY_MODEL_66cc2696fb424107ac5ef7c1ecf8ece7"
            ],
            "layout": "IPY_MODEL_64f4a1afa00344018000de9efa16a6d3"
          }
        },
        "3d7e3a1ade6d423d84616dc185fd8b75": {
          "model_module": "@jupyter-widgets/controls",
          "model_name": "HTMLModel",
          "model_module_version": "1.5.0",
          "state": {
            "_dom_classes": [],
            "_model_module": "@jupyter-widgets/controls",
            "_model_module_version": "1.5.0",
            "_model_name": "HTMLModel",
            "_view_count": null,
            "_view_module": "@jupyter-widgets/controls",
            "_view_module_version": "1.5.0",
            "_view_name": "HTMLView",
            "description": "",
            "description_tooltip": null,
            "layout": "IPY_MODEL_d52e3191f9c140cda07e87a7ddf9840b",
            "placeholder": "​",
            "style": "IPY_MODEL_a1c2cfd1de734c0396816330682ba24b",
            "value": "Upload 2 LFS files: 100%"
          }
        },
        "e36bf48ea0f04b1e935270e26d486e8e": {
          "model_module": "@jupyter-widgets/controls",
          "model_name": "FloatProgressModel",
          "model_module_version": "1.5.0",
          "state": {
            "_dom_classes": [],
            "_model_module": "@jupyter-widgets/controls",
            "_model_module_version": "1.5.0",
            "_model_name": "FloatProgressModel",
            "_view_count": null,
            "_view_module": "@jupyter-widgets/controls",
            "_view_module_version": "1.5.0",
            "_view_name": "ProgressView",
            "bar_style": "success",
            "description": "",
            "description_tooltip": null,
            "layout": "IPY_MODEL_79927b25a2c84667a0beaa8328e9eda4",
            "max": 2,
            "min": 0,
            "orientation": "horizontal",
            "style": "IPY_MODEL_95bca06810ab47938b705a5dba700be9",
            "value": 2
          }
        },
        "66cc2696fb424107ac5ef7c1ecf8ece7": {
          "model_module": "@jupyter-widgets/controls",
          "model_name": "HTMLModel",
          "model_module_version": "1.5.0",
          "state": {
            "_dom_classes": [],
            "_model_module": "@jupyter-widgets/controls",
            "_model_module_version": "1.5.0",
            "_model_name": "HTMLModel",
            "_view_count": null,
            "_view_module": "@jupyter-widgets/controls",
            "_view_module_version": "1.5.0",
            "_view_name": "HTMLView",
            "description": "",
            "description_tooltip": null,
            "layout": "IPY_MODEL_828c6ea81459422391834ea3bd25fc93",
            "placeholder": "​",
            "style": "IPY_MODEL_8b2b678a164949b6857e8c9bec0fdf3c",
            "value": " 2/2 [00:11&lt;00:00, 11.17s/it]"
          }
        },
        "64f4a1afa00344018000de9efa16a6d3": {
          "model_module": "@jupyter-widgets/base",
          "model_name": "LayoutModel",
          "model_module_version": "1.2.0",
          "state": {
            "_model_module": "@jupyter-widgets/base",
            "_model_module_version": "1.2.0",
            "_model_name": "LayoutModel",
            "_view_count": null,
            "_view_module": "@jupyter-widgets/base",
            "_view_module_version": "1.2.0",
            "_view_name": "LayoutView",
            "align_content": null,
            "align_items": null,
            "align_self": null,
            "border": null,
            "bottom": null,
            "display": null,
            "flex": null,
            "flex_flow": null,
            "grid_area": null,
            "grid_auto_columns": null,
            "grid_auto_flow": null,
            "grid_auto_rows": null,
            "grid_column": null,
            "grid_gap": null,
            "grid_row": null,
            "grid_template_areas": null,
            "grid_template_columns": null,
            "grid_template_rows": null,
            "height": null,
            "justify_content": null,
            "justify_items": null,
            "left": null,
            "margin": null,
            "max_height": null,
            "max_width": null,
            "min_height": null,
            "min_width": null,
            "object_fit": null,
            "object_position": null,
            "order": null,
            "overflow": null,
            "overflow_x": null,
            "overflow_y": null,
            "padding": null,
            "right": null,
            "top": null,
            "visibility": null,
            "width": null
          }
        },
        "d52e3191f9c140cda07e87a7ddf9840b": {
          "model_module": "@jupyter-widgets/base",
          "model_name": "LayoutModel",
          "model_module_version": "1.2.0",
          "state": {
            "_model_module": "@jupyter-widgets/base",
            "_model_module_version": "1.2.0",
            "_model_name": "LayoutModel",
            "_view_count": null,
            "_view_module": "@jupyter-widgets/base",
            "_view_module_version": "1.2.0",
            "_view_name": "LayoutView",
            "align_content": null,
            "align_items": null,
            "align_self": null,
            "border": null,
            "bottom": null,
            "display": null,
            "flex": null,
            "flex_flow": null,
            "grid_area": null,
            "grid_auto_columns": null,
            "grid_auto_flow": null,
            "grid_auto_rows": null,
            "grid_column": null,
            "grid_gap": null,
            "grid_row": null,
            "grid_template_areas": null,
            "grid_template_columns": null,
            "grid_template_rows": null,
            "height": null,
            "justify_content": null,
            "justify_items": null,
            "left": null,
            "margin": null,
            "max_height": null,
            "max_width": null,
            "min_height": null,
            "min_width": null,
            "object_fit": null,
            "object_position": null,
            "order": null,
            "overflow": null,
            "overflow_x": null,
            "overflow_y": null,
            "padding": null,
            "right": null,
            "top": null,
            "visibility": null,
            "width": null
          }
        },
        "a1c2cfd1de734c0396816330682ba24b": {
          "model_module": "@jupyter-widgets/controls",
          "model_name": "DescriptionStyleModel",
          "model_module_version": "1.5.0",
          "state": {
            "_model_module": "@jupyter-widgets/controls",
            "_model_module_version": "1.5.0",
            "_model_name": "DescriptionStyleModel",
            "_view_count": null,
            "_view_module": "@jupyter-widgets/base",
            "_view_module_version": "1.2.0",
            "_view_name": "StyleView",
            "description_width": ""
          }
        },
        "79927b25a2c84667a0beaa8328e9eda4": {
          "model_module": "@jupyter-widgets/base",
          "model_name": "LayoutModel",
          "model_module_version": "1.2.0",
          "state": {
            "_model_module": "@jupyter-widgets/base",
            "_model_module_version": "1.2.0",
            "_model_name": "LayoutModel",
            "_view_count": null,
            "_view_module": "@jupyter-widgets/base",
            "_view_module_version": "1.2.0",
            "_view_name": "LayoutView",
            "align_content": null,
            "align_items": null,
            "align_self": null,
            "border": null,
            "bottom": null,
            "display": null,
            "flex": null,
            "flex_flow": null,
            "grid_area": null,
            "grid_auto_columns": null,
            "grid_auto_flow": null,
            "grid_auto_rows": null,
            "grid_column": null,
            "grid_gap": null,
            "grid_row": null,
            "grid_template_areas": null,
            "grid_template_columns": null,
            "grid_template_rows": null,
            "height": null,
            "justify_content": null,
            "justify_items": null,
            "left": null,
            "margin": null,
            "max_height": null,
            "max_width": null,
            "min_height": null,
            "min_width": null,
            "object_fit": null,
            "object_position": null,
            "order": null,
            "overflow": null,
            "overflow_x": null,
            "overflow_y": null,
            "padding": null,
            "right": null,
            "top": null,
            "visibility": null,
            "width": null
          }
        },
        "95bca06810ab47938b705a5dba700be9": {
          "model_module": "@jupyter-widgets/controls",
          "model_name": "ProgressStyleModel",
          "model_module_version": "1.5.0",
          "state": {
            "_model_module": "@jupyter-widgets/controls",
            "_model_module_version": "1.5.0",
            "_model_name": "ProgressStyleModel",
            "_view_count": null,
            "_view_module": "@jupyter-widgets/base",
            "_view_module_version": "1.2.0",
            "_view_name": "StyleView",
            "bar_color": null,
            "description_width": ""
          }
        },
        "828c6ea81459422391834ea3bd25fc93": {
          "model_module": "@jupyter-widgets/base",
          "model_name": "LayoutModel",
          "model_module_version": "1.2.0",
          "state": {
            "_model_module": "@jupyter-widgets/base",
            "_model_module_version": "1.2.0",
            "_model_name": "LayoutModel",
            "_view_count": null,
            "_view_module": "@jupyter-widgets/base",
            "_view_module_version": "1.2.0",
            "_view_name": "LayoutView",
            "align_content": null,
            "align_items": null,
            "align_self": null,
            "border": null,
            "bottom": null,
            "display": null,
            "flex": null,
            "flex_flow": null,
            "grid_area": null,
            "grid_auto_columns": null,
            "grid_auto_flow": null,
            "grid_auto_rows": null,
            "grid_column": null,
            "grid_gap": null,
            "grid_row": null,
            "grid_template_areas": null,
            "grid_template_columns": null,
            "grid_template_rows": null,
            "height": null,
            "justify_content": null,
            "justify_items": null,
            "left": null,
            "margin": null,
            "max_height": null,
            "max_width": null,
            "min_height": null,
            "min_width": null,
            "object_fit": null,
            "object_position": null,
            "order": null,
            "overflow": null,
            "overflow_x": null,
            "overflow_y": null,
            "padding": null,
            "right": null,
            "top": null,
            "visibility": null,
            "width": null
          }
        },
        "8b2b678a164949b6857e8c9bec0fdf3c": {
          "model_module": "@jupyter-widgets/controls",
          "model_name": "DescriptionStyleModel",
          "model_module_version": "1.5.0",
          "state": {
            "_model_module": "@jupyter-widgets/controls",
            "_model_module_version": "1.5.0",
            "_model_name": "DescriptionStyleModel",
            "_view_count": null,
            "_view_module": "@jupyter-widgets/base",
            "_view_module_version": "1.2.0",
            "_view_name": "StyleView",
            "description_width": ""
          }
        },
        "284ecc72b82343a098f444cca0403526": {
          "model_module": "@jupyter-widgets/controls",
          "model_name": "HBoxModel",
          "model_module_version": "1.5.0",
          "state": {
            "_dom_classes": [],
            "_model_module": "@jupyter-widgets/controls",
            "_model_module_version": "1.5.0",
            "_model_name": "HBoxModel",
            "_view_count": null,
            "_view_module": "@jupyter-widgets/controls",
            "_view_module_version": "1.5.0",
            "_view_name": "HBoxView",
            "box_style": "",
            "children": [
              "IPY_MODEL_9584f4aac8164116bada9c9d92ee6092",
              "IPY_MODEL_c5c0372bf2454bff8c6b72d279f0473e",
              "IPY_MODEL_cfd3f0994ef44bafb34e3b6fb6e4ec65"
            ],
            "layout": "IPY_MODEL_659b76c0bf3d4537af98bfda8f22471f"
          }
        },
        "9584f4aac8164116bada9c9d92ee6092": {
          "model_module": "@jupyter-widgets/controls",
          "model_name": "HTMLModel",
          "model_module_version": "1.5.0",
          "state": {
            "_dom_classes": [],
            "_model_module": "@jupyter-widgets/controls",
            "_model_module_version": "1.5.0",
            "_model_name": "HTMLModel",
            "_view_count": null,
            "_view_module": "@jupyter-widgets/controls",
            "_view_module_version": "1.5.0",
            "_view_name": "HTMLView",
            "description": "",
            "description_tooltip": null,
            "layout": "IPY_MODEL_d4419065887c42839e06354760cb03bf",
            "placeholder": "​",
            "style": "IPY_MODEL_2e0cac232fb44097baf453fff94094a3",
            "value": "events.out.tfevents.1706026378.99e8694adbdf.39534.1: 100%"
          }
        },
        "c5c0372bf2454bff8c6b72d279f0473e": {
          "model_module": "@jupyter-widgets/controls",
          "model_name": "FloatProgressModel",
          "model_module_version": "1.5.0",
          "state": {
            "_dom_classes": [],
            "_model_module": "@jupyter-widgets/controls",
            "_model_module_version": "1.5.0",
            "_model_name": "FloatProgressModel",
            "_view_count": null,
            "_view_module": "@jupyter-widgets/controls",
            "_view_module_version": "1.5.0",
            "_view_name": "ProgressView",
            "bar_style": "success",
            "description": "",
            "description_tooltip": null,
            "layout": "IPY_MODEL_9f9eb3202c8f41569f1c1ecfb9b9e37b",
            "max": 14334,
            "min": 0,
            "orientation": "horizontal",
            "style": "IPY_MODEL_6151a71e623845019127746f4a9d4e92",
            "value": 14334
          }
        },
        "cfd3f0994ef44bafb34e3b6fb6e4ec65": {
          "model_module": "@jupyter-widgets/controls",
          "model_name": "HTMLModel",
          "model_module_version": "1.5.0",
          "state": {
            "_dom_classes": [],
            "_model_module": "@jupyter-widgets/controls",
            "_model_module_version": "1.5.0",
            "_model_name": "HTMLModel",
            "_view_count": null,
            "_view_module": "@jupyter-widgets/controls",
            "_view_module_version": "1.5.0",
            "_view_name": "HTMLView",
            "description": "",
            "description_tooltip": null,
            "layout": "IPY_MODEL_08ec43ccd13a4449a7338a9c8f7a9f60",
            "placeholder": "​",
            "style": "IPY_MODEL_202f6a3c00f64dfea50a3f28741f3a82",
            "value": " 14.3k/14.3k [00:00&lt;00:00, 68.4kB/s]"
          }
        },
        "659b76c0bf3d4537af98bfda8f22471f": {
          "model_module": "@jupyter-widgets/base",
          "model_name": "LayoutModel",
          "model_module_version": "1.2.0",
          "state": {
            "_model_module": "@jupyter-widgets/base",
            "_model_module_version": "1.2.0",
            "_model_name": "LayoutModel",
            "_view_count": null,
            "_view_module": "@jupyter-widgets/base",
            "_view_module_version": "1.2.0",
            "_view_name": "LayoutView",
            "align_content": null,
            "align_items": null,
            "align_self": null,
            "border": null,
            "bottom": null,
            "display": null,
            "flex": null,
            "flex_flow": null,
            "grid_area": null,
            "grid_auto_columns": null,
            "grid_auto_flow": null,
            "grid_auto_rows": null,
            "grid_column": null,
            "grid_gap": null,
            "grid_row": null,
            "grid_template_areas": null,
            "grid_template_columns": null,
            "grid_template_rows": null,
            "height": null,
            "justify_content": null,
            "justify_items": null,
            "left": null,
            "margin": null,
            "max_height": null,
            "max_width": null,
            "min_height": null,
            "min_width": null,
            "object_fit": null,
            "object_position": null,
            "order": null,
            "overflow": null,
            "overflow_x": null,
            "overflow_y": null,
            "padding": null,
            "right": null,
            "top": null,
            "visibility": null,
            "width": null
          }
        },
        "d4419065887c42839e06354760cb03bf": {
          "model_module": "@jupyter-widgets/base",
          "model_name": "LayoutModel",
          "model_module_version": "1.2.0",
          "state": {
            "_model_module": "@jupyter-widgets/base",
            "_model_module_version": "1.2.0",
            "_model_name": "LayoutModel",
            "_view_count": null,
            "_view_module": "@jupyter-widgets/base",
            "_view_module_version": "1.2.0",
            "_view_name": "LayoutView",
            "align_content": null,
            "align_items": null,
            "align_self": null,
            "border": null,
            "bottom": null,
            "display": null,
            "flex": null,
            "flex_flow": null,
            "grid_area": null,
            "grid_auto_columns": null,
            "grid_auto_flow": null,
            "grid_auto_rows": null,
            "grid_column": null,
            "grid_gap": null,
            "grid_row": null,
            "grid_template_areas": null,
            "grid_template_columns": null,
            "grid_template_rows": null,
            "height": null,
            "justify_content": null,
            "justify_items": null,
            "left": null,
            "margin": null,
            "max_height": null,
            "max_width": null,
            "min_height": null,
            "min_width": null,
            "object_fit": null,
            "object_position": null,
            "order": null,
            "overflow": null,
            "overflow_x": null,
            "overflow_y": null,
            "padding": null,
            "right": null,
            "top": null,
            "visibility": null,
            "width": null
          }
        },
        "2e0cac232fb44097baf453fff94094a3": {
          "model_module": "@jupyter-widgets/controls",
          "model_name": "DescriptionStyleModel",
          "model_module_version": "1.5.0",
          "state": {
            "_model_module": "@jupyter-widgets/controls",
            "_model_module_version": "1.5.0",
            "_model_name": "DescriptionStyleModel",
            "_view_count": null,
            "_view_module": "@jupyter-widgets/base",
            "_view_module_version": "1.2.0",
            "_view_name": "StyleView",
            "description_width": ""
          }
        },
        "9f9eb3202c8f41569f1c1ecfb9b9e37b": {
          "model_module": "@jupyter-widgets/base",
          "model_name": "LayoutModel",
          "model_module_version": "1.2.0",
          "state": {
            "_model_module": "@jupyter-widgets/base",
            "_model_module_version": "1.2.0",
            "_model_name": "LayoutModel",
            "_view_count": null,
            "_view_module": "@jupyter-widgets/base",
            "_view_module_version": "1.2.0",
            "_view_name": "LayoutView",
            "align_content": null,
            "align_items": null,
            "align_self": null,
            "border": null,
            "bottom": null,
            "display": null,
            "flex": null,
            "flex_flow": null,
            "grid_area": null,
            "grid_auto_columns": null,
            "grid_auto_flow": null,
            "grid_auto_rows": null,
            "grid_column": null,
            "grid_gap": null,
            "grid_row": null,
            "grid_template_areas": null,
            "grid_template_columns": null,
            "grid_template_rows": null,
            "height": null,
            "justify_content": null,
            "justify_items": null,
            "left": null,
            "margin": null,
            "max_height": null,
            "max_width": null,
            "min_height": null,
            "min_width": null,
            "object_fit": null,
            "object_position": null,
            "order": null,
            "overflow": null,
            "overflow_x": null,
            "overflow_y": null,
            "padding": null,
            "right": null,
            "top": null,
            "visibility": null,
            "width": null
          }
        },
        "6151a71e623845019127746f4a9d4e92": {
          "model_module": "@jupyter-widgets/controls",
          "model_name": "ProgressStyleModel",
          "model_module_version": "1.5.0",
          "state": {
            "_model_module": "@jupyter-widgets/controls",
            "_model_module_version": "1.5.0",
            "_model_name": "ProgressStyleModel",
            "_view_count": null,
            "_view_module": "@jupyter-widgets/base",
            "_view_module_version": "1.2.0",
            "_view_name": "StyleView",
            "bar_color": null,
            "description_width": ""
          }
        },
        "08ec43ccd13a4449a7338a9c8f7a9f60": {
          "model_module": "@jupyter-widgets/base",
          "model_name": "LayoutModel",
          "model_module_version": "1.2.0",
          "state": {
            "_model_module": "@jupyter-widgets/base",
            "_model_module_version": "1.2.0",
            "_model_name": "LayoutModel",
            "_view_count": null,
            "_view_module": "@jupyter-widgets/base",
            "_view_module_version": "1.2.0",
            "_view_name": "LayoutView",
            "align_content": null,
            "align_items": null,
            "align_self": null,
            "border": null,
            "bottom": null,
            "display": null,
            "flex": null,
            "flex_flow": null,
            "grid_area": null,
            "grid_auto_columns": null,
            "grid_auto_flow": null,
            "grid_auto_rows": null,
            "grid_column": null,
            "grid_gap": null,
            "grid_row": null,
            "grid_template_areas": null,
            "grid_template_columns": null,
            "grid_template_rows": null,
            "height": null,
            "justify_content": null,
            "justify_items": null,
            "left": null,
            "margin": null,
            "max_height": null,
            "max_width": null,
            "min_height": null,
            "min_width": null,
            "object_fit": null,
            "object_position": null,
            "order": null,
            "overflow": null,
            "overflow_x": null,
            "overflow_y": null,
            "padding": null,
            "right": null,
            "top": null,
            "visibility": null,
            "width": null
          }
        },
        "202f6a3c00f64dfea50a3f28741f3a82": {
          "model_module": "@jupyter-widgets/controls",
          "model_name": "DescriptionStyleModel",
          "model_module_version": "1.5.0",
          "state": {
            "_model_module": "@jupyter-widgets/controls",
            "_model_module_version": "1.5.0",
            "_model_name": "DescriptionStyleModel",
            "_view_count": null,
            "_view_module": "@jupyter-widgets/base",
            "_view_module_version": "1.2.0",
            "_view_name": "StyleView",
            "description_width": ""
          }
        },
        "75c40a9b01c2436aae8de348caf26fdc": {
          "model_module": "@jupyter-widgets/controls",
          "model_name": "HBoxModel",
          "model_module_version": "1.5.0",
          "state": {
            "_dom_classes": [],
            "_model_module": "@jupyter-widgets/controls",
            "_model_module_version": "1.5.0",
            "_model_name": "HBoxModel",
            "_view_count": null,
            "_view_module": "@jupyter-widgets/controls",
            "_view_module_version": "1.5.0",
            "_view_name": "HBoxView",
            "box_style": "",
            "children": [
              "IPY_MODEL_7291f7c9ae634de28813cee9f24ba8f8",
              "IPY_MODEL_3775ffcc9d494733a03561be668f4512",
              "IPY_MODEL_790c81d308e2467aa7c5c5409a6d4617"
            ],
            "layout": "IPY_MODEL_2702e5f06e0b43cbaa15032c1139c137"
          }
        },
        "7291f7c9ae634de28813cee9f24ba8f8": {
          "model_module": "@jupyter-widgets/controls",
          "model_name": "HTMLModel",
          "model_module_version": "1.5.0",
          "state": {
            "_dom_classes": [],
            "_model_module": "@jupyter-widgets/controls",
            "_model_module_version": "1.5.0",
            "_model_name": "HTMLModel",
            "_view_count": null,
            "_view_module": "@jupyter-widgets/controls",
            "_view_module_version": "1.5.0",
            "_view_name": "HTMLView",
            "description": "",
            "description_tooltip": null,
            "layout": "IPY_MODEL_ce9b1b72243143c4b3457be81985099c",
            "placeholder": "​",
            "style": "IPY_MODEL_acddac4644e640ff84ef3c64decf5ad9",
            "value": "model.safetensors: 100%"
          }
        },
        "3775ffcc9d494733a03561be668f4512": {
          "model_module": "@jupyter-widgets/controls",
          "model_name": "FloatProgressModel",
          "model_module_version": "1.5.0",
          "state": {
            "_dom_classes": [],
            "_model_module": "@jupyter-widgets/controls",
            "_model_module_version": "1.5.0",
            "_model_name": "FloatProgressModel",
            "_view_count": null,
            "_view_module": "@jupyter-widgets/controls",
            "_view_module_version": "1.5.0",
            "_view_name": "ProgressView",
            "bar_style": "success",
            "description": "",
            "description_tooltip": null,
            "layout": "IPY_MODEL_e234a72cfaf1470bb2f439fe74eabe7f",
            "max": 268290900,
            "min": 0,
            "orientation": "horizontal",
            "style": "IPY_MODEL_5e16b6b48cc047d0b6ebbac61745898c",
            "value": 268290900
          }
        },
        "790c81d308e2467aa7c5c5409a6d4617": {
          "model_module": "@jupyter-widgets/controls",
          "model_name": "HTMLModel",
          "model_module_version": "1.5.0",
          "state": {
            "_dom_classes": [],
            "_model_module": "@jupyter-widgets/controls",
            "_model_module_version": "1.5.0",
            "_model_name": "HTMLModel",
            "_view_count": null,
            "_view_module": "@jupyter-widgets/controls",
            "_view_module_version": "1.5.0",
            "_view_name": "HTMLView",
            "description": "",
            "description_tooltip": null,
            "layout": "IPY_MODEL_07ee68a394754214927fe9cfb1f9e362",
            "placeholder": "​",
            "style": "IPY_MODEL_f33fc515d9fb49be94b490a35ae16225",
            "value": " 268M/268M [00:07&lt;00:00, 37.5MB/s]"
          }
        },
        "2702e5f06e0b43cbaa15032c1139c137": {
          "model_module": "@jupyter-widgets/base",
          "model_name": "LayoutModel",
          "model_module_version": "1.2.0",
          "state": {
            "_model_module": "@jupyter-widgets/base",
            "_model_module_version": "1.2.0",
            "_model_name": "LayoutModel",
            "_view_count": null,
            "_view_module": "@jupyter-widgets/base",
            "_view_module_version": "1.2.0",
            "_view_name": "LayoutView",
            "align_content": null,
            "align_items": null,
            "align_self": null,
            "border": null,
            "bottom": null,
            "display": null,
            "flex": null,
            "flex_flow": null,
            "grid_area": null,
            "grid_auto_columns": null,
            "grid_auto_flow": null,
            "grid_auto_rows": null,
            "grid_column": null,
            "grid_gap": null,
            "grid_row": null,
            "grid_template_areas": null,
            "grid_template_columns": null,
            "grid_template_rows": null,
            "height": null,
            "justify_content": null,
            "justify_items": null,
            "left": null,
            "margin": null,
            "max_height": null,
            "max_width": null,
            "min_height": null,
            "min_width": null,
            "object_fit": null,
            "object_position": null,
            "order": null,
            "overflow": null,
            "overflow_x": null,
            "overflow_y": null,
            "padding": null,
            "right": null,
            "top": null,
            "visibility": null,
            "width": null
          }
        },
        "ce9b1b72243143c4b3457be81985099c": {
          "model_module": "@jupyter-widgets/base",
          "model_name": "LayoutModel",
          "model_module_version": "1.2.0",
          "state": {
            "_model_module": "@jupyter-widgets/base",
            "_model_module_version": "1.2.0",
            "_model_name": "LayoutModel",
            "_view_count": null,
            "_view_module": "@jupyter-widgets/base",
            "_view_module_version": "1.2.0",
            "_view_name": "LayoutView",
            "align_content": null,
            "align_items": null,
            "align_self": null,
            "border": null,
            "bottom": null,
            "display": null,
            "flex": null,
            "flex_flow": null,
            "grid_area": null,
            "grid_auto_columns": null,
            "grid_auto_flow": null,
            "grid_auto_rows": null,
            "grid_column": null,
            "grid_gap": null,
            "grid_row": null,
            "grid_template_areas": null,
            "grid_template_columns": null,
            "grid_template_rows": null,
            "height": null,
            "justify_content": null,
            "justify_items": null,
            "left": null,
            "margin": null,
            "max_height": null,
            "max_width": null,
            "min_height": null,
            "min_width": null,
            "object_fit": null,
            "object_position": null,
            "order": null,
            "overflow": null,
            "overflow_x": null,
            "overflow_y": null,
            "padding": null,
            "right": null,
            "top": null,
            "visibility": null,
            "width": null
          }
        },
        "acddac4644e640ff84ef3c64decf5ad9": {
          "model_module": "@jupyter-widgets/controls",
          "model_name": "DescriptionStyleModel",
          "model_module_version": "1.5.0",
          "state": {
            "_model_module": "@jupyter-widgets/controls",
            "_model_module_version": "1.5.0",
            "_model_name": "DescriptionStyleModel",
            "_view_count": null,
            "_view_module": "@jupyter-widgets/base",
            "_view_module_version": "1.2.0",
            "_view_name": "StyleView",
            "description_width": ""
          }
        },
        "e234a72cfaf1470bb2f439fe74eabe7f": {
          "model_module": "@jupyter-widgets/base",
          "model_name": "LayoutModel",
          "model_module_version": "1.2.0",
          "state": {
            "_model_module": "@jupyter-widgets/base",
            "_model_module_version": "1.2.0",
            "_model_name": "LayoutModel",
            "_view_count": null,
            "_view_module": "@jupyter-widgets/base",
            "_view_module_version": "1.2.0",
            "_view_name": "LayoutView",
            "align_content": null,
            "align_items": null,
            "align_self": null,
            "border": null,
            "bottom": null,
            "display": null,
            "flex": null,
            "flex_flow": null,
            "grid_area": null,
            "grid_auto_columns": null,
            "grid_auto_flow": null,
            "grid_auto_rows": null,
            "grid_column": null,
            "grid_gap": null,
            "grid_row": null,
            "grid_template_areas": null,
            "grid_template_columns": null,
            "grid_template_rows": null,
            "height": null,
            "justify_content": null,
            "justify_items": null,
            "left": null,
            "margin": null,
            "max_height": null,
            "max_width": null,
            "min_height": null,
            "min_width": null,
            "object_fit": null,
            "object_position": null,
            "order": null,
            "overflow": null,
            "overflow_x": null,
            "overflow_y": null,
            "padding": null,
            "right": null,
            "top": null,
            "visibility": null,
            "width": null
          }
        },
        "5e16b6b48cc047d0b6ebbac61745898c": {
          "model_module": "@jupyter-widgets/controls",
          "model_name": "ProgressStyleModel",
          "model_module_version": "1.5.0",
          "state": {
            "_model_module": "@jupyter-widgets/controls",
            "_model_module_version": "1.5.0",
            "_model_name": "ProgressStyleModel",
            "_view_count": null,
            "_view_module": "@jupyter-widgets/base",
            "_view_module_version": "1.2.0",
            "_view_name": "StyleView",
            "bar_color": null,
            "description_width": ""
          }
        },
        "07ee68a394754214927fe9cfb1f9e362": {
          "model_module": "@jupyter-widgets/base",
          "model_name": "LayoutModel",
          "model_module_version": "1.2.0",
          "state": {
            "_model_module": "@jupyter-widgets/base",
            "_model_module_version": "1.2.0",
            "_model_name": "LayoutModel",
            "_view_count": null,
            "_view_module": "@jupyter-widgets/base",
            "_view_module_version": "1.2.0",
            "_view_name": "LayoutView",
            "align_content": null,
            "align_items": null,
            "align_self": null,
            "border": null,
            "bottom": null,
            "display": null,
            "flex": null,
            "flex_flow": null,
            "grid_area": null,
            "grid_auto_columns": null,
            "grid_auto_flow": null,
            "grid_auto_rows": null,
            "grid_column": null,
            "grid_gap": null,
            "grid_row": null,
            "grid_template_areas": null,
            "grid_template_columns": null,
            "grid_template_rows": null,
            "height": null,
            "justify_content": null,
            "justify_items": null,
            "left": null,
            "margin": null,
            "max_height": null,
            "max_width": null,
            "min_height": null,
            "min_width": null,
            "object_fit": null,
            "object_position": null,
            "order": null,
            "overflow": null,
            "overflow_x": null,
            "overflow_y": null,
            "padding": null,
            "right": null,
            "top": null,
            "visibility": null,
            "width": null
          }
        },
        "f33fc515d9fb49be94b490a35ae16225": {
          "model_module": "@jupyter-widgets/controls",
          "model_name": "DescriptionStyleModel",
          "model_module_version": "1.5.0",
          "state": {
            "_model_module": "@jupyter-widgets/controls",
            "_model_module_version": "1.5.0",
            "_model_name": "DescriptionStyleModel",
            "_view_count": null,
            "_view_module": "@jupyter-widgets/base",
            "_view_module_version": "1.2.0",
            "_view_name": "StyleView",
            "description_width": ""
          }
        }
      }
    }
  },
  "nbformat": 4,
  "nbformat_minor": 0
}